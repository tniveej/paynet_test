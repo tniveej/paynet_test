{
 "cells": [
  {
   "cell_type": "markdown",
   "id": "30de7ff6",
   "metadata": {},
   "source": [
    "Importing Kaggle Dataset"
   ]
  },
  {
   "cell_type": "code",
   "execution_count": 2,
   "id": "0004e312",
   "metadata": {},
   "outputs": [
    {
     "name": "stderr",
     "output_type": "stream",
     "text": [
      "/home/jeevin/miniconda3/envs/paynet-test/lib/python3.12/site-packages/tqdm/auto.py:21: TqdmWarning: IProgress not found. Please update jupyter and ipywidgets. See https://ipywidgets.readthedocs.io/en/stable/user_install.html\n",
      "  from .autonotebook import tqdm as notebook_tqdm\n"
     ]
    },
    {
     "name": "stdout",
     "output_type": "stream",
     "text": [
      "/home/jeevin/.cache/kagglehub/datasets/jinquan/cc-sample-data/versions/1\n"
     ]
    },
    {
     "name": "stderr",
     "output_type": "stream",
     "text": [
      "WARNING: Using incubator modules: jdk.incubator.vector\n",
      "Using Spark's default log4j profile: org/apache/spark/log4j2-defaults.properties\n",
      "25/07/22 00:57:28 WARN Utils: Your hostname, jeevin, resolves to a loopback address: 127.0.1.1; using 10.255.255.254 instead (on interface lo)\n",
      "25/07/22 00:57:28 WARN Utils: Set SPARK_LOCAL_IP if you need to bind to another address\n",
      "Using Spark's default log4j profile: org/apache/spark/log4j2-defaults.properties\n",
      "Setting default log level to \"WARN\".\n",
      "To adjust logging level use sc.setLogLevel(newLevel). For SparkR, use setLogLevel(newLevel).\n",
      "25/07/22 00:57:28 WARN NativeCodeLoader: Unable to load native-hadoop library for your platform... using builtin-java classes where applicable\n"
     ]
    }
   ],
   "source": [
    "from kagglehub import dataset_download\n",
    "#remove warnings\n",
    "import warnings\n",
    "warnings.filterwarnings(\"ignore\")\n",
    "\n",
    "from pyspark.sql import SparkSession\n",
    "import pyspark.sql.functions as sf\n",
    "from pyspark.sql.types import StructType, StructField, StringType, FloatType, IntegerType, TimestampType, LongType\n",
    "import re\n",
    "\n",
    "path: str = dataset_download(\"jinquan/cc-sample-data\")\n",
    "\n",
    "print(path)\n",
    "\n",
    "spark = SparkSession.builder.appName(\"payNet\").config('spark.driver.memory', '8g').getOrCreate()\n"
   ]
  },
  {
   "cell_type": "markdown",
   "id": "3a67be3f",
   "metadata": {},
   "source": [
    "Load JSON and clean up Data"
   ]
  },
  {
   "cell_type": "code",
   "execution_count": 3,
   "id": "d95900d2",
   "metadata": {},
   "outputs": [
    {
     "name": "stderr",
     "output_type": "stream",
     "text": [
      "25/07/22 00:57:36 WARN SparkStringUtils: Truncated the string representation of a plan since it was too large. This behavior can be adjusted by setting 'spark.sql.debug.maxToStringFields'.\n",
      "[Stage 1:>                                                          (0 + 1) / 1]\r"
     ]
    },
    {
     "name": "stdout",
     "output_type": "stream",
     "text": [
      "+----------+-------------------------+-------------------+----------------------------------+-------------+------+-----------+----------+------+------------------------------+------------------------+-----+-----+-------+---------+--------+---------------------------------------------+----------+--------------------------------+---------+-----------+--------+-------------+--------------------------------+--------------------------------+-----------+\n",
      "|Unnamed: 0|trans_date_trans_time    |cc_num             |merchant                          |category     |amt   |first      |last      |gender|street                        |city                    |state|zip  |lat    |long     |city_pop|job                                          |dob       |trans_num                       |merch_lat|merch_long |is_fraud|merch_zipcode|merch_last_update_time          |merch_eff_time                  |cc_bic     |\n",
      "+----------+-------------------------+-------------------+----------------------------------+-------------+------+-----------+----------+------+------------------------------+------------------------+-----+-----+-------+---------+--------+---------------------------------------------+----------+--------------------------------+---------+-----------+--------+-------------+--------------------------------+--------------------------------+-----------+\n",
      "|0         |2019-01-01 08:00:18 +0800|2703186189652095   |Rippin, Kub and Mann              |misc_net     |4.97  |Jennifer   |Banks     |F     |561 Perry Cove                |Moravian Falls          |NC   |28654|36.0788|-81.1781 |3495    |Psychologist, counselling                    |1988-03-09|0b242abb623afc578575680df30655b9|36.01129 |-82.04832  |0       |28705        |2012-01-01 16:00:18.666000 +0800|2012-01-01 16:00:18.798532 +0800|CITIUS33CHI|\n",
      "|1         |2019-01-01 08:00:44 +0800|630423337322       |Heller, Gutmann and Zieme         |grocery_pos  |107.23|Stephanie  |Gill      |F     |43039 Riley Greens Suite 393  |Orient                  |WA   |99160|48.8878|-118.2105|149     |Special educational needs teacher            |1978-06-21|1f76529f8574734946361c461b024d99|49.159046|-118.18646 |0       |NULL         |2012-01-01 16:00:44.790000 +0800|2012-01-01 16:00:44.867960 +0800|ADMDUS41   |\n",
      "|2         |2019-01-01 08:00:51 +0800|38859492057661     |Lind-Buckridge                    |entertainment|220.11|Edward     |Sanchez   |M     |594 White Dale Suite 530      |Malad City              |ID   |83252|42.1808|-112.262 |4154    |Nature conservation officer                  |1962-01-19|a1a22d70485983eac12b5b88dad1cf95|43.150703|-112.15448 |0       |83236        |2012-01-01 16:00:51.286000 +0800|2012-01-01 16:00:51.506840 +0800|NULL       |\n",
      "|3         |2019-01-01 08:01:16 +0800|3534093764340240   |Kutch, Hermiston and Farrell      |gas_transport|45.0  |Jeremy     |White     |M     |9443 Cynthia Court Apt. 038   |Boulder                 |MT   |59632|46.2306|-112.1138|1939    |Patent attorney                              |1967-01-12|6b849c168bdad6f867558c3793159a81|47.034332|-112.56107 |0       |NULL         |2012-01-01 16:01:16.365000 +0800|2012-01-01 16:01:16.794698 +0800|DEUTUS33TRF|\n",
      "|4         |2019-01-01 08:03:06 +0800|375534208663984    |Keeling-Crist                     |misc_pos     |41.96 |Tyler      |Garcia    |M     |408 Bradley Rest              |Doe Hill                |VA   |24433|38.4207|-79.4629 |99      |Dance movement psychotherapist               |1986-03-28|a41d7549acf90789359a9aa5346dcb46|38.675   |-78.63246  |0       |22844        |2012-01-01 16:03:06.810000 +0800|2012-01-01 16:03:06.746376 +0800|APBCUS61   |\n",
      "|5         |2019-01-01 08:04:08 +0800|4767265376804500   |Stroman, Hudson and Erdman        |gas_transport|94.63 |Jennifer   |Conner    |F     |4655 David Island             |Dublin                  |PA   |18917|40.375 |-75.2045 |2158    |Transport planner                            |1961-06-19|189a841a0a8ba03058526bcfe566aab5|40.65338 |-76.152664 |0       |17972        |2012-01-01 16:04:08.483000 +0800|2012-01-01 16:04:08.271406 +0800|APBCUS61   |\n",
      "|6         |2019-01-01 08:04:42 +0800|30074693890476     |Rowe-Vandervort                   |grocery_net  |44.54 |Kelsey     |Richards  |F     |889 Sarah Station Suite 624   |Holcomb                 |KS   |67851|37.9931|-100.9893|2691    |Arboriculturist                              |1993-08-16|83ec1cc84142af6e2acf10c44949e720|37.162704|-100.15337 |0       |NULL         |2012-01-01 16:04:42.247000 +0800|2012-01-01 16:04:42.274130 +0800|APBCUS61   |\n",
      "|7         |2019-01-01 08:05:08 +0800|6011360759745864   |Corwin-Collins                    |gas_transport|71.65 |Steven     |Williams  |M     |231 Flores Pass Suite 720     |Edinburg                |VA   |22824|38.8432|-78.6003 |6018    |Designer, multimedia                         |1947-08-21|6d294ed2cc447d2c71c7171a3d54967c|38.94809 |-78.5403   |0       |22644        |2012-01-01 16:05:08.152000 +0800|2012-01-01 16:05:08.837349 +0800|NULL       |\n",
      "|8         |2019-01-01 08:05:18 +0800|4922710831011201   |Herzog Ltd                        |misc_pos     |4.27  |Heather    |Chase     |F     |6888 Hicks Stream Suite 954   |Manor                   |PA   |15665|40.3359|-79.6607 |1472    |Public affairs consultant                    |1941-03-07|fc28024ce480f8ef21a32d64c93a29f5|40.351814|-79.958145 |0       |15236        |2012-01-01 16:05:18.278000 +0800|2012-01-01 16:05:18.245892 +0800|ACEEUS31   |\n",
      "|9         |2019-01-01 08:06:01 +0800|2720830304681674   |Schoen, Kuphal and Nitzsche       |grocery_pos  |198.39|Melissa    |Aguilar   |F     |21326 Taylor Squares Suite 708|Clarksville             |TN   |37040|36.522 |-87.349  |151785  |Pathologist                                  |1974-03-28|3b9014ea8fb80bd65de0b1463b00b00e|37.1792  |-87.48538  |0       |42442        |2012-01-01 16:06:01.857000 +0800|2012-01-01 16:06:01.965234 +0800|DEUTUS33TRF|\n",
      "|10        |2019-01-01 08:06:23 +0800|4642894980163      |Rutherford-Mertz                  |grocery_pos  |24.74 |Eddie      |Mendez    |M     |1831 Faith View Suite 653     |Clarinda                |IA   |51632|40.7491|-95.038  |7297    |IT trainer                                   |1990-07-13|d71c95ab6b7356dd74389d41df429c87|40.27589 |-96.01155  |0       |68348        |2012-01-01 16:06:23.455000 +0800|2012-01-01 16:06:23.967287 +0800|NULL       |\n",
      "|11        |2019-01-01 08:06:53 +0800|377234009633447    |Kerluke-Abshire                   |shopping_net |7.77  |Theresa    |Blackwell |F     |43576 Kristina Islands        |Shenandoah Junction     |WV   |25442|39.3716|-77.8229 |1925    |Systems developer                            |1966-02-14|3c74776e558f1499a7824b556e474b1d|40.103867|-78.62446  |0       |15554        |2012-01-01 16:06:53.859000 +0800|2012-01-01 16:06:53.912233 +0800|DEUTUS33TRF|\n",
      "|12        |2019-01-01 08:06:56 +0800|180042946491150    |Lockman Ltd                       |grocery_pos  |71.22 |Charles    |Robles    |M     |3337 Lisa Divide              |Saint Petersburg        |FL   |33710|27.7898|-82.7243 |341043  |Engineer, land                               |1989-02-28|c1d9a7ddb1e34639fe82758de97f4abf|27.630592|-82.30889  |0       |33598        |2012-01-01 16:06:56.443000 +0800|2012-01-01 16:06:56.569264 +0800|DEUTUS33TRF|\n",
      "|13        |2019-01-01 08:07:27 +0800|5559857416065248   |Kiehn Inc                         |grocery_pos  |96.29 |Jack       |Hill      |M     |5916 Susan Bridge Apt. 939    |Grenada                 |CA   |96038|41.6125|-122.5258|589     |Systems analyst                              |1945-12-21|413636e759663f264aae1819a4d4f231|41.65752 |-122.23035 |0       |NULL         |2012-01-01 16:07:27.771000 +0800|2012-01-01 16:07:27.442465 +0800|ACEEUS31   |\n",
      "|14        |2019-01-01 08:09:03 +0800|3514865930894695   |Beier-Hyatt                       |shopping_pos |7.77  |Christopher|Castaneda |M     |1632 Cohen Drive Suite 639    |High Rolls Mountain Park|NM   |88325|32.9396|-105.8189|899     |Naval architect                              |1967-08-30|8a6293af5ed278dea14448ded2685fea|32.86326 |-106.5202  |0       |NULL         |2012-01-01 16:09:03.282000 +0800|2012-01-01 16:09:03.991530 +0800|ACEEUS31   |\n",
      "|15        |2019-01-01 08:09:20 +0800|6011999606625827   |Schmidt and Sons                  |shopping_net |3.26  |Ronald     |Carson    |M     |870 Rocha Drive               |Harrington Park         |NJ   |7640 |40.9918|-73.98   |4664    |Radiographer, diagnostic                     |1965-06-30|baae0b096835c975857eea7e28dde3dc|41.831173|-74.335556 |0       |12446        |2012-01-01 16:09:20.435000 +0800|2012-01-01 16:09:20.448213 +0800|CITIUS33CHI|\n",
      "|16        |2019-01-01 08:10:49 +0800|6011860238257910   |Lebsack and Sons                  |misc_net     |327.0 |Lisa       |Mendez    |F     |44259 Beth Station Suite 215  |Lahoma                  |OK   |73754|36.385 |-98.0727 |1078    |Programme researcher, broadcasting/film/video|1952-07-06|991c04803b4d4eeab30d6245a872e3d3|36.38409 |-99.04847  |0       |73852        |2012-01-01 16:10:49.369000 +0800|2012-01-01 16:10:49.779770 +0800|CITIUS33CHI|\n",
      "|17        |2019-01-01 08:10:58 +0800|3565423334076143   |Mayert Group                      |shopping_pos |341.67|Nathan     |Thomas    |M     |4923 Campbell Pines Suite 717 |Carlisle                |IN   |47838|38.9763|-87.3667 |4081    |Energy engineer                              |1938-03-15|f12cf52be2175703db789a4644c32f25|38.67449 |-88.30576  |0       |62824        |2012-01-01 16:10:58.125000 +0800|2012-01-01 16:10:58.780653 +0800|NULL       |\n",
      "|18        |2019-01-01 08:11:14 +0800|2348245054386329   |Konopelski, Schneider and Hartmann|food_dining  |63.07 |Justin     |Gay       |M     |268 Hayes Rue Suite 811       |Harborcreek             |PA   |16421|42.1767|-79.9416 |2518    |Event organiser                              |1946-02-02|8500f3d459047eac8443307b1e8296e5|41.430275|-79.49255  |0       |16364        |2012-01-01 16:11:14.800000 +0800|2012-01-01 16:11:14.645606 +0800|APBCUS61   |\n",
      "|19        |2019-01-01 08:12:34 +0800|4956828990005111019|Schultz, Simonis and Little       |grocery_pos  |44.71 |Kenneth    |Robinson  |M     |269 Sanchez Rapids            |Elizabeth               |NJ   |7208 |40.6747|-74.2239 |124967  |Operational researcher                       |1980-12-21|09eff9c806365e2a6be12c1bbab3d70e|40.07959 |-74.84808  |0       |08016        |2012-01-01 16:12:34.863000 +0800|2012-01-01 16:12:34.332240 +0800|NULL       |\n",
      "|20        |2019-01-01 08:13:08 +0800|4469777115158234880|Bauch-Raynor                      |grocery_pos  |57.34 |Gregory    |Graham    |M     |4005 Dana Glens               |Methuen                 |MA   |1844 |42.728 |-71.181  |47249   |Market researcher                            |1980-11-22|139a1bee15be607d79fe173bfcb2502a|42.26876 |-71.2173   |0       |02492        |2012-01-01 16:13:08.881000 +0800|2012-01-01 16:13:08.679431 +0800|ADMDUS41   |\n",
      "|21        |2019-01-01 08:14:37 +0800|2305336922781618   |Harris Inc                        |gas_transport|50.79 |Jeffrey    |Rice      |M     |21447 Powell Circle           |Moulton                 |IA   |52572|40.6866|-92.6833 |1132    |Probation officer                            |1961-02-14|b9c4615bec3561c8e83b0c1d6c7028e2|40.18893 |-91.95512  |0       |63446        |2012-01-01 16:14:37.765000 +0800|2012-01-01 16:14:37.626507 +0800|NULL       |\n",
      "|22        |2019-01-01 08:17:16 +0800|180048185037117    |Kling-Grant                       |grocery_net  |46.28 |Mary       |Wall      |F     |2481 Mills Lock               |Plainfield              |NJ   |7060 |40.6152|-74.415  |71485   |Leisure centre manager                       |1974-07-19|19e23c6a300c774354417befe4f31f8c|40.02189 |-74.22819  |0       |08755        |2012-01-01 16:17:16.949000 +0800|2012-01-01 16:17:16.676252 +0800|DEUTUS33TRF|\n",
      "|23        |2019-01-01 08:17:40 +0800|630441765090       |Pacocha-Bauch                     |shopping_pos |9.55  |Susan      |Washington|F     |759 Erin Mount Suite 956      |May                     |TX   |76857|31.9571|-98.9656 |1791    |Corporate investment banker                  |1965-07-26|c4b4daebab8be54cadde4b941244ca53|31.62635 |-98.61022  |0       |76870        |2012-01-01 16:17:40.580000 +0800|2012-01-01 16:17:40.351163 +0800|APBCUS61   |\n",
      "|24        |2019-01-01 08:18:06 +0800|4428780983793657331|Lesch Ltd                         |shopping_pos |22.95 |Richard    |Waters    |M     |7683 Natasha Way Apt. 945     |Waukesha                |WI   |53186|42.9993|-88.2196 |95015   |Therapist, occupational                      |1946-01-02|d2432bfeabf142dc1bae1d426e32aecc|43.375042|-89.05506  |0       |53932        |2012-01-01 16:18:06.531000 +0800|2012-01-01 16:18:06.510394 +0800|DEUTUS33TRF|\n",
      "|25        |2019-01-01 08:18:07 +0800|343464013864032    |Kunde-Sanford                     |misc_net     |2.55  |Jodi       |Foster    |F     |551 Zachary Freeway           |Bailey                  |NC   |27807|35.8072|-78.0892 |6629    |Call centre manager                          |1962-08-13|abe0676c18f34fa305b113fa762e29b5|36.74987 |-78.67787  |0       |23964        |2012-01-01 16:18:07.760000 +0800|2012-01-01 16:18:07.223427 +0800|NULL       |\n",
      "|26        |2019-01-01 08:20:15 +0800|374930071163758    |Deckow-O'Conner                   |grocery_pos  |64.09 |Daniel     |Escobar   |M     |61390 Hayes Port              |Romulus                 |MI   |48174|42.2203|-83.3583 |31515   |Police officer                               |1971-11-05|6f363661ba6b55889e488dd178f2a0af|42.360428|-83.552315 |0       |48168        |2012-01-01 16:20:15.120000 +0800|2012-01-01 16:20:15.445010 +0800|DEUTUS33TRF|\n",
      "|27        |2019-01-01 08:21:32 +0800|4334230547694630   |Bruen-Yost                        |misc_pos     |6.85  |Scott      |Martin    |M     |7483 Navarro Flats            |Freedom                 |WY   |83120|43.0172|-111.0292|471     |Education officer, museum                    |1967-08-02|f3c43d336e92a44fc2fb67058d5949e3|43.753735|-111.454926|0       |83436        |2012-01-01 16:21:32.741000 +0800|2012-01-01 16:21:32.834523 +0800|AIABUS31   |\n",
      "|28        |2019-01-01 08:22:06 +0800|4225990116481262579|Kunze Inc                         |grocery_pos  |90.22 |Brian      |Simpson   |M     |2711 Duran Pines              |Honokaa                 |HI   |96727|20.0827|-155.488 |4878    |Physiotherapist                              |1966-12-03|95826e3caa9e0b905294c6dae985aec1|19.560013|-156.04588 |0       |96740        |2012-01-01 16:22:06.286000 +0800|2012-01-01 16:22:06.969473 +0800|NULL       |\n",
      "|29        |2019-01-01 08:22:18 +0800|4260059589824237   |Nitzsche, Kessler and Wolff       |shopping_pos |4.02  |Aaron      |Rogers    |M     |969 Huerta Path Apt. 270      |Valentine               |NE   |69201|42.8062|-100.6215|4005    |Network engineer                             |1945-03-15|20490f3f0966ce74b4aaba8dc2c4ed52|42.47559 |-101.26585 |0       |NULL         |2012-01-01 16:22:18.832000 +0800|2012-01-01 16:22:18.107571 +0800|DEUTUS33TRF|\n",
      "|30        |2019-01-01 08:22:36 +0800|180094608895855    |Kihn, Abernathy and Douglas       |shopping_net |3.66  |Tammie     |Harper    |F     |57887 Gutierrez Harbor        |Westfir                 |OR   |97492|43.7575|-122.481 |597     |Forensic psychologist                        |1961-05-19|870c92b288a974a2faf1f24b05c27e33|44.27819 |-121.81516 |0       |NULL         |2012-01-01 16:22:36.680000 +0800|2012-01-01 16:22:36.272892 +0800|APBCUS61   |\n",
      "|31        |2019-01-01 08:22:39 +0800|4599735407877245080|Heller, Gutmann and Zieme         |grocery_pos  |82.8  |Mary       |Myers     |F     |39787 Pamela Fall Suite 639   |Tiptonville             |TN   |38079|36.3846|-89.4649 |5577    |Geochemist                                   |1964-12-30|cb598ec00d349dc95e7b3c18de5ae800|36.294205|-89.81128  |0       |63879        |2012-01-01 16:22:39.494000 +0800|2012-01-01 16:22:39.352765 +0800|ACEEUS31   |\n",
      "|32        |2019-01-01 08:22:44 +0800|630412733309       |Torphy-Goyette                    |shopping_pos |66.21 |Heather    |Stanton   |F     |445 Jerry Lights Apt. 081     |Republic                |MI   |49879|46.368 |-87.9938 |1038    |Armed forces training and education officer  |1964-04-22|20f048d3907dbb9978e23bee7b7578ce|46.412037|-88.51666  |0       |49919        |2012-01-01 16:22:44.480000 +0800|2012-01-01 16:22:44.695761 +0800|ADMDUS41   |\n",
      "|33        |2019-01-01 08:23:41 +0800|2712209726293386   |Balistreri-Nader                  |misc_pos     |25.58 |Jenna      |Brooks    |F     |50872 Alex Plain Suite 088    |Baton Rouge             |LA   |70808|30.4066|-91.1468 |378909  |Designer, furniture                          |1977-02-22|1654da2abfb9e79a5f99167fc9779558|29.737427|-90.853195 |0       |70395        |2012-01-01 16:23:41.876000 +0800|2012-01-01 16:23:41.985581 +0800|DEUTUS33TRF|\n",
      "|34        |2019-01-01 08:23:58 +0800|374125201044065    |Bahringer, Schoen and Corkery     |shopping_pos |9.03  |Christopher|Gilbert   |M     |20937 Reed Lakes Apt. 271     |Washington              |DC   |20012|38.9757|-77.0282 |601723  |Optician, dispensing                         |1970-07-20|c733711c521c41c578f4a964d8350df0|38.880898|-76.44112  |0       |21037        |2012-01-01 16:23:58.200000 +0800|2012-01-01 16:23:58.990512 +0800|NULL       |\n",
      "|35        |2019-01-01 08:25:46 +0800|349612764943496    |Hudson-Ratke                      |grocery_pos  |99.0  |Xavier     |Beltran   |M     |61107 Edwards Dam Apt. 463    |Big Creek               |KY   |40914|37.1046|-83.5706 |467     |Psychologist, forensic                       |1984-06-04|7e2f9596cb3a3595ece15611ee338e5c|36.823544|-83.90104  |0       |40906        |2012-01-01 16:25:46.866000 +0800|2012-01-01 16:25:46.830950 +0800|NULL       |\n",
      "|36        |2019-01-01 08:26:22 +0800|3598215285024754   |Heidenreich PLC                   |grocery_pos  |207.36|Ashley     |Lopez     |F     |9333 Valentine Point          |Bellmore                |NY   |11710|40.6729|-73.5365 |34496   |Librarian, public                            |1970-10-21|f246ac27c09429ff1e385d4683c79c4d|40.202538|-73.859215 |0       |07720        |2012-01-01 16:26:22.231000 +0800|2012-01-01 16:26:22.383800 +0800|NULL       |\n",
      "|37        |2019-01-01 08:27:45 +0800|213141712584544    |Halvorson Group                   |misc_pos     |181.35|Margaret   |Curtis    |F     |742 Oneill Shore              |Florence                |MS   |39073|32.153 |-90.1217 |19685   |Fine artist                                  |1984-12-24|7bb25a43205191eb7344282b88fc54d3|31.939812|-90.72621  |0       |39086        |2012-01-01 16:27:45.278000 +0800|2012-01-01 16:27:45.385593 +0800|APBCUS61   |\n",
      "|38        |2019-01-01 08:27:56 +0800|30561214688470     |Harber Inc                        |gas_transport|82.22 |Gina       |Morrison  |F     |41851 Victor Drives Suite 219 |Allentown               |PA   |18103|40.5891|-75.4645 |166081  |Scientist, research (maths)                  |1998-10-01|61bcb858dd5c8e2d0d46d02b4fa0bf8e|40.58624 |-75.802246 |0       |19529        |2012-01-01 16:27:56.596000 +0800|2012-01-01 16:27:56.275314 +0800|CITIUS33CHI|\n",
      "|39        |2019-01-01 08:29:11 +0800|4789911625179723   |Mosciski, Gislason and Mertz      |grocery_pos  |221.81|Dorothy    |Zuniga    |F     |77321 Ford Via                |Moriches                |NY   |11955|40.8095|-72.8229 |3285    |Research officer, trade union                |1988-04-27|a8394c3e555166ce2f90eee628bd9ade|40.01196 |-72.59481  |0       |NULL         |2012-01-01 16:29:11.310000 +0800|2012-01-01 16:29:11.366893 +0800|ACEEUS31   |\n",
      "+----------+-------------------------+-------------------+----------------------------------+-------------+------+-----------+----------+------+------------------------------+------------------------+-----+-----+-------+---------+--------+---------------------------------------------+----------+--------------------------------+---------+-----------+--------+-------------+--------------------------------+--------------------------------+-----------+\n",
      "only showing top 40 rows\n",
      "root\n",
      " |-- Unnamed: 0: integer (nullable = true)\n",
      " |-- trans_date_trans_time: string (nullable = true)\n",
      " |-- cc_num: string (nullable = true)\n",
      " |-- merchant: string (nullable = true)\n",
      " |-- category: string (nullable = true)\n",
      " |-- amt: float (nullable = true)\n",
      " |-- first: string (nullable = true)\n",
      " |-- last: string (nullable = true)\n",
      " |-- gender: string (nullable = true)\n",
      " |-- street: string (nullable = true)\n",
      " |-- city: string (nullable = true)\n",
      " |-- state: string (nullable = true)\n",
      " |-- zip: string (nullable = true)\n",
      " |-- lat: float (nullable = true)\n",
      " |-- long: float (nullable = true)\n",
      " |-- city_pop: integer (nullable = true)\n",
      " |-- job: string (nullable = true)\n",
      " |-- dob: string (nullable = true)\n",
      " |-- trans_num: string (nullable = true)\n",
      " |-- merch_lat: float (nullable = true)\n",
      " |-- merch_long: float (nullable = true)\n",
      " |-- is_fraud: integer (nullable = true)\n",
      " |-- merch_zipcode: string (nullable = true)\n",
      " |-- merch_last_update_time: string (nullable = true)\n",
      " |-- merch_eff_time: string (nullable = true)\n",
      " |-- cc_bic: string (nullable = true)\n",
      "\n"
     ]
    },
    {
     "name": "stderr",
     "output_type": "stream",
     "text": [
      "                                                                                \r"
     ]
    }
   ],
   "source": [
    "# Read the JSON data from the file\n",
    "df = spark.read.json(path)\n",
    "\n",
    "def clean_json_string(json_str):\n",
    "    \"\"\"\n",
    "    Clean JSON string by:\n",
    "    1. Removing all backslashes\n",
    "    2. Removing quotes around JSON objects (e.g., \"{ }\" becomes { })\n",
    "    \"\"\"\n",
    "    if json_str is None:\n",
    "        return None\n",
    "    \n",
    "    # Remove all backslashes\n",
    "    cleaned = json_str.replace(\"\\\\\", \"\")\n",
    "    \n",
    "    # Remove quotes around JSON objects - pattern: \"{ ... }\"\n",
    "    # This regex finds quoted JSON objects and removes the outer quotes\n",
    "    cleaned = re.sub(r'\"\\s*\\{\\s*(.*?)\\s*\\}\\s*\"', r'{\\1}', cleaned)\n",
    "    \n",
    "    return cleaned\n",
    "\n",
    "# Register UDF\n",
    "clean_json_udf = sf.udf(clean_json_string, StringType())\n",
    "\n",
    "# Apply cleaning to the personal_detail column\n",
    "df = df.withColumn(\"personal_detail\", clean_json_udf(sf.col(\"personal_detail\")))\n",
    "\n",
    "# Define schema for address (nested within personal_detail) - all strings initially\n",
    "address_schema = StructType([\n",
    "    StructField(\"street\", StringType(), True),\n",
    "    StructField(\"city\", StringType(), True),\n",
    "    StructField(\"state\", StringType(), True),\n",
    "    StructField(\"zip\", StringType(), True)\n",
    "])\n",
    "\n",
    "# Define schema for personal_detail - all strings initially\n",
    "personal_schema = StructType([\n",
    "    StructField(\"person_name\", StringType(), True),\n",
    "    StructField(\"gender\", StringType(), True),\n",
    "    StructField(\"address\", address_schema, True),\n",
    "    StructField(\"lat\", StringType(), True),\n",
    "    StructField(\"long\", StringType(), True),\n",
    "    StructField(\"city_pop\", StringType(), True),\n",
    "    StructField(\"job\", StringType(), True),\n",
    "    StructField(\"dob\", StringType(), True)\n",
    "])\n",
    "\n",
    "# Parse the cleaned JSON string into proper columns (overwrite the original column)\n",
    "df_with_parsed_personal = df.withColumn(\"personal_detail\", sf.from_json(sf.col(\"personal_detail\"), personal_schema))\n",
    "\n",
    "# for debugging\n",
    "# df_with_parsed_personal.select(col(\"personal_detail.person_name\")).show()\n",
    "# df_with_parsed_personal.select(col(\"personal_detail.address.street\")).show()\n",
    "\n",
    "# Process name splitting for 'first' and 'last' names with improved robustness.\n",
    "df_with_names = df_with_parsed_personal.withColumn(\n",
    "    \"cleaned_person_name\",\n",
    "    sf.when(sf.col(\"personal_detail.person_name\").isNotNull(),\n",
    "        sf.trim(\n",
    "            sf.regexp_replace( # Normalize multiple spaces to single space\n",
    "                sf.regexp_replace( # Replace all non-alphanumeric characters (except spaces) with a single space\n",
    "                    sf.regexp_replace( # Remove specific trailing strings like 'eeeee' and 'N' followed by 4 or more '0' or 'O' (case-insensitive)\n",
    "                        sf.regexp_replace(sf.col(\"personal_detail.person_name\"), r\"(?i),?eeeee$\", \"\"),\n",
    "                        r\"(?i),?\\s*N[0O]{4,}$\", \"\" # Updated regex to handle N0000, NOOOO etc.\n",
    "                    ),\n",
    "                    r\"[^a-zA-Z0-9\\s]\", \" \" # Replace any character that is NOT a letter, number, or whitespace with a space. This will catch /, !, @, |, and also the comma if it's not part of a \"Lastname, Firstname\" pattern.\n",
    "                ),\n",
    "                r\"\\s+\", \" \" # Normalize multiple spaces to single space\n",
    "            )\n",
    "        )\n",
    "    ).otherwise(None)\n",
    ")\n",
    "\n",
    "df_with_names = df_with_names \\\n",
    "    .withColumn(\"name_parts\", sf.split(sf.col(\"cleaned_person_name\"), \" \")) \\\n",
    "    .withColumn(\"first\", \n",
    "        sf.when(sf.size(sf.col(\"name_parts\")) >= 1, sf.trim(sf.element_at(sf.col(\"name_parts\"), 1)))\n",
    "        .otherwise(None)\n",
    "    ) \\\n",
    "    .withColumn(\"last\", \n",
    "        sf.when(sf.size(sf.col(\"name_parts\")) > 1, \n",
    "                sf.trim(sf.concat_ws(\" \", sf.slice(sf.col(\"name_parts\"), 2, sf.size(sf.col(\"name_parts\"))))))\n",
    "        .otherwise(None)\n",
    "    ) \\\n",
    "    .drop(\"cleaned_person_name\", \"name_parts\") # Drop intermediate columns\n",
    "\n",
    "\n",
    "# Flatten the personal_detail structure and address structure\n",
    "df_flattened = df_with_names.select(\n",
    "    # Original columns in desired order\n",
    "    sf.col(\"Unnamed: 0\"),\n",
    "    sf.col(\"trans_date_trans_time\"),\n",
    "    sf.col(\"cc_num\"),\n",
    "    sf.col(\"merchant\"),\n",
    "    sf.col(\"category\"),\n",
    "    sf.col(\"amt\"),\n",
    "    \n",
    "    sf.col(\"first\"),\n",
    "    sf.col(\"last\"),\n",
    "\n",
    "    # Personal details\n",
    "    sf.col(\"personal_detail.gender\").alias(\"gender\"),\n",
    "    \n",
    "    # Flattened address details\n",
    "    sf.col(\"personal_detail.address.street\").alias(\"street\"),\n",
    "    sf.col(\"personal_detail.address.city\").alias(\"city\"),\n",
    "    sf.col(\"personal_detail.address.state\").alias(\"state\"),\n",
    "    sf.col(\"personal_detail.address.zip\").alias(\"zip\"),\n",
    "    \n",
    "    # Location and demographic info\n",
    "    sf.col(\"personal_detail.lat\").alias(\"lat\"),\n",
    "    sf.col(\"personal_detail.long\").alias(\"long\"),\n",
    "    sf.col(\"personal_detail.city_pop\").alias(\"city_pop\"),\n",
    "    sf.col(\"personal_detail.job\").alias(\"job\"),\n",
    "    sf.col(\"personal_detail.dob\").alias(\"dob\"),\n",
    "    \n",
    "    # Transaction details\n",
    "    sf.col(\"trans_num\"),\n",
    "    sf.col(\"merch_lat\"),\n",
    "    sf.col(\"merch_long\"),\n",
    "    sf.col(\"is_fraud\"),\n",
    "    sf.col(\"merch_zipcode\"),\n",
    "    sf.col(\"merch_last_update_time\"),\n",
    "    sf.col(\"merch_eff_time\"),\n",
    "    sf.col(\"cc_bic\")\n",
    ")\n",
    "\n",
    "\n",
    "# Type conversions and rounding in one operation, including date format and timezone handling. Assuming initial timzeone is UTC and converting to UTC\n",
    "df_cleaned = df_flattened.withColumns({\n",
    "    'Unnamed: 0': sf.col(\"Unnamed: 0\").cast(IntegerType()),\n",
    "\n",
    "\n",
    "    # Convert trans_date_trans_time to TimestampType, then to UTC+8, then format\n",
    "    'trans_date_trans_time': sf.date_format(sf.from_utc_timestamp(sf.col(\"trans_date_trans_time\").cast(\"timestamp\"), \"UTC+8\"), 'yyyy-MM-dd HH:mm:ss Z'),\n",
    "\n",
    "\n",
    "    'amt': sf.round(sf.col(\"amt\").cast(FloatType()), 6),\n",
    "    'merch_lat': sf.round(sf.col(\"merch_lat\").cast(FloatType()), 6),\n",
    "    'merch_long': sf.round(sf.col(\"merch_long\").cast(FloatType()), 6),\n",
    "    'is_fraud': sf.col(\"is_fraud\").cast(IntegerType()),\n",
    "\n",
    "\n",
    "    # Convert merch_eff_time (microseconds) to TimestampType, then to UTC+8, then format\n",
    " \n",
    "    'merch_eff_time': sf.date_format(\n",
    "        sf.from_utc_timestamp(\n",
    "            (\n",
    "                sf.rpad(\n",
    "                    sf.col(\"merch_eff_time\").cast(StringType()),\n",
    "                    16,\n",
    "                    '0'\n",
    "                ).cast(LongType()) / 1000000\n",
    "            ).cast(\"timestamp\"),\n",
    "            \"UTC+8\"\n",
    "        ),\n",
    "        'yyyy-MM-dd HH:mm:ss.SSSSSS Z'\n",
    "    ),\n",
    "\n",
    "\n",
    "    # Convert merch_last_update_time (microseconds) to TimestampType, then to UTC+8, then format\n",
    "    'merch_last_update_time': sf.date_format(\n",
    "        sf.from_utc_timestamp(\n",
    "            (\n",
    "                sf.rpad(\n",
    "                    sf.col(\"merch_last_update_time\").cast(StringType()),\n",
    "                    16,\n",
    "                    '0'\n",
    "                ).cast(LongType()) / 1000000\n",
    "            ).cast(\"timestamp\"),\n",
    "            \"UTC+8\"\n",
    "            ),\n",
    "            'yyyy-MM-dd HH:mm:ss.SSSSSS Z'\n",
    "        ), \n",
    "    \n",
    "    'lat': sf.round(sf.col(\"lat\").cast(FloatType()), 6),\n",
    "    'long': sf.round(sf.col(\"long\").cast(FloatType()), 6),\n",
    "    'city_pop': sf.col(\"city_pop\").cast(IntegerType())\n",
    "})\n",
    "\n",
    "\n",
    "# Handle null values and \"NA\" strings for all string columns automatically\n",
    "string_columns = [field.name for field in df_cleaned.schema.fields if field.dataType.typeName() == 'string']\n",
    "\n",
    "# Create dictionary for null value handling across all string columns\n",
    "null_handling_dict = {}\n",
    "for col_name in string_columns:\n",
    "    null_handling_dict[col_name] = sf.when(\n",
    "        (sf.lower(sf.col(col_name)) == \"na\") | \n",
    "        (sf.lower(sf.col(col_name)) == \"null\") | \n",
    "        (sf.col(col_name) == \"\"), \n",
    "        None\n",
    "    ).otherwise(sf.col(col_name))\n",
    "\n",
    "df_cleaned = df_cleaned.withColumns(null_handling_dict)\n",
    "\n",
    "#all merchant names start with the word 'fraud_'; safe to remove\n",
    "df_cleaned = df_cleaned.withColumn(\n",
    "    \"merchant\",\n",
    "    sf.regexp_replace(sf.col(\"merchant\"), \"fraud_\", \"\")\n",
    ")\n",
    "\n",
    "## Display cleaned data \n",
    "\n",
    "# Show final result\n",
    "df_cleaned.show(40,truncate=False)\n",
    "\n",
    "#convert subsection to markdown for viewing\n",
    "# print(df_cleaned.filter(sf.col(\"Unnamed: 0\") <= 25).toPandas().to_markdown())\n",
    "\n",
    "# Show schema to verify structure\n",
    "df_cleaned.printSchema()"
   ]
  },
  {
   "cell_type": "markdown",
   "id": "e5290c83",
   "metadata": {},
   "source": [
    "Handling PII data"
   ]
  },
  {
   "cell_type": "code",
   "execution_count": 4,
   "id": "63b63b65",
   "metadata": {},
   "outputs": [
    {
     "name": "stdout",
     "output_type": "stream",
     "text": [
      "+----------+-------------------------+----------------------------------+-------------+------+------+------------------------+-----+-----+-----+-------+--------+---------------------------------------------+----+---------+-----------+--------+-------------+--------------------------------+--------------------------------+\n",
      "|Unnamed: 0|trans_date_trans_time    |merchant                          |category     |amt   |gender|city                    |state|zip  |lat  |long   |city_pop|job                                          |dob |merch_lat|merch_long |is_fraud|merch_zipcode|merch_last_update_time          |merch_eff_time                  |\n",
      "+----------+-------------------------+----------------------------------+-------------+------+------+------------------------+-----+-----+-----+-------+--------+---------------------------------------------+----+---------+-----------+--------+-------------+--------------------------------+--------------------------------+\n",
      "|0         |2019-01-01 08:00:18 +0800|Rippin, Kub and Mann              |misc_net     |4.97  |F     |Moravian Falls          |NC   |28654|36.08|-81.18 |3495    |Psychologist, counselling                    |1988|36.01129 |-82.04832  |0       |28705        |2012-01-01 16:00:18.666000 +0800|2012-01-01 16:00:18.798532 +0800|\n",
      "|1         |2019-01-01 08:00:44 +0800|Heller, Gutmann and Zieme         |grocery_pos  |107.23|F     |Orient                  |WA   |99160|48.89|-118.21|149     |Special educational needs teacher            |1978|49.159046|-118.18646 |0       |NULL         |2012-01-01 16:00:44.790000 +0800|2012-01-01 16:00:44.867960 +0800|\n",
      "|2         |2019-01-01 08:00:51 +0800|Lind-Buckridge                    |entertainment|220.11|M     |Malad City              |ID   |83252|42.18|-112.26|4154    |Nature conservation officer                  |1962|43.150703|-112.15448 |0       |83236        |2012-01-01 16:00:51.286000 +0800|2012-01-01 16:00:51.506840 +0800|\n",
      "|3         |2019-01-01 08:01:16 +0800|Kutch, Hermiston and Farrell      |gas_transport|45.0  |M     |Boulder                 |MT   |59632|46.23|-112.11|1939    |Patent attorney                              |1967|47.034332|-112.56107 |0       |NULL         |2012-01-01 16:01:16.365000 +0800|2012-01-01 16:01:16.794698 +0800|\n",
      "|4         |2019-01-01 08:03:06 +0800|Keeling-Crist                     |misc_pos     |41.96 |M     |Doe Hill                |VA   |24433|38.42|-79.46 |99      |Dance movement psychotherapist               |1986|38.675   |-78.63246  |0       |22844        |2012-01-01 16:03:06.810000 +0800|2012-01-01 16:03:06.746376 +0800|\n",
      "|5         |2019-01-01 08:04:08 +0800|Stroman, Hudson and Erdman        |gas_transport|94.63 |F     |Dublin                  |PA   |18917|40.38|-75.2  |2158    |Transport planner                            |1961|40.65338 |-76.152664 |0       |17972        |2012-01-01 16:04:08.483000 +0800|2012-01-01 16:04:08.271406 +0800|\n",
      "|6         |2019-01-01 08:04:42 +0800|Rowe-Vandervort                   |grocery_net  |44.54 |F     |Holcomb                 |KS   |67851|37.99|-100.99|2691    |Arboriculturist                              |1993|37.162704|-100.15337 |0       |NULL         |2012-01-01 16:04:42.247000 +0800|2012-01-01 16:04:42.274130 +0800|\n",
      "|7         |2019-01-01 08:05:08 +0800|Corwin-Collins                    |gas_transport|71.65 |M     |Edinburg                |VA   |22824|38.84|-78.6  |6018    |Designer, multimedia                         |1947|38.94809 |-78.5403   |0       |22644        |2012-01-01 16:05:08.152000 +0800|2012-01-01 16:05:08.837349 +0800|\n",
      "|8         |2019-01-01 08:05:18 +0800|Herzog Ltd                        |misc_pos     |4.27  |F     |Manor                   |PA   |15665|40.34|-79.66 |1472    |Public affairs consultant                    |1941|40.351814|-79.958145 |0       |15236        |2012-01-01 16:05:18.278000 +0800|2012-01-01 16:05:18.245892 +0800|\n",
      "|9         |2019-01-01 08:06:01 +0800|Schoen, Kuphal and Nitzsche       |grocery_pos  |198.39|F     |Clarksville             |TN   |37040|36.52|-87.35 |151785  |Pathologist                                  |1974|37.1792  |-87.48538  |0       |42442        |2012-01-01 16:06:01.857000 +0800|2012-01-01 16:06:01.965234 +0800|\n",
      "|10        |2019-01-01 08:06:23 +0800|Rutherford-Mertz                  |grocery_pos  |24.74 |M     |Clarinda                |IA   |51632|40.75|-95.04 |7297    |IT trainer                                   |1990|40.27589 |-96.01155  |0       |68348        |2012-01-01 16:06:23.455000 +0800|2012-01-01 16:06:23.967287 +0800|\n",
      "|11        |2019-01-01 08:06:53 +0800|Kerluke-Abshire                   |shopping_net |7.77  |F     |Shenandoah Junction     |WV   |25442|39.37|-77.82 |1925    |Systems developer                            |1966|40.103867|-78.62446  |0       |15554        |2012-01-01 16:06:53.859000 +0800|2012-01-01 16:06:53.912233 +0800|\n",
      "|12        |2019-01-01 08:06:56 +0800|Lockman Ltd                       |grocery_pos  |71.22 |M     |Saint Petersburg        |FL   |33710|27.79|-82.72 |341043  |Engineer, land                               |1989|27.630592|-82.30889  |0       |33598        |2012-01-01 16:06:56.443000 +0800|2012-01-01 16:06:56.569264 +0800|\n",
      "|13        |2019-01-01 08:07:27 +0800|Kiehn Inc                         |grocery_pos  |96.29 |M     |Grenada                 |CA   |96038|41.61|-122.53|589     |Systems analyst                              |1945|41.65752 |-122.23035 |0       |NULL         |2012-01-01 16:07:27.771000 +0800|2012-01-01 16:07:27.442465 +0800|\n",
      "|14        |2019-01-01 08:09:03 +0800|Beier-Hyatt                       |shopping_pos |7.77  |M     |High Rolls Mountain Park|NM   |88325|32.94|-105.82|899     |Naval architect                              |1967|32.86326 |-106.5202  |0       |NULL         |2012-01-01 16:09:03.282000 +0800|2012-01-01 16:09:03.991530 +0800|\n",
      "|15        |2019-01-01 08:09:20 +0800|Schmidt and Sons                  |shopping_net |3.26  |M     |Harrington Park         |NJ   |7640 |40.99|-73.98 |4664    |Radiographer, diagnostic                     |1965|41.831173|-74.335556 |0       |12446        |2012-01-01 16:09:20.435000 +0800|2012-01-01 16:09:20.448213 +0800|\n",
      "|16        |2019-01-01 08:10:49 +0800|Lebsack and Sons                  |misc_net     |327.0 |F     |Lahoma                  |OK   |73754|36.38|-98.07 |1078    |Programme researcher, broadcasting/film/video|1952|36.38409 |-99.04847  |0       |73852        |2012-01-01 16:10:49.369000 +0800|2012-01-01 16:10:49.779770 +0800|\n",
      "|17        |2019-01-01 08:10:58 +0800|Mayert Group                      |shopping_pos |341.67|M     |Carlisle                |IN   |47838|38.98|-87.37 |4081    |Energy engineer                              |1938|38.67449 |-88.30576  |0       |62824        |2012-01-01 16:10:58.125000 +0800|2012-01-01 16:10:58.780653 +0800|\n",
      "|18        |2019-01-01 08:11:14 +0800|Konopelski, Schneider and Hartmann|food_dining  |63.07 |M     |Harborcreek             |PA   |16421|42.18|-79.94 |2518    |Event organiser                              |1946|41.430275|-79.49255  |0       |16364        |2012-01-01 16:11:14.800000 +0800|2012-01-01 16:11:14.645606 +0800|\n",
      "|19        |2019-01-01 08:12:34 +0800|Schultz, Simonis and Little       |grocery_pos  |44.71 |M     |Elizabeth               |NJ   |7208 |40.67|-74.22 |124967  |Operational researcher                       |1980|40.07959 |-74.84808  |0       |08016        |2012-01-01 16:12:34.863000 +0800|2012-01-01 16:12:34.332240 +0800|\n",
      "|20        |2019-01-01 08:13:08 +0800|Bauch-Raynor                      |grocery_pos  |57.34 |M     |Methuen                 |MA   |1844 |42.73|-71.18 |47249   |Market researcher                            |1980|42.26876 |-71.2173   |0       |02492        |2012-01-01 16:13:08.881000 +0800|2012-01-01 16:13:08.679431 +0800|\n",
      "|21        |2019-01-01 08:14:37 +0800|Harris Inc                        |gas_transport|50.79 |M     |Moulton                 |IA   |52572|40.69|-92.68 |1132    |Probation officer                            |1961|40.18893 |-91.95512  |0       |63446        |2012-01-01 16:14:37.765000 +0800|2012-01-01 16:14:37.626507 +0800|\n",
      "|22        |2019-01-01 08:17:16 +0800|Kling-Grant                       |grocery_net  |46.28 |F     |Plainfield              |NJ   |7060 |40.62|-74.42 |71485   |Leisure centre manager                       |1974|40.02189 |-74.22819  |0       |08755        |2012-01-01 16:17:16.949000 +0800|2012-01-01 16:17:16.676252 +0800|\n",
      "|23        |2019-01-01 08:17:40 +0800|Pacocha-Bauch                     |shopping_pos |9.55  |F     |May                     |TX   |76857|31.96|-98.97 |1791    |Corporate investment banker                  |1965|31.62635 |-98.61022  |0       |76870        |2012-01-01 16:17:40.580000 +0800|2012-01-01 16:17:40.351163 +0800|\n",
      "|24        |2019-01-01 08:18:06 +0800|Lesch Ltd                         |shopping_pos |22.95 |M     |Waukesha                |WI   |53186|43.0 |-88.22 |95015   |Therapist, occupational                      |1946|43.375042|-89.05506  |0       |53932        |2012-01-01 16:18:06.531000 +0800|2012-01-01 16:18:06.510394 +0800|\n",
      "|25        |2019-01-01 08:18:07 +0800|Kunde-Sanford                     |misc_net     |2.55  |F     |Bailey                  |NC   |27807|35.81|-78.09 |6629    |Call centre manager                          |1962|36.74987 |-78.67787  |0       |23964        |2012-01-01 16:18:07.760000 +0800|2012-01-01 16:18:07.223427 +0800|\n",
      "|26        |2019-01-01 08:20:15 +0800|Deckow-O'Conner                   |grocery_pos  |64.09 |M     |Romulus                 |MI   |48174|42.22|-83.36 |31515   |Police officer                               |1971|42.360428|-83.552315 |0       |48168        |2012-01-01 16:20:15.120000 +0800|2012-01-01 16:20:15.445010 +0800|\n",
      "|27        |2019-01-01 08:21:32 +0800|Bruen-Yost                        |misc_pos     |6.85  |M     |Freedom                 |WY   |83120|43.02|-111.03|471     |Education officer, museum                    |1967|43.753735|-111.454926|0       |83436        |2012-01-01 16:21:32.741000 +0800|2012-01-01 16:21:32.834523 +0800|\n",
      "|28        |2019-01-01 08:22:06 +0800|Kunze Inc                         |grocery_pos  |90.22 |M     |Honokaa                 |HI   |96727|20.08|-155.49|4878    |Physiotherapist                              |1966|19.560013|-156.04588 |0       |96740        |2012-01-01 16:22:06.286000 +0800|2012-01-01 16:22:06.969473 +0800|\n",
      "|29        |2019-01-01 08:22:18 +0800|Nitzsche, Kessler and Wolff       |shopping_pos |4.02  |M     |Valentine               |NE   |69201|42.81|-100.62|4005    |Network engineer                             |1945|42.47559 |-101.26585 |0       |NULL         |2012-01-01 16:22:18.832000 +0800|2012-01-01 16:22:18.107571 +0800|\n",
      "|30        |2019-01-01 08:22:36 +0800|Kihn, Abernathy and Douglas       |shopping_net |3.66  |F     |Westfir                 |OR   |97492|43.76|-122.48|597     |Forensic psychologist                        |1961|44.27819 |-121.81516 |0       |NULL         |2012-01-01 16:22:36.680000 +0800|2012-01-01 16:22:36.272892 +0800|\n",
      "|31        |2019-01-01 08:22:39 +0800|Heller, Gutmann and Zieme         |grocery_pos  |82.8  |F     |Tiptonville             |TN   |38079|36.38|-89.46 |5577    |Geochemist                                   |1964|36.294205|-89.81128  |0       |63879        |2012-01-01 16:22:39.494000 +0800|2012-01-01 16:22:39.352765 +0800|\n",
      "|32        |2019-01-01 08:22:44 +0800|Torphy-Goyette                    |shopping_pos |66.21 |F     |Republic                |MI   |49879|46.37|-87.99 |1038    |Armed forces training and education officer  |1964|46.412037|-88.51666  |0       |49919        |2012-01-01 16:22:44.480000 +0800|2012-01-01 16:22:44.695761 +0800|\n",
      "|33        |2019-01-01 08:23:41 +0800|Balistreri-Nader                  |misc_pos     |25.58 |F     |Baton Rouge             |LA   |70808|30.41|-91.15 |378909  |Designer, furniture                          |1977|29.737427|-90.853195 |0       |70395        |2012-01-01 16:23:41.876000 +0800|2012-01-01 16:23:41.985581 +0800|\n",
      "|34        |2019-01-01 08:23:58 +0800|Bahringer, Schoen and Corkery     |shopping_pos |9.03  |M     |Washington              |DC   |20012|38.98|-77.03 |601723  |Optician, dispensing                         |1970|38.880898|-76.44112  |0       |21037        |2012-01-01 16:23:58.200000 +0800|2012-01-01 16:23:58.990512 +0800|\n",
      "|35        |2019-01-01 08:25:46 +0800|Hudson-Ratke                      |grocery_pos  |99.0  |M     |Big Creek               |KY   |40914|37.1 |-83.57 |467     |Psychologist, forensic                       |1984|36.823544|-83.90104  |0       |40906        |2012-01-01 16:25:46.866000 +0800|2012-01-01 16:25:46.830950 +0800|\n",
      "|36        |2019-01-01 08:26:22 +0800|Heidenreich PLC                   |grocery_pos  |207.36|F     |Bellmore                |NY   |11710|40.67|-73.54 |34496   |Librarian, public                            |1970|40.202538|-73.859215 |0       |07720        |2012-01-01 16:26:22.231000 +0800|2012-01-01 16:26:22.383800 +0800|\n",
      "|37        |2019-01-01 08:27:45 +0800|Halvorson Group                   |misc_pos     |181.35|F     |Florence                |MS   |39073|32.15|-90.12 |19685   |Fine artist                                  |1984|31.939812|-90.72621  |0       |39086        |2012-01-01 16:27:45.278000 +0800|2012-01-01 16:27:45.385593 +0800|\n",
      "|38        |2019-01-01 08:27:56 +0800|Harber Inc                        |gas_transport|82.22 |F     |Allentown               |PA   |18103|40.59|-75.46 |166081  |Scientist, research (maths)                  |1998|40.58624 |-75.802246 |0       |19529        |2012-01-01 16:27:56.596000 +0800|2012-01-01 16:27:56.275314 +0800|\n",
      "|39        |2019-01-01 08:29:11 +0800|Mosciski, Gislason and Mertz      |grocery_pos  |221.81|F     |Moriches                |NY   |11955|40.81|-72.82 |3285    |Research officer, trade union                |1988|40.01196 |-72.59481  |0       |NULL         |2012-01-01 16:29:11.310000 +0800|2012-01-01 16:29:11.366893 +0800|\n",
      "+----------+-------------------------+----------------------------------+-------------+------+------+------------------------+-----+-----+-----+-------+--------+---------------------------------------------+----+---------+-----------+--------+-------------+--------------------------------+--------------------------------+\n",
      "only showing top 40 rows\n"
     ]
    },
    {
     "name": "stderr",
     "output_type": "stream",
     "text": [
      "[Stage 3:>                                                          (0 + 1) / 1]\r"
     ]
    },
    {
     "name": "stdout",
     "output_type": "stream",
     "text": [
      "[Row(Unnamed: 0=1296635, trans_date_trans_time='2020-06-21 19:55:55 +0800', merchant='Berge LLC', category='gas_transport', amt=80.44999694824219, gender='M', city='Sontag', state='MS', zip='39665', lat=31.649999618530273, long=-90.18000030517578, city_pop=1196, job='Librarian, academic', dob='1958', merch_lat=30.870750427246094, merch_long=-89.87936401367188, is_fraud=0, merch_zipcode='70427', merch_last_update_time='2013-06-22 03:55:55.907000 +0800', merch_eff_time='2013-06-22 03:55:55.149813 +0800'), Row(Unnamed: 0=1296636, trans_date_trans_time='2020-06-21 19:55:56 +0800', merchant='Lockman, West and Runte', category='grocery_pos', amt=98.9800033569336, gender='M', city='Bridger', state='MT', zip='59014', lat=45.290000915527344, long=-108.91000366210938, city_pop=1446, job='Chartered loss adjuster', dob='1978', merch_lat=45.25511932373047, merch_long=-108.9658203125, is_fraud=0, merch_zipcode=None, merch_last_update_time='2013-06-22 03:55:56.628000 +0800', merch_eff_time='2013-06-22 03:55:56.551608 +0800'), Row(Unnamed: 0=1296637, trans_date_trans_time='2020-06-21 19:56:24 +0800', merchant='Schaefer, Maggio and Daugherty', category='gas_transport', amt=54.369998931884766, gender='M', city='Cord', state='AR', zip='72524', lat=35.81999969482422, long=-91.33999633789062, city_pop=376, job='Designer, ceramics/pottery', dob='1938', merch_lat=36.158634185791016, merch_long=-90.50669860839844, is_fraud=0, merch_zipcode='72436', merch_last_update_time='2013-06-22 03:56:24.710000 +0800', merch_eff_time='2013-06-22 03:56:24.723238 +0800'), Row(Unnamed: 0=1296638, trans_date_trans_time='2020-06-21 19:56:50 +0800', merchant='Quitzon, Green and Bashirian', category='shopping_pos', amt=6.860000133514404, gender='F', city='Grassflat', state='PA', zip='16839', lat=41.0, long=-78.11000061035156, city_pop=489, job='Pension scheme manager', dob='1956', merch_lat=40.94733428955078, merch_long=-77.45462036132812, is_fraud=0, merch_zipcode='16852', merch_last_update_time='2013-06-22 03:56:50.245000 +0800', merch_eff_time='2013-06-22 03:56:50.441426 +0800'), Row(Unnamed: 0=1296639, trans_date_trans_time='2020-06-21 19:57:21 +0800', merchant='Mosciski, Gislason and Mertz', category='grocery_pos', amt=135.50999450683594, gender='F', city='Tomales', state='CA', zip='94971', lat=38.2400016784668, long=-122.91000366210938, city_pop=337, job='Occupational psychologist', dob='1954', merch_lat=38.987178802490234, merch_long=-123.9017333984375, is_fraud=0, merch_zipcode=None, merch_last_update_time='2013-06-22 03:57:21.584000 +0800', merch_eff_time='2013-06-22 03:57:21.772249 +0800'), Row(Unnamed: 0=1296640, trans_date_trans_time='2020-06-21 19:57:29 +0800', merchant='Lockman, West and Runte', category='grocery_pos', amt=86.86000061035156, gender='F', city='Cape Coral', state='FL', zip='33909', lat=26.690000534057617, long=-81.94999694824219, city_pop=156391, job='Higher education careers adviser', dob='1968', merch_lat=26.85920524597168, merch_long=-81.0350341796875, is_fraud=0, merch_zipcode='33471', merch_last_update_time='2013-06-22 03:57:29.915000 +0800', merch_eff_time='2013-06-22 03:57:29.974949 +0800'), Row(Unnamed: 0=1296641, trans_date_trans_time='2020-06-21 19:58:51 +0800', merchant='Sporer Inc', category='gas_transport', amt=57.720001220703125, gender='F', city='Norman', state='AR', zip='71960', lat=34.459999084472656, long=-93.66999816894531, city_pop=1383, job='Manufacturing engineer', dob='1999', merch_lat=35.45011520385742, merch_long=-94.24313354492188, is_fraud=0, merch_zipcode='72921', merch_last_update_time='2013-06-22 03:58:51.750000 +0800', merch_eff_time='2013-06-22 03:58:51.361014 +0800'), Row(Unnamed: 0=1296642, trans_date_trans_time='2020-06-21 19:59:45 +0800', merchant='Cartwright-Harris', category='grocery_pos', amt=55.2400016784668, gender='M', city='Quanah', state='TX', zip='79252', lat=34.29999923706055, long=-99.75, city_pop=3202, job='Librarian, public', dob='1998', merch_lat=35.28389358520508, merch_long=-99.06256103515625, is_fraud=0, merch_zipcode='73641', merch_last_update_time='2013-06-22 03:59:45.668000 +0800', merch_eff_time='2013-06-22 03:59:45.356981 +0800'), Row(Unnamed: 0=1296643, trans_date_trans_time='2020-06-21 20:00:02 +0800', merchant='Adams-Barrows', category='health_fitness', amt=74.83000183105469, gender='M', city='Deadwood', state='SD', zip='57732', lat=44.36000061035156, long=-103.69999694824219, city_pop=1979, job='Multimedia programmer', dob='1970', merch_lat=44.285030364990234, merch_long=-103.4162826538086, is_fraud=0, merch_zipcode='57769', merch_last_update_time='2013-06-22 04:00:02.600000 +0800', merch_eff_time='2013-06-22 04:00:02.902540 +0800'), Row(Unnamed: 0=1296644, trans_date_trans_time='2020-06-21 20:01:32 +0800', merchant='Zemlak, Tillman and Cremin', category='personal_care', amt=4.230000019073486, gender='F', city='New Waverly', state='TX', zip='77358', lat=30.540000915527344, long=-95.44999694824219, city_pop=4993, job='Scientist, biomedical', dob='1948', merch_lat=30.338911056518555, merch_long=-94.45719909667969, is_fraud=0, merch_zipcode='77585', merch_last_update_time='2013-06-22 04:01:32.335000 +0800', merch_eff_time='2013-06-22 04:01:32.684950 +0800'), Row(Unnamed: 0=1296645, trans_date_trans_time='2020-06-21 20:01:35 +0800', merchant='Turcotte, McKenzie and Koss', category='entertainment', amt=69.73999786376953, gender='F', city='Deane', state='KY', zip='41812', lat=37.2400016784668, long=-82.7699966430664, city_pop=230, job='Conservation officer, historic buildings', dob='1997', merch_lat=37.77090835571289, merch_long=-83.31474304199219, is_fraud=0, merch_zipcode='41408', merch_last_update_time='2013-06-22 04:01:35.518000 +0800', merch_eff_time='2013-06-22 04:01:35.791967 +0800'), Row(Unnamed: 0=1296646, trans_date_trans_time='2020-06-21 20:02:13 +0800', merchant='Graham and Sons', category='health_fitness', amt=110.31999969482422, gender='M', city='Belgrade', state='MT', zip='59714', lat=45.779998779296875, long=-111.13999938964844, city_pop=18182, job='Engineer, drilling', dob='1975', merch_lat=44.87506866455078, merch_long=-111.29010772705078, is_fraud=0, merch_zipcode=None, merch_last_update_time='2013-06-22 04:02:13.567000 +0800', merch_eff_time='2013-06-22 04:02:13.917320 +0800'), Row(Unnamed: 0=1296647, trans_date_trans_time='2020-06-21 20:02:27 +0800', merchant=\"O'Keefe-Wisoky\", category='food_dining', amt=10.140000343322754, gender='M', city='Turner', state='MT', zip='59542', lat=48.83000183105469, long=-108.4000015258789, city_pop=192, job='Further education lecturer', dob='1964', merch_lat=48.382904052734375, merch_long=-108.57174682617188, is_fraud=0, merch_zipcode='59526', merch_last_update_time='2013-06-22 04:02:27.713000 +0800', merch_eff_time='2013-06-22 04:02:27.122146 +0800'), Row(Unnamed: 0=1296648, trans_date_trans_time='2020-06-21 20:02:44 +0800', merchant='Kling-Ernser', category='entertainment', amt=13.470000267028809, gender='M', city='Huntsville', state='AL', zip='35811', lat=34.779998779296875, long=-86.54000091552734, city_pop=190178, job='Television production assistant', dob='1973', merch_lat=34.60965347290039, merch_long=-85.67635345458984, is_fraud=0, merch_zipcode='35978', merch_last_update_time='2013-06-22 04:02:44.610000 +0800', merch_eff_time='2013-06-22 04:02:44.635784 +0800'), Row(Unnamed: 0=1296649, trans_date_trans_time='2020-06-21 20:02:57 +0800', merchant='Lind-Buckridge', category='entertainment', amt=2.180000066757202, gender='M', city='New Holstein', state='WI', zip='53061', lat=43.939998626708984, long=-88.08999633789062, city_pop=5196, job='Child psychotherapist', dob='1978', merch_lat=43.84621047973633, merch_long=-87.81063079833984, is_fraud=0, merch_zipcode='53083', merch_last_update_time='2013-06-22 04:02:57.880000 +0800', merch_eff_time='2013-06-22 04:02:57.628798 +0800'), Row(Unnamed: 0=1296650, trans_date_trans_time='2020-06-21 20:02:59 +0800', merchant=\"O'Reilly, Mohr and Purdy\", category='home', amt=19.030000686645508, gender='F', city='Walnut Ridge', state='AR', zip='72476', lat=36.02000045776367, long=-90.93000030517578, city_pop=7155, job='Engineer, control and instrumentation', dob='1977', merch_lat=35.66154479980469, merch_long=-91.20507049560547, is_fraud=0, merch_zipcode='72112', merch_last_update_time='2013-06-22 04:02:59.887000 +0800', merch_eff_time='2013-06-22 04:02:59.676541 +0800'), Row(Unnamed: 0=1296651, trans_date_trans_time='2020-06-21 20:03:37 +0800', merchant='Wintheiser, Dietrich and Schimmel', category='misc_pos', amt=7.380000114440918, gender='F', city='Hinesburg', state='VT', zip='5461', lat=44.33000183105469, long=-73.0999984741211, city_pop=4542, job='Claims inspector/assessor', dob='1998', merch_lat=44.00633239746094, merch_long=-72.57962036132812, is_fraud=0, merch_zipcode='05036', merch_last_update_time='2013-06-22 04:03:37.551000 +0800', merch_eff_time='2013-06-22 04:03:37.422841 +0800'), Row(Unnamed: 0=1296652, trans_date_trans_time='2020-06-21 20:04:53 +0800', merchant='Frami Group', category='entertainment', amt=125.13999938964844, gender='M', city='Fulton', state='OH', zip='43321', lat=40.5, long=-82.83000183105469, city_pop=267, job='Facilities manager', dob='2005', merch_lat=40.36841583251953, merch_long=-82.83992767333984, is_fraud=0, merch_zipcode='43334', merch_last_update_time='2013-06-22 04:04:53.199000 +0800', merch_eff_time='2013-06-22 04:04:53.119782 +0800'), Row(Unnamed: 0=1296653, trans_date_trans_time='2020-06-21 20:06:04 +0800', merchant='Kemmer-Buckridge', category='misc_pos', amt=53.97999954223633, gender='M', city='Heiskell', state='TN', zip='37754', lat=36.119998931884766, long=-84.04000091552734, city_pop=4729, job='Geologist, wellsite', dob='1982', merch_lat=35.88907241821289, merch_long=-83.37120056152344, is_fraud=0, merch_zipcode='37722', merch_last_update_time='2013-06-22 04:06:04.316000 +0800', merch_eff_time='2013-06-22 04:06:04.203081 +0800'), Row(Unnamed: 0=1296654, trans_date_trans_time='2020-06-21 20:06:12 +0800', merchant='Reichel LLC', category='personal_care', amt=29.90999984741211, gender='F', city='Cottekill', state='NY', zip='12419', lat=41.849998474121094, long=-74.0999984741211, city_pop=722, job='Comptroller', dob='1990', merch_lat=42.81950759887695, merch_long=-74.21125793457031, is_fraud=0, merch_zipcode='12137', merch_last_update_time='2013-06-22 04:06:12.962000 +0800', merch_eff_time='2013-06-22 04:06:12.165112 +0800'), Row(Unnamed: 0=1296655, trans_date_trans_time='2020-06-21 20:06:23 +0800', merchant='Bechtelar-Rippin', category='food_dining', amt=78.4000015258789, gender='F', city='Prairie Hill', state='TX', zip='76678', lat=31.65999984741211, long=-96.80999755859375, city_pop=263, job='Barrister', dob='1956', merch_lat=30.80852508544922, merch_long=-96.42046356201172, is_fraud=0, merch_zipcode='77808', merch_last_update_time='2013-06-22 04:06:23.553000 +0800', merch_eff_time='2013-06-22 04:06:23.483063 +0800'), Row(Unnamed: 0=1296656, trans_date_trans_time='2020-06-21 20:07:09 +0800', merchant='Wintheiser, Dietrich and Schimmel', category='misc_pos', amt=5.480000019073486, gender='M', city='Pittsburgh', state='PA', zip='15217', lat=40.43000030517578, long=-79.91999816894531, city_pop=687276, job='Scientist, marine', dob='1973', merch_lat=40.81044006347656, merch_long=-79.18144226074219, is_fraud=0, merch_zipcode='15747', merch_last_update_time='2013-06-22 04:07:09.801000 +0800', merch_eff_time='2013-06-22 04:07:09.926331 +0800'), Row(Unnamed: 0=1296657, trans_date_trans_time='2020-06-21 20:07:20 +0800', merchant='Greenfelder, Bartoletti and Davis', category='misc_net', amt=264.2200012207031, gender='F', city='Lanark Village', state='FL', zip='32323', lat=29.8799991607666, long=-84.5999984741211, city_pop=217, job='Television production assistant', dob='1990', merch_lat=30.615846633911133, merch_long=-84.69769287109375, is_fraud=0, merch_zipcode='32332', merch_last_update_time='2013-06-22 04:07:20.119000 +0800', merch_eff_time='2013-06-22 04:07:20.349525 +0800'), Row(Unnamed: 0=1296658, trans_date_trans_time='2020-06-21 20:07:47 +0800', merchant='Graham, Hegmann and Hammes', category='food_dining', amt=12.65999984741211, gender='M', city='Muskegon', state='MI', zip='49440', lat=43.22999954223633, long=-86.25, city_pop=128715, job='Historic buildings inspector/conservation officer', dob='1995', merch_lat=43.94974136352539, merch_long=-86.54834747314453, is_fraud=0, merch_zipcode='49431', merch_last_update_time='2013-06-22 04:07:47.505000 +0800', merch_eff_time='2013-06-22 04:07:47.610304 +0800'), Row(Unnamed: 0=1296659, trans_date_trans_time='2020-06-21 20:07:53 +0800', merchant='Willms, Kris and Bergnaum', category='shopping_pos', amt=9.720000267028809, gender='F', city='Bradley', state='SC', zip='29819', lat=34.029998779296875, long=-82.19999694824219, city_pop=1523, job='Research scientist (physical sciences)', dob='1984', merch_lat=33.83833694458008, merch_long=-82.27188110351562, is_fraud=0, merch_zipcode='29845', merch_last_update_time='2013-06-22 04:07:53.520000 +0800', merch_eff_time='2013-06-22 04:07:53.165944 +0800'), Row(Unnamed: 0=1296660, trans_date_trans_time='2020-06-21 20:07:54 +0800', merchant='Cartwright PLC', category='kids_pets', amt=49.93000030517578, gender='M', city='Palermo', state='ND', zip='58769', lat=48.34000015258789, long=-102.23999786376953, city_pop=229, job='Administrator', dob='1983', merch_lat=48.72433090209961, merch_long=-102.37938690185547, is_fraud=0, merch_zipcode='58721', merch_last_update_time='2013-06-22 04:07:54.840000 +0800', merch_eff_time='2013-06-22 04:07:54.155419 +0800'), Row(Unnamed: 0=1296661, trans_date_trans_time='2020-06-21 20:08:08 +0800', merchant='Lynch-Wisozk', category='home', amt=77.83000183105469, gender='M', city='Bolivar', state='PA', zip='15923', lat=40.369998931884766, long=-79.16000366210938, city_pop=1770, job='Administrator, local government', dob='1994', merch_lat=40.37247848510742, merch_long=-79.1159439086914, is_fraud=0, merch_zipcode='15923', merch_last_update_time='2013-06-22 04:08:08.670000 +0800', merch_eff_time='2013-06-22 04:08:08.547743 +0800'), Row(Unnamed: 0=1296662, trans_date_trans_time='2020-06-21 20:08:13 +0800', merchant='Lubowitz, Terry and Stracke', category='personal_care', amt=157.69000244140625, gender='F', city='Ronceverte', state='WV', zip='24970', lat=37.7400016784668, long=-80.45999908447266, city_pop=4575, job='Statistician', dob='1991', merch_lat=37.918701171875, merch_long=-80.80059814453125, is_fraud=0, merch_zipcode='25962', merch_last_update_time='2013-06-22 04:08:13.819000 +0800', merch_eff_time='2013-06-22 04:08:13.583083 +0800'), Row(Unnamed: 0=1296663, trans_date_trans_time='2020-06-21 20:08:32 +0800', merchant='Witting, Beer and Ernser', category='home', amt=84.0999984741211, gender='F', city='Owensville', state='MO', zip='65066', lat=38.349998474121094, long=-91.48999786376953, city_pop=6703, job='Naval architect', dob='1998', merch_lat=39.19334411621094, merch_long=-91.01663970947266, is_fraud=0, merch_zipcode='63344', merch_last_update_time='2013-06-22 04:08:32.355000 +0800', merch_eff_time='2013-06-22 04:08:32.214592 +0800'), Row(Unnamed: 0=1296664, trans_date_trans_time='2020-06-21 20:08:36 +0800', merchant='Larkin, Stracke and Greenfelder', category='entertainment', amt=69.37999725341797, gender='F', city='Brandon', state='VT', zip='5733', lat=43.810001373291016, long=-73.08999633789062, city_pop=5895, job='Scientist, marine', dob='1975', merch_lat=43.808956146240234, merch_long=-72.27716827392578, is_fraud=0, merch_zipcode='05075', merch_last_update_time='2013-06-22 04:08:36.774000 +0800', merch_eff_time='2013-06-22 04:08:36.207287 +0800'), Row(Unnamed: 0=1296665, trans_date_trans_time='2020-06-21 20:08:42 +0800', merchant='Gulgowski LLC', category='home', amt=72.16999816894531, gender='M', city='Pointe Aux Pins', state='MI', zip='49775', lat=45.75, long=-84.44999694824219, city_pop=95, job='Electrical engineer', dob='1994', merch_lat=44.93846130371094, merch_long=-83.99623107910156, is_fraud=0, merch_zipcode='49709', merch_last_update_time='2013-06-22 04:08:42.101000 +0800', merch_eff_time='2013-06-22 04:08:42.863033 +0800'), Row(Unnamed: 0=1296666, trans_date_trans_time='2020-06-21 20:09:22 +0800', merchant='Hyatt, Russel and Gleichner', category='health_fitness', amt=7.300000190734863, gender='F', city='Pembroke Township', state='IL', zip='60958', lat=41.060001373291016, long=-87.58999633789062, city_pop=2135, job='Psychotherapist, child', dob='2004', merch_lat=40.55681228637695, merch_long=-88.09233856201172, is_fraud=0, merch_zipcode='60948', merch_last_update_time='2013-06-22 04:09:22.824000 +0800', merch_eff_time='2013-06-22 04:09:22.143956 +0800'), Row(Unnamed: 0=1296667, trans_date_trans_time='2020-06-21 20:10:56 +0800', merchant='Hahn, Douglas and Schowalter', category='travel', amt=19.709999084472656, gender='M', city='Haines City', state='FL', zip='33844', lat=28.079999923706055, long=-81.58999633789062, city_pop=33804, job='Exercise physiologist', dob='1991', merch_lat=27.465871810913086, merch_long=-81.51180267333984, is_fraud=0, merch_zipcode='33872', merch_last_update_time='2013-06-22 04:10:56.469000 +0800', merch_eff_time='2013-06-22 04:10:56.904524 +0800'), Row(Unnamed: 0=1296668, trans_date_trans_time='2020-06-21 20:11:23 +0800', merchant='Metz, Russel and Metz', category='kids_pets', amt=100.8499984741211, gender='F', city='Florence', state='MS', zip='39073', lat=32.150001525878906, long=-90.12000274658203, city_pop=19685, job='Fine artist', dob='1984', merch_lat=31.377696990966797, merch_long=-90.52845001220703, is_fraud=0, merch_zipcode='39629', merch_last_update_time='2013-06-22 04:11:23.612000 +0800', merch_eff_time='2013-06-22 04:11:23.896361 +0800'), Row(Unnamed: 0=1296669, trans_date_trans_time='2020-06-21 20:11:36 +0800', merchant='Stiedemann Inc', category='misc_pos', amt=37.380001068115234, gender='F', city='North Loup', state='NE', zip='68859', lat=41.5, long=-98.79000091552734, city_pop=509, job=\"Nurse, children's\", dob='1980', merch_lat=41.7286376953125, merch_long=-99.03965759277344, is_fraud=0, merch_zipcode='68837', merch_last_update_time='2013-06-22 04:11:36.340000 +0800', merch_eff_time='2013-06-22 04:11:36.580397 +0800'), Row(Unnamed: 0=1296670, trans_date_trans_time='2020-06-21 20:12:08 +0800', merchant='Reichel Inc', category='entertainment', amt=15.5600004196167, gender='M', city='Hatch', state='UT', zip='84735', lat=37.720001220703125, long=-112.4800033569336, city_pop=258, job='Geoscientist', dob='1961', merch_lat=36.84126663208008, merch_long=-111.69076538085938, is_fraud=0, merch_zipcode=None, merch_last_update_time='2013-06-22 04:12:08.612000 +0800', merch_eff_time='2013-06-22 04:12:08.725231 +0800'), Row(Unnamed: 0=1296671, trans_date_trans_time='2020-06-21 20:12:19 +0800', merchant='Abernathy and Sons', category='food_dining', amt=51.70000076293945, gender='M', city='Tuscarora', state='MD', zip='21790', lat=39.27000045776367, long=-77.51000213623047, city_pop=100, job='Production assistant, television', dob='1979', merch_lat=38.90687942504883, merch_long=-78.24652862548828, is_fraud=0, merch_zipcode='22630', merch_last_update_time='2013-06-22 04:12:19.649000 +0800', merch_eff_time='2013-06-22 04:12:19.578838 +0800'), Row(Unnamed: 0=1296672, trans_date_trans_time='2020-06-21 20:12:32 +0800', merchant='Stiedemann Ltd', category='food_dining', amt=105.93000030517578, gender='M', city='High Rolls Mountain Park', state='NM', zip='88325', lat=32.939998626708984, long=-105.81999969482422, city_pop=899, job='Naval architect', dob='1967', merch_lat=33.61951446533203, merch_long=-105.13053131103516, is_fraud=0, merch_zipcode='88351', merch_last_update_time='2013-06-22 04:12:32.176000 +0800', merch_eff_time='2013-06-22 04:12:32.186845 +0800'), Row(Unnamed: 0=1296673, trans_date_trans_time='2020-06-21 20:13:36 +0800', merchant='Reinger, Weissnat and Strosin', category='food_dining', amt=74.9000015258789, gender='M', city='Manderson', state='SD', zip='57756', lat=43.349998474121094, long=-102.54000091552734, city_pop=1126, job='Volunteer coordinator', dob='1980', merch_lat=42.7889404296875, merch_long=-103.24115753173828, is_fraud=0, merch_zipcode='69367', merch_last_update_time='2013-06-22 04:13:36.264000 +0800', merch_eff_time='2013-06-22 04:13:36.913435 +0800'), Row(Unnamed: 0=1296674, trans_date_trans_time='2020-06-21 20:13:37 +0800', merchant='Langosh, Wintheiser and Hyatt', category='food_dining', amt=4.300000190734863, gender='M', city='Sula', state='MT', zip='59871', lat=45.84000015258789, long=-113.87000274658203, city_pop=218, job='Therapist, horticultural', dob='1995', merch_lat=46.565982818603516, merch_long=-114.18611145019531, is_fraud=0, merch_zipcode='59870', merch_last_update_time='2013-06-22 04:13:37.611000 +0800', merch_eff_time='2013-06-22 04:13:37.420462 +0800')]\n",
      "root\n",
      " |-- Unnamed: 0: integer (nullable = true)\n",
      " |-- trans_date_trans_time: string (nullable = true)\n",
      " |-- merchant: string (nullable = true)\n",
      " |-- category: string (nullable = true)\n",
      " |-- amt: float (nullable = true)\n",
      " |-- gender: string (nullable = true)\n",
      " |-- city: string (nullable = true)\n",
      " |-- state: string (nullable = true)\n",
      " |-- zip: string (nullable = true)\n",
      " |-- lat: float (nullable = true)\n",
      " |-- long: float (nullable = true)\n",
      " |-- city_pop: integer (nullable = true)\n",
      " |-- job: string (nullable = true)\n",
      " |-- dob: string (nullable = true)\n",
      " |-- merch_lat: float (nullable = true)\n",
      " |-- merch_long: float (nullable = true)\n",
      " |-- is_fraud: integer (nullable = true)\n",
      " |-- merch_zipcode: string (nullable = true)\n",
      " |-- merch_last_update_time: string (nullable = true)\n",
      " |-- merch_eff_time: string (nullable = true)\n",
      "\n"
     ]
    },
    {
     "name": "stderr",
     "output_type": "stream",
     "text": [
      "                                                                                \r"
     ]
    }
   ],
   "source": [
    "# Direct Identifiers\n",
    "# cc_num, first, last, trans_num, dob\n",
    "\n",
    "# Indirect Identifiers\n",
    "# city, state, zip, street, job, lat, long, cc_bic\n",
    "\n",
    "# Indentifiers to delete : \n",
    "identifier_delete = [\n",
    "    # not needed for analysis\n",
    "    \"cc_num\",\n",
    "    \"first\",\n",
    "    \"last\",\n",
    "    \"trans_num\",\n",
    "    \"cc_bic\",\n",
    "    # specific location not required\n",
    "    \"street\",\n",
    "]\n",
    "\n",
    "# reducing specificity of location by rounding latitude and longitude\n",
    "df_cleaned = df_cleaned.withColumn(\"lat\", sf.round(sf.col(\"lat\"), 2))\n",
    "df_cleaned = df_cleaned.withColumn(\"long\", sf.round(sf.col(\"long\"), 2))\n",
    "\n",
    "# remove columns \n",
    "df_cleaned = df_cleaned.drop(*identifier_delete)\n",
    "\n",
    "# keep only the year (first 4 digits) from dob\n",
    "df_cleaned = df_cleaned.withColumn(\"dob\", sf.substring(sf.col(\"dob\"), 1, 4))\n",
    "\n",
    "df_cleaned.show(40,truncate=False)\n",
    "print(df_cleaned.tail(40))\n",
    "\n",
    "df_cleaned.printSchema()"
   ]
  },
  {
   "cell_type": "markdown",
   "id": "bf9f00d8",
   "metadata": {},
   "source": [
    "Plots - Pyspark now has native plotting without needing to convert to pandas. working on a plotly backend. "
   ]
  },
  {
   "cell_type": "code",
   "execution_count": 5,
   "id": "380f40ed",
   "metadata": {},
   "outputs": [],
   "source": [
    "import pandas as pd\n",
    "import seaborn as sns\n",
    "import matplotlib.pyplot as plt\n",
    "import math"
   ]
  },
  {
   "cell_type": "markdown",
   "id": "30daf422",
   "metadata": {},
   "source": [
    "KDE plot"
   ]
  },
  {
   "cell_type": "code",
   "execution_count": null,
   "id": "3e804b86",
   "metadata": {},
   "outputs": [],
   "source": [
    "# Calculate min and max for the legend\n",
    "min_amt = df_cleaned.agg(sf.min(\"amt\")).collect()[0][0]\n",
    "max_amt = df_cleaned.agg(sf.max(\"amt\")).collect()[0][0]\n",
    "\n",
    "print(f'Min: ${min_amt:.2f} \\nMax: ${max_amt:.2f}')\n",
    "\n",
    "kde_plot = df_cleaned.plot.kde(column = \"amt\", bw_method=.8, template=\"plotly_white\")\n",
    "kde_plot.update_layout(title=\"Distribution of Transaction Amounts\", xaxis_title=\"Transaction Amount (USD)\", yaxis_title=\"Density\")\n",
    "kde_plot.update_xaxes(minor=dict(ticks='inside', ticklen=5,showgrid=True), range=[0, math.log(max_amt,10)], type=\"log\")\n",
    "\n",
    "kde_plot.show()\n"
   ]
  },
  {
   "cell_type": "markdown",
   "id": "2ef6fe18",
   "metadata": {},
   "source": [
    "Percentage transaction by category"
   ]
  },
  {
   "cell_type": "code",
   "execution_count": null,
   "id": "8e772a9f",
   "metadata": {},
   "outputs": [],
   "source": [
    "# Calculate total count for percentage calculation\n",
    "total_count = df_cleaned.count()\n",
    "\n",
    "# Aggregate data to get counts per category and convert to percentage\n",
    "category_counts_df = df_cleaned.groupBy(\"category\").count() \\\n",
    "    .withColumn(\"percentage\", (sf.col(\"count\") / total_count) * 100) \\\n",
    "    .orderBy(sf.desc(\"percentage\")) \\\n",
    "    .drop(\"count\") # Drop the raw count column as we now have percentage\n",
    "\n",
    "# Generate the bar plot using PySpark's native plotting\n",
    "# Map 'category' to x-axis and 'percentage' to y-axis.\n",
    "bar_plot = category_counts_df.plot.bar(\n",
    "    x=\"category\",\n",
    "    y=\"percentage\",\n",
    "    title=\"Percentage of Transactions by Category\",\n",
    "    template=\"plotly_white\",    \n",
    ")\n",
    "\n",
    "bar_plot.update_yaxes(\n",
    "    title_text=\"Percentage\",\n",
    ")\n",
    "\n",
    "# Display the plot\n",
    "bar_plot.show()\n"
   ]
  },
  {
   "cell_type": "markdown",
   "id": "ead5b6c5",
   "metadata": {},
   "source": [
    "Transaction amount by fraud status"
   ]
  },
  {
   "cell_type": "code",
   "execution_count": null,
   "id": "fbde97ac",
   "metadata": {},
   "outputs": [],
   "source": [
    "fraud_count = df_cleaned.filter(sf.col(\"is_fraud\") == 1).count()\n",
    "print(fraud_count)\n",
    "\n",
    "percentage_fraud = (fraud_count / total_count) * 100\n",
    "print(percentage_fraud)\n",
    "\n",
    "fraud_data = df_cleaned.filter(sf.col(\"is_fraud\") == 1)\n",
    "\n",
    "max_amt_fraud = fraud_data.agg(sf.max(\"amt\")).collect()[0][0]\n",
    "\n",
    "#kde plot of fraud data\n",
    "kde_plot = fraud_data.plot.kde(column = \"amt\", bw_method=.9, template=\"plotly_white\")\n",
    "kde_plot.update_layout(title=\"Distribution of Fraud Transaction Amounts\", xaxis_title=\"Transaction Amount (USD)\", yaxis_title=\"Density\")\n",
    "kde_plot.update_xaxes(range=[0, max_amt_fraud])\n",
    "\n",
    "kde_plot.show()"
   ]
  },
  {
   "cell_type": "markdown",
   "id": "63a8293c",
   "metadata": {},
   "source": [
    "Transaction amount vs city population"
   ]
  },
  {
   "cell_type": "code",
   "execution_count": null,
   "id": "263dd3f7",
   "metadata": {},
   "outputs": [],
   "source": [
    "max_amt_city_pop = df_cleaned.agg(sf.max(\"city_pop\")).collect()[0][0]\n",
    "\n",
    "# df_cleaned_sample = df_cleaned.sample(fraction=0.01)\n",
    "\n",
    "city_pop_scatter = df_cleaned.plot.scatter(\n",
    "    x = 'city_pop',\n",
    "    y = \"amt\",\n",
    ")\n",
    "\n",
    "city_pop_scatter.update_layout(title=\"Distribution of Fraud Transaction Amounts\", xaxis_title=\"City Population\", yaxis_title=\"Amount Spent\")\n",
    "city_pop_scatter.update_xaxes(range=[0, max_amt_city_pop])\n",
    "\n",
    "#uncomment to add scatter into the kde plot\n",
    "\n",
    "city_pop_scatter.add_histogram(\n",
    "    x=df_cleaned.filter(sf.col(\"city_pop\")),\n",
    "    y=df_cleaned.filter(sf.col(\"amt\")),\n",
    "    mode=\"markers\",\n",
    "    name=\"transaction amount scatter\",\n",
    ")\n",
    "\n",
    "city_pop_scatter.show()"
   ]
  },
  {
   "cell_type": "code",
   "execution_count": null,
   "id": "f8572ea2",
   "metadata": {},
   "outputs": [],
   "source": []
  },
  {
   "cell_type": "code",
   "execution_count": 6,
   "id": "b30f5dc4",
   "metadata": {},
   "outputs": [
    {
     "name": "stdout",
     "output_type": "stream",
     "text": [
      "US State Population Data (2020 Census):\n"
     ]
    },
    {
     "name": "stderr",
     "output_type": "stream",
     "text": [
      "                                                                                \r"
     ]
    },
    {
     "name": "stdout",
     "output_type": "stream",
     "text": [
      "+-----+-----------+---------------+\n",
      "|state| state_name|population_2020|\n",
      "+-----+-----------+---------------+\n",
      "|   AL|    Alabama|        5024279|\n",
      "|   AK|     Alaska|         733391|\n",
      "|   AZ|    Arizona|        7151502|\n",
      "|   AR|   Arkansas|        3011524|\n",
      "|   CA| California|       39538223|\n",
      "|   CO|   Colorado|        5773714|\n",
      "|   CT|Connecticut|        3605944|\n",
      "|   DE|   Delaware|         989948|\n",
      "|   FL|    Florida|       21538187|\n",
      "|   GA|    Georgia|       10711908|\n",
      "+-----+-----------+---------------+\n",
      "only showing top 10 rows\n",
      "\n",
      "Top 10 States by Customer Count:\n"
     ]
    },
    {
     "name": "stderr",
     "output_type": "stream",
     "text": [
      "                                                                                \r"
     ]
    },
    {
     "name": "stdout",
     "output_type": "stream",
     "text": [
      "+-----+--------------+------------------+----------------------+------------------+\n",
      "|state|customer_count|total_transactions|avg_transaction_amount|    total_spending|\n",
      "+-----+--------------+------------------+----------------------+------------------+\n",
      "|   TX|         94876|             94876|     71.68216968714283| 6800917.531237364|\n",
      "|   NY|         83501|             83501|     71.93325864714355| 6006499.030295134|\n",
      "|   PA|         79847|             79847|     72.27584669822063| 5771009.531312823|\n",
      "|   CA|         56360|             56360|      73.4222588943369| 4138078.511284828|\n",
      "|   OH|         46480|             46480|      73.0668386385922|3396146.6599217653|\n",
      "|   MI|         46154|             46154|      71.1254703674236| 3282724.959338069|\n",
      "|   IL|         43252|             43252|     69.63588501567989| 3011891.298698187|\n",
      "|   FL|         42671|             42671|     73.94229410416057|3155191.6317186356|\n",
      "|   AL|         40989|             40989|     65.44968406481794| 2682717.100132823|\n",
      "|   MO|         38403|             38403|     68.67830798045343| 2637453.061373353|\n",
      "+-----+--------------+------------------+----------------------+------------------+\n",
      "only showing top 10 rows\n"
     ]
    },
    {
     "name": "stderr",
     "output_type": "stream",
     "text": [
      "                                                                                \r"
     ]
    },
    {
     "name": "stdout",
     "output_type": "stream",
     "text": [
      "\n",
      "Customer Per Capita Analysis:\n",
      "Total states with data: 50\n",
      "Highest customers per 100k: Wyoming (3349.57)\n",
      "Lowest customers per 100k: Delaware (0.91)\n"
     ]
    },
    {
     "data": {
      "application/vnd.plotly.v1+json": {
       "config": {
        "plotlyServerURL": "https://plot.ly"
       },
       "data": [
        {
         "marker": {
          "color": "lightblue"
         },
         "name": "Customers per 100k",
         "text": [
          "3349.6",
          "1897.8",
          "1830.0",
          "1432.3",
          "1389.9",
          "1232.1",
          "1182.5",
          "1084.1",
          "1033.6",
          "845.8",
          "815.8",
          "782.7",
          "774.8",
          "715.5",
          "673.6",
          "632.0",
          "619.8",
          "614.1",
          "600.9",
          "570.3",
          "552.7",
          "498.3",
          "459.8",
          "450.1",
          "438.9",
          "424.0",
          "413.3",
          "406.5",
          "393.9",
          "338.9",
          "337.6",
          "327.0",
          "325.5",
          "301.5",
          "289.9",
          "289.1",
          "264.9",
          "254.0",
          "245.6",
          "243.3",
          "240.4",
          "213.6",
          "198.1",
          "180.6",
          "176.8",
          "175.8",
          "150.6",
          "142.5",
          "50.1",
          "0.9"
         ],
         "textposition": "outside",
         "type": "bar",
         "x": [
          "WY",
          "ND",
          "VT",
          "WV",
          "SD",
          "NE",
          "ME",
          "MT",
          "AR",
          "IA",
          "AL",
          "KS",
          "NM",
          "MS",
          "OK",
          "KY",
          "MO",
          "PA",
          "NH",
          "SC",
          "MN",
          "WI",
          "MI",
          "LA",
          "OR",
          "MD",
          "NY",
          "IN",
          "OH",
          "VA",
          "IL",
          "UT",
          "TX",
          "ID",
          "NC",
          "AK",
          "NJ",
          "TN",
          "WA",
          "GA",
          "CO",
          "CT",
          "FL",
          "NV",
          "MA",
          "HI",
          "AZ",
          "CA",
          "RI",
          "DE"
         ],
         "xaxis": "x",
         "y": {
          "bdata": "wk3mWSErqkCdvKC8YaedQGTb18fOl5xAu9wjsRxhlkAHf/J4sreVQNH15Yp2QJNAnx6WFyt6kkBtci+KXvCQQE6/6pZiJpBAKHu1ip1uikDbKwxjjH6JQD6h1CzudYhAseZK6ZA2iEBaWDJfA1yGQJo2RBb2DIVAbAbTY6q/g0AVOJeyal6DQECtCSekMINA5Z/93XLHgkApLMtIV9KBQEfwZAKtRYFAsalFObEkf0BExNHqOb18QFT1P+u/IXxAgD8HzEdue0DZWqAeaIB6QBRRaRuI1XlAhI8zkUBneUCYXpHvqp54QITnHGoRLnVAYPGO1DgZdUD2hR4fZnB0QGjXo7tnWHRA3/7ZPxXYckAdfqJGvR5yQApaoEEXEXJAU6fuE8qNcECC90tJN8BvQFqRmBwhs25A6buNjuBpbkDHX6iZywxuQEaDCt7vsmpA5ydkscXDaEARmdroRJNmQGyMFDJ4GGZAxARnQf76ZUAbxUGkINNiQLE19Zx10WFABtA1L0kPSUDdq4L2qRftPw==",
          "dtype": "f8"
         },
         "yaxis": "y"
        },
        {
         "marker": {
          "color": {
           "bdata": "wk3mWSErqkCdvKC8YaedQGTb18fOl5xAu9wjsRxhlkAHf/J4sreVQNH15Yp2QJNAnx6WFyt6kkBtci+KXvCQQE6/6pZiJpBAKHu1ip1uikDbKwxjjH6JQD6h1CzudYhAseZK6ZA2iEBaWDJfA1yGQJo2RBb2DIVAbAbTY6q/g0AVOJeyal6DQECtCSekMINA5Z/93XLHgkApLMtIV9KBQEfwZAKtRYFAsalFObEkf0BExNHqOb18QFT1P+u/IXxAgD8HzEdue0DZWqAeaIB6QBRRaRuI1XlAhI8zkUBneUCYXpHvqp54QITnHGoRLnVAYPGO1DgZdUD2hR4fZnB0QGjXo7tnWHRA3/7ZPxXYckAdfqJGvR5yQApaoEEXEXJAU6fuE8qNcECC90tJN8BvQFqRmBwhs25A6buNjuBpbkDHX6iZywxuQEaDCt7vsmpA5ydkscXDaEARmdroRJNmQGyMFDJ4GGZAxARnQf76ZUAbxUGkINNiQLE19Zx10WFABtA1L0kPSUDdq4L2qRftPw==",
           "dtype": "f8"
          },
          "colorbar": {
           "title": {
            "text": "Customers per 100k"
           }
          },
          "colorscale": [
           [
            0,
            "#440154"
           ],
           [
            0.1111111111111111,
            "#482878"
           ],
           [
            0.2222222222222222,
            "#3e4989"
           ],
           [
            0.3333333333333333,
            "#31688e"
           ],
           [
            0.4444444444444444,
            "#26828e"
           ],
           [
            0.5555555555555556,
            "#1f9e89"
           ],
           [
            0.6666666666666666,
            "#35b779"
           ],
           [
            0.7777777777777778,
            "#6ece58"
           ],
           [
            0.8888888888888888,
            "#b5de2b"
           ],
           [
            1,
            "#fde725"
           ]
          ],
          "showscale": true,
          "size": {
           "bdata": "wk3mWSErmkCdvKC8YaeNQGTb18fOl4xAu9wjsRxhhkAHf/J4sreFQNH15Yp2QINAnx6WFyt6gkBtci+KXvCAQE6/6pZiJoBAKHu1ip1uekDbKwxjjH55QD6h1CzudXhAseZK6ZA2eEBaWDJfA1x2QJo2RBb2DHVAbAbTY6q/c0AVOJeyal5zQECtCSekMHNA5Z/93XLHckApLMtIV9JxQEfwZAKtRXFAsalFObEkb0BExNHqOb1sQFT1P+u/IWxAgD8HzEdua0DZWqAeaIBqQBRRaRuI1WlAhI8zkUBnaUCYXpHvqp5oQITnHGoRLmVAYPGO1DgZZUD2hR4fZnBkQGjXo7tnWGRA3/7ZPxXYYkAdfqJGvR5iQApaoEEXEWJAU6fuE8qNYECC90tJN8BfQFqRmBwhs15A6buNjuBpXkDHX6iZywxeQEaDCt7vslpA5ydkscXDWEARmdroRJNWQGyMFDJ4GFZAxARnQf76VUAbxUGkINNSQLE19Zx10VFABtA1L0kPOUDdq4L2qRfdPw==",
           "dtype": "f8"
          }
         },
         "mode": "markers+text",
         "name": "Customer Count vs Population",
         "text": [
          "WY",
          "ND",
          "VT",
          "WV",
          "SD",
          "NE",
          "ME",
          "MT",
          "AR",
          "IA",
          "AL",
          "KS",
          "NM",
          "MS",
          "OK",
          "KY",
          "MO",
          "PA",
          "NH",
          "SC",
          "MN",
          "WI",
          "MI",
          "LA",
          "OR",
          "MD",
          "NY",
          "IN",
          "OH",
          "VA",
          "IL",
          "UT",
          "TX",
          "ID",
          "NC",
          "AK",
          "NJ",
          "TN",
          "WA",
          "GA",
          "CO",
          "CT",
          "FL",
          "NV",
          "MA",
          "HI",
          "AZ",
          "CA",
          "RI",
          "DE"
         ],
         "textposition": "top center",
         "type": "scatter",
         "x": {
          "bdata": "U80IAFbjCwAF0AkAtF4bAIuHDQAg7h0ACkwVAEGLEADE8y0AYa4wABeqTAAY1CwAkk8gAH8vLQA5ajwA7MBEACqLXgDMZ8YA+QQVANkZTgC7jVcAVu5ZAA0omQBdEkcAyKdAAMhBXgAhPzQB+IlnAJgLtABhtIMA3IDDAMDrMQChubwBAhAcANxKnwDPMAsAIr2NAHhzaQDBknUAZHOjAJIZWAC4BTcAi6VIAWZfLwA31WoApzQWAI4fbQAvTlsCo74QAPwaDwA=",
          "dtype": "i4"
         },
         "xaxis": "x2",
         "y": {
          "bdata": "eksAAMI5AAD4LQAAW2QAACQwAABoXgAAeUAAAOotAACXeQAAaWkAAB2gAADUWQAAF0AAAMRSAAAvaAAAO28AAAOWAADnNwEAViAAAAZyAADiewAAuHIAAEq0AADlUQAApUgAAFFmAAAtRgEAvGsAAJC1AABCcgAA9KgAAMspAACccgEAqRUAADp2AABICAAAG2AAAJJEAADsSQAAz2UAADg2AAAWHgAAr6YAAOcVAABYMAAA/wkAABIqAAAo3AAAJgIAAAkAAAA=",
          "dtype": "i4"
         },
         "yaxis": "y2"
        },
        {
         "marker": {
          "color": "lightcoral"
         },
         "name": "Spending per Capita",
         "text": [
          "$3",
          "$1",
          "$2",
          "$1",
          "$1",
          "$1",
          "$1",
          "$1",
          "$1",
          "$1",
          "$1",
          "$1",
          "$0",
          "$0",
          "$0",
          "$0",
          "$0",
          "$0",
          "$0",
          "$0",
          "$0",
          "$0",
          "$0",
          "$0",
          "$0",
          "$0",
          "$0",
          "$0",
          "$0",
          "$0",
          "$0",
          "$0",
          "$0",
          "$0",
          "$0",
          "$0",
          "$0",
          "$0",
          "$0",
          "$0",
          "$0",
          "$0",
          "$0",
          "$0",
          "$0",
          "$0",
          "$0",
          "$0",
          "$0",
          "$0"
         ],
         "textposition": "outside",
         "type": "bar",
         "x": [
          "WY",
          "ND",
          "VT",
          "WV",
          "SD",
          "NE",
          "ME",
          "MT",
          "AR",
          "IA",
          "AL",
          "KS",
          "NM",
          "MS",
          "OK",
          "KY",
          "MO",
          "PA",
          "NH",
          "SC",
          "MN",
          "WI",
          "MI",
          "LA",
          "OR",
          "MD",
          "NY",
          "IN",
          "OH",
          "VA",
          "IL",
          "UT",
          "TX",
          "ID",
          "NC",
          "AK",
          "NJ",
          "TN",
          "WA",
          "GA",
          "CO",
          "CT",
          "FL",
          "NV",
          "MA",
          "HI",
          "AZ",
          "CA",
          "RI",
          "DE"
         ],
         "xaxis": "x3",
         "y": {
          "bdata": "+NVMIPJMBECyCO1jouPzP9UptFpxCfg/6i6RBv068D+ALP4+KmvvPy31HwQ+g+o/2j3fIx8M6D//Tt3u/QroPz/IbkQG5Og/LqPBoRvB4T/Q8hWzHxbhP59Gwg91XOE/gzUHAXlN3j+mGiggH9XeP/ISJttV8Nw/og03e8DM2j8jqlOuKz7bP/+Em8e8Z9w/pKweLrx23D8zCgsfeHnXP1PV8rD2jtg/z8YhqMf61T+DTMRQc+7UPzrx06ngl9U/qfdeU6zH0z9buUQBGJzRP+eGKzaBB9M/+rtiWzTi0T82RpcTr2vSP4dEW6Carc4/gYnTHuoWzj9NLC6EcfTKP7Z6DCA03s0/JvNUDLkyzD89vtlN+JDMPxqDfpHGPck/bRhanhCExj8eRKsmElTIPxXx65BmMcc/LhlIzqnCxT8SCAzrISvIP77xhPVgsME/I4j8kkfAwj8dcDcboCO6P2H7AgJ367s/aLuX0GOPuj+mJNo3dO+8PwL8OtwCy7o/XxTBZs4GpT9N6H+GqyhzPw==",
          "dtype": "f8"
         },
         "yaxis": "y3"
        },
        {
         "colorbar": {
          "title": {
           "text": "Customers per 100k"
          },
          "x": 1.02
         },
         "colorscale": [
          [
           0,
           "rgb(247,251,255)"
          ],
          [
           0.125,
           "rgb(222,235,247)"
          ],
          [
           0.25,
           "rgb(198,219,239)"
          ],
          [
           0.375,
           "rgb(158,202,225)"
          ],
          [
           0.5,
           "rgb(107,174,214)"
          ],
          [
           0.625,
           "rgb(66,146,198)"
          ],
          [
           0.75,
           "rgb(33,113,181)"
          ],
          [
           0.875,
           "rgb(8,81,156)"
          ],
          [
           1,
           "rgb(8,48,107)"
          ]
         ],
         "geo": "geo",
         "locationmode": "USA-states",
         "locations": [
          "WY",
          "ND",
          "VT",
          "WV",
          "SD",
          "NE",
          "ME",
          "MT",
          "AR",
          "IA",
          "AL",
          "KS",
          "NM",
          "MS",
          "OK",
          "KY",
          "MO",
          "PA",
          "NH",
          "SC",
          "MN",
          "WI",
          "MI",
          "LA",
          "OR",
          "MD",
          "NY",
          "IN",
          "OH",
          "VA",
          "IL",
          "UT",
          "TX",
          "ID",
          "NC",
          "AK",
          "NJ",
          "TN",
          "WA",
          "GA",
          "CO",
          "CT",
          "FL",
          "NV",
          "MA",
          "HI",
          "AZ",
          "CA",
          "RI",
          "DE"
         ],
         "name": "Geographic Distribution",
         "text": [
          "Wyoming",
          "North Dakota",
          "Vermont",
          "West Virginia",
          "South Dakota",
          "Nebraska",
          "Maine",
          "Montana",
          "Arkansas",
          "Iowa",
          "Alabama",
          "Kansas",
          "New Mexico",
          "Mississippi",
          "Oklahoma",
          "Kentucky",
          "Missouri",
          "Pennsylvania",
          "New Hampshire",
          "South Carolina",
          "Minnesota",
          "Wisconsin",
          "Michigan",
          "Louisiana",
          "Oregon",
          "Maryland",
          "New York",
          "Indiana",
          "Ohio",
          "Virginia",
          "Illinois",
          "Utah",
          "Texas",
          "Idaho",
          "North Carolina",
          "Alaska",
          "New Jersey",
          "Tennessee",
          "Washington",
          "Georgia",
          "Colorado",
          "Connecticut",
          "Florida",
          "Nevada",
          "Massachusetts",
          "Hawaii",
          "Arizona",
          "California",
          "Rhode Island",
          "Delaware"
         ],
         "type": "choropleth",
         "z": {
          "bdata": "wk3mWSErqkCdvKC8YaedQGTb18fOl5xAu9wjsRxhlkAHf/J4sreVQNH15Yp2QJNAnx6WFyt6kkBtci+KXvCQQE6/6pZiJpBAKHu1ip1uikDbKwxjjH6JQD6h1CzudYhAseZK6ZA2iEBaWDJfA1yGQJo2RBb2DIVAbAbTY6q/g0AVOJeyal6DQECtCSekMINA5Z/93XLHgkApLMtIV9KBQEfwZAKtRYFAsalFObEkf0BExNHqOb18QFT1P+u/IXxAgD8HzEdue0DZWqAeaIB6QBRRaRuI1XlAhI8zkUBneUCYXpHvqp54QITnHGoRLnVAYPGO1DgZdUD2hR4fZnB0QGjXo7tnWHRA3/7ZPxXYckAdfqJGvR5yQApaoEEXEXJAU6fuE8qNcECC90tJN8BvQFqRmBwhs25A6buNjuBpbkDHX6iZywxuQEaDCt7vsmpA5ydkscXDaEARmdroRJNmQGyMFDJ4GGZAxARnQf76ZUAbxUGkINNiQLE19Zx10WFABtA1L0kPSUDdq4L2qRftPw==",
          "dtype": "f8"
         }
        }
       ],
       "layout": {
        "annotations": [
         {
          "font": {
           "size": 16
          },
          "showarrow": false,
          "text": "Customers Per 100k Population by State",
          "x": 0.225,
          "xanchor": "center",
          "xref": "paper",
          "y": 1,
          "yanchor": "bottom",
          "yref": "paper"
         },
         {
          "font": {
           "size": 16
          },
          "showarrow": false,
          "text": "Customer Count vs State Population",
          "x": 0.775,
          "xanchor": "center",
          "xref": "paper",
          "y": 1,
          "yanchor": "bottom",
          "yref": "paper"
         },
         {
          "font": {
           "size": 16
          },
          "showarrow": false,
          "text": "Spending Per Capita by State",
          "x": 0.225,
          "xanchor": "center",
          "xref": "paper",
          "y": 0.44,
          "yanchor": "bottom",
          "yref": "paper"
         },
         {
          "font": {
           "size": 16
          },
          "showarrow": false,
          "text": "Geographic Distribution",
          "x": 0.775,
          "xanchor": "center",
          "xref": "paper",
          "y": 0.44,
          "yanchor": "bottom",
          "yref": "paper"
         }
        ],
        "font": {
         "size": 10
        },
        "geo": {
         "domain": {
          "x": [
           0.55,
           1
          ],
          "y": [
           0,
           0.44
          ]
         },
         "projection": {
          "type": "albers usa"
         },
         "scope": "usa"
        },
        "height": 1000,
        "showlegend": false,
        "template": {
         "data": {
          "bar": [
           {
            "error_x": {
             "color": "#2a3f5f"
            },
            "error_y": {
             "color": "#2a3f5f"
            },
            "marker": {
             "line": {
              "color": "#E5ECF6",
              "width": 0.5
             },
             "pattern": {
              "fillmode": "overlay",
              "size": 10,
              "solidity": 0.2
             }
            },
            "type": "bar"
           }
          ],
          "barpolar": [
           {
            "marker": {
             "line": {
              "color": "#E5ECF6",
              "width": 0.5
             },
             "pattern": {
              "fillmode": "overlay",
              "size": 10,
              "solidity": 0.2
             }
            },
            "type": "barpolar"
           }
          ],
          "carpet": [
           {
            "aaxis": {
             "endlinecolor": "#2a3f5f",
             "gridcolor": "white",
             "linecolor": "white",
             "minorgridcolor": "white",
             "startlinecolor": "#2a3f5f"
            },
            "baxis": {
             "endlinecolor": "#2a3f5f",
             "gridcolor": "white",
             "linecolor": "white",
             "minorgridcolor": "white",
             "startlinecolor": "#2a3f5f"
            },
            "type": "carpet"
           }
          ],
          "choropleth": [
           {
            "colorbar": {
             "outlinewidth": 0,
             "ticks": ""
            },
            "type": "choropleth"
           }
          ],
          "contour": [
           {
            "colorbar": {
             "outlinewidth": 0,
             "ticks": ""
            },
            "colorscale": [
             [
              0,
              "#0d0887"
             ],
             [
              0.1111111111111111,
              "#46039f"
             ],
             [
              0.2222222222222222,
              "#7201a8"
             ],
             [
              0.3333333333333333,
              "#9c179e"
             ],
             [
              0.4444444444444444,
              "#bd3786"
             ],
             [
              0.5555555555555556,
              "#d8576b"
             ],
             [
              0.6666666666666666,
              "#ed7953"
             ],
             [
              0.7777777777777778,
              "#fb9f3a"
             ],
             [
              0.8888888888888888,
              "#fdca26"
             ],
             [
              1,
              "#f0f921"
             ]
            ],
            "type": "contour"
           }
          ],
          "contourcarpet": [
           {
            "colorbar": {
             "outlinewidth": 0,
             "ticks": ""
            },
            "type": "contourcarpet"
           }
          ],
          "heatmap": [
           {
            "colorbar": {
             "outlinewidth": 0,
             "ticks": ""
            },
            "colorscale": [
             [
              0,
              "#0d0887"
             ],
             [
              0.1111111111111111,
              "#46039f"
             ],
             [
              0.2222222222222222,
              "#7201a8"
             ],
             [
              0.3333333333333333,
              "#9c179e"
             ],
             [
              0.4444444444444444,
              "#bd3786"
             ],
             [
              0.5555555555555556,
              "#d8576b"
             ],
             [
              0.6666666666666666,
              "#ed7953"
             ],
             [
              0.7777777777777778,
              "#fb9f3a"
             ],
             [
              0.8888888888888888,
              "#fdca26"
             ],
             [
              1,
              "#f0f921"
             ]
            ],
            "type": "heatmap"
           }
          ],
          "histogram": [
           {
            "marker": {
             "pattern": {
              "fillmode": "overlay",
              "size": 10,
              "solidity": 0.2
             }
            },
            "type": "histogram"
           }
          ],
          "histogram2d": [
           {
            "colorbar": {
             "outlinewidth": 0,
             "ticks": ""
            },
            "colorscale": [
             [
              0,
              "#0d0887"
             ],
             [
              0.1111111111111111,
              "#46039f"
             ],
             [
              0.2222222222222222,
              "#7201a8"
             ],
             [
              0.3333333333333333,
              "#9c179e"
             ],
             [
              0.4444444444444444,
              "#bd3786"
             ],
             [
              0.5555555555555556,
              "#d8576b"
             ],
             [
              0.6666666666666666,
              "#ed7953"
             ],
             [
              0.7777777777777778,
              "#fb9f3a"
             ],
             [
              0.8888888888888888,
              "#fdca26"
             ],
             [
              1,
              "#f0f921"
             ]
            ],
            "type": "histogram2d"
           }
          ],
          "histogram2dcontour": [
           {
            "colorbar": {
             "outlinewidth": 0,
             "ticks": ""
            },
            "colorscale": [
             [
              0,
              "#0d0887"
             ],
             [
              0.1111111111111111,
              "#46039f"
             ],
             [
              0.2222222222222222,
              "#7201a8"
             ],
             [
              0.3333333333333333,
              "#9c179e"
             ],
             [
              0.4444444444444444,
              "#bd3786"
             ],
             [
              0.5555555555555556,
              "#d8576b"
             ],
             [
              0.6666666666666666,
              "#ed7953"
             ],
             [
              0.7777777777777778,
              "#fb9f3a"
             ],
             [
              0.8888888888888888,
              "#fdca26"
             ],
             [
              1,
              "#f0f921"
             ]
            ],
            "type": "histogram2dcontour"
           }
          ],
          "mesh3d": [
           {
            "colorbar": {
             "outlinewidth": 0,
             "ticks": ""
            },
            "type": "mesh3d"
           }
          ],
          "parcoords": [
           {
            "line": {
             "colorbar": {
              "outlinewidth": 0,
              "ticks": ""
             }
            },
            "type": "parcoords"
           }
          ],
          "pie": [
           {
            "automargin": true,
            "type": "pie"
           }
          ],
          "scatter": [
           {
            "fillpattern": {
             "fillmode": "overlay",
             "size": 10,
             "solidity": 0.2
            },
            "type": "scatter"
           }
          ],
          "scatter3d": [
           {
            "line": {
             "colorbar": {
              "outlinewidth": 0,
              "ticks": ""
             }
            },
            "marker": {
             "colorbar": {
              "outlinewidth": 0,
              "ticks": ""
             }
            },
            "type": "scatter3d"
           }
          ],
          "scattercarpet": [
           {
            "marker": {
             "colorbar": {
              "outlinewidth": 0,
              "ticks": ""
             }
            },
            "type": "scattercarpet"
           }
          ],
          "scattergeo": [
           {
            "marker": {
             "colorbar": {
              "outlinewidth": 0,
              "ticks": ""
             }
            },
            "type": "scattergeo"
           }
          ],
          "scattergl": [
           {
            "marker": {
             "colorbar": {
              "outlinewidth": 0,
              "ticks": ""
             }
            },
            "type": "scattergl"
           }
          ],
          "scattermap": [
           {
            "marker": {
             "colorbar": {
              "outlinewidth": 0,
              "ticks": ""
             }
            },
            "type": "scattermap"
           }
          ],
          "scattermapbox": [
           {
            "marker": {
             "colorbar": {
              "outlinewidth": 0,
              "ticks": ""
             }
            },
            "type": "scattermapbox"
           }
          ],
          "scatterpolar": [
           {
            "marker": {
             "colorbar": {
              "outlinewidth": 0,
              "ticks": ""
             }
            },
            "type": "scatterpolar"
           }
          ],
          "scatterpolargl": [
           {
            "marker": {
             "colorbar": {
              "outlinewidth": 0,
              "ticks": ""
             }
            },
            "type": "scatterpolargl"
           }
          ],
          "scatterternary": [
           {
            "marker": {
             "colorbar": {
              "outlinewidth": 0,
              "ticks": ""
             }
            },
            "type": "scatterternary"
           }
          ],
          "surface": [
           {
            "colorbar": {
             "outlinewidth": 0,
             "ticks": ""
            },
            "colorscale": [
             [
              0,
              "#0d0887"
             ],
             [
              0.1111111111111111,
              "#46039f"
             ],
             [
              0.2222222222222222,
              "#7201a8"
             ],
             [
              0.3333333333333333,
              "#9c179e"
             ],
             [
              0.4444444444444444,
              "#bd3786"
             ],
             [
              0.5555555555555556,
              "#d8576b"
             ],
             [
              0.6666666666666666,
              "#ed7953"
             ],
             [
              0.7777777777777778,
              "#fb9f3a"
             ],
             [
              0.8888888888888888,
              "#fdca26"
             ],
             [
              1,
              "#f0f921"
             ]
            ],
            "type": "surface"
           }
          ],
          "table": [
           {
            "cells": {
             "fill": {
              "color": "#EBF0F8"
             },
             "line": {
              "color": "white"
             }
            },
            "header": {
             "fill": {
              "color": "#C8D4E3"
             },
             "line": {
              "color": "white"
             }
            },
            "type": "table"
           }
          ]
         },
         "layout": {
          "annotationdefaults": {
           "arrowcolor": "#2a3f5f",
           "arrowhead": 0,
           "arrowwidth": 1
          },
          "autotypenumbers": "strict",
          "coloraxis": {
           "colorbar": {
            "outlinewidth": 0,
            "ticks": ""
           }
          },
          "colorscale": {
           "diverging": [
            [
             0,
             "#8e0152"
            ],
            [
             0.1,
             "#c51b7d"
            ],
            [
             0.2,
             "#de77ae"
            ],
            [
             0.3,
             "#f1b6da"
            ],
            [
             0.4,
             "#fde0ef"
            ],
            [
             0.5,
             "#f7f7f7"
            ],
            [
             0.6,
             "#e6f5d0"
            ],
            [
             0.7,
             "#b8e186"
            ],
            [
             0.8,
             "#7fbc41"
            ],
            [
             0.9,
             "#4d9221"
            ],
            [
             1,
             "#276419"
            ]
           ],
           "sequential": [
            [
             0,
             "#0d0887"
            ],
            [
             0.1111111111111111,
             "#46039f"
            ],
            [
             0.2222222222222222,
             "#7201a8"
            ],
            [
             0.3333333333333333,
             "#9c179e"
            ],
            [
             0.4444444444444444,
             "#bd3786"
            ],
            [
             0.5555555555555556,
             "#d8576b"
            ],
            [
             0.6666666666666666,
             "#ed7953"
            ],
            [
             0.7777777777777778,
             "#fb9f3a"
            ],
            [
             0.8888888888888888,
             "#fdca26"
            ],
            [
             1,
             "#f0f921"
            ]
           ],
           "sequentialminus": [
            [
             0,
             "#0d0887"
            ],
            [
             0.1111111111111111,
             "#46039f"
            ],
            [
             0.2222222222222222,
             "#7201a8"
            ],
            [
             0.3333333333333333,
             "#9c179e"
            ],
            [
             0.4444444444444444,
             "#bd3786"
            ],
            [
             0.5555555555555556,
             "#d8576b"
            ],
            [
             0.6666666666666666,
             "#ed7953"
            ],
            [
             0.7777777777777778,
             "#fb9f3a"
            ],
            [
             0.8888888888888888,
             "#fdca26"
            ],
            [
             1,
             "#f0f921"
            ]
           ]
          },
          "colorway": [
           "#636efa",
           "#EF553B",
           "#00cc96",
           "#ab63fa",
           "#FFA15A",
           "#19d3f3",
           "#FF6692",
           "#B6E880",
           "#FF97FF",
           "#FECB52"
          ],
          "font": {
           "color": "#2a3f5f"
          },
          "geo": {
           "bgcolor": "white",
           "lakecolor": "white",
           "landcolor": "#E5ECF6",
           "showlakes": true,
           "showland": true,
           "subunitcolor": "white"
          },
          "hoverlabel": {
           "align": "left"
          },
          "hovermode": "closest",
          "mapbox": {
           "style": "light"
          },
          "paper_bgcolor": "white",
          "plot_bgcolor": "#E5ECF6",
          "polar": {
           "angularaxis": {
            "gridcolor": "white",
            "linecolor": "white",
            "ticks": ""
           },
           "bgcolor": "#E5ECF6",
           "radialaxis": {
            "gridcolor": "white",
            "linecolor": "white",
            "ticks": ""
           }
          },
          "scene": {
           "xaxis": {
            "backgroundcolor": "#E5ECF6",
            "gridcolor": "white",
            "gridwidth": 2,
            "linecolor": "white",
            "showbackground": true,
            "ticks": "",
            "zerolinecolor": "white"
           },
           "yaxis": {
            "backgroundcolor": "#E5ECF6",
            "gridcolor": "white",
            "gridwidth": 2,
            "linecolor": "white",
            "showbackground": true,
            "ticks": "",
            "zerolinecolor": "white"
           },
           "zaxis": {
            "backgroundcolor": "#E5ECF6",
            "gridcolor": "white",
            "gridwidth": 2,
            "linecolor": "white",
            "showbackground": true,
            "ticks": "",
            "zerolinecolor": "white"
           }
          },
          "shapedefaults": {
           "line": {
            "color": "#2a3f5f"
           }
          },
          "ternary": {
           "aaxis": {
            "gridcolor": "white",
            "linecolor": "white",
            "ticks": ""
           },
           "baxis": {
            "gridcolor": "white",
            "linecolor": "white",
            "ticks": ""
           },
           "bgcolor": "#E5ECF6",
           "caxis": {
            "gridcolor": "white",
            "linecolor": "white",
            "ticks": ""
           }
          },
          "title": {
           "x": 0.05
          },
          "xaxis": {
           "automargin": true,
           "gridcolor": "white",
           "linecolor": "white",
           "ticks": "",
           "title": {
            "standoff": 15
           },
           "zerolinecolor": "white",
           "zerolinewidth": 2
          },
          "yaxis": {
           "automargin": true,
           "gridcolor": "white",
           "linecolor": "white",
           "ticks": "",
           "title": {
            "standoff": 15
           },
           "zerolinecolor": "white",
           "zerolinewidth": 2
          }
         }
        },
        "title": {
         "text": "Customer Distribution Analysis by US State (Per Capita Metrics)",
         "x": 0.5
        },
        "width": 1400,
        "xaxis": {
         "anchor": "y",
         "domain": [
          0,
          0.45
         ],
         "tickangle": 45,
         "title": {
          "text": "State"
         }
        },
        "xaxis2": {
         "anchor": "y2",
         "domain": [
          0.55,
          1
         ],
         "title": {
          "text": "State Population"
         },
         "type": "log"
        },
        "xaxis3": {
         "anchor": "y3",
         "domain": [
          0,
          0.45
         ],
         "tickangle": 45,
         "title": {
          "text": "State"
         }
        },
        "yaxis": {
         "anchor": "x",
         "domain": [
          0.56,
          1
         ],
         "title": {
          "text": "Customers per 100k"
         }
        },
        "yaxis2": {
         "anchor": "x2",
         "domain": [
          0.56,
          1
         ],
         "title": {
          "text": "Customer Count"
         },
         "type": "log"
        },
        "yaxis3": {
         "anchor": "x3",
         "domain": [
          0,
          0.44
         ],
         "title": {
          "text": "Spending per Capita ($)"
         }
        }
       }
      }
     },
     "metadata": {},
     "output_type": "display_data"
    },
    {
     "name": "stdout",
     "output_type": "stream",
     "text": [
      "\n",
      "=== DETAILED ANALYSIS ===\n",
      "\n",
      "Top 5 States by Customers per 100k Population:\n",
      "Wyoming: 3349.57 customers per 100k people\n",
      "North Dakota: 1897.85 customers per 100k people\n",
      "Vermont: 1829.95 customers per 100k people\n",
      "West Virginia: 1432.28 customers per 100k people\n",
      "South Dakota: 1389.92 customers per 100k people\n",
      "\n",
      "Top 5 States by Spending per Capita:\n",
      "Wyoming: $2.54 per person\n",
      "Vermont: $1.50 per person\n",
      "North Dakota: $1.24 per person\n",
      "West Virginia: $1.01 per person\n",
      "South Dakota: $0.98 per person\n",
      "\n",
      "States with Highest Market Penetration (customers/population ratio):\n",
      "Wyoming: 3.3496% of population are customers\n",
      "North Dakota: 1.8978% of population are customers\n",
      "Vermont: 1.8300% of population are customers\n",
      "\n",
      "Potentially Underserved Large Markets (High population, Low customers per capita):\n",
      "Maryland: 6,177,224 people, 424.03 customers per 100k\n",
      "New York: 20,201,249 people, 413.35 customers per 100k\n",
      "Indiana: 6,785,528 people, 406.45 customers per 100k\n",
      "Ohio: 11,799,448 people, 393.92 customers per 100k\n",
      "Virginia: 8,631,393 people, 338.88 customers per 100k\n",
      "Illinois: 12,812,508 people, 337.58 customers per 100k\n",
      "Texas: 29,145,505 people, 325.53 customers per 100k\n",
      "North Carolina: 10,439,388 people, 289.92 customers per 100k\n",
      "New Jersey: 9,288,994 people, 264.86 customers per 100k\n",
      "Tennessee: 6,910,840 people, 254.01 customers per 100k\n",
      "Washington: 7,705,281 people, 245.60 customers per 100k\n",
      "Georgia: 10,711,908 people, 243.31 customers per 100k\n",
      "Colorado: 5,773,714 people, 240.40 customers per 100k\n",
      "Florida: 21,538,187 people, 198.12 customers per 100k\n",
      "Massachusetts: 7,001,399 people, 176.76 customers per 100k\n",
      "Arizona: 7,151,502 people, 150.60 customers per 100k\n",
      "California: 39,538,223 people, 142.55 customers per 100k\n",
      "\n",
      "=== MARKET OPPORTUNITY ANALYSIS ===\n",
      "Average customers per 100k across all states: 617.23\n",
      "\n",
      "Top Expansion Opportunities (if all states reached average penetration):\n",
      "California: 187683 additional customers potential\n",
      "Florida: 90270 additional customers potential\n",
      "Texas: 85020 additional customers potential\n",
      "New York: 41188 additional customers potential\n",
      "Georgia: 40054 additional customers potential\n"
     ]
    }
   ],
   "source": [
    "import pandas as pd\n",
    "import plotly.express as px\n",
    "import plotly.graph_objects as go\n",
    "from plotly.subplots import make_subplots\n",
    "import pyspark.sql.functions as sf\n",
    "from pyspark.sql.types import *\n",
    "\n",
    "# US State Population Data (2020 Census)\n",
    "us_state_population = {\n",
    "    'state': ['AL', 'AK', 'AZ', 'AR', 'CA', 'CO', 'CT', 'DE', 'FL', 'GA', 'HI', 'ID', 'IL', 'IN', 'IA', 'KS', 'KY', 'LA', 'ME', 'MD', 'MA', 'MI', 'MN', 'MS', 'MO', 'MT', 'NE', 'NV', 'NH', 'NJ', 'NM', 'NY', 'NC', 'ND', 'OH', 'OK', 'OR', 'PA', 'RI', 'SC', 'SD', 'TN', 'TX', 'UT', 'VT', 'VA', 'WA', 'WV', 'WI', 'WY'],\n",
    "    'state_name': ['Alabama', 'Alaska', 'Arizona', 'Arkansas', 'California', 'Colorado', 'Connecticut', 'Delaware', 'Florida', 'Georgia', 'Hawaii', 'Idaho', 'Illinois', 'Indiana', 'Iowa', 'Kansas', 'Kentucky', 'Louisiana', 'Maine', 'Maryland', 'Massachusetts', 'Michigan', 'Minnesota', 'Mississippi', 'Missouri', 'Montana', 'Nebraska', 'Nevada', 'New Hampshire', 'New Jersey', 'New Mexico', 'New York', 'North Carolina', 'North Dakota', 'Ohio', 'Oklahoma', 'Oregon', 'Pennsylvania', 'Rhode Island', 'South Carolina', 'South Dakota', 'Tennessee', 'Texas', 'Utah', 'Vermont', 'Virginia', 'Washington', 'West Virginia', 'Wisconsin', 'Wyoming'],\n",
    "    'population_2020': [5024279, 733391, 7151502, 3011524, 39538223, 5773714, 3605944, 989948, 21538187, 10711908, 1455271, 1839106, 12812508, 6785528, 3190369, 2937880, 4505836, 4657757, 1395722, 6177224, 7001399, 10037261, 5737915, 2961279, 6196010, 1084225, 1961504, 3104614, 1377529, 9288994, 2117522, 20201249, 10439388, 779094, 11799448, 3959353, 4237256, 13002700, 1097379, 5118425, 886667, 6910840, 29145505, 3271616, 643077, 8631393, 7705281, 1793716, 5893718, 576851]\n",
    "}\n",
    "\n",
    "# Create population DataFrame\n",
    "pop_df = pd.DataFrame(us_state_population)\n",
    "pop_spark_df = spark.createDataFrame(pop_df)\n",
    "\n",
    "print(\"US State Population Data (2020 Census):\")\n",
    "pop_spark_df.show(10)\n",
    "\n",
    "# Calculate customers per state from your transaction data\n",
    "customers_by_state = df_cleaned.groupBy(\"state\").agg(\n",
    "    sf.countDistinct(\"Unnamed: 0\").alias(\"customer_count\"),  # Using transaction ID as proxy for customers\n",
    "    sf.count(\"*\").alias(\"total_transactions\"),\n",
    "    sf.avg(\"amt\").alias(\"avg_transaction_amount\"),\n",
    "    sf.sum(\"amt\").alias(\"total_spending\")\n",
    ").orderBy(sf.desc(\"customer_count\"))\n",
    "\n",
    "print(\"\\nTop 10 States by Customer Count:\")\n",
    "customers_by_state.show(10)\n",
    "\n",
    "# Join with population data\n",
    "customer_population_joined = customers_by_state.join(\n",
    "    pop_spark_df, \n",
    "    customers_by_state.state == pop_spark_df.state, \n",
    "    \"inner\"\n",
    ").select(\n",
    "    customers_by_state.state,\n",
    "    pop_spark_df.state_name,\n",
    "    pop_spark_df.population_2020,\n",
    "    customers_by_state.customer_count,\n",
    "    customers_by_state.total_transactions,\n",
    "    customers_by_state.avg_transaction_amount,\n",
    "    customers_by_state.total_spending\n",
    ")\n",
    "\n",
    "# Calculate customers per capita (per 100,000 people)\n",
    "customer_per_capita = customer_population_joined.withColumn(\n",
    "    \"customers_per_100k\",\n",
    "    (sf.col(\"customer_count\") / sf.col(\"population_2020\")) * 100000\n",
    ").withColumn(\n",
    "    \"transactions_per_100k\", \n",
    "    (sf.col(\"total_transactions\") / sf.col(\"population_2020\")) * 100000\n",
    ").withColumn(\n",
    "    \"spending_per_capita\",\n",
    "    sf.col(\"total_spending\") / sf.col(\"population_2020\")\n",
    ")\n",
    "\n",
    "# Convert to Pandas for visualization\n",
    "analysis_df = customer_per_capita.toPandas()\n",
    "\n",
    "print(f\"\\nCustomer Per Capita Analysis:\")\n",
    "print(f\"Total states with data: {len(analysis_df)}\")\n",
    "print(f\"Highest customers per 100k: {analysis_df['state_name'].iloc[analysis_df['customers_per_100k'].idxmax()]} ({analysis_df['customers_per_100k'].max():.2f})\")\n",
    "print(f\"Lowest customers per 100k: {analysis_df['state_name'].iloc[analysis_df['customers_per_100k'].idxmin()]} ({analysis_df['customers_per_100k'].min():.2f})\")\n",
    "\n",
    "# Sort by customers per capita for better visualization\n",
    "analysis_df = analysis_df.sort_values('customers_per_100k', ascending=False)\n",
    "\n",
    "# Create subplot figure with multiple visualizations\n",
    "fig = make_subplots(\n",
    "    rows=2, cols=2,\n",
    "    subplot_titles=('Customers Per 100k Population by State', 'Customer Count vs State Population', \n",
    "                   'Spending Per Capita by State', 'Geographic Distribution'),\n",
    "    specs=[[{\"type\": \"bar\"}, {\"type\": \"scatter\"}],\n",
    "           [{\"type\": \"bar\"}, {\"type\": \"geo\"}]],\n",
    "    vertical_spacing=0.12,\n",
    "    horizontal_spacing=0.1\n",
    ")\n",
    "\n",
    "# 1. Bar chart of customers per 100k\n",
    "fig.add_trace(\n",
    "    go.Bar(\n",
    "        x=analysis_df['state'],\n",
    "        y=analysis_df['customers_per_100k'],\n",
    "        name='Customers per 100k',\n",
    "        marker_color='lightblue',\n",
    "        text=[f\"{val:.1f}\" for val in analysis_df['customers_per_100k']],\n",
    "        textposition='outside'\n",
    "    ),\n",
    "    row=1, col=1\n",
    ")\n",
    "\n",
    "# 2. Scatter plot: Customer count vs Population\n",
    "fig.add_trace(\n",
    "    go.Scatter(\n",
    "        x=analysis_df['population_2020'],\n",
    "        y=analysis_df['customer_count'],\n",
    "        mode='markers+text',\n",
    "        text=analysis_df['state'],\n",
    "        textposition='top center',\n",
    "        name='Customer Count vs Population',\n",
    "        marker=dict(\n",
    "            size=analysis_df['customers_per_100k']/2,  # Size based on per capita\n",
    "            color=analysis_df['customers_per_100k'],\n",
    "            colorscale='Viridis',\n",
    "            showscale=True,\n",
    "            colorbar=dict(title=\"Customers per 100k\")\n",
    "        )\n",
    "    ),\n",
    "    row=1, col=2\n",
    ")\n",
    "\n",
    "# 3. Spending per capita bar chart\n",
    "fig.add_trace(\n",
    "    go.Bar(\n",
    "        x=analysis_df['state'],\n",
    "        y=analysis_df['spending_per_capita'],\n",
    "        name='Spending per Capita',\n",
    "        marker_color='lightcoral',\n",
    "        text=[f\"${val:.0f}\" for val in analysis_df['spending_per_capita']],\n",
    "        textposition='outside'\n",
    "    ),\n",
    "    row=2, col=1\n",
    ")\n",
    "\n",
    "# 4. Geographic choropleth map\n",
    "fig.add_trace(\n",
    "    go.Choropleth(\n",
    "        locations=analysis_df['state'],\n",
    "        z=analysis_df['customers_per_100k'],\n",
    "        locationmode='USA-states',\n",
    "        colorscale='Blues',\n",
    "        text=analysis_df['state_name'],\n",
    "        colorbar=dict(title=\"Customers per 100k\", x=1.02),\n",
    "        name='Geographic Distribution'\n",
    "    ),\n",
    "    row=2, col=2\n",
    ")\n",
    "\n",
    "# Update layout\n",
    "fig.update_layout(\n",
    "    title_text=\"Customer Distribution Analysis by US State (Per Capita Metrics)\",\n",
    "    title_x=0.5,\n",
    "    height=1000,\n",
    "    width=1400,\n",
    "    showlegend=False,\n",
    "    font=dict(size=10)\n",
    ")\n",
    "\n",
    "# Update geo layout for the map\n",
    "fig.update_geos(\n",
    "    scope=\"usa\",\n",
    "    projection_type=\"albers usa\",\n",
    "    row=2, col=2\n",
    ")\n",
    "\n",
    "# Update axis labels\n",
    "fig.update_xaxes(title_text=\"State\", row=1, col=1, tickangle=45)\n",
    "fig.update_yaxes(title_text=\"Customers per 100k\", row=1, col=1)\n",
    "\n",
    "fig.update_xaxes(title_text=\"State Population\", row=1, col=2, type=\"log\")\n",
    "fig.update_yaxes(title_text=\"Customer Count\", row=1, col=2, type=\"log\")\n",
    "\n",
    "fig.update_xaxes(title_text=\"State\", row=2, col=1, tickangle=45)\n",
    "fig.update_yaxes(title_text=\"Spending per Capita ($)\", row=2, col=1)\n",
    "\n",
    "# Show the comprehensive analysis\n",
    "fig.show()\n",
    "\n",
    "# Print detailed analysis\n",
    "print(f\"\\n=== DETAILED ANALYSIS ===\")\n",
    "print(f\"\\nTop 5 States by Customers per 100k Population:\")\n",
    "for i, row in analysis_df.head().iterrows():\n",
    "    print(f\"{row['state_name']}: {row['customers_per_100k']:.2f} customers per 100k people\")\n",
    "\n",
    "print(f\"\\nTop 5 States by Spending per Capita:\")\n",
    "spending_sorted = analysis_df.sort_values('spending_per_capita', ascending=False)\n",
    "for i, row in spending_sorted.head().iterrows():\n",
    "    print(f\"{row['state_name']}: ${row['spending_per_capita']:.2f} per person\")\n",
    "\n",
    "print(f\"\\nStates with Highest Market Penetration (customers/population ratio):\")\n",
    "for i, row in analysis_df.head(3).iterrows():\n",
    "    penetration = (row['customer_count'] / row['population_2020']) * 100\n",
    "    print(f\"{row['state_name']}: {penetration:.4f}% of population are customers\")\n",
    "\n",
    "print(f\"\\nPotentially Underserved Large Markets (High population, Low customers per capita):\")\n",
    "underserved = analysis_df[(analysis_df['population_2020'] > 5000000) & \n",
    "                         (analysis_df['customers_per_100k'] < analysis_df['customers_per_100k'].median())]\n",
    "for i, row in underserved.iterrows():\n",
    "    print(f\"{row['state_name']}: {row['population_2020']:,} people, {row['customers_per_100k']:.2f} customers per 100k\")\n",
    "\n",
    "# Calculate market opportunity\n",
    "print(f\"\\n=== MARKET OPPORTUNITY ANALYSIS ===\")\n",
    "avg_customers_per_100k = analysis_df['customers_per_100k'].mean()\n",
    "print(f\"Average customers per 100k across all states: {avg_customers_per_100k:.2f}\")\n",
    "\n",
    "analysis_df['market_gap'] = (avg_customers_per_100k - analysis_df['customers_per_100k']) * analysis_df['population_2020'] / 100000\n",
    "analysis_df['market_gap'] = analysis_df['market_gap'].clip(lower=0)  # Only positive gaps\n",
    "\n",
    "potential_markets = analysis_df[analysis_df['market_gap'] > 0].sort_values('market_gap', ascending=False)\n",
    "print(f\"\\nTop Expansion Opportunities (if all states reached average penetration):\")\n",
    "for i, row in potential_markets.head(5).iterrows():\n",
    "    print(f\"{row['state_name']}: {row['market_gap']:.0f} additional customers potential\")"
   ]
  },
  {
   "cell_type": "code",
   "execution_count": null,
   "id": "43ff98f2",
   "metadata": {},
   "outputs": [],
   "source": [
    "import pyspark.sql.functions as sf\n",
    "import plotly.express as px\n",
    "import plotly.graph_objects as go\n",
    "from plotly.subplots import make_subplots\n",
    "import pandas as pd\n",
    "\n",
    "def analyze_underserved_cities(df_cleaned, sample_fraction=0.1):\n",
    "    \"\"\"\n",
    "    Analyze if larger cities are being underserved by plotting:\n",
    "    1. Transaction count vs city population\n",
    "    2. Average transaction amount vs city population\n",
    "    3. Transaction density (transactions per capita) vs city population\n",
    "    4. Combined analysis showing potential underserved markets\n",
    "    \n",
    "    Args:\n",
    "        df_cleaned: PySpark DataFrame with transaction data\n",
    "        sample_fraction: Fraction of data to sample for performance (default 0.1)\n",
    "    \n",
    "    Returns:\n",
    "        plotly figure object\n",
    "    \"\"\"\n",
    "    \n",
    "    # Sample data for better performance if dataset is large\n",
    "    if sample_fraction < 1.0:\n",
    "        df_sample = df_cleaned.sample(fraction=sample_fraction, seed=42)\n",
    "        print(f\"Using {sample_fraction*100}% sample of the data for analysis\")\n",
    "    else:\n",
    "        df_sample = df_cleaned\n",
    "    \n",
    "    # Aggregate data by city population\n",
    "    city_analysis = df_sample.groupBy(\"city_pop\").agg(\n",
    "        sf.count(\"*\").alias(\"transaction_count\"),\n",
    "        sf.avg(\"amt\").alias(\"avg_transaction_amount\"),\n",
    "        sf.sum(\"amt\").alias(\"total_transaction_amount\"),\n",
    "        sf.countDistinct(\"city\").alias(\"num_cities\")  # In case multiple cities have same population\n",
    "    ).withColumn(\n",
    "        \"transactions_per_capita\", \n",
    "        sf.col(\"transaction_count\") / sf.col(\"city_pop\")\n",
    "    ).filter(\n",
    "        sf.col(\"city_pop\").isNotNull() & (sf.col(\"city_pop\") > 0)\n",
    "    ).orderBy(\"city_pop\")\n",
    "    \n",
    "    # Convert to Pandas for plotting\n",
    "    city_pandas = city_analysis.toPandas()\n",
    "    \n",
    "    # Create population bins for better visualization\n",
    "    city_pandas['pop_bin'] = pd.cut(city_pandas['city_pop'], \n",
    "                                   bins=10, \n",
    "                                   labels=[f'Bin {i+1}' for i in range(10)])\n",
    "    \n",
    "    # Create subplots\n",
    "    fig = make_subplots(\n",
    "        rows=2, cols=2,\n",
    "        subplot_titles=('Transaction Count vs City Population',\n",
    "                       'Avg Transaction Amount vs City Population', \n",
    "                       'Transactions Per Capita vs City Population',\n",
    "                       'Market Opportunity Analysis'),\n",
    "        specs=[[{\"secondary_y\": False}, {\"secondary_y\": False}],\n",
    "               [{\"secondary_y\": False}, {\"secondary_y\": True}]]\n",
    "    )\n",
    "    \n",
    "    # Plot 1: Transaction count vs city population\n",
    "    fig.add_trace(\n",
    "        go.Scatter(\n",
    "            x=city_pandas['city_pop'],\n",
    "            y=city_pandas['transaction_count'],\n",
    "            mode='markers',\n",
    "            name='Transaction Count',\n",
    "            marker=dict(\n",
    "                size=8,\n",
    "                color=city_pandas['transaction_count'],\n",
    "                colorscale='Blues',\n",
    "                showscale=False\n",
    "            ),\n",
    "            hovertemplate='<b>City Pop:</b> %{x}<br><b>Transactions:</b> %{y}<extra></extra>'\n",
    "        ),\n",
    "        row=1, col=1\n",
    "    )\n",
    "    \n",
    "    # Plot 2: Average transaction amount vs city population\n",
    "    fig.add_trace(\n",
    "        go.Scatter(\n",
    "            x=city_pandas['city_pop'],\n",
    "            y=city_pandas['avg_transaction_amount'],\n",
    "            mode='markers',\n",
    "            name='Avg Transaction Amount',\n",
    "            marker=dict(\n",
    "                size=8,\n",
    "                color=city_pandas['avg_transaction_amount'],\n",
    "                colorscale='Greens',\n",
    "                showscale=False\n",
    "            ),\n",
    "            hovertemplate='<b>City Pop:</b> %{x}<br><b>Avg Amount:</b> $%{y:.2f}<extra></extra>'\n",
    "        ),\n",
    "        row=1, col=2\n",
    "    )\n",
    "    \n",
    "    # Plot 3: Transactions per capita vs city population\n",
    "    fig.add_trace(\n",
    "        go.Scatter(\n",
    "            x=city_pandas['city_pop'],\n",
    "            y=city_pandas['transactions_per_capita'],\n",
    "            mode='markers',\n",
    "            name='Transactions Per Capita',\n",
    "            marker=dict(\n",
    "                size=8,\n",
    "                color=city_pandas['transactions_per_capita'],\n",
    "                colorscale='Reds',\n",
    "                showscale=False\n",
    "            ),\n",
    "            hovertemplate='<b>City Pop:</b> %{x}<br><b>Trans/Capita:</b> %{y:.6f}<extra></extra>'\n",
    "        ),\n",
    "        row=2, col=1\n",
    "    )\n",
    "    \n",
    "    # Plot 4: Market opportunity analysis - bubble chart\n",
    "    # Bubble size represents total transaction amount, color represents transactions per capita\n",
    "    fig.add_trace(\n",
    "        go.Scatter(\n",
    "            x=city_pandas['city_pop'],\n",
    "            y=city_pandas['transaction_count'],\n",
    "            mode='markers',\n",
    "            name='Market Opportunity',\n",
    "            marker=dict(\n",
    "                size=city_pandas['total_transaction_amount']/1000,  # Scale down for reasonable bubble size\n",
    "                sizemode='diameter',\n",
    "                sizemin=4,\n",
    "                color=city_pandas['transactions_per_capita'],\n",
    "                colorscale='RdYlBu_r',\n",
    "                showscale=True,\n",
    "                colorbar=dict(\n",
    "                    title=\"Trans/Capita\",\n",
    "                    x=1.02,\n",
    "                    len=0.5,\n",
    "                    y=0.25\n",
    "                ),\n",
    "                line=dict(width=1, color='black')\n",
    "            ),\n",
    "            hovertemplate='<b>City Pop:</b> %{x}<br>' +\n",
    "                         '<b>Transaction Count:</b> %{y}<br>' +\n",
    "                         '<b>Trans/Capita:</b> %{marker.color:.6f}<br>' +\n",
    "                         '<b>Total Amount:</b> $%{text}<extra></extra>',\n",
    "            text=[f'{amt:,.0f}' for amt in city_pandas['total_transaction_amount']]\n",
    "        ),\n",
    "        row=2, col=2\n",
    "    )\n",
    "    \n",
    "    # Update layout\n",
    "    fig.update_layout(\n",
    "        height=800,\n",
    "        title_text=\"City Population vs Transaction Activity Analysis - Identifying Underserved Markets\",\n",
    "        title_x=0.5,\n",
    "        showlegend=False,\n",
    "        template=\"plotly_white\"\n",
    "    )\n",
    "    \n",
    "    # Update x-axes\n",
    "    fig.update_xaxes(title_text=\"City Population\", row=1, col=1, type=\"log\")\n",
    "    fig.update_xaxes(title_text=\"City Population\", row=1, col=2, type=\"log\")\n",
    "    fig.update_xaxes(title_text=\"City Population\", row=2, col=1, type=\"log\")\n",
    "    fig.update_xaxes(title_text=\"City Population\", row=2, col=2, type=\"log\")\n",
    "    \n",
    "    # Update y-axes\n",
    "    fig.update_yaxes(title_text=\"Transaction Count\", row=1, col=1)\n",
    "    fig.update_yaxes(title_text=\"Avg Transaction Amount ($)\", row=1, col=2)\n",
    "    fig.update_yaxes(title_text=\"Transactions Per Capita\", row=2, col=1)\n",
    "    fig.update_yaxes(title_text=\"Transaction Count\", row=2, col=2)\n",
    "    \n",
    "    # Print insights\n",
    "    print(\"=== UNDERSERVED CITIES ANALYSIS ===\")\n",
    "    print(f\"Total cities analyzed: {len(city_pandas)}\")\n",
    "    \n",
    "    # Identify potentially underserved large cities\n",
    "    large_cities = city_pandas[city_pandas['city_pop'] > city_pandas['city_pop'].quantile(0.8)]\n",
    "    low_activity_large_cities = large_cities[\n",
    "        large_cities['transactions_per_capita'] < large_cities['transactions_per_capita'].median()\n",
    "    ]\n",
    "    \n",
    "    print(f\"\\nLarge cities (top 20% by population): {len(large_cities)}\")\n",
    "    print(f\"Large cities with below-median transaction activity: {len(low_activity_large_cities)}\")\n",
    "    \n",
    "    if len(low_activity_large_cities) > 0:\n",
    "        print(\"\\nPotentially underserved large cities:\")\n",
    "        for _, city in low_activity_large_cities.head(5).iterrows():\n",
    "            print(f\"  Population: {city['city_pop']:,} | \"\n",
    "                  f\"Trans/Capita: {city['transactions_per_capita']:.6f} | \"\n",
    "                  f\"Total Transactions: {city['transaction_count']:,}\")\n",
    "    \n",
    "    # Calculate correlation\n",
    "    correlation = city_pandas[['city_pop', 'transaction_count', 'transactions_per_capita']].corr()\n",
    "    print(f\"\\nCorrelation between city population and transaction count: {correlation.loc['city_pop', 'transaction_count']:.3f}\")\n",
    "    print(f\"Correlation between city population and transactions per capita: {correlation.loc['city_pop', 'transactions_per_capita']:.3f}\")\n",
    "    \n",
    "    return fig\n",
    "\n",
    "# Usage example:\n",
    "# fig = analyze_underserved_cities(df_cleaned, sample_fraction=0.1)\n",
    "# fig.show()\n",
    "\n",
    "def create_city_market_heatmap(df_cleaned, sample_fraction=0.1, use_percentile_range=True, percentile_cap=95):\n",
    "    \"\"\"\n",
    "    Create a geographic heatmap showing market penetration by city population.\n",
    "    \n",
    "    Args:\n",
    "        df_cleaned: PySpark DataFrame with transaction data\n",
    "        sample_fraction: Fraction of data to sample for performance\n",
    "        use_percentile_range: If True, cap the color scale at the specified percentile\n",
    "        percentile_cap: Percentile to cap the color scale (default 95th percentile)\n",
    "    \n",
    "    Returns:\n",
    "        plotly figure object\n",
    "    \"\"\"\n",
    "    \n",
    "    # Sample and aggregate data\n",
    "    if sample_fraction < 1.0:\n",
    "        df_sample = df_cleaned.sample(fraction=sample_fraction, seed=42)\n",
    "    else:\n",
    "        df_sample = df_cleaned\n",
    "    \n",
    "    # Aggregate by location\n",
    "    location_analysis = df_sample.groupBy(\"lat\", \"long\", \"city_pop\").agg(\n",
    "        sf.count(\"*\").alias(\"transaction_count\"),\n",
    "        sf.avg(\"amt\").alias(\"avg_transaction_amount\")\n",
    "    ).withColumn(\n",
    "        \"transactions_per_capita\",\n",
    "        sf.col(\"transaction_count\") / sf.col(\"city_pop\")\n",
    "    ).filter(\n",
    "        sf.col(\"city_pop\").isNotNull() & \n",
    "        sf.col(\"lat\").isNotNull() & \n",
    "        sf.col(\"long\").isNotNull() &\n",
    "        (sf.col(\"city_pop\") > 0)\n",
    "    )\n",
    "    \n",
    "    # Convert to Pandas\n",
    "    location_pandas = location_analysis.toPandas()\n",
    "    \n",
    "    # Handle outliers in color scale\n",
    "    if use_percentile_range:\n",
    "        color_max = location_pandas['transactions_per_capita'].quantile(percentile_cap/100)\n",
    "        color_min = location_pandas['transactions_per_capita'].quantile(0.05)  # 5th percentile as minimum\n",
    "        \n",
    "        # Cap the values for color mapping while preserving original values for hover\n",
    "        location_pandas['transactions_per_capita_capped'] = location_pandas['transactions_per_capita'].clip(\n",
    "            lower=color_min, upper=color_max\n",
    "        )\n",
    "        color_column = 'transactions_per_capita_capped'\n",
    "        \n",
    "        print(f\"Color scale range: {color_min:.6f} to {color_max:.6f} (5th to {percentile_cap}th percentile)\")\n",
    "        print(f\"Original range: {location_pandas['transactions_per_capita'].min():.6f} to {location_pandas['transactions_per_capita'].max():.6f}\")\n",
    "    else:\n",
    "        color_column = 'transactions_per_capita'\n",
    "        color_min = None\n",
    "        color_max = None\n",
    "    \n",
    "    # Create the heatmap\n",
    "    fig = px.scatter_mapbox(\n",
    "        location_pandas,\n",
    "        lat=\"lat\",\n",
    "        lon=\"long\",\n",
    "        size=\"city_pop\",\n",
    "        color=color_column,\n",
    "        hover_data={\n",
    "            \"city_pop\": \":,\",\n",
    "            \"transaction_count\": \":,\",\n",
    "            \"avg_transaction_amount\": \":.2f\",\n",
    "            \"transactions_per_capita\": \":.6f\"  # Always show original values in hover\n",
    "        },\n",
    "        color_continuous_scale=\"RdYlBu_r\",\n",
    "        size_max=50,\n",
    "        zoom=3,\n",
    "        title=f\"Geographic Distribution: City Population vs Transaction Activity<br><sub>Color scale capped at {percentile_cap}th percentile for better sensitivity</sub>\",\n",
    "        range_color=[color_min, color_max] if use_percentile_range else None\n",
    "    )\n",
    "    \n",
    "    fig.update_layout(\n",
    "        mapbox_style=\"open-street-map\",\n",
    "        height=600,\n",
    "        coloraxis_colorbar=dict(\n",
    "            title=\"Transactions Per Capita<br>(Capped Scale)\" if use_percentile_range else \"Transactions Per Capita\"\n",
    "        )\n",
    "    )\n",
    "    \n",
    "    return fig\n",
    "\n",
    "# Usage example with improved color sensitivity:\n",
    "# fig_map = create_city_market_heatmap(df_cleaned, sample_fraction=0.1, use_percentile_range=True, percentile_cap=95)\n",
    "# fig_map.show()\n",
    "\n",
    "# Alternative: Use 90th percentile for even more sensitivity\n",
    "fig_map = create_city_market_heatmap(df_cleaned, sample_fraction=0.1, use_percentile_range=True, percentile_cap=90)\n",
    "fig_map.show()\n",
    "\n",
    "fig_underserved = analyze_underserved_cities(df_cleaned, sample_fraction=0.1)\n",
    "fig_underserved.show()\n",
    "\n",
    "# Or disable capping to see the full range\n",
    "# fig_map = create_city_market_heatmap(df_cleaned, sample_fraction=0.1, use_percentile_range=False)\n",
    "# fig_map.show()\n"
   ]
  },
  {
   "cell_type": "markdown",
   "id": "22154d14",
   "metadata": {},
   "source": [
    "Interactive Map overlaying the heatmap and the population distribution to find out underserved markets\n"
   ]
  },
  {
   "cell_type": "code",
   "execution_count": null,
   "id": "1e6ec487",
   "metadata": {},
   "outputs": [],
   "source": [
    "import os\n",
    "\n",
    "pandas_df = df_cleaned.select([\"lat\", \"long\", \"amt\"]).toPandas()\n",
    "\n",
    "print(f'Pandas dataframe shape: {pandas_df.shape}')\n",
    "\n",
    "heat_data = pandas_df.to_numpy().tolist()\n",
    "\n",
    "if not pandas_df.empty:\n",
    "    map_center = [pandas_df.lat.mean(), pandas_df.long.mean()]\n",
    "else:\n",
    "    map_center = [0, 0]\n"
   ]
  },
  {
   "cell_type": "code",
   "execution_count": null,
   "id": "b05c2575",
   "metadata": {},
   "outputs": [],
   "source": [
    "import dash\n",
    "from dash import html\n",
    "from dash import dcc\n",
    "import plotly.express as px\n",
    "import folium\n",
    "from folium.plugins import HeatMap\n",
    "\n",
    "\n",
    "# Set the desired initial zoom level for the Folium map\n",
    "desired_zoom_level = 3\n",
    "m = folium.Map(location=map_center, zoom_start=desired_zoom_level, tiles=\"OpenStreetMap\")\n",
    "\n",
    "HeatMap(heat_data).add_to(m)\n",
    "\n",
    "assets_folder = 'assets'\n",
    "if not os.path.exists(assets_folder):\n",
    "    os.makedirs(assets_folder)\n",
    "folium_map_path = os.path.join(assets_folder, 'folium_heatmap.html')\n",
    "m.save(folium_map_path)\n",
    "print(f\"\\nFolium map saved to {folium_map_path}\")\n",
    "\n",
    "\n",
    "app = dash.Dash(__name__) \n",
    "\n",
    "app.layout = html.Div(\n",
    "    style={\n",
    "        'fontFamily': 'Inter, sans-serif',\n",
    "        'padding': '20px',\n",
    "        'backgroundColor': '#f8f9fa',\n",
    "        'minHeight': '100vh',\n",
    "        'display': 'flex',\n",
    "        'flexDirection': 'column',\n",
    "        'alignItems': 'center'\n",
    "    },\n",
    "    children=[\n",
    "        html.H1(\n",
    "            \"Geospatial Heatmap Dashboard\",\n",
    "            style={\n",
    "                'textAlign': 'center',\n",
    "                'color': '#343a40',\n",
    "                'marginBottom': '30px',\n",
    "                'fontSize': '2.5em',\n",
    "                'fontWeight': '600'\n",
    "            }\n",
    "        ),\n",
    "\n",
    "        html.Div(\n",
    "            style={\n",
    "                'display': 'flex',\n",
    "                'flexDirection': 'row',\n",
    "                'gap': '30px',\n",
    "                'flexWrap': 'wrap',\n",
    "                'justifyContent': 'center',\n",
    "                'width': '100%',\n",
    "                'maxWidth': '1200px'\n",
    "            },\n",
    "            children=[\n",
    "                # Left panel for the Folium Map and its Legend (THIS PART REMAINS UNCHANGED)\n",
    "                html.Div(\n",
    "                    style={\n",
    "                        'display': 'flex',\n",
    "                        'flexDirection': 'column',\n",
    "                        'flex': '1',\n",
    "                        'minWidth': '550px',\n",
    "                        'backgroundColor': 'white',\n",
    "                        'padding': '25px',\n",
    "                        'borderRadius': '12px',\n",
    "                        'boxShadow': '0 4px 12px rgba(0,0,0,0.1)',\n",
    "                        'border': '1px solid #e0e0e0'\n",
    "                    },\n",
    "                    children=[\n",
    "                        html.H2(\n",
    "                            \"Expenditure Heatmap\",\n",
    "                            style={\n",
    "                                'textAlign': 'center',\n",
    "                                'color': '#495057',\n",
    "                                'marginBottom': '25px',\n",
    "                                'fontSize': '1.8em',\n",
    "                                'fontWeight': '500'\n",
    "                            }\n",
    "                        ),\n",
    "                        html.Div(\n",
    "                            style={\n",
    "                                'display': 'flex',\n",
    "                                'flexDirection': 'row',\n",
    "                                'gap': '25px',\n",
    "                                'justifyContent': 'center',\n",
    "                                'alignItems': 'center',\n",
    "                                'width': '100%'\n",
    "                            },\n",
    "                            children=[\n",
    "                                html.Div(\n",
    "                                    style={\n",
    "                                        'display': 'flex',\n",
    "                                        'flexDirection': 'column',\n",
    "                                        'alignItems': 'center',\n",
    "                                        'padding': '15px 10px',\n",
    "                                        'backgroundColor': '#f0f2f5',\n",
    "                                        'borderRadius': '8px',\n",
    "                                        'border': '1px solid #d0d0d0',\n",
    "                                        'height': '400px',\n",
    "                                        'justifyContent': 'space-between',\n",
    "                                        'minWidth': '90px',\n",
    "                                        'maxWidth': '120px',\n",
    "                                        'boxShadow': '0 2px 8px rgba(0,0,0,0.08)'\n",
    "                                    },\n",
    "                                    children=[\n",
    "                                        html.P(\n",
    "                                            \"Intensity\",\n",
    "                                            style={\n",
    "                                                'fontWeight': '600',\n",
    "                                                'marginBottom': '10px',\n",
    "                                                'textAlign': 'center',\n",
    "                                                'color': '#343a40',\n",
    "                                                'fontSize': '1.1em'\n",
    "                                            }\n",
    "                                        ),\n",
    "                                        html.Span(\n",
    "                                            f\"Max: ${max_amt:.2f}\",\n",
    "                                            style={\n",
    "                                                'fontSize': '0.95em',\n",
    "                                                'whiteSpace': 'nowrap',\n",
    "                                                'fontWeight': 'bold',\n",
    "                                                'color': '#dc3545'\n",
    "                                            }\n",
    "                                        ),\n",
    "                                        html.Div(\n",
    "                                            style={\n",
    "                                                'width': '25px',\n",
    "                                                'height': '200px',\n",
    "                                                'margin': '15px 0',\n",
    "                                                'background': 'linear-gradient(to bottom, #dc3545, #fd7e14, #ffc107, #28a745, #0011ff)',\n",
    "                                                'borderRadius': '5px',\n",
    "                                                'border': '1px solid #ccc'\n",
    "                                            }\n",
    "                                        ),\n",
    "                                        html.Span(\n",
    "                                            f\"Min: ${min_amt:.2f}\",\n",
    "                                            style={\n",
    "                                                'fontSize': '0.95em',\n",
    "                                                'whiteSpace': 'nowrap',\n",
    "                                                'fontWeight': 'bold',\n",
    "                                                'color': \"#0011ff\"\n",
    "                                            }\n",
    "                                        )\n",
    "                                    ]\n",
    "                                ),\n",
    "                                html.Iframe(\n",
    "                                    id='folium-map-iframe',\n",
    "                                    srcDoc=open(folium_map_path, 'r').read(),\n",
    "                                    style={\n",
    "                                        'flexGrow': '1',\n",
    "                                        'minWidth': '400px',\n",
    "                                        'height': '400px',\n",
    "                                        'border': 'none',\n",
    "                                        'borderRadius': '8px',\n",
    "                                        'boxShadow': '0 2px 8px rgba(0,0,0,0.08)'\n",
    "                                    }\n",
    "                                )\n",
    "                            ]\n",
    "                        )\n",
    "                    ]\n",
    "                ),\n",
    "\n",
    "                # # Right panel for the Scatter Map - MODIFIED SECTION\n",
    "                # html.Div(\n",
    "                #     style={\n",
    "                #         'display': 'flex',\n",
    "                #         'flexDirection': 'column',\n",
    "                #         'flex': '1',\n",
    "                #         'minWidth': '550px',\n",
    "                #         'backgroundColor': 'white',\n",
    "                #         'padding': '25px',\n",
    "                #         'borderRadius': '12px',\n",
    "                #         'boxShadow': '0 4px 12px rgba(0,0,0,0.1)',\n",
    "                #         'border': '1px solid #e0e0e0'\n",
    "                #     },\n",
    "                #     children=[\n",
    "                #         html.H2(\n",
    "                #             \"Scatter Map\",\n",
    "                #             style={\n",
    "                #                 'textAlign': 'center',\n",
    "                #                 'color': '#495057',\n",
    "                #                 'marginBottom': '25px',\n",
    "                #                 'fontSize': '1.8em',\n",
    "                #                 'fontWeight': '500'\n",
    "                #             }\n",
    "                #         ),\n",
    "                #         html.Div([ # This div just wraps the dcc.Graph\n",
    "                #             dcc.Graph(\n",
    "                #                 id='scatter-map',\n",
    "                #                 figure=scatter_map,\n",
    "                #                 style={'height': '450px', 'width': '100%'} # Explicitly set height and width\n",
    "                #             )\n",
    "                #         ],\n",
    "                #             style = { # Remove redundant flex properties here\n",
    "                #                 'width': '100%',\n",
    "                #                 'display': 'flex',\n",
    "                #                 'justifyContent': 'center', # Center the graph within its container\n",
    "                #                 'alignItems': 'center'\n",
    "                #             }\n",
    "                #         )\n",
    "                #     ]\n",
    "                # )\n",
    "            ]\n",
    "        )\n",
    "    ]\n",
    ")\n",
    "\n",
    "print(\"\\\\nRunning Dash application inline in Jupyter Notebook\")\n",
    "app.run(mode='inline', port=8050)"
   ]
  }
 ],
 "metadata": {
  "kernelspec": {
   "display_name": "paynet-test",
   "language": "python",
   "name": "python3"
  },
  "language_info": {
   "codemirror_mode": {
    "name": "ipython",
    "version": 3
   },
   "file_extension": ".py",
   "mimetype": "text/x-python",
   "name": "python",
   "nbconvert_exporter": "python",
   "pygments_lexer": "ipython3",
   "version": "3.12.11"
  }
 },
 "nbformat": 4,
 "nbformat_minor": 5
}
