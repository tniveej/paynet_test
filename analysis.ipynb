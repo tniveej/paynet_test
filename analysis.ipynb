{
 "cells": [
  {
   "cell_type": "markdown",
   "id": "30de7ff6",
   "metadata": {},
   "source": [
    "Importing Kaggle Dataset"
   ]
  },
  {
   "cell_type": "code",
   "execution_count": null,
   "id": "0004e312",
   "metadata": {},
   "outputs": [
    {
     "name": "stderr",
     "output_type": "stream",
     "text": [
      "/home/jeevin/miniconda3/envs/paynet-test/lib/python3.12/site-packages/tqdm/auto.py:21: TqdmWarning: IProgress not found. Please update jupyter and ipywidgets. See https://ipywidgets.readthedocs.io/en/stable/user_install.html\n",
      "  from .autonotebook import tqdm as notebook_tqdm\n"
     ]
    },
    {
     "name": "stdout",
     "output_type": "stream",
     "text": [
      "/home/jeevin/.cache/kagglehub/datasets/jinquan/cc-sample-data/versions/1\n"
     ]
    },
    {
     "name": "stderr",
     "output_type": "stream",
     "text": [
      "WARNING: Using incubator modules: jdk.incubator.vector\n",
      "Using Spark's default log4j profile: org/apache/spark/log4j2-defaults.properties\n",
      "25/07/22 03:46:30 WARN Utils: Your hostname, jeevin, resolves to a loopback address: 127.0.1.1; using 10.255.255.254 instead (on interface lo)\n",
      "25/07/22 03:46:30 WARN Utils: Set SPARK_LOCAL_IP if you need to bind to another address\n",
      "Using Spark's default log4j profile: org/apache/spark/log4j2-defaults.properties\n",
      "Setting default log level to \"WARN\".\n",
      "To adjust logging level use sc.setLogLevel(newLevel). For SparkR, use setLogLevel(newLevel).\n",
      "25/07/22 03:46:30 WARN NativeCodeLoader: Unable to load native-hadoop library for your platform... using builtin-java classes where applicable\n",
      "25/07/22 03:46:31 WARN Utils: Service 'SparkUI' could not bind on port 4040. Attempting port 4041.\n"
     ]
    }
   ],
   "source": [
    "from kagglehub import dataset_download\n",
    "#remove warnings\n",
    "import warnings\n",
    "warnings.filterwarnings(\"ignore\")\n",
    "\n",
    "from pyspark.sql import SparkSession\n",
    "import pyspark.sql.functions as sf\n",
    "from pyspark.sql.types import StructType, StructField, StringType, IntegerType, FloatType, LongType\n",
    "import re\n",
    "\n",
    "path: str = dataset_download(\"jinquan/cc-sample-data\")\n",
    "\n",
    "print(path)\n",
    "\n",
    "spark = SparkSession.builder.appName(\"payNet\").config('spark.driver.memory', '9g').getOrCreate()\n"
   ]
  },
  {
   "cell_type": "markdown",
   "id": "3a67be3f",
   "metadata": {},
   "source": [
    "Load JSON and clean up Data"
   ]
  },
  {
   "cell_type": "code",
   "execution_count": 3,
   "id": "d95900d2",
   "metadata": {},
   "outputs": [
    {
     "name": "stderr",
     "output_type": "stream",
     "text": [
      "25/07/22 03:46:39 WARN SparkStringUtils: Truncated the string representation of a plan since it was too large. This behavior can be adjusted by setting 'spark.sql.debug.maxToStringFields'.\n",
      "[Stage 1:>                                                          (0 + 1) / 1]\r"
     ]
    },
    {
     "name": "stdout",
     "output_type": "stream",
     "text": [
      "+----------+-------------------------+-------------------+----------------------------------+-------------+------+-----------+----------+------+------------------------------+------------------------+-----+-----+-------+---------+--------+---------------------------------------------+----------+--------------------------------+---------+-----------+--------+-------------+--------------------------------+--------------------------------+-----------+\n",
      "|Unnamed: 0|trans_date_trans_time    |cc_num             |merchant                          |category     |amt   |first      |last      |gender|street                        |city                    |state|zip  |lat    |long     |city_pop|job                                          |dob       |trans_num                       |merch_lat|merch_long |is_fraud|merch_zipcode|merch_last_update_time          |merch_eff_time                  |cc_bic     |\n",
      "+----------+-------------------------+-------------------+----------------------------------+-------------+------+-----------+----------+------+------------------------------+------------------------+-----+-----+-------+---------+--------+---------------------------------------------+----------+--------------------------------+---------+-----------+--------+-------------+--------------------------------+--------------------------------+-----------+\n",
      "|0         |2019-01-01 08:00:18 +0800|2703186189652095   |Rippin, Kub and Mann              |misc_net     |4.97  |Jennifer   |Banks     |F     |561 Perry Cove                |Moravian Falls          |NC   |28654|36.0788|-81.1781 |3495    |Psychologist, counselling                    |1988-03-09|0b242abb623afc578575680df30655b9|36.01129 |-82.04832  |0       |28705        |2012-01-01 16:00:18.666000 +0800|2012-01-01 16:00:18.798532 +0800|CITIUS33CHI|\n",
      "|1         |2019-01-01 08:00:44 +0800|630423337322       |Heller, Gutmann and Zieme         |grocery_pos  |107.23|Stephanie  |Gill      |F     |43039 Riley Greens Suite 393  |Orient                  |WA   |99160|48.8878|-118.2105|149     |Special educational needs teacher            |1978-06-21|1f76529f8574734946361c461b024d99|49.159046|-118.18646 |0       |NULL         |2012-01-01 16:00:44.790000 +0800|2012-01-01 16:00:44.867960 +0800|ADMDUS41   |\n",
      "|2         |2019-01-01 08:00:51 +0800|38859492057661     |Lind-Buckridge                    |entertainment|220.11|Edward     |Sanchez   |M     |594 White Dale Suite 530      |Malad City              |ID   |83252|42.1808|-112.262 |4154    |Nature conservation officer                  |1962-01-19|a1a22d70485983eac12b5b88dad1cf95|43.150703|-112.15448 |0       |83236        |2012-01-01 16:00:51.286000 +0800|2012-01-01 16:00:51.506840 +0800|NULL       |\n",
      "|3         |2019-01-01 08:01:16 +0800|3534093764340240   |Kutch, Hermiston and Farrell      |gas_transport|45.0  |Jeremy     |White     |M     |9443 Cynthia Court Apt. 038   |Boulder                 |MT   |59632|46.2306|-112.1138|1939    |Patent attorney                              |1967-01-12|6b849c168bdad6f867558c3793159a81|47.034332|-112.56107 |0       |NULL         |2012-01-01 16:01:16.365000 +0800|2012-01-01 16:01:16.794698 +0800|DEUTUS33TRF|\n",
      "|4         |2019-01-01 08:03:06 +0800|375534208663984    |Keeling-Crist                     |misc_pos     |41.96 |Tyler      |Garcia    |M     |408 Bradley Rest              |Doe Hill                |VA   |24433|38.4207|-79.4629 |99      |Dance movement psychotherapist               |1986-03-28|a41d7549acf90789359a9aa5346dcb46|38.675   |-78.63246  |0       |22844        |2012-01-01 16:03:06.810000 +0800|2012-01-01 16:03:06.746376 +0800|APBCUS61   |\n",
      "|5         |2019-01-01 08:04:08 +0800|4767265376804500   |Stroman, Hudson and Erdman        |gas_transport|94.63 |Jennifer   |Conner    |F     |4655 David Island             |Dublin                  |PA   |18917|40.375 |-75.2045 |2158    |Transport planner                            |1961-06-19|189a841a0a8ba03058526bcfe566aab5|40.65338 |-76.152664 |0       |17972        |2012-01-01 16:04:08.483000 +0800|2012-01-01 16:04:08.271406 +0800|APBCUS61   |\n",
      "|6         |2019-01-01 08:04:42 +0800|30074693890476     |Rowe-Vandervort                   |grocery_net  |44.54 |Kelsey     |Richards  |F     |889 Sarah Station Suite 624   |Holcomb                 |KS   |67851|37.9931|-100.9893|2691    |Arboriculturist                              |1993-08-16|83ec1cc84142af6e2acf10c44949e720|37.162704|-100.15337 |0       |NULL         |2012-01-01 16:04:42.247000 +0800|2012-01-01 16:04:42.274130 +0800|APBCUS61   |\n",
      "|7         |2019-01-01 08:05:08 +0800|6011360759745864   |Corwin-Collins                    |gas_transport|71.65 |Steven     |Williams  |M     |231 Flores Pass Suite 720     |Edinburg                |VA   |22824|38.8432|-78.6003 |6018    |Designer, multimedia                         |1947-08-21|6d294ed2cc447d2c71c7171a3d54967c|38.94809 |-78.5403   |0       |22644        |2012-01-01 16:05:08.152000 +0800|2012-01-01 16:05:08.837349 +0800|NULL       |\n",
      "|8         |2019-01-01 08:05:18 +0800|4922710831011201   |Herzog Ltd                        |misc_pos     |4.27  |Heather    |Chase     |F     |6888 Hicks Stream Suite 954   |Manor                   |PA   |15665|40.3359|-79.6607 |1472    |Public affairs consultant                    |1941-03-07|fc28024ce480f8ef21a32d64c93a29f5|40.351814|-79.958145 |0       |15236        |2012-01-01 16:05:18.278000 +0800|2012-01-01 16:05:18.245892 +0800|ACEEUS31   |\n",
      "|9         |2019-01-01 08:06:01 +0800|2720830304681674   |Schoen, Kuphal and Nitzsche       |grocery_pos  |198.39|Melissa    |Aguilar   |F     |21326 Taylor Squares Suite 708|Clarksville             |TN   |37040|36.522 |-87.349  |151785  |Pathologist                                  |1974-03-28|3b9014ea8fb80bd65de0b1463b00b00e|37.1792  |-87.48538  |0       |42442        |2012-01-01 16:06:01.857000 +0800|2012-01-01 16:06:01.965234 +0800|DEUTUS33TRF|\n",
      "|10        |2019-01-01 08:06:23 +0800|4642894980163      |Rutherford-Mertz                  |grocery_pos  |24.74 |Eddie      |Mendez    |M     |1831 Faith View Suite 653     |Clarinda                |IA   |51632|40.7491|-95.038  |7297    |IT trainer                                   |1990-07-13|d71c95ab6b7356dd74389d41df429c87|40.27589 |-96.01155  |0       |68348        |2012-01-01 16:06:23.455000 +0800|2012-01-01 16:06:23.967287 +0800|NULL       |\n",
      "|11        |2019-01-01 08:06:53 +0800|377234009633447    |Kerluke-Abshire                   |shopping_net |7.77  |Theresa    |Blackwell |F     |43576 Kristina Islands        |Shenandoah Junction     |WV   |25442|39.3716|-77.8229 |1925    |Systems developer                            |1966-02-14|3c74776e558f1499a7824b556e474b1d|40.103867|-78.62446  |0       |15554        |2012-01-01 16:06:53.859000 +0800|2012-01-01 16:06:53.912233 +0800|DEUTUS33TRF|\n",
      "|12        |2019-01-01 08:06:56 +0800|180042946491150    |Lockman Ltd                       |grocery_pos  |71.22 |Charles    |Robles    |M     |3337 Lisa Divide              |Saint Petersburg        |FL   |33710|27.7898|-82.7243 |341043  |Engineer, land                               |1989-02-28|c1d9a7ddb1e34639fe82758de97f4abf|27.630592|-82.30889  |0       |33598        |2012-01-01 16:06:56.443000 +0800|2012-01-01 16:06:56.569264 +0800|DEUTUS33TRF|\n",
      "|13        |2019-01-01 08:07:27 +0800|5559857416065248   |Kiehn Inc                         |grocery_pos  |96.29 |Jack       |Hill      |M     |5916 Susan Bridge Apt. 939    |Grenada                 |CA   |96038|41.6125|-122.5258|589     |Systems analyst                              |1945-12-21|413636e759663f264aae1819a4d4f231|41.65752 |-122.23035 |0       |NULL         |2012-01-01 16:07:27.771000 +0800|2012-01-01 16:07:27.442465 +0800|ACEEUS31   |\n",
      "|14        |2019-01-01 08:09:03 +0800|3514865930894695   |Beier-Hyatt                       |shopping_pos |7.77  |Christopher|Castaneda |M     |1632 Cohen Drive Suite 639    |High Rolls Mountain Park|NM   |88325|32.9396|-105.8189|899     |Naval architect                              |1967-08-30|8a6293af5ed278dea14448ded2685fea|32.86326 |-106.5202  |0       |NULL         |2012-01-01 16:09:03.282000 +0800|2012-01-01 16:09:03.991530 +0800|ACEEUS31   |\n",
      "|15        |2019-01-01 08:09:20 +0800|6011999606625827   |Schmidt and Sons                  |shopping_net |3.26  |Ronald     |Carson    |M     |870 Rocha Drive               |Harrington Park         |NJ   |7640 |40.9918|-73.98   |4664    |Radiographer, diagnostic                     |1965-06-30|baae0b096835c975857eea7e28dde3dc|41.831173|-74.335556 |0       |12446        |2012-01-01 16:09:20.435000 +0800|2012-01-01 16:09:20.448213 +0800|CITIUS33CHI|\n",
      "|16        |2019-01-01 08:10:49 +0800|6011860238257910   |Lebsack and Sons                  |misc_net     |327.0 |Lisa       |Mendez    |F     |44259 Beth Station Suite 215  |Lahoma                  |OK   |73754|36.385 |-98.0727 |1078    |Programme researcher, broadcasting/film/video|1952-07-06|991c04803b4d4eeab30d6245a872e3d3|36.38409 |-99.04847  |0       |73852        |2012-01-01 16:10:49.369000 +0800|2012-01-01 16:10:49.779770 +0800|CITIUS33CHI|\n",
      "|17        |2019-01-01 08:10:58 +0800|3565423334076143   |Mayert Group                      |shopping_pos |341.67|Nathan     |Thomas    |M     |4923 Campbell Pines Suite 717 |Carlisle                |IN   |47838|38.9763|-87.3667 |4081    |Energy engineer                              |1938-03-15|f12cf52be2175703db789a4644c32f25|38.67449 |-88.30576  |0       |62824        |2012-01-01 16:10:58.125000 +0800|2012-01-01 16:10:58.780653 +0800|NULL       |\n",
      "|18        |2019-01-01 08:11:14 +0800|2348245054386329   |Konopelski, Schneider and Hartmann|food_dining  |63.07 |Justin     |Gay       |M     |268 Hayes Rue Suite 811       |Harborcreek             |PA   |16421|42.1767|-79.9416 |2518    |Event organiser                              |1946-02-02|8500f3d459047eac8443307b1e8296e5|41.430275|-79.49255  |0       |16364        |2012-01-01 16:11:14.800000 +0800|2012-01-01 16:11:14.645606 +0800|APBCUS61   |\n",
      "|19        |2019-01-01 08:12:34 +0800|4956828990005111019|Schultz, Simonis and Little       |grocery_pos  |44.71 |Kenneth    |Robinson  |M     |269 Sanchez Rapids            |Elizabeth               |NJ   |7208 |40.6747|-74.2239 |124967  |Operational researcher                       |1980-12-21|09eff9c806365e2a6be12c1bbab3d70e|40.07959 |-74.84808  |0       |08016        |2012-01-01 16:12:34.863000 +0800|2012-01-01 16:12:34.332240 +0800|NULL       |\n",
      "|20        |2019-01-01 08:13:08 +0800|4469777115158234880|Bauch-Raynor                      |grocery_pos  |57.34 |Gregory    |Graham    |M     |4005 Dana Glens               |Methuen                 |MA   |1844 |42.728 |-71.181  |47249   |Market researcher                            |1980-11-22|139a1bee15be607d79fe173bfcb2502a|42.26876 |-71.2173   |0       |02492        |2012-01-01 16:13:08.881000 +0800|2012-01-01 16:13:08.679431 +0800|ADMDUS41   |\n",
      "|21        |2019-01-01 08:14:37 +0800|2305336922781618   |Harris Inc                        |gas_transport|50.79 |Jeffrey    |Rice      |M     |21447 Powell Circle           |Moulton                 |IA   |52572|40.6866|-92.6833 |1132    |Probation officer                            |1961-02-14|b9c4615bec3561c8e83b0c1d6c7028e2|40.18893 |-91.95512  |0       |63446        |2012-01-01 16:14:37.765000 +0800|2012-01-01 16:14:37.626507 +0800|NULL       |\n",
      "|22        |2019-01-01 08:17:16 +0800|180048185037117    |Kling-Grant                       |grocery_net  |46.28 |Mary       |Wall      |F     |2481 Mills Lock               |Plainfield              |NJ   |7060 |40.6152|-74.415  |71485   |Leisure centre manager                       |1974-07-19|19e23c6a300c774354417befe4f31f8c|40.02189 |-74.22819  |0       |08755        |2012-01-01 16:17:16.949000 +0800|2012-01-01 16:17:16.676252 +0800|DEUTUS33TRF|\n",
      "|23        |2019-01-01 08:17:40 +0800|630441765090       |Pacocha-Bauch                     |shopping_pos |9.55  |Susan      |Washington|F     |759 Erin Mount Suite 956      |May                     |TX   |76857|31.9571|-98.9656 |1791    |Corporate investment banker                  |1965-07-26|c4b4daebab8be54cadde4b941244ca53|31.62635 |-98.61022  |0       |76870        |2012-01-01 16:17:40.580000 +0800|2012-01-01 16:17:40.351163 +0800|APBCUS61   |\n",
      "|24        |2019-01-01 08:18:06 +0800|4428780983793657331|Lesch Ltd                         |shopping_pos |22.95 |Richard    |Waters    |M     |7683 Natasha Way Apt. 945     |Waukesha                |WI   |53186|42.9993|-88.2196 |95015   |Therapist, occupational                      |1946-01-02|d2432bfeabf142dc1bae1d426e32aecc|43.375042|-89.05506  |0       |53932        |2012-01-01 16:18:06.531000 +0800|2012-01-01 16:18:06.510394 +0800|DEUTUS33TRF|\n",
      "|25        |2019-01-01 08:18:07 +0800|343464013864032    |Kunde-Sanford                     |misc_net     |2.55  |Jodi       |Foster    |F     |551 Zachary Freeway           |Bailey                  |NC   |27807|35.8072|-78.0892 |6629    |Call centre manager                          |1962-08-13|abe0676c18f34fa305b113fa762e29b5|36.74987 |-78.67787  |0       |23964        |2012-01-01 16:18:07.760000 +0800|2012-01-01 16:18:07.223427 +0800|NULL       |\n",
      "|26        |2019-01-01 08:20:15 +0800|374930071163758    |Deckow-O'Conner                   |grocery_pos  |64.09 |Daniel     |Escobar   |M     |61390 Hayes Port              |Romulus                 |MI   |48174|42.2203|-83.3583 |31515   |Police officer                               |1971-11-05|6f363661ba6b55889e488dd178f2a0af|42.360428|-83.552315 |0       |48168        |2012-01-01 16:20:15.120000 +0800|2012-01-01 16:20:15.445010 +0800|DEUTUS33TRF|\n",
      "|27        |2019-01-01 08:21:32 +0800|4334230547694630   |Bruen-Yost                        |misc_pos     |6.85  |Scott      |Martin    |M     |7483 Navarro Flats            |Freedom                 |WY   |83120|43.0172|-111.0292|471     |Education officer, museum                    |1967-08-02|f3c43d336e92a44fc2fb67058d5949e3|43.753735|-111.454926|0       |83436        |2012-01-01 16:21:32.741000 +0800|2012-01-01 16:21:32.834523 +0800|AIABUS31   |\n",
      "|28        |2019-01-01 08:22:06 +0800|4225990116481262579|Kunze Inc                         |grocery_pos  |90.22 |Brian      |Simpson   |M     |2711 Duran Pines              |Honokaa                 |HI   |96727|20.0827|-155.488 |4878    |Physiotherapist                              |1966-12-03|95826e3caa9e0b905294c6dae985aec1|19.560013|-156.04588 |0       |96740        |2012-01-01 16:22:06.286000 +0800|2012-01-01 16:22:06.969473 +0800|NULL       |\n",
      "|29        |2019-01-01 08:22:18 +0800|4260059589824237   |Nitzsche, Kessler and Wolff       |shopping_pos |4.02  |Aaron      |Rogers    |M     |969 Huerta Path Apt. 270      |Valentine               |NE   |69201|42.8062|-100.6215|4005    |Network engineer                             |1945-03-15|20490f3f0966ce74b4aaba8dc2c4ed52|42.47559 |-101.26585 |0       |NULL         |2012-01-01 16:22:18.832000 +0800|2012-01-01 16:22:18.107571 +0800|DEUTUS33TRF|\n",
      "|30        |2019-01-01 08:22:36 +0800|180094608895855    |Kihn, Abernathy and Douglas       |shopping_net |3.66  |Tammie     |Harper    |F     |57887 Gutierrez Harbor        |Westfir                 |OR   |97492|43.7575|-122.481 |597     |Forensic psychologist                        |1961-05-19|870c92b288a974a2faf1f24b05c27e33|44.27819 |-121.81516 |0       |NULL         |2012-01-01 16:22:36.680000 +0800|2012-01-01 16:22:36.272892 +0800|APBCUS61   |\n",
      "|31        |2019-01-01 08:22:39 +0800|4599735407877245080|Heller, Gutmann and Zieme         |grocery_pos  |82.8  |Mary       |Myers     |F     |39787 Pamela Fall Suite 639   |Tiptonville             |TN   |38079|36.3846|-89.4649 |5577    |Geochemist                                   |1964-12-30|cb598ec00d349dc95e7b3c18de5ae800|36.294205|-89.81128  |0       |63879        |2012-01-01 16:22:39.494000 +0800|2012-01-01 16:22:39.352765 +0800|ACEEUS31   |\n",
      "|32        |2019-01-01 08:22:44 +0800|630412733309       |Torphy-Goyette                    |shopping_pos |66.21 |Heather    |Stanton   |F     |445 Jerry Lights Apt. 081     |Republic                |MI   |49879|46.368 |-87.9938 |1038    |Armed forces training and education officer  |1964-04-22|20f048d3907dbb9978e23bee7b7578ce|46.412037|-88.51666  |0       |49919        |2012-01-01 16:22:44.480000 +0800|2012-01-01 16:22:44.695761 +0800|ADMDUS41   |\n",
      "|33        |2019-01-01 08:23:41 +0800|2712209726293386   |Balistreri-Nader                  |misc_pos     |25.58 |Jenna      |Brooks    |F     |50872 Alex Plain Suite 088    |Baton Rouge             |LA   |70808|30.4066|-91.1468 |378909  |Designer, furniture                          |1977-02-22|1654da2abfb9e79a5f99167fc9779558|29.737427|-90.853195 |0       |70395        |2012-01-01 16:23:41.876000 +0800|2012-01-01 16:23:41.985581 +0800|DEUTUS33TRF|\n",
      "|34        |2019-01-01 08:23:58 +0800|374125201044065    |Bahringer, Schoen and Corkery     |shopping_pos |9.03  |Christopher|Gilbert   |M     |20937 Reed Lakes Apt. 271     |Washington              |DC   |20012|38.9757|-77.0282 |601723  |Optician, dispensing                         |1970-07-20|c733711c521c41c578f4a964d8350df0|38.880898|-76.44112  |0       |21037        |2012-01-01 16:23:58.200000 +0800|2012-01-01 16:23:58.990512 +0800|NULL       |\n",
      "|35        |2019-01-01 08:25:46 +0800|349612764943496    |Hudson-Ratke                      |grocery_pos  |99.0  |Xavier     |Beltran   |M     |61107 Edwards Dam Apt. 463    |Big Creek               |KY   |40914|37.1046|-83.5706 |467     |Psychologist, forensic                       |1984-06-04|7e2f9596cb3a3595ece15611ee338e5c|36.823544|-83.90104  |0       |40906        |2012-01-01 16:25:46.866000 +0800|2012-01-01 16:25:46.830950 +0800|NULL       |\n",
      "|36        |2019-01-01 08:26:22 +0800|3598215285024754   |Heidenreich PLC                   |grocery_pos  |207.36|Ashley     |Lopez     |F     |9333 Valentine Point          |Bellmore                |NY   |11710|40.6729|-73.5365 |34496   |Librarian, public                            |1970-10-21|f246ac27c09429ff1e385d4683c79c4d|40.202538|-73.859215 |0       |07720        |2012-01-01 16:26:22.231000 +0800|2012-01-01 16:26:22.383800 +0800|NULL       |\n",
      "|37        |2019-01-01 08:27:45 +0800|213141712584544    |Halvorson Group                   |misc_pos     |181.35|Margaret   |Curtis    |F     |742 Oneill Shore              |Florence                |MS   |39073|32.153 |-90.1217 |19685   |Fine artist                                  |1984-12-24|7bb25a43205191eb7344282b88fc54d3|31.939812|-90.72621  |0       |39086        |2012-01-01 16:27:45.278000 +0800|2012-01-01 16:27:45.385593 +0800|APBCUS61   |\n",
      "|38        |2019-01-01 08:27:56 +0800|30561214688470     |Harber Inc                        |gas_transport|82.22 |Gina       |Morrison  |F     |41851 Victor Drives Suite 219 |Allentown               |PA   |18103|40.5891|-75.4645 |166081  |Scientist, research (maths)                  |1998-10-01|61bcb858dd5c8e2d0d46d02b4fa0bf8e|40.58624 |-75.802246 |0       |19529        |2012-01-01 16:27:56.596000 +0800|2012-01-01 16:27:56.275314 +0800|CITIUS33CHI|\n",
      "|39        |2019-01-01 08:29:11 +0800|4789911625179723   |Mosciski, Gislason and Mertz      |grocery_pos  |221.81|Dorothy    |Zuniga    |F     |77321 Ford Via                |Moriches                |NY   |11955|40.8095|-72.8229 |3285    |Research officer, trade union                |1988-04-27|a8394c3e555166ce2f90eee628bd9ade|40.01196 |-72.59481  |0       |NULL         |2012-01-01 16:29:11.310000 +0800|2012-01-01 16:29:11.366893 +0800|ACEEUS31   |\n",
      "+----------+-------------------------+-------------------+----------------------------------+-------------+------+-----------+----------+------+------------------------------+------------------------+-----+-----+-------+---------+--------+---------------------------------------------+----------+--------------------------------+---------+-----------+--------+-------------+--------------------------------+--------------------------------+-----------+\n",
      "only showing top 40 rows\n",
      "root\n",
      " |-- Unnamed: 0: integer (nullable = true)\n",
      " |-- trans_date_trans_time: string (nullable = true)\n",
      " |-- cc_num: string (nullable = true)\n",
      " |-- merchant: string (nullable = true)\n",
      " |-- category: string (nullable = true)\n",
      " |-- amt: float (nullable = true)\n",
      " |-- first: string (nullable = true)\n",
      " |-- last: string (nullable = true)\n",
      " |-- gender: string (nullable = true)\n",
      " |-- street: string (nullable = true)\n",
      " |-- city: string (nullable = true)\n",
      " |-- state: string (nullable = true)\n",
      " |-- zip: string (nullable = true)\n",
      " |-- lat: float (nullable = true)\n",
      " |-- long: float (nullable = true)\n",
      " |-- city_pop: integer (nullable = true)\n",
      " |-- job: string (nullable = true)\n",
      " |-- dob: string (nullable = true)\n",
      " |-- trans_num: string (nullable = true)\n",
      " |-- merch_lat: float (nullable = true)\n",
      " |-- merch_long: float (nullable = true)\n",
      " |-- is_fraud: integer (nullable = true)\n",
      " |-- merch_zipcode: string (nullable = true)\n",
      " |-- merch_last_update_time: string (nullable = true)\n",
      " |-- merch_eff_time: string (nullable = true)\n",
      " |-- cc_bic: string (nullable = true)\n",
      "\n"
     ]
    },
    {
     "name": "stderr",
     "output_type": "stream",
     "text": [
      "                                                                                \r"
     ]
    }
   ],
   "source": [
    "# Read the JSON data from the file\n",
    "df = spark.read.json(path)\n",
    "\n",
    "def clean_json_string(json_str):\n",
    "    \"\"\"\n",
    "    Clean JSON string by:\n",
    "    1. Removing all backslashes\n",
    "    2. Removing quotes around JSON objects (e.g., \"{ }\" becomes { })\n",
    "    \"\"\"\n",
    "    if json_str is None:\n",
    "        return None\n",
    "    \n",
    "    # Remove all backslashes\n",
    "    cleaned = json_str.replace(\"\\\\\", \"\")\n",
    "    \n",
    "    # Remove quotes around JSON objects - pattern: \"{ ... }\"\n",
    "    # This regex finds quoted JSON objects and removes the outer quotes\n",
    "    cleaned = re.sub(r'\"\\s*\\{\\s*(.*?)\\s*\\}\\s*\"', r'{\\1}', cleaned)\n",
    "    \n",
    "    return cleaned\n",
    "\n",
    "# Register UDF\n",
    "clean_json_udf = sf.udf(clean_json_string, StringType())\n",
    "\n",
    "# Apply cleaning to the personal_detail column\n",
    "df = df.withColumn(\"personal_detail\", clean_json_udf(sf.col(\"personal_detail\")))\n",
    "\n",
    "# Define schema for address (nested within personal_detail) - all strings initially\n",
    "address_schema = StructType([\n",
    "    StructField(\"street\", StringType(), True),\n",
    "    StructField(\"city\", StringType(), True),\n",
    "    StructField(\"state\", StringType(), True),\n",
    "    StructField(\"zip\", StringType(), True)\n",
    "])\n",
    "\n",
    "# Define schema for personal_detail - all strings initially\n",
    "personal_schema = StructType([\n",
    "    StructField(\"person_name\", StringType(), True),\n",
    "    StructField(\"gender\", StringType(), True),\n",
    "    StructField(\"address\", address_schema, True),\n",
    "    StructField(\"lat\", StringType(), True),\n",
    "    StructField(\"long\", StringType(), True),\n",
    "    StructField(\"city_pop\", StringType(), True),\n",
    "    StructField(\"job\", StringType(), True),\n",
    "    StructField(\"dob\", StringType(), True)\n",
    "])\n",
    "\n",
    "# Parse the cleaned JSON string into proper columns (overwrite the original column)\n",
    "df_with_parsed_personal = df.withColumn(\"personal_detail\", sf.from_json(sf.col(\"personal_detail\"), personal_schema))\n",
    "\n",
    "# for debugging\n",
    "# df_with_parsed_personal.select(col(\"personal_detail.person_name\")).show()\n",
    "# df_with_parsed_personal.select(col(\"personal_detail.address.street\")).show()\n",
    "\n",
    "# Process name splitting for 'first' and 'last' names with improved robustness.\n",
    "df_with_names = df_with_parsed_personal.withColumn(\n",
    "    \"cleaned_person_name\",\n",
    "    sf.when(sf.col(\"personal_detail.person_name\").isNotNull(),\n",
    "        sf.trim(\n",
    "            sf.regexp_replace( # Normalize multiple spaces to single space\n",
    "                sf.regexp_replace( # Replace all non-alphanumeric characters (except spaces) with a single space\n",
    "                    sf.regexp_replace( # Remove specific trailing strings like 'eeeee' and 'N' followed by 4 or more '0' or 'O' (case-insensitive)\n",
    "                        sf.regexp_replace(sf.col(\"personal_detail.person_name\"), r\"(?i),?eeeee$\", \"\"),\n",
    "                        r\"(?i),?\\s*N[0O]{4,}$\", \"\" # Updated regex to handle N0000, NOOOO etc.\n",
    "                    ),\n",
    "                    r\"[^a-zA-Z0-9\\s]\", \" \" # Replace any character that is NOT a letter, number, or whitespace with a space. This will catch /, !, @, |, and also the comma if it's not part of a \"Lastname, Firstname\" pattern.\n",
    "                ),\n",
    "                r\"\\s+\", \" \" # Normalize multiple spaces to single space\n",
    "            )\n",
    "        )\n",
    "    ).otherwise(None)\n",
    ")\n",
    "\n",
    "df_with_names = df_with_names \\\n",
    "    .withColumn(\"name_parts\", sf.split(sf.col(\"cleaned_person_name\"), \" \")) \\\n",
    "    .withColumn(\"first\", \n",
    "        sf.when(sf.size(sf.col(\"name_parts\")) >= 1, sf.trim(sf.element_at(sf.col(\"name_parts\"), 1)))\n",
    "        .otherwise(None)\n",
    "    ) \\\n",
    "    .withColumn(\"last\", \n",
    "        sf.when(sf.size(sf.col(\"name_parts\")) > 1, \n",
    "                sf.trim(sf.concat_ws(\" \", sf.slice(sf.col(\"name_parts\"), 2, sf.size(sf.col(\"name_parts\"))))))\n",
    "        .otherwise(None)\n",
    "    ) \\\n",
    "    .drop(\"cleaned_person_name\", \"name_parts\") # Drop intermediate columns\n",
    "\n",
    "\n",
    "# Flatten the personal_detail structure and address structure\n",
    "df_flattened = df_with_names.select(\n",
    "    # Original columns in desired order\n",
    "    sf.col(\"Unnamed: 0\"),\n",
    "    sf.col(\"trans_date_trans_time\"),\n",
    "    sf.col(\"cc_num\"),\n",
    "    sf.col(\"merchant\"),\n",
    "    sf.col(\"category\"),\n",
    "    sf.col(\"amt\"),\n",
    "    \n",
    "    sf.col(\"first\"),\n",
    "    sf.col(\"last\"),\n",
    "\n",
    "    # Personal details\n",
    "    sf.col(\"personal_detail.gender\").alias(\"gender\"),\n",
    "    \n",
    "    # Flattened address details\n",
    "    sf.col(\"personal_detail.address.street\").alias(\"street\"),\n",
    "    sf.col(\"personal_detail.address.city\").alias(\"city\"),\n",
    "    sf.col(\"personal_detail.address.state\").alias(\"state\"),\n",
    "    sf.col(\"personal_detail.address.zip\").alias(\"zip\"),\n",
    "    \n",
    "    # Location and demographic info\n",
    "    sf.col(\"personal_detail.lat\").alias(\"lat\"),\n",
    "    sf.col(\"personal_detail.long\").alias(\"long\"),\n",
    "    sf.col(\"personal_detail.city_pop\").alias(\"city_pop\"),\n",
    "    sf.col(\"personal_detail.job\").alias(\"job\"),\n",
    "    sf.col(\"personal_detail.dob\").alias(\"dob\"),\n",
    "    \n",
    "    # Transaction details\n",
    "    sf.col(\"trans_num\"),\n",
    "    sf.col(\"merch_lat\"),\n",
    "    sf.col(\"merch_long\"),\n",
    "    sf.col(\"is_fraud\"),\n",
    "    sf.col(\"merch_zipcode\"),\n",
    "    sf.col(\"merch_last_update_time\"),\n",
    "    sf.col(\"merch_eff_time\"),\n",
    "    sf.col(\"cc_bic\")\n",
    ")\n",
    "\n",
    "\n",
    "# Type conversions and rounding in one operation, including date format and timezone handling. Assuming initial timzeone is UTC and converting to UTC\n",
    "df_cleaned = df_flattened.withColumns({\n",
    "    'Unnamed: 0': sf.col(\"Unnamed: 0\").cast(IntegerType()),\n",
    "\n",
    "\n",
    "    # Convert trans_date_trans_time to TimestampType, then to UTC+8, then format\n",
    "    'trans_date_trans_time': sf.date_format(sf.from_utc_timestamp(sf.col(\"trans_date_trans_time\").cast(\"timestamp\"), \"UTC+8\"), 'yyyy-MM-dd HH:mm:ss Z'),\n",
    "\n",
    "\n",
    "    'amt': sf.round(sf.col(\"amt\").cast(FloatType()), 6),\n",
    "    'merch_lat': sf.round(sf.col(\"merch_lat\").cast(FloatType()), 6),\n",
    "    'merch_long': sf.round(sf.col(\"merch_long\").cast(FloatType()), 6),\n",
    "    'is_fraud': sf.col(\"is_fraud\").cast(IntegerType()),\n",
    "\n",
    "\n",
    "    # Convert merch_eff_time (microseconds) to TimestampType, then to UTC+8, then format\n",
    " \n",
    "    'merch_eff_time': sf.date_format(\n",
    "        sf.from_utc_timestamp(\n",
    "            (\n",
    "                sf.rpad(\n",
    "                    sf.col(\"merch_eff_time\").cast(StringType()),\n",
    "                    16,\n",
    "                    '0'\n",
    "                ).cast(LongType()) / 1000000\n",
    "            ).cast(\"timestamp\"),\n",
    "            \"UTC+8\"\n",
    "        ),\n",
    "        'yyyy-MM-dd HH:mm:ss.SSSSSS Z'\n",
    "    ),\n",
    "\n",
    "\n",
    "    # Convert merch_last_update_time (microseconds) to TimestampType, then to UTC+8, then format\n",
    "    'merch_last_update_time': sf.date_format(\n",
    "        sf.from_utc_timestamp(\n",
    "            (\n",
    "                sf.rpad(\n",
    "                    sf.col(\"merch_last_update_time\").cast(StringType()),\n",
    "                    16,\n",
    "                    '0'\n",
    "                ).cast(LongType()) / 1000000\n",
    "            ).cast(\"timestamp\"),\n",
    "            \"UTC+8\"\n",
    "            ),\n",
    "            'yyyy-MM-dd HH:mm:ss.SSSSSS Z'\n",
    "        ), \n",
    "    \n",
    "    'lat': sf.round(sf.col(\"lat\").cast(FloatType()), 6),\n",
    "    'long': sf.round(sf.col(\"long\").cast(FloatType()), 6),\n",
    "    'city_pop': sf.col(\"city_pop\").cast(IntegerType())\n",
    "})\n",
    "\n",
    "\n",
    "# Handle null values and \"NA\" strings for all string columns automatically\n",
    "string_columns = [field.name for field in df_cleaned.schema.fields if field.dataType.typeName() == 'string']\n",
    "\n",
    "# Create dictionary for null value handling across all string columns\n",
    "null_handling_dict = {}\n",
    "for col_name in string_columns:\n",
    "    null_handling_dict[col_name] = sf.when(\n",
    "        (sf.lower(sf.col(col_name)) == \"na\") | \n",
    "        (sf.lower(sf.col(col_name)) == \"null\") | \n",
    "        (sf.col(col_name) == \"\"), \n",
    "        None\n",
    "    ).otherwise(sf.col(col_name))\n",
    "\n",
    "df_cleaned = df_cleaned.withColumns(null_handling_dict)\n",
    "\n",
    "#all merchant names start with the word 'fraud_'; safe to remove\n",
    "df_cleaned = df_cleaned.withColumn(\n",
    "    \"merchant\",\n",
    "    sf.regexp_replace(sf.col(\"merchant\"), \"fraud_\", \"\")\n",
    ")\n",
    "\n",
    "## Display cleaned data \n",
    "\n",
    "# Show final result\n",
    "df_cleaned.show(40,truncate=False)\n",
    "\n",
    "#convert subsection to markdown for viewing\n",
    "# print(df_cleaned.filter(sf.col(\"Unnamed: 0\") <= 25).toPandas().to_markdown())\n",
    "\n",
    "# Show schema to verify structure\n",
    "df_cleaned.printSchema()"
   ]
  },
  {
   "cell_type": "markdown",
   "id": "e5290c83",
   "metadata": {},
   "source": [
    "Handling PII data"
   ]
  },
  {
   "cell_type": "code",
   "execution_count": 4,
   "id": "63b63b65",
   "metadata": {},
   "outputs": [
    {
     "name": "stdout",
     "output_type": "stream",
     "text": [
      "+----------+-------------------------+----------------------------------+-------------+------+------+------------------------+-----+-----+-----+-------+--------+---------------------------------------------+----+---------+-----------+--------+-------------+--------------------------------+--------------------------------+\n",
      "|Unnamed: 0|trans_date_trans_time    |merchant                          |category     |amt   |gender|city                    |state|zip  |lat  |long   |city_pop|job                                          |dob |merch_lat|merch_long |is_fraud|merch_zipcode|merch_last_update_time          |merch_eff_time                  |\n",
      "+----------+-------------------------+----------------------------------+-------------+------+------+------------------------+-----+-----+-----+-------+--------+---------------------------------------------+----+---------+-----------+--------+-------------+--------------------------------+--------------------------------+\n",
      "|0         |2019-01-01 08:00:18 +0800|Rippin, Kub and Mann              |misc_net     |4.97  |F     |Moravian Falls          |NC   |28654|36.08|-81.18 |3495    |Psychologist, counselling                    |1988|36.01129 |-82.04832  |0       |28705        |2012-01-01 16:00:18.666000 +0800|2012-01-01 16:00:18.798532 +0800|\n",
      "|1         |2019-01-01 08:00:44 +0800|Heller, Gutmann and Zieme         |grocery_pos  |107.23|F     |Orient                  |WA   |99160|48.89|-118.21|149     |Special educational needs teacher            |1978|49.159046|-118.18646 |0       |NULL         |2012-01-01 16:00:44.790000 +0800|2012-01-01 16:00:44.867960 +0800|\n",
      "|2         |2019-01-01 08:00:51 +0800|Lind-Buckridge                    |entertainment|220.11|M     |Malad City              |ID   |83252|42.18|-112.26|4154    |Nature conservation officer                  |1962|43.150703|-112.15448 |0       |83236        |2012-01-01 16:00:51.286000 +0800|2012-01-01 16:00:51.506840 +0800|\n",
      "|3         |2019-01-01 08:01:16 +0800|Kutch, Hermiston and Farrell      |gas_transport|45.0  |M     |Boulder                 |MT   |59632|46.23|-112.11|1939    |Patent attorney                              |1967|47.034332|-112.56107 |0       |NULL         |2012-01-01 16:01:16.365000 +0800|2012-01-01 16:01:16.794698 +0800|\n",
      "|4         |2019-01-01 08:03:06 +0800|Keeling-Crist                     |misc_pos     |41.96 |M     |Doe Hill                |VA   |24433|38.42|-79.46 |99      |Dance movement psychotherapist               |1986|38.675   |-78.63246  |0       |22844        |2012-01-01 16:03:06.810000 +0800|2012-01-01 16:03:06.746376 +0800|\n",
      "|5         |2019-01-01 08:04:08 +0800|Stroman, Hudson and Erdman        |gas_transport|94.63 |F     |Dublin                  |PA   |18917|40.38|-75.2  |2158    |Transport planner                            |1961|40.65338 |-76.152664 |0       |17972        |2012-01-01 16:04:08.483000 +0800|2012-01-01 16:04:08.271406 +0800|\n",
      "|6         |2019-01-01 08:04:42 +0800|Rowe-Vandervort                   |grocery_net  |44.54 |F     |Holcomb                 |KS   |67851|37.99|-100.99|2691    |Arboriculturist                              |1993|37.162704|-100.15337 |0       |NULL         |2012-01-01 16:04:42.247000 +0800|2012-01-01 16:04:42.274130 +0800|\n",
      "|7         |2019-01-01 08:05:08 +0800|Corwin-Collins                    |gas_transport|71.65 |M     |Edinburg                |VA   |22824|38.84|-78.6  |6018    |Designer, multimedia                         |1947|38.94809 |-78.5403   |0       |22644        |2012-01-01 16:05:08.152000 +0800|2012-01-01 16:05:08.837349 +0800|\n",
      "|8         |2019-01-01 08:05:18 +0800|Herzog Ltd                        |misc_pos     |4.27  |F     |Manor                   |PA   |15665|40.34|-79.66 |1472    |Public affairs consultant                    |1941|40.351814|-79.958145 |0       |15236        |2012-01-01 16:05:18.278000 +0800|2012-01-01 16:05:18.245892 +0800|\n",
      "|9         |2019-01-01 08:06:01 +0800|Schoen, Kuphal and Nitzsche       |grocery_pos  |198.39|F     |Clarksville             |TN   |37040|36.52|-87.35 |151785  |Pathologist                                  |1974|37.1792  |-87.48538  |0       |42442        |2012-01-01 16:06:01.857000 +0800|2012-01-01 16:06:01.965234 +0800|\n",
      "|10        |2019-01-01 08:06:23 +0800|Rutherford-Mertz                  |grocery_pos  |24.74 |M     |Clarinda                |IA   |51632|40.75|-95.04 |7297    |IT trainer                                   |1990|40.27589 |-96.01155  |0       |68348        |2012-01-01 16:06:23.455000 +0800|2012-01-01 16:06:23.967287 +0800|\n",
      "|11        |2019-01-01 08:06:53 +0800|Kerluke-Abshire                   |shopping_net |7.77  |F     |Shenandoah Junction     |WV   |25442|39.37|-77.82 |1925    |Systems developer                            |1966|40.103867|-78.62446  |0       |15554        |2012-01-01 16:06:53.859000 +0800|2012-01-01 16:06:53.912233 +0800|\n",
      "|12        |2019-01-01 08:06:56 +0800|Lockman Ltd                       |grocery_pos  |71.22 |M     |Saint Petersburg        |FL   |33710|27.79|-82.72 |341043  |Engineer, land                               |1989|27.630592|-82.30889  |0       |33598        |2012-01-01 16:06:56.443000 +0800|2012-01-01 16:06:56.569264 +0800|\n",
      "|13        |2019-01-01 08:07:27 +0800|Kiehn Inc                         |grocery_pos  |96.29 |M     |Grenada                 |CA   |96038|41.61|-122.53|589     |Systems analyst                              |1945|41.65752 |-122.23035 |0       |NULL         |2012-01-01 16:07:27.771000 +0800|2012-01-01 16:07:27.442465 +0800|\n",
      "|14        |2019-01-01 08:09:03 +0800|Beier-Hyatt                       |shopping_pos |7.77  |M     |High Rolls Mountain Park|NM   |88325|32.94|-105.82|899     |Naval architect                              |1967|32.86326 |-106.5202  |0       |NULL         |2012-01-01 16:09:03.282000 +0800|2012-01-01 16:09:03.991530 +0800|\n",
      "|15        |2019-01-01 08:09:20 +0800|Schmidt and Sons                  |shopping_net |3.26  |M     |Harrington Park         |NJ   |7640 |40.99|-73.98 |4664    |Radiographer, diagnostic                     |1965|41.831173|-74.335556 |0       |12446        |2012-01-01 16:09:20.435000 +0800|2012-01-01 16:09:20.448213 +0800|\n",
      "|16        |2019-01-01 08:10:49 +0800|Lebsack and Sons                  |misc_net     |327.0 |F     |Lahoma                  |OK   |73754|36.38|-98.07 |1078    |Programme researcher, broadcasting/film/video|1952|36.38409 |-99.04847  |0       |73852        |2012-01-01 16:10:49.369000 +0800|2012-01-01 16:10:49.779770 +0800|\n",
      "|17        |2019-01-01 08:10:58 +0800|Mayert Group                      |shopping_pos |341.67|M     |Carlisle                |IN   |47838|38.98|-87.37 |4081    |Energy engineer                              |1938|38.67449 |-88.30576  |0       |62824        |2012-01-01 16:10:58.125000 +0800|2012-01-01 16:10:58.780653 +0800|\n",
      "|18        |2019-01-01 08:11:14 +0800|Konopelski, Schneider and Hartmann|food_dining  |63.07 |M     |Harborcreek             |PA   |16421|42.18|-79.94 |2518    |Event organiser                              |1946|41.430275|-79.49255  |0       |16364        |2012-01-01 16:11:14.800000 +0800|2012-01-01 16:11:14.645606 +0800|\n",
      "|19        |2019-01-01 08:12:34 +0800|Schultz, Simonis and Little       |grocery_pos  |44.71 |M     |Elizabeth               |NJ   |7208 |40.67|-74.22 |124967  |Operational researcher                       |1980|40.07959 |-74.84808  |0       |08016        |2012-01-01 16:12:34.863000 +0800|2012-01-01 16:12:34.332240 +0800|\n",
      "|20        |2019-01-01 08:13:08 +0800|Bauch-Raynor                      |grocery_pos  |57.34 |M     |Methuen                 |MA   |1844 |42.73|-71.18 |47249   |Market researcher                            |1980|42.26876 |-71.2173   |0       |02492        |2012-01-01 16:13:08.881000 +0800|2012-01-01 16:13:08.679431 +0800|\n",
      "|21        |2019-01-01 08:14:37 +0800|Harris Inc                        |gas_transport|50.79 |M     |Moulton                 |IA   |52572|40.69|-92.68 |1132    |Probation officer                            |1961|40.18893 |-91.95512  |0       |63446        |2012-01-01 16:14:37.765000 +0800|2012-01-01 16:14:37.626507 +0800|\n",
      "|22        |2019-01-01 08:17:16 +0800|Kling-Grant                       |grocery_net  |46.28 |F     |Plainfield              |NJ   |7060 |40.62|-74.42 |71485   |Leisure centre manager                       |1974|40.02189 |-74.22819  |0       |08755        |2012-01-01 16:17:16.949000 +0800|2012-01-01 16:17:16.676252 +0800|\n",
      "|23        |2019-01-01 08:17:40 +0800|Pacocha-Bauch                     |shopping_pos |9.55  |F     |May                     |TX   |76857|31.96|-98.97 |1791    |Corporate investment banker                  |1965|31.62635 |-98.61022  |0       |76870        |2012-01-01 16:17:40.580000 +0800|2012-01-01 16:17:40.351163 +0800|\n",
      "|24        |2019-01-01 08:18:06 +0800|Lesch Ltd                         |shopping_pos |22.95 |M     |Waukesha                |WI   |53186|43.0 |-88.22 |95015   |Therapist, occupational                      |1946|43.375042|-89.05506  |0       |53932        |2012-01-01 16:18:06.531000 +0800|2012-01-01 16:18:06.510394 +0800|\n",
      "|25        |2019-01-01 08:18:07 +0800|Kunde-Sanford                     |misc_net     |2.55  |F     |Bailey                  |NC   |27807|35.81|-78.09 |6629    |Call centre manager                          |1962|36.74987 |-78.67787  |0       |23964        |2012-01-01 16:18:07.760000 +0800|2012-01-01 16:18:07.223427 +0800|\n",
      "|26        |2019-01-01 08:20:15 +0800|Deckow-O'Conner                   |grocery_pos  |64.09 |M     |Romulus                 |MI   |48174|42.22|-83.36 |31515   |Police officer                               |1971|42.360428|-83.552315 |0       |48168        |2012-01-01 16:20:15.120000 +0800|2012-01-01 16:20:15.445010 +0800|\n",
      "|27        |2019-01-01 08:21:32 +0800|Bruen-Yost                        |misc_pos     |6.85  |M     |Freedom                 |WY   |83120|43.02|-111.03|471     |Education officer, museum                    |1967|43.753735|-111.454926|0       |83436        |2012-01-01 16:21:32.741000 +0800|2012-01-01 16:21:32.834523 +0800|\n",
      "|28        |2019-01-01 08:22:06 +0800|Kunze Inc                         |grocery_pos  |90.22 |M     |Honokaa                 |HI   |96727|20.08|-155.49|4878    |Physiotherapist                              |1966|19.560013|-156.04588 |0       |96740        |2012-01-01 16:22:06.286000 +0800|2012-01-01 16:22:06.969473 +0800|\n",
      "|29        |2019-01-01 08:22:18 +0800|Nitzsche, Kessler and Wolff       |shopping_pos |4.02  |M     |Valentine               |NE   |69201|42.81|-100.62|4005    |Network engineer                             |1945|42.47559 |-101.26585 |0       |NULL         |2012-01-01 16:22:18.832000 +0800|2012-01-01 16:22:18.107571 +0800|\n",
      "|30        |2019-01-01 08:22:36 +0800|Kihn, Abernathy and Douglas       |shopping_net |3.66  |F     |Westfir                 |OR   |97492|43.76|-122.48|597     |Forensic psychologist                        |1961|44.27819 |-121.81516 |0       |NULL         |2012-01-01 16:22:36.680000 +0800|2012-01-01 16:22:36.272892 +0800|\n",
      "|31        |2019-01-01 08:22:39 +0800|Heller, Gutmann and Zieme         |grocery_pos  |82.8  |F     |Tiptonville             |TN   |38079|36.38|-89.46 |5577    |Geochemist                                   |1964|36.294205|-89.81128  |0       |63879        |2012-01-01 16:22:39.494000 +0800|2012-01-01 16:22:39.352765 +0800|\n",
      "|32        |2019-01-01 08:22:44 +0800|Torphy-Goyette                    |shopping_pos |66.21 |F     |Republic                |MI   |49879|46.37|-87.99 |1038    |Armed forces training and education officer  |1964|46.412037|-88.51666  |0       |49919        |2012-01-01 16:22:44.480000 +0800|2012-01-01 16:22:44.695761 +0800|\n",
      "|33        |2019-01-01 08:23:41 +0800|Balistreri-Nader                  |misc_pos     |25.58 |F     |Baton Rouge             |LA   |70808|30.41|-91.15 |378909  |Designer, furniture                          |1977|29.737427|-90.853195 |0       |70395        |2012-01-01 16:23:41.876000 +0800|2012-01-01 16:23:41.985581 +0800|\n",
      "|34        |2019-01-01 08:23:58 +0800|Bahringer, Schoen and Corkery     |shopping_pos |9.03  |M     |Washington              |DC   |20012|38.98|-77.03 |601723  |Optician, dispensing                         |1970|38.880898|-76.44112  |0       |21037        |2012-01-01 16:23:58.200000 +0800|2012-01-01 16:23:58.990512 +0800|\n",
      "|35        |2019-01-01 08:25:46 +0800|Hudson-Ratke                      |grocery_pos  |99.0  |M     |Big Creek               |KY   |40914|37.1 |-83.57 |467     |Psychologist, forensic                       |1984|36.823544|-83.90104  |0       |40906        |2012-01-01 16:25:46.866000 +0800|2012-01-01 16:25:46.830950 +0800|\n",
      "|36        |2019-01-01 08:26:22 +0800|Heidenreich PLC                   |grocery_pos  |207.36|F     |Bellmore                |NY   |11710|40.67|-73.54 |34496   |Librarian, public                            |1970|40.202538|-73.859215 |0       |07720        |2012-01-01 16:26:22.231000 +0800|2012-01-01 16:26:22.383800 +0800|\n",
      "|37        |2019-01-01 08:27:45 +0800|Halvorson Group                   |misc_pos     |181.35|F     |Florence                |MS   |39073|32.15|-90.12 |19685   |Fine artist                                  |1984|31.939812|-90.72621  |0       |39086        |2012-01-01 16:27:45.278000 +0800|2012-01-01 16:27:45.385593 +0800|\n",
      "|38        |2019-01-01 08:27:56 +0800|Harber Inc                        |gas_transport|82.22 |F     |Allentown               |PA   |18103|40.59|-75.46 |166081  |Scientist, research (maths)                  |1998|40.58624 |-75.802246 |0       |19529        |2012-01-01 16:27:56.596000 +0800|2012-01-01 16:27:56.275314 +0800|\n",
      "|39        |2019-01-01 08:29:11 +0800|Mosciski, Gislason and Mertz      |grocery_pos  |221.81|F     |Moriches                |NY   |11955|40.81|-72.82 |3285    |Research officer, trade union                |1988|40.01196 |-72.59481  |0       |NULL         |2012-01-01 16:29:11.310000 +0800|2012-01-01 16:29:11.366893 +0800|\n",
      "+----------+-------------------------+----------------------------------+-------------+------+------+------------------------+-----+-----+-----+-------+--------+---------------------------------------------+----+---------+-----------+--------+-------------+--------------------------------+--------------------------------+\n",
      "only showing top 40 rows\n"
     ]
    },
    {
     "name": "stderr",
     "output_type": "stream",
     "text": [
      "[Stage 3:>                                                          (0 + 1) / 1]\r"
     ]
    },
    {
     "name": "stdout",
     "output_type": "stream",
     "text": [
      "[Row(Unnamed: 0=1296635, trans_date_trans_time='2020-06-21 19:55:55 +0800', merchant='Berge LLC', category='gas_transport', amt=80.44999694824219, gender='M', city='Sontag', state='MS', zip='39665', lat=31.649999618530273, long=-90.18000030517578, city_pop=1196, job='Librarian, academic', dob='1958', merch_lat=30.870750427246094, merch_long=-89.87936401367188, is_fraud=0, merch_zipcode='70427', merch_last_update_time='2013-06-22 03:55:55.907000 +0800', merch_eff_time='2013-06-22 03:55:55.149813 +0800'), Row(Unnamed: 0=1296636, trans_date_trans_time='2020-06-21 19:55:56 +0800', merchant='Lockman, West and Runte', category='grocery_pos', amt=98.9800033569336, gender='M', city='Bridger', state='MT', zip='59014', lat=45.290000915527344, long=-108.91000366210938, city_pop=1446, job='Chartered loss adjuster', dob='1978', merch_lat=45.25511932373047, merch_long=-108.9658203125, is_fraud=0, merch_zipcode=None, merch_last_update_time='2013-06-22 03:55:56.628000 +0800', merch_eff_time='2013-06-22 03:55:56.551608 +0800'), Row(Unnamed: 0=1296637, trans_date_trans_time='2020-06-21 19:56:24 +0800', merchant='Schaefer, Maggio and Daugherty', category='gas_transport', amt=54.369998931884766, gender='M', city='Cord', state='AR', zip='72524', lat=35.81999969482422, long=-91.33999633789062, city_pop=376, job='Designer, ceramics/pottery', dob='1938', merch_lat=36.158634185791016, merch_long=-90.50669860839844, is_fraud=0, merch_zipcode='72436', merch_last_update_time='2013-06-22 03:56:24.710000 +0800', merch_eff_time='2013-06-22 03:56:24.723238 +0800'), Row(Unnamed: 0=1296638, trans_date_trans_time='2020-06-21 19:56:50 +0800', merchant='Quitzon, Green and Bashirian', category='shopping_pos', amt=6.860000133514404, gender='F', city='Grassflat', state='PA', zip='16839', lat=41.0, long=-78.11000061035156, city_pop=489, job='Pension scheme manager', dob='1956', merch_lat=40.94733428955078, merch_long=-77.45462036132812, is_fraud=0, merch_zipcode='16852', merch_last_update_time='2013-06-22 03:56:50.245000 +0800', merch_eff_time='2013-06-22 03:56:50.441426 +0800'), Row(Unnamed: 0=1296639, trans_date_trans_time='2020-06-21 19:57:21 +0800', merchant='Mosciski, Gislason and Mertz', category='grocery_pos', amt=135.50999450683594, gender='F', city='Tomales', state='CA', zip='94971', lat=38.2400016784668, long=-122.91000366210938, city_pop=337, job='Occupational psychologist', dob='1954', merch_lat=38.987178802490234, merch_long=-123.9017333984375, is_fraud=0, merch_zipcode=None, merch_last_update_time='2013-06-22 03:57:21.584000 +0800', merch_eff_time='2013-06-22 03:57:21.772249 +0800'), Row(Unnamed: 0=1296640, trans_date_trans_time='2020-06-21 19:57:29 +0800', merchant='Lockman, West and Runte', category='grocery_pos', amt=86.86000061035156, gender='F', city='Cape Coral', state='FL', zip='33909', lat=26.690000534057617, long=-81.94999694824219, city_pop=156391, job='Higher education careers adviser', dob='1968', merch_lat=26.85920524597168, merch_long=-81.0350341796875, is_fraud=0, merch_zipcode='33471', merch_last_update_time='2013-06-22 03:57:29.915000 +0800', merch_eff_time='2013-06-22 03:57:29.974949 +0800'), Row(Unnamed: 0=1296641, trans_date_trans_time='2020-06-21 19:58:51 +0800', merchant='Sporer Inc', category='gas_transport', amt=57.720001220703125, gender='F', city='Norman', state='AR', zip='71960', lat=34.459999084472656, long=-93.66999816894531, city_pop=1383, job='Manufacturing engineer', dob='1999', merch_lat=35.45011520385742, merch_long=-94.24313354492188, is_fraud=0, merch_zipcode='72921', merch_last_update_time='2013-06-22 03:58:51.750000 +0800', merch_eff_time='2013-06-22 03:58:51.361014 +0800'), Row(Unnamed: 0=1296642, trans_date_trans_time='2020-06-21 19:59:45 +0800', merchant='Cartwright-Harris', category='grocery_pos', amt=55.2400016784668, gender='M', city='Quanah', state='TX', zip='79252', lat=34.29999923706055, long=-99.75, city_pop=3202, job='Librarian, public', dob='1998', merch_lat=35.28389358520508, merch_long=-99.06256103515625, is_fraud=0, merch_zipcode='73641', merch_last_update_time='2013-06-22 03:59:45.668000 +0800', merch_eff_time='2013-06-22 03:59:45.356981 +0800'), Row(Unnamed: 0=1296643, trans_date_trans_time='2020-06-21 20:00:02 +0800', merchant='Adams-Barrows', category='health_fitness', amt=74.83000183105469, gender='M', city='Deadwood', state='SD', zip='57732', lat=44.36000061035156, long=-103.69999694824219, city_pop=1979, job='Multimedia programmer', dob='1970', merch_lat=44.285030364990234, merch_long=-103.4162826538086, is_fraud=0, merch_zipcode='57769', merch_last_update_time='2013-06-22 04:00:02.600000 +0800', merch_eff_time='2013-06-22 04:00:02.902540 +0800'), Row(Unnamed: 0=1296644, trans_date_trans_time='2020-06-21 20:01:32 +0800', merchant='Zemlak, Tillman and Cremin', category='personal_care', amt=4.230000019073486, gender='F', city='New Waverly', state='TX', zip='77358', lat=30.540000915527344, long=-95.44999694824219, city_pop=4993, job='Scientist, biomedical', dob='1948', merch_lat=30.338911056518555, merch_long=-94.45719909667969, is_fraud=0, merch_zipcode='77585', merch_last_update_time='2013-06-22 04:01:32.335000 +0800', merch_eff_time='2013-06-22 04:01:32.684950 +0800'), Row(Unnamed: 0=1296645, trans_date_trans_time='2020-06-21 20:01:35 +0800', merchant='Turcotte, McKenzie and Koss', category='entertainment', amt=69.73999786376953, gender='F', city='Deane', state='KY', zip='41812', lat=37.2400016784668, long=-82.7699966430664, city_pop=230, job='Conservation officer, historic buildings', dob='1997', merch_lat=37.77090835571289, merch_long=-83.31474304199219, is_fraud=0, merch_zipcode='41408', merch_last_update_time='2013-06-22 04:01:35.518000 +0800', merch_eff_time='2013-06-22 04:01:35.791967 +0800'), Row(Unnamed: 0=1296646, trans_date_trans_time='2020-06-21 20:02:13 +0800', merchant='Graham and Sons', category='health_fitness', amt=110.31999969482422, gender='M', city='Belgrade', state='MT', zip='59714', lat=45.779998779296875, long=-111.13999938964844, city_pop=18182, job='Engineer, drilling', dob='1975', merch_lat=44.87506866455078, merch_long=-111.29010772705078, is_fraud=0, merch_zipcode=None, merch_last_update_time='2013-06-22 04:02:13.567000 +0800', merch_eff_time='2013-06-22 04:02:13.917320 +0800'), Row(Unnamed: 0=1296647, trans_date_trans_time='2020-06-21 20:02:27 +0800', merchant=\"O'Keefe-Wisoky\", category='food_dining', amt=10.140000343322754, gender='M', city='Turner', state='MT', zip='59542', lat=48.83000183105469, long=-108.4000015258789, city_pop=192, job='Further education lecturer', dob='1964', merch_lat=48.382904052734375, merch_long=-108.57174682617188, is_fraud=0, merch_zipcode='59526', merch_last_update_time='2013-06-22 04:02:27.713000 +0800', merch_eff_time='2013-06-22 04:02:27.122146 +0800'), Row(Unnamed: 0=1296648, trans_date_trans_time='2020-06-21 20:02:44 +0800', merchant='Kling-Ernser', category='entertainment', amt=13.470000267028809, gender='M', city='Huntsville', state='AL', zip='35811', lat=34.779998779296875, long=-86.54000091552734, city_pop=190178, job='Television production assistant', dob='1973', merch_lat=34.60965347290039, merch_long=-85.67635345458984, is_fraud=0, merch_zipcode='35978', merch_last_update_time='2013-06-22 04:02:44.610000 +0800', merch_eff_time='2013-06-22 04:02:44.635784 +0800'), Row(Unnamed: 0=1296649, trans_date_trans_time='2020-06-21 20:02:57 +0800', merchant='Lind-Buckridge', category='entertainment', amt=2.180000066757202, gender='M', city='New Holstein', state='WI', zip='53061', lat=43.939998626708984, long=-88.08999633789062, city_pop=5196, job='Child psychotherapist', dob='1978', merch_lat=43.84621047973633, merch_long=-87.81063079833984, is_fraud=0, merch_zipcode='53083', merch_last_update_time='2013-06-22 04:02:57.880000 +0800', merch_eff_time='2013-06-22 04:02:57.628798 +0800'), Row(Unnamed: 0=1296650, trans_date_trans_time='2020-06-21 20:02:59 +0800', merchant=\"O'Reilly, Mohr and Purdy\", category='home', amt=19.030000686645508, gender='F', city='Walnut Ridge', state='AR', zip='72476', lat=36.02000045776367, long=-90.93000030517578, city_pop=7155, job='Engineer, control and instrumentation', dob='1977', merch_lat=35.66154479980469, merch_long=-91.20507049560547, is_fraud=0, merch_zipcode='72112', merch_last_update_time='2013-06-22 04:02:59.887000 +0800', merch_eff_time='2013-06-22 04:02:59.676541 +0800'), Row(Unnamed: 0=1296651, trans_date_trans_time='2020-06-21 20:03:37 +0800', merchant='Wintheiser, Dietrich and Schimmel', category='misc_pos', amt=7.380000114440918, gender='F', city='Hinesburg', state='VT', zip='5461', lat=44.33000183105469, long=-73.0999984741211, city_pop=4542, job='Claims inspector/assessor', dob='1998', merch_lat=44.00633239746094, merch_long=-72.57962036132812, is_fraud=0, merch_zipcode='05036', merch_last_update_time='2013-06-22 04:03:37.551000 +0800', merch_eff_time='2013-06-22 04:03:37.422841 +0800'), Row(Unnamed: 0=1296652, trans_date_trans_time='2020-06-21 20:04:53 +0800', merchant='Frami Group', category='entertainment', amt=125.13999938964844, gender='M', city='Fulton', state='OH', zip='43321', lat=40.5, long=-82.83000183105469, city_pop=267, job='Facilities manager', dob='2005', merch_lat=40.36841583251953, merch_long=-82.83992767333984, is_fraud=0, merch_zipcode='43334', merch_last_update_time='2013-06-22 04:04:53.199000 +0800', merch_eff_time='2013-06-22 04:04:53.119782 +0800'), Row(Unnamed: 0=1296653, trans_date_trans_time='2020-06-21 20:06:04 +0800', merchant='Kemmer-Buckridge', category='misc_pos', amt=53.97999954223633, gender='M', city='Heiskell', state='TN', zip='37754', lat=36.119998931884766, long=-84.04000091552734, city_pop=4729, job='Geologist, wellsite', dob='1982', merch_lat=35.88907241821289, merch_long=-83.37120056152344, is_fraud=0, merch_zipcode='37722', merch_last_update_time='2013-06-22 04:06:04.316000 +0800', merch_eff_time='2013-06-22 04:06:04.203081 +0800'), Row(Unnamed: 0=1296654, trans_date_trans_time='2020-06-21 20:06:12 +0800', merchant='Reichel LLC', category='personal_care', amt=29.90999984741211, gender='F', city='Cottekill', state='NY', zip='12419', lat=41.849998474121094, long=-74.0999984741211, city_pop=722, job='Comptroller', dob='1990', merch_lat=42.81950759887695, merch_long=-74.21125793457031, is_fraud=0, merch_zipcode='12137', merch_last_update_time='2013-06-22 04:06:12.962000 +0800', merch_eff_time='2013-06-22 04:06:12.165112 +0800'), Row(Unnamed: 0=1296655, trans_date_trans_time='2020-06-21 20:06:23 +0800', merchant='Bechtelar-Rippin', category='food_dining', amt=78.4000015258789, gender='F', city='Prairie Hill', state='TX', zip='76678', lat=31.65999984741211, long=-96.80999755859375, city_pop=263, job='Barrister', dob='1956', merch_lat=30.80852508544922, merch_long=-96.42046356201172, is_fraud=0, merch_zipcode='77808', merch_last_update_time='2013-06-22 04:06:23.553000 +0800', merch_eff_time='2013-06-22 04:06:23.483063 +0800'), Row(Unnamed: 0=1296656, trans_date_trans_time='2020-06-21 20:07:09 +0800', merchant='Wintheiser, Dietrich and Schimmel', category='misc_pos', amt=5.480000019073486, gender='M', city='Pittsburgh', state='PA', zip='15217', lat=40.43000030517578, long=-79.91999816894531, city_pop=687276, job='Scientist, marine', dob='1973', merch_lat=40.81044006347656, merch_long=-79.18144226074219, is_fraud=0, merch_zipcode='15747', merch_last_update_time='2013-06-22 04:07:09.801000 +0800', merch_eff_time='2013-06-22 04:07:09.926331 +0800'), Row(Unnamed: 0=1296657, trans_date_trans_time='2020-06-21 20:07:20 +0800', merchant='Greenfelder, Bartoletti and Davis', category='misc_net', amt=264.2200012207031, gender='F', city='Lanark Village', state='FL', zip='32323', lat=29.8799991607666, long=-84.5999984741211, city_pop=217, job='Television production assistant', dob='1990', merch_lat=30.615846633911133, merch_long=-84.69769287109375, is_fraud=0, merch_zipcode='32332', merch_last_update_time='2013-06-22 04:07:20.119000 +0800', merch_eff_time='2013-06-22 04:07:20.349525 +0800'), Row(Unnamed: 0=1296658, trans_date_trans_time='2020-06-21 20:07:47 +0800', merchant='Graham, Hegmann and Hammes', category='food_dining', amt=12.65999984741211, gender='M', city='Muskegon', state='MI', zip='49440', lat=43.22999954223633, long=-86.25, city_pop=128715, job='Historic buildings inspector/conservation officer', dob='1995', merch_lat=43.94974136352539, merch_long=-86.54834747314453, is_fraud=0, merch_zipcode='49431', merch_last_update_time='2013-06-22 04:07:47.505000 +0800', merch_eff_time='2013-06-22 04:07:47.610304 +0800'), Row(Unnamed: 0=1296659, trans_date_trans_time='2020-06-21 20:07:53 +0800', merchant='Willms, Kris and Bergnaum', category='shopping_pos', amt=9.720000267028809, gender='F', city='Bradley', state='SC', zip='29819', lat=34.029998779296875, long=-82.19999694824219, city_pop=1523, job='Research scientist (physical sciences)', dob='1984', merch_lat=33.83833694458008, merch_long=-82.27188110351562, is_fraud=0, merch_zipcode='29845', merch_last_update_time='2013-06-22 04:07:53.520000 +0800', merch_eff_time='2013-06-22 04:07:53.165944 +0800'), Row(Unnamed: 0=1296660, trans_date_trans_time='2020-06-21 20:07:54 +0800', merchant='Cartwright PLC', category='kids_pets', amt=49.93000030517578, gender='M', city='Palermo', state='ND', zip='58769', lat=48.34000015258789, long=-102.23999786376953, city_pop=229, job='Administrator', dob='1983', merch_lat=48.72433090209961, merch_long=-102.37938690185547, is_fraud=0, merch_zipcode='58721', merch_last_update_time='2013-06-22 04:07:54.840000 +0800', merch_eff_time='2013-06-22 04:07:54.155419 +0800'), Row(Unnamed: 0=1296661, trans_date_trans_time='2020-06-21 20:08:08 +0800', merchant='Lynch-Wisozk', category='home', amt=77.83000183105469, gender='M', city='Bolivar', state='PA', zip='15923', lat=40.369998931884766, long=-79.16000366210938, city_pop=1770, job='Administrator, local government', dob='1994', merch_lat=40.37247848510742, merch_long=-79.1159439086914, is_fraud=0, merch_zipcode='15923', merch_last_update_time='2013-06-22 04:08:08.670000 +0800', merch_eff_time='2013-06-22 04:08:08.547743 +0800'), Row(Unnamed: 0=1296662, trans_date_trans_time='2020-06-21 20:08:13 +0800', merchant='Lubowitz, Terry and Stracke', category='personal_care', amt=157.69000244140625, gender='F', city='Ronceverte', state='WV', zip='24970', lat=37.7400016784668, long=-80.45999908447266, city_pop=4575, job='Statistician', dob='1991', merch_lat=37.918701171875, merch_long=-80.80059814453125, is_fraud=0, merch_zipcode='25962', merch_last_update_time='2013-06-22 04:08:13.819000 +0800', merch_eff_time='2013-06-22 04:08:13.583083 +0800'), Row(Unnamed: 0=1296663, trans_date_trans_time='2020-06-21 20:08:32 +0800', merchant='Witting, Beer and Ernser', category='home', amt=84.0999984741211, gender='F', city='Owensville', state='MO', zip='65066', lat=38.349998474121094, long=-91.48999786376953, city_pop=6703, job='Naval architect', dob='1998', merch_lat=39.19334411621094, merch_long=-91.01663970947266, is_fraud=0, merch_zipcode='63344', merch_last_update_time='2013-06-22 04:08:32.355000 +0800', merch_eff_time='2013-06-22 04:08:32.214592 +0800'), Row(Unnamed: 0=1296664, trans_date_trans_time='2020-06-21 20:08:36 +0800', merchant='Larkin, Stracke and Greenfelder', category='entertainment', amt=69.37999725341797, gender='F', city='Brandon', state='VT', zip='5733', lat=43.810001373291016, long=-73.08999633789062, city_pop=5895, job='Scientist, marine', dob='1975', merch_lat=43.808956146240234, merch_long=-72.27716827392578, is_fraud=0, merch_zipcode='05075', merch_last_update_time='2013-06-22 04:08:36.774000 +0800', merch_eff_time='2013-06-22 04:08:36.207287 +0800'), Row(Unnamed: 0=1296665, trans_date_trans_time='2020-06-21 20:08:42 +0800', merchant='Gulgowski LLC', category='home', amt=72.16999816894531, gender='M', city='Pointe Aux Pins', state='MI', zip='49775', lat=45.75, long=-84.44999694824219, city_pop=95, job='Electrical engineer', dob='1994', merch_lat=44.93846130371094, merch_long=-83.99623107910156, is_fraud=0, merch_zipcode='49709', merch_last_update_time='2013-06-22 04:08:42.101000 +0800', merch_eff_time='2013-06-22 04:08:42.863033 +0800'), Row(Unnamed: 0=1296666, trans_date_trans_time='2020-06-21 20:09:22 +0800', merchant='Hyatt, Russel and Gleichner', category='health_fitness', amt=7.300000190734863, gender='F', city='Pembroke Township', state='IL', zip='60958', lat=41.060001373291016, long=-87.58999633789062, city_pop=2135, job='Psychotherapist, child', dob='2004', merch_lat=40.55681228637695, merch_long=-88.09233856201172, is_fraud=0, merch_zipcode='60948', merch_last_update_time='2013-06-22 04:09:22.824000 +0800', merch_eff_time='2013-06-22 04:09:22.143956 +0800'), Row(Unnamed: 0=1296667, trans_date_trans_time='2020-06-21 20:10:56 +0800', merchant='Hahn, Douglas and Schowalter', category='travel', amt=19.709999084472656, gender='M', city='Haines City', state='FL', zip='33844', lat=28.079999923706055, long=-81.58999633789062, city_pop=33804, job='Exercise physiologist', dob='1991', merch_lat=27.465871810913086, merch_long=-81.51180267333984, is_fraud=0, merch_zipcode='33872', merch_last_update_time='2013-06-22 04:10:56.469000 +0800', merch_eff_time='2013-06-22 04:10:56.904524 +0800'), Row(Unnamed: 0=1296668, trans_date_trans_time='2020-06-21 20:11:23 +0800', merchant='Metz, Russel and Metz', category='kids_pets', amt=100.8499984741211, gender='F', city='Florence', state='MS', zip='39073', lat=32.150001525878906, long=-90.12000274658203, city_pop=19685, job='Fine artist', dob='1984', merch_lat=31.377696990966797, merch_long=-90.52845001220703, is_fraud=0, merch_zipcode='39629', merch_last_update_time='2013-06-22 04:11:23.612000 +0800', merch_eff_time='2013-06-22 04:11:23.896361 +0800'), Row(Unnamed: 0=1296669, trans_date_trans_time='2020-06-21 20:11:36 +0800', merchant='Stiedemann Inc', category='misc_pos', amt=37.380001068115234, gender='F', city='North Loup', state='NE', zip='68859', lat=41.5, long=-98.79000091552734, city_pop=509, job=\"Nurse, children's\", dob='1980', merch_lat=41.7286376953125, merch_long=-99.03965759277344, is_fraud=0, merch_zipcode='68837', merch_last_update_time='2013-06-22 04:11:36.340000 +0800', merch_eff_time='2013-06-22 04:11:36.580397 +0800'), Row(Unnamed: 0=1296670, trans_date_trans_time='2020-06-21 20:12:08 +0800', merchant='Reichel Inc', category='entertainment', amt=15.5600004196167, gender='M', city='Hatch', state='UT', zip='84735', lat=37.720001220703125, long=-112.4800033569336, city_pop=258, job='Geoscientist', dob='1961', merch_lat=36.84126663208008, merch_long=-111.69076538085938, is_fraud=0, merch_zipcode=None, merch_last_update_time='2013-06-22 04:12:08.612000 +0800', merch_eff_time='2013-06-22 04:12:08.725231 +0800'), Row(Unnamed: 0=1296671, trans_date_trans_time='2020-06-21 20:12:19 +0800', merchant='Abernathy and Sons', category='food_dining', amt=51.70000076293945, gender='M', city='Tuscarora', state='MD', zip='21790', lat=39.27000045776367, long=-77.51000213623047, city_pop=100, job='Production assistant, television', dob='1979', merch_lat=38.90687942504883, merch_long=-78.24652862548828, is_fraud=0, merch_zipcode='22630', merch_last_update_time='2013-06-22 04:12:19.649000 +0800', merch_eff_time='2013-06-22 04:12:19.578838 +0800'), Row(Unnamed: 0=1296672, trans_date_trans_time='2020-06-21 20:12:32 +0800', merchant='Stiedemann Ltd', category='food_dining', amt=105.93000030517578, gender='M', city='High Rolls Mountain Park', state='NM', zip='88325', lat=32.939998626708984, long=-105.81999969482422, city_pop=899, job='Naval architect', dob='1967', merch_lat=33.61951446533203, merch_long=-105.13053131103516, is_fraud=0, merch_zipcode='88351', merch_last_update_time='2013-06-22 04:12:32.176000 +0800', merch_eff_time='2013-06-22 04:12:32.186845 +0800'), Row(Unnamed: 0=1296673, trans_date_trans_time='2020-06-21 20:13:36 +0800', merchant='Reinger, Weissnat and Strosin', category='food_dining', amt=74.9000015258789, gender='M', city='Manderson', state='SD', zip='57756', lat=43.349998474121094, long=-102.54000091552734, city_pop=1126, job='Volunteer coordinator', dob='1980', merch_lat=42.7889404296875, merch_long=-103.24115753173828, is_fraud=0, merch_zipcode='69367', merch_last_update_time='2013-06-22 04:13:36.264000 +0800', merch_eff_time='2013-06-22 04:13:36.913435 +0800'), Row(Unnamed: 0=1296674, trans_date_trans_time='2020-06-21 20:13:37 +0800', merchant='Langosh, Wintheiser and Hyatt', category='food_dining', amt=4.300000190734863, gender='M', city='Sula', state='MT', zip='59871', lat=45.84000015258789, long=-113.87000274658203, city_pop=218, job='Therapist, horticultural', dob='1995', merch_lat=46.565982818603516, merch_long=-114.18611145019531, is_fraud=0, merch_zipcode='59870', merch_last_update_time='2013-06-22 04:13:37.611000 +0800', merch_eff_time='2013-06-22 04:13:37.420462 +0800')]\n",
      "root\n",
      " |-- Unnamed: 0: integer (nullable = true)\n",
      " |-- trans_date_trans_time: string (nullable = true)\n",
      " |-- merchant: string (nullable = true)\n",
      " |-- category: string (nullable = true)\n",
      " |-- amt: float (nullable = true)\n",
      " |-- gender: string (nullable = true)\n",
      " |-- city: string (nullable = true)\n",
      " |-- state: string (nullable = true)\n",
      " |-- zip: string (nullable = true)\n",
      " |-- lat: float (nullable = true)\n",
      " |-- long: float (nullable = true)\n",
      " |-- city_pop: integer (nullable = true)\n",
      " |-- job: string (nullable = true)\n",
      " |-- dob: string (nullable = true)\n",
      " |-- merch_lat: float (nullable = true)\n",
      " |-- merch_long: float (nullable = true)\n",
      " |-- is_fraud: integer (nullable = true)\n",
      " |-- merch_zipcode: string (nullable = true)\n",
      " |-- merch_last_update_time: string (nullable = true)\n",
      " |-- merch_eff_time: string (nullable = true)\n",
      "\n"
     ]
    },
    {
     "name": "stderr",
     "output_type": "stream",
     "text": [
      "                                                                                \r"
     ]
    }
   ],
   "source": [
    "# Direct Identifiers\n",
    "# cc_num, first, last, trans_num, dob\n",
    "\n",
    "# Indirect Identifiers\n",
    "# city, state, zip, street, job, lat, long, cc_bic\n",
    "\n",
    "# Indentifiers to delete : \n",
    "identifier_delete = [\n",
    "    # not needed for analysis\n",
    "    \"cc_num\",\n",
    "    \"first\",\n",
    "    \"last\",\n",
    "    \"trans_num\",\n",
    "    \"cc_bic\",\n",
    "    # specific location not required\n",
    "    \"street\",\n",
    "]\n",
    "\n",
    "# reducing specificity of location by rounding latitude and longitude\n",
    "df_cleaned = df_cleaned.withColumn(\"lat\", sf.round(sf.col(\"lat\"), 2))\n",
    "df_cleaned = df_cleaned.withColumn(\"long\", sf.round(sf.col(\"long\"), 2))\n",
    "\n",
    "# remove columns \n",
    "df_cleaned = df_cleaned.drop(*identifier_delete)\n",
    "\n",
    "# keep only the year (first 4 digits) from dob\n",
    "df_cleaned = df_cleaned.withColumn(\"dob\", sf.substring(sf.col(\"dob\"), 1, 4))\n",
    "\n",
    "df_cleaned.show(40,truncate=False)\n",
    "print(df_cleaned.tail(40))\n",
    "\n",
    "df_cleaned.printSchema()"
   ]
  },
  {
   "cell_type": "markdown",
   "id": "bf9f00d8",
   "metadata": {},
   "source": [
    "Plots - Pyspark now has native plotting without needing to convert to pandas. working on a plotly backend. "
   ]
  },
  {
   "cell_type": "markdown",
   "id": "30daf422",
   "metadata": {},
   "source": [
    "KDE plot"
   ]
  },
  {
   "cell_type": "code",
   "execution_count": 5,
   "id": "3e804b86",
   "metadata": {},
   "outputs": [
    {
     "name": "stderr",
     "output_type": "stream",
     "text": [
      "                                                                                \r"
     ]
    },
    {
     "name": "stdout",
     "output_type": "stream",
     "text": [
      "Min: $1.00 \n",
      "Max: $28948.90\n"
     ]
    },
    {
     "name": "stderr",
     "output_type": "stream",
     "text": [
      "25/07/22 03:47:02 WARN DAGScheduler: Broadcasting large task binary with size 3.1 MiB\n",
      "25/07/22 03:48:25 WARN DAGScheduler: Broadcasting large task binary with size 5.4 MiB\n",
      "                                                                                \r"
     ]
    },
    {
     "data": {
      "application/vnd.plotly.v1+json": {
       "config": {
        "plotlyServerURL": "https://plot.ly"
       },
       "data": [
        {
         "hovertemplate": "names=amt<br>index=%{x}<br>Density=%{y}<extra></extra>",
         "legendgroup": "amt",
         "line": {
          "color": "#636efa",
          "dash": "solid"
         },
         "marker": {
          "symbol": "circle"
         },
         "mode": "lines",
         "name": "amt",
         "orientation": "v",
         "showlegend": true,
         "type": "scatter",
         "x": {
          "bdata": "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",
          "dtype": "f8"
         },
         "xaxis": "x",
         "y": {
          "bdata": "AAAAAAAAAAAAAAAAAAAAAAAAAAAAAAAAAAAAAAAAAAAAAAAAAAAAAAAAAAAAAAAAAAAAAAAAAAAAAAAAAAAAAAAAAAAAAAAAAAAAAAAAAAAAAAAAAAAAAAAAAAAAAAAAAAAAAAAAAAAAAAAAAAAAAAAAAAAAAAAAAAAAAAAAAAAAAAAAAAAAAAAAAAAAAAAAAAAAAAAAAAAAAAAAAAAAAAAAAAAAAAAAAAAAAAAAAAAAAAAAAAAAAAAAAAAAAAAAAAAAAAAAAAAAAAAAAAAAAAAAAAAAAAAAAAAAAAAAAAAAAAAAAAAAAAAAAAAAAAAAAAAAAAAAAAAAAAAAAAAAAAAAAAAAAAAAAAAAAAAAAAAAAAAAAAAAAAAAAAAAAAAAAAAAAAAAAAAAAAAAAAAAAAAAAAAAAAAAAAAAAAAAAAAAAAAAAAAAAAAAAAAAAAAAAAAAAAAAAAAAAAAAAAAAAAAAAAAAAAAAAAAAAAAAAAAAAAAAAAAAAAAAAAAAAAAAAAAAAAAAAAAAAAAAAAAAAAAAAAAAAAAAAAAAAAAAAAAAAAAAAAAAAAAAAAAAAAAAAAAAAAAAAAAAAAAAAAAAAAAAAAAAAAAAAAAAAAAAAAAAAAAAAAAAAAAAAAAAAAAAAAAAAAAAAAAAAAAAAAAAAAAAAAAAAAAAAAAAAAAAAAAAAAAAAAAAAAAAAAAAAAAAAAAAAAAAAAAAAAAAAAAAAAAAAAAAAAAAAAAAAAAAAAAAAAAAAAAAAAAAAAAAAAAAAAAAAAAAAAAAAAAAAAAAAAAAAAAAAAAAAAAAAAAAAAAAAAAAAAAAAAAAAAAAAAAAAAAAAAAAAAAAAAAAAAAAAAAAAAAAAAAAAAAAAAAAAAAAAAAAAAAAAAAAAAAAAAAAAAAAAAAAAAAAAAAAAAAAAAAAAAAAAAAAAAAAAAAAAAAAAAAAAAAAAAAAAAAAAAAAAAAAAAAAAAAAAAAAAAAAAAAAAAAAAAAAAAAAAAAAAAAAAAAAAAAAAAAAAAAAAAAAAAAAAAAAAAAAAAAAAAAAAAAAAAAAAAAAAAAAAAAAAAAAAAAAAAAAAAAAAAAAAAAAAAAAAAAAAAAAAAAAAAAAAAAAAAAAAAAAAAAAAAAAAAAAAAAAAAAAAAAAAAAAAAAAAAAAAAAAAAAAAAAAAAAAAAAAAAAAAAAAAAAAAAAAAAAAAAAAAAAAAAAAAAAAAAAAAAAAAAAAAAAAAAAAAAAAAAAAAAAAAAAAAAAAAAAAAAAAAAAAAAAAAAAAAAAAAAAAAAAAAAAAAAAAAAAAAAAAAAAAAAAAAAAAAAAAAAAAAAAAAAAAAAAAAAAAAAAAAAAAAAAAAAAAAAAAAAAAAAAAAAAAAAAAAAAAAAAAAAAAAAAAAAAAAAAAAAAAAAAAAAAAAAAAAAAAAAAAAAAAAAAAAAAAAAAAAAAAAAAAAAAAAAAAAAAAAAAAAAAAAAAAAAAAAAAAAAAAAAAAAAAAAAAAAAAAAAAAAAAAAAAAAAAAAAAAAAAAAAAAAAAAAAAAAAAAAAAAAAAAAAAAAAAAAAAAAAAAAAAAAAAAAAAAAAAAAAAAAAAAAAAAAAAAAAAAAAAAAAAAAAAAAAAAAAAAAAAAAAAAAAAAAAAAAAAAAAAAAAAAAAAAAAAAAAAAAAAAAAAAAAAAAAAAAAAAAAAAAAAAAAAAAAAAAAAAAAAAAAAAAAAAAAAAAAAAAAAAAAAAAAAAAAAAAAAAAAAAAAAAAAAAAAAAAAAAAAAAAAAAAAAAAAAAAAAAAAAAAAAAAAAAAAAAAAAAAAAAAAAAAAAAAAAAAAAAAAAAAAAAAAAAAAAAAAAAAAAAAAAAAAAAAAAAAAAAAAAAAAAAAAAAAAAAAAAAAAAAAAAAAAAAAAAAAAAAAAAAAAAAAAAAAAAAAAAAAAAAAAAAAAAAAAAAAAAAAAAAAAAAAAAAAAAAAAAAAAAAAAAAAAAAAAAAAAAAAAAAAAAAAAAAAAAAAAAAAAAAAAAAAAAAAAAAAAAAAAAAAAAAAAAAAAAAAAAAAAAAAAAAAAAAAAAAAAAAAAAAAAAAAAAAAAAAAAAAAAAAAAAAAAAAAAAAAAAAAAAAAAAAAAAAAAAAAAAAAAAAAAAAAAAAAAAAAAAAAAAAAAAAAAAAAAAAAAAAAAAAAAAAAAAAAAAAAAAAAAAAAAAAAAAAAAAAAAAAAAAAAAAAAAAAAAAAAAAAAAAAAAAAAAAAAAAAAAAAAAAAAAAAAAAAAAAAAAAAAAAAAAAAAAAAAAAAAAAAAAAAAAAAAAAAAAAAAAAAAAAAAAAAAAAAAAAAAAAAAAAAAAAAAAAAAAAAAAAAAAAAAAAAAAAAAAAAAAAAAAAAAAAAAAAAAAAAAAAAAAAAAAAAAAAAAAAAAAAAAAAAAAAAAAAAAAAAAAAAAAAAAAAAAAAAAAAAAAAAAAAAAAAAAAAAAAAAAAAAAAAAAAAAAAAAAAAAAAAAAAAAAAAAAAAAAAAAAAAAAAAAAAAAAAAAAAAAAAAAAAAAAAAAAAAAAAAAAAAAAAAAAAAAAAAAAAAAAAAAAAAAAAAAAAAAAAAAAAAAAAAAAAAAAAAAAAAAAAAAAAAAAAAAAAAAAAAAAAAAAAAAAAAAAAAAAAAAAAAAAAAAAAAAAAAAAAAAAAAAAAAAAAAAAADLnGnD4pR7P4n5Sm/kBH8/6n2P2g/KWz9KrUZU1XFEP78KIv8lXyg/9FQhQRw0Gj+n5JlT8KYMP0hU/bWNvAI/Dr2ubZQMDD+cbN5v+KAFP9m3JrVjxvY+cX70TGlg8D7t1xUyn0jwPmqZRf6Zl/I+b8SFBMrG6z7fdmTxzgPtPq1cpbRN8Ok+2v+ZEQBW6D7BDF9499PhPoalT71vcNk+Ge9l+V3y0D4X1Hdce8u+Pg/MPdbvi8o+lB2+G9VMpz5Iuz0OWaXEPhd5bN5KWro+zuFT9Pxwpj7rXG+Haw6wPuq/vF9aurQ+a0fJo/zYvj7LZ+eboV2TPvSR4RA8uqU+QdbA1/PYZj6jl+W1JUxzPrWqoIIkAGk+YvBO0sXBhT4jTuz3p++mPiuVN0O+V5M+PAB1qCF8cT7kxVXjcMaGPs/fbXeyT/w9oKwhBWi9ZT4oWkPlCFuqPjRWkCR4LJI+J/04BtuzmT7l/fSzv1uXPr6I3IzVx4s+r/JcJv8yQD0o91x8XK+UPgBRvXEESZ0+ZNaYUkP0jj6WS46jkN3gPexa0jeHWkE+SvbohpKCfT6YEsZi3wqYPk42OB4r1Zw8vMm8nYgymz1ls+ZyeJWTPs39mqtADNA92mwTaFPdlT4KIfqBrwNbPLOofGtxM2w6o2FDVpgOHz2mvukX0ZxTKmoNShxjlew8EIZL+D0Qhz280OG/zxMTO1WIsLN5DfU8RfUHVD5lGz2L9WB4UmBUPn6G/X4ezEs5iq0NjmUdEjyINgJx2qIkPsjjPigJtaE+AQgKHN9VmT5oZrml2976OvCCnCSJ7rw99/No2WOxTgT+QhmffyqgPKRjBrv+eEc+DSnFSaSJlT4962KLo2UwDP08R8TRjMk80EZ9HVsW1TwnC3sEhU5sJcrWtliEelc43JiPl/ktxDJgu3VkHORAOFYMQJ/mJAc70l/AW6pPLzOAdLTC+vjBPQAAAAAAAAAAwtytEt/xhjpz+hjCzWByJmSX6lg3+5s69mtPngdZ0i/sNZcMmLiSPgAAAAAAAAAAvwba7snBmT5hUoprjzCXPiD82XBd5zk8uG5cVZKZEikIiIrsRCjXMf27r8gEB40uxUTRyuljhi0kG9LGnZNgLwsfrwt2P+Q9TIQveaevBD0AAAAAAAAAABB2PfeA7Pk8AAAAAAAAAAAWluy7a+0lN+OdCwXe6tIdHmMTZ9I9WB0AAAAAAAAAAIATO12nmSc9BbXixGd//ybkahRT0z9sGmN8lmNQdpk+pkGnYKwInxsrM4jpx3AhPgAAAAAAAAAAVe7NpH61KRW3dymHdpaMPgAAAAAAAAAApCmX1oESxDOfEY2aAnayAgAAAAAAAAAAAAAAAAAAAAApNdvaEAZ8PAAAAAAAAAAAcoXoer2ReyoAAAAAAAAAAJX30IFxyD8u+CkqDnHOizlbw76a9YwxDgAAAAAAAAAAAAAAAAAAAAAAAAAAAAAAACJILV0XoGM0AAAAAAAAAACwLK5FpK/AC/abP+nYliw3tAf/V377ADwAAAAAAAAAAEg5r5mNV9o3AAAAAAAAAAB0aPl/qxhRNwAAAAAAAAAACEiicIu8CToAAAAAAAAAANwXWOiaWGU9bBFSsA1IIR6h9vuEc7ZnMgAAAAAAAAAAJ8ffj7GriSsAAAAAAAAAANOLjC6zAn8wblxnk2lLjhEAAAAAAAAAAAAAAAAAAAAAAAAAAAAAAAAAAAAAAAAAAHYZBxB4yFc7AAAAAAAAAABgJruIui2hGgAAAAAAAAAAAAAAAAAAAADK6vmk7Ez3PQAAAAAAAAAAGeKLNPAAqjvcwb+DCPXbO0c+zpcKUwk0AAAAAAAAAAAAAAAAAAAAAAAAAAAAAAAAAAAAAAAAAAAAAAAAAAAAAAAAAAAAAAAAAAAAAAAAAAB+YcyWXu+8HIti+L8E5o8iAAAAAAAAAAAAAAAAAAAAAJ3sJ4auKXoxAAAAAAAAAABqOS4v34cEJ9bRDMf/8GwGq0T1HfhUWy0AAAAAAAAAAAAAAAAAAAAAAAAAAAAAAAAAAAAAAAAAAAAAAAAAAAAAAAAAAAAAAAAAAAAAAAAAAOeVHe9LrCs+zTJ4g/amLjgAAAAAAAAAAAAAAAAAAAAAILioEu7AAhkAAAAAAAAAAMd7xt99R50KAAAAAAAAAAAAAAAAAAAAAPwpvRU4aLQWD2p63Qc4JDtvH4ao2o77MQAAAAAAAAAAAAAAAAAAAAB9grrQKoWaOAAAAAAAAAAAAAAAAAAAAAAAAAAAAAAAAAAAAAAAAAAAAAAAAAAAAACq8BEyQNMBLwAAAAAAAAAAAAAAAAAAAAAAAAAAAAAAAHMJiGHlt+UbAAAAAAAAAAAAAAAAAAAAAAAAAAAAAAAAAAAAAAAAAAAAAAAAAAAAAHeAajPLy0A7AAAAAAAAAAAAAAAAAAAAAAAAAAAAAAAAAAAAAAAAAAAAAAAAAAAAAAAAAAAAAAAAX91rjXVudCcAAAAAAAAAAAAAAAAAAAAAAAAAAAAAAAAAAAAAAAAAAAAAAAAAAAAAAAAAAAAAAAAAAAAAAAAAAAAAAAAAAAAAAAAAAAAAAADEv00oqdoeMAAAAAAAAAAAfxxiDCXHMBYAAAAAAAAAAAAAAAAAAAAARLoUUXVZjSS+roYAeyGIHQAAAAAAAAAAAAAAAAAAAABf3nFv+25RNgAAAAAAAAAAAAAAAAAAAAAAAAAAAAAAAJHNYFQD7lc+AAAAAAAAAAAAAAAAAAAAAJAL6M2PxE85AAAAAAAAAAAAAAAAAAAAAAAAAAAAAAAAAAAAAAAAAACn51wXEQ54OAAAAAAAAAAAAAAAAAAAAAAAAAAAAAAAAAAAAAAAAAAAAAAAAAAAAAAAAAAAAAAAAAAAAAAAAAAAAAAAAAAAAAAAAAAAAAAAAAAAAAAAAAAAAAAAAAAAAAAAAAAAAAAAAAAAAAAAAAAAAAAAAAAAAAAAAAAAAAAAAAAAAAAAAAAAAAAAAAAAAAAAAAAAAAAAAAAAAAAAAAAAAAAAAAAAAAAAAAAAAAAAAAAAAAAAAAAAAAAAAAAAAAAAAAAAAAAAAAAAAAAAAAAAAAAAAAAAAAAAAAAAAAAAAAAAAAAAAAAAAAAAAAAAAAAAAAAAAAAAAAAAAAAAAAAAAAAAAAAAAAAAAAAAAAAAAAAAAAAAAAAAAAAAAAAAAAAAAAAAAAAAAAAAAAAAAAAAAAAAAAAAAAAAAAAAAAAAAAAAAAAAAAAAAAAAAAAAAAAAAAAAAAAAAAAAAAAAAAAAAAAAAAAAAACddvfARXIiDwAAAAAAAAAAAAAAAAAAAAAAAAAAAAAAAAAAAAAAAAAAAAAAAAAAAAAAAAAAAAAAAAAAAAAAAAAAAAAAAAAAAAAAAAAAAAAAAAAAAAAAAAAAAAAAAAAAAAAAAAAAAAAAAAAAAAAAAAAAAAAAAAAAAAAAAAAAAAAAAAAAAAAAAAAAAAAAAAAAAAAAAAAAAAAAAAAAAAAAAAAAAAAAAAAAAAAAAAAAAAAAAAAAAAAAAAAAAAAAAAAAAAAAAAAAAAAAAAAAAAAAAAAAAAAAAAAAAAAAAAAAAAAAAAAAAAAAAAAAAAAAAAAAAAAAAAAAAAAAAAAAAAAAAAAAAAAAAAAAAAAAAAAAAAAAAAAAAAAAAAAAAAAAAAAAAAAAAAAAAAAAAAAAAAAAAAAAAAAAAAAAAAAAAAAAAAAAAAAAAAAAAAAAAAAAAAAAAAAAAAAAAAAAAAAAAAAAAAAAAAAAAAAAAAAAAAAAAAAAAAAAAAAAAAAAAAAAAAAAAAAAAAAAAAAAAAAAAAAAAAAAAAAAAAAAAAAAAAAAAAAAAAAAAAAAAAAAAAAAAAAAAAAAAAAAAAAAAAAAAAAAAAAAAAAAAAAAAAAAAAAAAAAAAAAAAAAAAAAAAAAAAAAAAAAAAAAAAAAAAAAAAAAAAAAAAAAAAAAAAAAAAAAAAAAAAAAAAAAAAAAAAAAAAAAAAAAAAAAAAAAAAAAAAAAAAAAAAAAAAAAAAAAAAAAAAAAAAAAAAAAAAAAAAAAAAAAAAAAAAAAAAAAAAAAAAAAAAAAAAAAAAAAAAAAAAAAAAAAAAAAAAAAAAAAAAAAAAAAAAAAAAAAAAAAAAAAAAAAAAAAAAAAAAAAAAAAAAAAAAAAAAAAAAAAAAAAAAAAAAAAAAAAAAAAAAAAAAAAAAAAAAAAAAAAAAAAAAAAAAAAAAAAAAAAAAAAAAAAAAAAAAAAAAAAAAAAAAAAAAAAAAAAAAAAAAAAAAAAAAAAAAAAAAAAAAAAAAAAAAAAAAAAAAAAAAAAAAAAAAAAAAAAAAAAAAAAAAAAAAAAAAAAAAAAAAAAAAAAAAAAAAAAAAAAAAAAAAAAAAAAAAAAAAAAAAAAAAAAAAAAAAAAAAAAAAAAAAAAAAAAAAAAAAAAAAAAAAAAAAAAAAAAAAAAAAAAAAAAAAAAAAAAAAAAAAAAAAAAAAAAAAAAAAAAAAAAAAAAAAAAAAAAAAAAAAAAAAAAAAAAAAAAAAAAAAAAAAAAAAAAAAAAAAAAAAAAAAAAAAAAAAAAAAAAAAAAAAAAAAAAAAAAAAAAAAAAAAAAAAAAAAAAAAAAAAFz72Af0n9waAAAAAAAAAAAAAAAAAAAAAAAAAAAAAAAAAAAAAAAAAAAAAAAAAAAAAAAAAAAAAAAAAAAAAAAAAAAAAAAAAAAAAAAAAAAAAAAAAAAAAAAAAAAAAAAAAAAAAAAAAAAAAAAAAAAAAAAAAAAAAAAAAAAAAAAAAAAAAAAAAAAAAAAAAAAAAAAAAAAAAAAAAAAAAAAAAAAAAAAAAAAAAAAAAAAAAAAAAAAAAAAAAAAAAAAAAAAAAAAAAAAAAAAAAAAAAAAArc4ujNtmazAAAAAAAAAAAAAAAAAAAAAAAAAAAAAAAAAAAAAAAAAAAAAAAAAAAAAAAAAAAAAAAAAAAAAAAAAAAAAAAAAAAAAAAAAAAAAAAACt+MWsaFmVJwAAAAAAAAAAAAAAAAAAAAAAAAAAAAAAAKmMcqZwoB4hAAAAAAAAAAAAAAAAAAAAAAAAAAAAAAAAAAAAAAAAAAAAAAAAAAAAAAAAAAAAAAAAAAAAAAAAAAAAAAAAAAAAAAAAAAAAAAAAAAAAAAAAAAAAAAAAAAAAAAAAAAAAAAAAAAAAAAAAAAAAAAAAAAAAAAAAAAAAAAAAAAAAAAAAAAAAAAAAAAAAAAAAAAAAAAAAAAAAAAAAAAAAAAAAAAAAAAAAAAAAAAAAAAAAAAAAAAAAAAAAAAAAAAAAAAAAAAAAAAAAAAAAAAAAAAAAAAAAAOWnAJKTEtEvAAAAAAAAAAAAAAAAAAAAAAAAAAAAAAAAAAAAAAAAAAAAAAAAAAAAAAAAAAAAAAAAAAAAAAAAAAAAAAAAAAAAAAAAAAAAAAAAAAAAAAAAAAAAAAAAAAAAAAAAAAAAAAAAAAAAAAAAAAAAAAAAAAAAAAAAAAAAAAAAAAAAAAAAAAAAAAAAAAAAAAAAAAAAAAAAAAAAAAAAAAAAAAAAAAAAAAAAAAAAAAAAAAAAAAAAAAAAAAAAAAAAAAAAAAAAAAAAAAAAAAAAAAAAAAAAAAAAAAAAAAAAAAAAAAAAAAAAAAAAAAAAAAAAAAAAAAAAAAAAAAAAAAAAAAAAAAAAAAAAAAAAAAAAAAAAAAAAAAAAAAAAAAAAAAAAAAAAAAAAAAAAAAAAAAAAAAAAAAAAAAAAAAAAAAAAAAAAAAAAAAAAAAAAAAAAAAAAAAAAAAAAAAAAAAAAAAAAAAAAAAAAAAAAAAAAAAAAAAAAAAAAAAAAAAAAAAAAAAAAAAAAAAAAAAAAAAAAAAAAAAAAAAAAAAAAAAAAAAAAAAAAAAAAAAAAAAAAAAAAAAAAAAAAAAAAAAAAAAAAAAAAAAAAAAAAAAAAAAAAAAAAAAAAAAAAAAAAAAAAAAAAAAAAAAAAAAAAAAAAAAAAAAAAAAAAAAAAAAAAAAAAAAAAAAAAAAAAAAAAAAAAAAAAAAAAAAAAAAAAAAAAAAAAAAAAAAAAAAAAAAAAAAAAAAAAAAAAAAAAAAAAAAAAAAAAAAAAAAAAAAAAAAAAAAAAAAAAAAAAAAAAAAAAAAAAAAAAAAAAAAAAAAAAAAAAAAAAAAAAAAAAAAAAAAAAAAAAAAAAAAAAAAAAAAAAAAAAAAAAAAAAAAAAAAAAAAAAAAAAAAAAAAAAAAAAAAAAAAAAAAAAAAAAAAAAAAAAAAAAAAAAAAAAAAAAAAAAAAAAAAAAAAAAAAAAAAAAAAAAAAAAAAAAAAAAAAAAAAAAAAAAAAAAAAAAAAAAAAAAAAAAAAAAAAAAAAAAAAAAAAAAAAAAAAAAAAAAAAAAAAAAAAAAAAAAAAAAAAAAAAAAAAAAAAAAAAAAAAAAAAAAAAAAAAAAAAAAAAAAAAAAAAAAAAAAAAAAAAAAAAAAAAAAAAAAAAAAAAAAAAAAAAAAAAAAAAAAAAAAAAAAAAAAAAAAAAAAAAAAAAAAAAAAAAAAAAAAAAAAAAAAAAAAAAAAAAAAAAAAAAAAAAAAAAAAAAAAAAAAAAAAAAAAAAAAAAAAAAAAAAAAAAAAAAAAAAAAAAAAAAAAAAAAAAAAAAAAAAAAAAAAAAAAAAAAAAAAAAAAAAAAAAAAAAAAAAAAAAAAAAAAAAAAAAAAAAAAAAAAAAAAAAAAAAAAAAAAAAAAAAAAAAAAAAAAAAAAAAAAAAAAAAAAAAAAAAAAAAAAAAAAAAAAAAAAAAAAAAAAAAAAAAAAAAAAAAAAAAAAAAAAAAAAAAAAAAAAAAAAAAAAAAAAAAAAAAAAAAAAAAAAAAAAAAAAAAAAAAAAAAAAAAAAAAAAAAAAAAAAAAAAAAAAAAAAAAAAAAAAAAAAAAAAAAAAAAAAAAAAAAAAAAAAAAAAAAAAAAAAAAAAAAAAAAAAAAAAAAAAAAAAAAAAAAAAAAAAAAAAAAAAAAAAAAAAAAAAAAAAAAAAAAAAAAAAAAAAAAAAAAAAAAAAAAAAAAAAAAAAAAAAAAAAAAAAAAAAAAAAAAAAAAAAAAAAAAAAAAAAAAAAAAAAAAAAAAAAAAAAAAAAAAAAAAAAAAAAAAAAAAAAAAAAAAAAAAAAAAAAAAAAAAAAAAAAAAAAAAAAAAAAAAAAAAAAAAAAAAAAAAAAAAAAAAAAAAAAAAAAAAAAAAAAAAAAAAAAAAAAAAAAAAAAAAAAAAAAAAAAAAAAAAAAAAAAAAAAAAAAAAAAAAAAAAAAAAAAAAAAAAAAAAAAAAAAAAAAAAAAAAAAAAAAAAAAAAAAAAAAAAAAAAAAAAAAAAAAAAAAAAAAAAAAAAAAAAAAAAAAAAAAAAAAAAAAAAAAAAAAAAAAAAAAAAAAAAAAAAAAAAAAAAAAAAAAAAAAAAAAAAAAAAAAAAAAAAAAAAAAAAAAAAAAAAAAAAAAAAAAAAAAAAAAAAAAAAAAAAAAAAAAAAAAAAAAAAAAAAAAAAAAAAAAAAAAAAAAAAAAAAAAAAAAAAAAAAAAAAAAAAAAAAAAAAAAAAAAAAAAAAAAAAAAAAAAAAAAAAAAAAAAAAAAAAAAAAAAAAAAAAAAAAAAAAAAAAAAAAAAAAAAAAAAAAAAAAAAAAAAAAAAAAAAAAAAAAAAAAAAAAAAAAAAAAAAAAAAAAAAAAAAAAAAAAAAAAAAAAAAAAAAAAAAAAAAAAAAAAAAAAAAAAAAAAAAAAAAAAAAAAAAAAAAAAAAAAAAAAAAAAAAAAAAAAAAAAAAAAAAAAAAAAAAAAAAAAAAAAAAAAAAAAAAAAAAAAAAAAAAAAAAAAAAAAAAAAAAAAAAAAAAAAAAAAAAAAAAAAAAAAAAAAAAAAAAAAAAAAAAAAAAAAAAAAAAAAAAAAAAAAAAAAAAAAAAAAAAAAAAAAAAAAAAAAAAAAAAAAAAAAAAAAAAAAAAAAAAAAAAAAAAAAAAAAAAAAAAAAAAAAAAAAAAAAAAAAAAAAAAAAAAAAA=",
          "dtype": "f8"
         },
         "yaxis": "y"
        }
       ],
       "layout": {
        "legend": {
         "title": {
          "text": "names"
         },
         "tracegroupgap": 0
        },
        "margin": {
         "t": 60
        },
        "template": {
         "data": {
          "bar": [
           {
            "error_x": {
             "color": "#2a3f5f"
            },
            "error_y": {
             "color": "#2a3f5f"
            },
            "marker": {
             "line": {
              "color": "white",
              "width": 0.5
             },
             "pattern": {
              "fillmode": "overlay",
              "size": 10,
              "solidity": 0.2
             }
            },
            "type": "bar"
           }
          ],
          "barpolar": [
           {
            "marker": {
             "line": {
              "color": "white",
              "width": 0.5
             },
             "pattern": {
              "fillmode": "overlay",
              "size": 10,
              "solidity": 0.2
             }
            },
            "type": "barpolar"
           }
          ],
          "carpet": [
           {
            "aaxis": {
             "endlinecolor": "#2a3f5f",
             "gridcolor": "#C8D4E3",
             "linecolor": "#C8D4E3",
             "minorgridcolor": "#C8D4E3",
             "startlinecolor": "#2a3f5f"
            },
            "baxis": {
             "endlinecolor": "#2a3f5f",
             "gridcolor": "#C8D4E3",
             "linecolor": "#C8D4E3",
             "minorgridcolor": "#C8D4E3",
             "startlinecolor": "#2a3f5f"
            },
            "type": "carpet"
           }
          ],
          "choropleth": [
           {
            "colorbar": {
             "outlinewidth": 0,
             "ticks": ""
            },
            "type": "choropleth"
           }
          ],
          "contour": [
           {
            "colorbar": {
             "outlinewidth": 0,
             "ticks": ""
            },
            "colorscale": [
             [
              0,
              "#0d0887"
             ],
             [
              0.1111111111111111,
              "#46039f"
             ],
             [
              0.2222222222222222,
              "#7201a8"
             ],
             [
              0.3333333333333333,
              "#9c179e"
             ],
             [
              0.4444444444444444,
              "#bd3786"
             ],
             [
              0.5555555555555556,
              "#d8576b"
             ],
             [
              0.6666666666666666,
              "#ed7953"
             ],
             [
              0.7777777777777778,
              "#fb9f3a"
             ],
             [
              0.8888888888888888,
              "#fdca26"
             ],
             [
              1,
              "#f0f921"
             ]
            ],
            "type": "contour"
           }
          ],
          "contourcarpet": [
           {
            "colorbar": {
             "outlinewidth": 0,
             "ticks": ""
            },
            "type": "contourcarpet"
           }
          ],
          "heatmap": [
           {
            "colorbar": {
             "outlinewidth": 0,
             "ticks": ""
            },
            "colorscale": [
             [
              0,
              "#0d0887"
             ],
             [
              0.1111111111111111,
              "#46039f"
             ],
             [
              0.2222222222222222,
              "#7201a8"
             ],
             [
              0.3333333333333333,
              "#9c179e"
             ],
             [
              0.4444444444444444,
              "#bd3786"
             ],
             [
              0.5555555555555556,
              "#d8576b"
             ],
             [
              0.6666666666666666,
              "#ed7953"
             ],
             [
              0.7777777777777778,
              "#fb9f3a"
             ],
             [
              0.8888888888888888,
              "#fdca26"
             ],
             [
              1,
              "#f0f921"
             ]
            ],
            "type": "heatmap"
           }
          ],
          "histogram": [
           {
            "marker": {
             "pattern": {
              "fillmode": "overlay",
              "size": 10,
              "solidity": 0.2
             }
            },
            "type": "histogram"
           }
          ],
          "histogram2d": [
           {
            "colorbar": {
             "outlinewidth": 0,
             "ticks": ""
            },
            "colorscale": [
             [
              0,
              "#0d0887"
             ],
             [
              0.1111111111111111,
              "#46039f"
             ],
             [
              0.2222222222222222,
              "#7201a8"
             ],
             [
              0.3333333333333333,
              "#9c179e"
             ],
             [
              0.4444444444444444,
              "#bd3786"
             ],
             [
              0.5555555555555556,
              "#d8576b"
             ],
             [
              0.6666666666666666,
              "#ed7953"
             ],
             [
              0.7777777777777778,
              "#fb9f3a"
             ],
             [
              0.8888888888888888,
              "#fdca26"
             ],
             [
              1,
              "#f0f921"
             ]
            ],
            "type": "histogram2d"
           }
          ],
          "histogram2dcontour": [
           {
            "colorbar": {
             "outlinewidth": 0,
             "ticks": ""
            },
            "colorscale": [
             [
              0,
              "#0d0887"
             ],
             [
              0.1111111111111111,
              "#46039f"
             ],
             [
              0.2222222222222222,
              "#7201a8"
             ],
             [
              0.3333333333333333,
              "#9c179e"
             ],
             [
              0.4444444444444444,
              "#bd3786"
             ],
             [
              0.5555555555555556,
              "#d8576b"
             ],
             [
              0.6666666666666666,
              "#ed7953"
             ],
             [
              0.7777777777777778,
              "#fb9f3a"
             ],
             [
              0.8888888888888888,
              "#fdca26"
             ],
             [
              1,
              "#f0f921"
             ]
            ],
            "type": "histogram2dcontour"
           }
          ],
          "mesh3d": [
           {
            "colorbar": {
             "outlinewidth": 0,
             "ticks": ""
            },
            "type": "mesh3d"
           }
          ],
          "parcoords": [
           {
            "line": {
             "colorbar": {
              "outlinewidth": 0,
              "ticks": ""
             }
            },
            "type": "parcoords"
           }
          ],
          "pie": [
           {
            "automargin": true,
            "type": "pie"
           }
          ],
          "scatter": [
           {
            "fillpattern": {
             "fillmode": "overlay",
             "size": 10,
             "solidity": 0.2
            },
            "type": "scatter"
           }
          ],
          "scatter3d": [
           {
            "line": {
             "colorbar": {
              "outlinewidth": 0,
              "ticks": ""
             }
            },
            "marker": {
             "colorbar": {
              "outlinewidth": 0,
              "ticks": ""
             }
            },
            "type": "scatter3d"
           }
          ],
          "scattercarpet": [
           {
            "marker": {
             "colorbar": {
              "outlinewidth": 0,
              "ticks": ""
             }
            },
            "type": "scattercarpet"
           }
          ],
          "scattergeo": [
           {
            "marker": {
             "colorbar": {
              "outlinewidth": 0,
              "ticks": ""
             }
            },
            "type": "scattergeo"
           }
          ],
          "scattergl": [
           {
            "marker": {
             "colorbar": {
              "outlinewidth": 0,
              "ticks": ""
             }
            },
            "type": "scattergl"
           }
          ],
          "scattermap": [
           {
            "marker": {
             "colorbar": {
              "outlinewidth": 0,
              "ticks": ""
             }
            },
            "type": "scattermap"
           }
          ],
          "scattermapbox": [
           {
            "marker": {
             "colorbar": {
              "outlinewidth": 0,
              "ticks": ""
             }
            },
            "type": "scattermapbox"
           }
          ],
          "scatterpolar": [
           {
            "marker": {
             "colorbar": {
              "outlinewidth": 0,
              "ticks": ""
             }
            },
            "type": "scatterpolar"
           }
          ],
          "scatterpolargl": [
           {
            "marker": {
             "colorbar": {
              "outlinewidth": 0,
              "ticks": ""
             }
            },
            "type": "scatterpolargl"
           }
          ],
          "scatterternary": [
           {
            "marker": {
             "colorbar": {
              "outlinewidth": 0,
              "ticks": ""
             }
            },
            "type": "scatterternary"
           }
          ],
          "surface": [
           {
            "colorbar": {
             "outlinewidth": 0,
             "ticks": ""
            },
            "colorscale": [
             [
              0,
              "#0d0887"
             ],
             [
              0.1111111111111111,
              "#46039f"
             ],
             [
              0.2222222222222222,
              "#7201a8"
             ],
             [
              0.3333333333333333,
              "#9c179e"
             ],
             [
              0.4444444444444444,
              "#bd3786"
             ],
             [
              0.5555555555555556,
              "#d8576b"
             ],
             [
              0.6666666666666666,
              "#ed7953"
             ],
             [
              0.7777777777777778,
              "#fb9f3a"
             ],
             [
              0.8888888888888888,
              "#fdca26"
             ],
             [
              1,
              "#f0f921"
             ]
            ],
            "type": "surface"
           }
          ],
          "table": [
           {
            "cells": {
             "fill": {
              "color": "#EBF0F8"
             },
             "line": {
              "color": "white"
             }
            },
            "header": {
             "fill": {
              "color": "#C8D4E3"
             },
             "line": {
              "color": "white"
             }
            },
            "type": "table"
           }
          ]
         },
         "layout": {
          "annotationdefaults": {
           "arrowcolor": "#2a3f5f",
           "arrowhead": 0,
           "arrowwidth": 1
          },
          "autotypenumbers": "strict",
          "coloraxis": {
           "colorbar": {
            "outlinewidth": 0,
            "ticks": ""
           }
          },
          "colorscale": {
           "diverging": [
            [
             0,
             "#8e0152"
            ],
            [
             0.1,
             "#c51b7d"
            ],
            [
             0.2,
             "#de77ae"
            ],
            [
             0.3,
             "#f1b6da"
            ],
            [
             0.4,
             "#fde0ef"
            ],
            [
             0.5,
             "#f7f7f7"
            ],
            [
             0.6,
             "#e6f5d0"
            ],
            [
             0.7,
             "#b8e186"
            ],
            [
             0.8,
             "#7fbc41"
            ],
            [
             0.9,
             "#4d9221"
            ],
            [
             1,
             "#276419"
            ]
           ],
           "sequential": [
            [
             0,
             "#0d0887"
            ],
            [
             0.1111111111111111,
             "#46039f"
            ],
            [
             0.2222222222222222,
             "#7201a8"
            ],
            [
             0.3333333333333333,
             "#9c179e"
            ],
            [
             0.4444444444444444,
             "#bd3786"
            ],
            [
             0.5555555555555556,
             "#d8576b"
            ],
            [
             0.6666666666666666,
             "#ed7953"
            ],
            [
             0.7777777777777778,
             "#fb9f3a"
            ],
            [
             0.8888888888888888,
             "#fdca26"
            ],
            [
             1,
             "#f0f921"
            ]
           ],
           "sequentialminus": [
            [
             0,
             "#0d0887"
            ],
            [
             0.1111111111111111,
             "#46039f"
            ],
            [
             0.2222222222222222,
             "#7201a8"
            ],
            [
             0.3333333333333333,
             "#9c179e"
            ],
            [
             0.4444444444444444,
             "#bd3786"
            ],
            [
             0.5555555555555556,
             "#d8576b"
            ],
            [
             0.6666666666666666,
             "#ed7953"
            ],
            [
             0.7777777777777778,
             "#fb9f3a"
            ],
            [
             0.8888888888888888,
             "#fdca26"
            ],
            [
             1,
             "#f0f921"
            ]
           ]
          },
          "colorway": [
           "#636efa",
           "#EF553B",
           "#00cc96",
           "#ab63fa",
           "#FFA15A",
           "#19d3f3",
           "#FF6692",
           "#B6E880",
           "#FF97FF",
           "#FECB52"
          ],
          "font": {
           "color": "#2a3f5f"
          },
          "geo": {
           "bgcolor": "white",
           "lakecolor": "white",
           "landcolor": "white",
           "showlakes": true,
           "showland": true,
           "subunitcolor": "#C8D4E3"
          },
          "hoverlabel": {
           "align": "left"
          },
          "hovermode": "closest",
          "mapbox": {
           "style": "light"
          },
          "paper_bgcolor": "white",
          "plot_bgcolor": "white",
          "polar": {
           "angularaxis": {
            "gridcolor": "#EBF0F8",
            "linecolor": "#EBF0F8",
            "ticks": ""
           },
           "bgcolor": "white",
           "radialaxis": {
            "gridcolor": "#EBF0F8",
            "linecolor": "#EBF0F8",
            "ticks": ""
           }
          },
          "scene": {
           "xaxis": {
            "backgroundcolor": "white",
            "gridcolor": "#DFE8F3",
            "gridwidth": 2,
            "linecolor": "#EBF0F8",
            "showbackground": true,
            "ticks": "",
            "zerolinecolor": "#EBF0F8"
           },
           "yaxis": {
            "backgroundcolor": "white",
            "gridcolor": "#DFE8F3",
            "gridwidth": 2,
            "linecolor": "#EBF0F8",
            "showbackground": true,
            "ticks": "",
            "zerolinecolor": "#EBF0F8"
           },
           "zaxis": {
            "backgroundcolor": "white",
            "gridcolor": "#DFE8F3",
            "gridwidth": 2,
            "linecolor": "#EBF0F8",
            "showbackground": true,
            "ticks": "",
            "zerolinecolor": "#EBF0F8"
           }
          },
          "shapedefaults": {
           "line": {
            "color": "#2a3f5f"
           }
          },
          "ternary": {
           "aaxis": {
            "gridcolor": "#DFE8F3",
            "linecolor": "#A2B1C6",
            "ticks": ""
           },
           "baxis": {
            "gridcolor": "#DFE8F3",
            "linecolor": "#A2B1C6",
            "ticks": ""
           },
           "bgcolor": "white",
           "caxis": {
            "gridcolor": "#DFE8F3",
            "linecolor": "#A2B1C6",
            "ticks": ""
           }
          },
          "title": {
           "x": 0.05
          },
          "xaxis": {
           "automargin": true,
           "gridcolor": "#EBF0F8",
           "linecolor": "#EBF0F8",
           "ticks": "",
           "title": {
            "standoff": 15
           },
           "zerolinecolor": "#EBF0F8",
           "zerolinewidth": 2
          },
          "yaxis": {
           "automargin": true,
           "gridcolor": "#EBF0F8",
           "linecolor": "#EBF0F8",
           "ticks": "",
           "title": {
            "standoff": 15
           },
           "zerolinecolor": "#EBF0F8",
           "zerolinewidth": 2
          }
         }
        },
        "title": {
         "text": "Distribution of Transaction Amounts"
        },
        "xaxis": {
         "anchor": "y",
         "domain": [
          0,
          1
         ],
         "minor": {
          "showgrid": true,
          "ticklen": 5,
          "ticks": "inside"
         },
         "range": [
          0,
          4.461632071919982
         ],
         "title": {
          "text": "Transaction Amount (USD)"
         },
         "type": "log"
        },
        "yaxis": {
         "anchor": "x",
         "domain": [
          0,
          1
         ],
         "title": {
          "text": "Density"
         }
        }
       }
      }
     },
     "metadata": {},
     "output_type": "display_data"
    }
   ],
   "source": [
    "import math\n",
    "\n",
    "# Calculate min and max for the legend\n",
    "min_amt = df_cleaned.agg(sf.min(\"amt\")).collect()[0][0]\n",
    "max_amt = df_cleaned.agg(sf.max(\"amt\")).collect()[0][0]\n",
    "\n",
    "print(f'Min: ${min_amt:.2f} \\nMax: ${max_amt:.2f}')\n",
    "\n",
    "kde_plot = df_cleaned.plot.kde(column = \"amt\", bw_method=.8, template=\"plotly_white\")\n",
    "kde_plot.update_layout(title=\"Distribution of Transaction Amounts\", xaxis_title=\"Transaction Amount (USD)\", yaxis_title=\"Density\")\n",
    "kde_plot.update_xaxes(minor=dict(ticks='inside', ticklen=5,showgrid=True), range=[0, math.log(max_amt,10)], type=\"log\")\n",
    "\n",
    "kde_plot.show()\n"
   ]
  },
  {
   "cell_type": "markdown",
   "id": "2ef6fe18",
   "metadata": {},
   "source": [
    "Percentage transaction by category"
   ]
  },
  {
   "cell_type": "code",
   "execution_count": 6,
   "id": "8e772a9f",
   "metadata": {},
   "outputs": [
    {
     "name": "stderr",
     "output_type": "stream",
     "text": [
      "                                                                                \r"
     ]
    },
    {
     "data": {
      "application/vnd.plotly.v1+json": {
       "config": {
        "plotlyServerURL": "https://plot.ly"
       },
       "data": [
        {
         "hovertemplate": "category=%{x}<br>percentage=%{y}<extra></extra>",
         "legendgroup": "",
         "marker": {
          "color": "#636efa",
          "pattern": {
           "shape": ""
          }
         },
         "name": "",
         "orientation": "v",
         "showlegend": false,
         "textposition": "auto",
         "type": "bar",
         "x": [
          "gas_transport",
          "grocery_pos",
          "home",
          "shopping_pos",
          "kids_pets",
          "shopping_net",
          "entertainment",
          "food_dining",
          "personal_care",
          "health_fitness",
          "misc_pos",
          "misc_net",
          "grocery_net",
          "travel"
         ],
         "xaxis": "x",
         "y": {
          "bdata": "6VHXtaJOJEBI/WTp6xEjQI+5P0NF/SJA2ETMYt3+IUBw90RxQW8hQEegZdYWFx5AV/fAWGYAHUB8U6pJyTYcQD+OBP9E/xtA4pWzDfh9GkBd8/+9c5IYQCCJDu3ZhRNAMGjRn8wKDEBIbMokxv0IQA==",
          "dtype": "f8"
         },
         "yaxis": "y"
        }
       ],
       "layout": {
        "barmode": "relative",
        "legend": {
         "tracegroupgap": 0
        },
        "template": {
         "data": {
          "bar": [
           {
            "error_x": {
             "color": "#2a3f5f"
            },
            "error_y": {
             "color": "#2a3f5f"
            },
            "marker": {
             "line": {
              "color": "white",
              "width": 0.5
             },
             "pattern": {
              "fillmode": "overlay",
              "size": 10,
              "solidity": 0.2
             }
            },
            "type": "bar"
           }
          ],
          "barpolar": [
           {
            "marker": {
             "line": {
              "color": "white",
              "width": 0.5
             },
             "pattern": {
              "fillmode": "overlay",
              "size": 10,
              "solidity": 0.2
             }
            },
            "type": "barpolar"
           }
          ],
          "carpet": [
           {
            "aaxis": {
             "endlinecolor": "#2a3f5f",
             "gridcolor": "#C8D4E3",
             "linecolor": "#C8D4E3",
             "minorgridcolor": "#C8D4E3",
             "startlinecolor": "#2a3f5f"
            },
            "baxis": {
             "endlinecolor": "#2a3f5f",
             "gridcolor": "#C8D4E3",
             "linecolor": "#C8D4E3",
             "minorgridcolor": "#C8D4E3",
             "startlinecolor": "#2a3f5f"
            },
            "type": "carpet"
           }
          ],
          "choropleth": [
           {
            "colorbar": {
             "outlinewidth": 0,
             "ticks": ""
            },
            "type": "choropleth"
           }
          ],
          "contour": [
           {
            "colorbar": {
             "outlinewidth": 0,
             "ticks": ""
            },
            "colorscale": [
             [
              0,
              "#0d0887"
             ],
             [
              0.1111111111111111,
              "#46039f"
             ],
             [
              0.2222222222222222,
              "#7201a8"
             ],
             [
              0.3333333333333333,
              "#9c179e"
             ],
             [
              0.4444444444444444,
              "#bd3786"
             ],
             [
              0.5555555555555556,
              "#d8576b"
             ],
             [
              0.6666666666666666,
              "#ed7953"
             ],
             [
              0.7777777777777778,
              "#fb9f3a"
             ],
             [
              0.8888888888888888,
              "#fdca26"
             ],
             [
              1,
              "#f0f921"
             ]
            ],
            "type": "contour"
           }
          ],
          "contourcarpet": [
           {
            "colorbar": {
             "outlinewidth": 0,
             "ticks": ""
            },
            "type": "contourcarpet"
           }
          ],
          "heatmap": [
           {
            "colorbar": {
             "outlinewidth": 0,
             "ticks": ""
            },
            "colorscale": [
             [
              0,
              "#0d0887"
             ],
             [
              0.1111111111111111,
              "#46039f"
             ],
             [
              0.2222222222222222,
              "#7201a8"
             ],
             [
              0.3333333333333333,
              "#9c179e"
             ],
             [
              0.4444444444444444,
              "#bd3786"
             ],
             [
              0.5555555555555556,
              "#d8576b"
             ],
             [
              0.6666666666666666,
              "#ed7953"
             ],
             [
              0.7777777777777778,
              "#fb9f3a"
             ],
             [
              0.8888888888888888,
              "#fdca26"
             ],
             [
              1,
              "#f0f921"
             ]
            ],
            "type": "heatmap"
           }
          ],
          "histogram": [
           {
            "marker": {
             "pattern": {
              "fillmode": "overlay",
              "size": 10,
              "solidity": 0.2
             }
            },
            "type": "histogram"
           }
          ],
          "histogram2d": [
           {
            "colorbar": {
             "outlinewidth": 0,
             "ticks": ""
            },
            "colorscale": [
             [
              0,
              "#0d0887"
             ],
             [
              0.1111111111111111,
              "#46039f"
             ],
             [
              0.2222222222222222,
              "#7201a8"
             ],
             [
              0.3333333333333333,
              "#9c179e"
             ],
             [
              0.4444444444444444,
              "#bd3786"
             ],
             [
              0.5555555555555556,
              "#d8576b"
             ],
             [
              0.6666666666666666,
              "#ed7953"
             ],
             [
              0.7777777777777778,
              "#fb9f3a"
             ],
             [
              0.8888888888888888,
              "#fdca26"
             ],
             [
              1,
              "#f0f921"
             ]
            ],
            "type": "histogram2d"
           }
          ],
          "histogram2dcontour": [
           {
            "colorbar": {
             "outlinewidth": 0,
             "ticks": ""
            },
            "colorscale": [
             [
              0,
              "#0d0887"
             ],
             [
              0.1111111111111111,
              "#46039f"
             ],
             [
              0.2222222222222222,
              "#7201a8"
             ],
             [
              0.3333333333333333,
              "#9c179e"
             ],
             [
              0.4444444444444444,
              "#bd3786"
             ],
             [
              0.5555555555555556,
              "#d8576b"
             ],
             [
              0.6666666666666666,
              "#ed7953"
             ],
             [
              0.7777777777777778,
              "#fb9f3a"
             ],
             [
              0.8888888888888888,
              "#fdca26"
             ],
             [
              1,
              "#f0f921"
             ]
            ],
            "type": "histogram2dcontour"
           }
          ],
          "mesh3d": [
           {
            "colorbar": {
             "outlinewidth": 0,
             "ticks": ""
            },
            "type": "mesh3d"
           }
          ],
          "parcoords": [
           {
            "line": {
             "colorbar": {
              "outlinewidth": 0,
              "ticks": ""
             }
            },
            "type": "parcoords"
           }
          ],
          "pie": [
           {
            "automargin": true,
            "type": "pie"
           }
          ],
          "scatter": [
           {
            "fillpattern": {
             "fillmode": "overlay",
             "size": 10,
             "solidity": 0.2
            },
            "type": "scatter"
           }
          ],
          "scatter3d": [
           {
            "line": {
             "colorbar": {
              "outlinewidth": 0,
              "ticks": ""
             }
            },
            "marker": {
             "colorbar": {
              "outlinewidth": 0,
              "ticks": ""
             }
            },
            "type": "scatter3d"
           }
          ],
          "scattercarpet": [
           {
            "marker": {
             "colorbar": {
              "outlinewidth": 0,
              "ticks": ""
             }
            },
            "type": "scattercarpet"
           }
          ],
          "scattergeo": [
           {
            "marker": {
             "colorbar": {
              "outlinewidth": 0,
              "ticks": ""
             }
            },
            "type": "scattergeo"
           }
          ],
          "scattergl": [
           {
            "marker": {
             "colorbar": {
              "outlinewidth": 0,
              "ticks": ""
             }
            },
            "type": "scattergl"
           }
          ],
          "scattermap": [
           {
            "marker": {
             "colorbar": {
              "outlinewidth": 0,
              "ticks": ""
             }
            },
            "type": "scattermap"
           }
          ],
          "scattermapbox": [
           {
            "marker": {
             "colorbar": {
              "outlinewidth": 0,
              "ticks": ""
             }
            },
            "type": "scattermapbox"
           }
          ],
          "scatterpolar": [
           {
            "marker": {
             "colorbar": {
              "outlinewidth": 0,
              "ticks": ""
             }
            },
            "type": "scatterpolar"
           }
          ],
          "scatterpolargl": [
           {
            "marker": {
             "colorbar": {
              "outlinewidth": 0,
              "ticks": ""
             }
            },
            "type": "scatterpolargl"
           }
          ],
          "scatterternary": [
           {
            "marker": {
             "colorbar": {
              "outlinewidth": 0,
              "ticks": ""
             }
            },
            "type": "scatterternary"
           }
          ],
          "surface": [
           {
            "colorbar": {
             "outlinewidth": 0,
             "ticks": ""
            },
            "colorscale": [
             [
              0,
              "#0d0887"
             ],
             [
              0.1111111111111111,
              "#46039f"
             ],
             [
              0.2222222222222222,
              "#7201a8"
             ],
             [
              0.3333333333333333,
              "#9c179e"
             ],
             [
              0.4444444444444444,
              "#bd3786"
             ],
             [
              0.5555555555555556,
              "#d8576b"
             ],
             [
              0.6666666666666666,
              "#ed7953"
             ],
             [
              0.7777777777777778,
              "#fb9f3a"
             ],
             [
              0.8888888888888888,
              "#fdca26"
             ],
             [
              1,
              "#f0f921"
             ]
            ],
            "type": "surface"
           }
          ],
          "table": [
           {
            "cells": {
             "fill": {
              "color": "#EBF0F8"
             },
             "line": {
              "color": "white"
             }
            },
            "header": {
             "fill": {
              "color": "#C8D4E3"
             },
             "line": {
              "color": "white"
             }
            },
            "type": "table"
           }
          ]
         },
         "layout": {
          "annotationdefaults": {
           "arrowcolor": "#2a3f5f",
           "arrowhead": 0,
           "arrowwidth": 1
          },
          "autotypenumbers": "strict",
          "coloraxis": {
           "colorbar": {
            "outlinewidth": 0,
            "ticks": ""
           }
          },
          "colorscale": {
           "diverging": [
            [
             0,
             "#8e0152"
            ],
            [
             0.1,
             "#c51b7d"
            ],
            [
             0.2,
             "#de77ae"
            ],
            [
             0.3,
             "#f1b6da"
            ],
            [
             0.4,
             "#fde0ef"
            ],
            [
             0.5,
             "#f7f7f7"
            ],
            [
             0.6,
             "#e6f5d0"
            ],
            [
             0.7,
             "#b8e186"
            ],
            [
             0.8,
             "#7fbc41"
            ],
            [
             0.9,
             "#4d9221"
            ],
            [
             1,
             "#276419"
            ]
           ],
           "sequential": [
            [
             0,
             "#0d0887"
            ],
            [
             0.1111111111111111,
             "#46039f"
            ],
            [
             0.2222222222222222,
             "#7201a8"
            ],
            [
             0.3333333333333333,
             "#9c179e"
            ],
            [
             0.4444444444444444,
             "#bd3786"
            ],
            [
             0.5555555555555556,
             "#d8576b"
            ],
            [
             0.6666666666666666,
             "#ed7953"
            ],
            [
             0.7777777777777778,
             "#fb9f3a"
            ],
            [
             0.8888888888888888,
             "#fdca26"
            ],
            [
             1,
             "#f0f921"
            ]
           ],
           "sequentialminus": [
            [
             0,
             "#0d0887"
            ],
            [
             0.1111111111111111,
             "#46039f"
            ],
            [
             0.2222222222222222,
             "#7201a8"
            ],
            [
             0.3333333333333333,
             "#9c179e"
            ],
            [
             0.4444444444444444,
             "#bd3786"
            ],
            [
             0.5555555555555556,
             "#d8576b"
            ],
            [
             0.6666666666666666,
             "#ed7953"
            ],
            [
             0.7777777777777778,
             "#fb9f3a"
            ],
            [
             0.8888888888888888,
             "#fdca26"
            ],
            [
             1,
             "#f0f921"
            ]
           ]
          },
          "colorway": [
           "#636efa",
           "#EF553B",
           "#00cc96",
           "#ab63fa",
           "#FFA15A",
           "#19d3f3",
           "#FF6692",
           "#B6E880",
           "#FF97FF",
           "#FECB52"
          ],
          "font": {
           "color": "#2a3f5f"
          },
          "geo": {
           "bgcolor": "white",
           "lakecolor": "white",
           "landcolor": "white",
           "showlakes": true,
           "showland": true,
           "subunitcolor": "#C8D4E3"
          },
          "hoverlabel": {
           "align": "left"
          },
          "hovermode": "closest",
          "mapbox": {
           "style": "light"
          },
          "paper_bgcolor": "white",
          "plot_bgcolor": "white",
          "polar": {
           "angularaxis": {
            "gridcolor": "#EBF0F8",
            "linecolor": "#EBF0F8",
            "ticks": ""
           },
           "bgcolor": "white",
           "radialaxis": {
            "gridcolor": "#EBF0F8",
            "linecolor": "#EBF0F8",
            "ticks": ""
           }
          },
          "scene": {
           "xaxis": {
            "backgroundcolor": "white",
            "gridcolor": "#DFE8F3",
            "gridwidth": 2,
            "linecolor": "#EBF0F8",
            "showbackground": true,
            "ticks": "",
            "zerolinecolor": "#EBF0F8"
           },
           "yaxis": {
            "backgroundcolor": "white",
            "gridcolor": "#DFE8F3",
            "gridwidth": 2,
            "linecolor": "#EBF0F8",
            "showbackground": true,
            "ticks": "",
            "zerolinecolor": "#EBF0F8"
           },
           "zaxis": {
            "backgroundcolor": "white",
            "gridcolor": "#DFE8F3",
            "gridwidth": 2,
            "linecolor": "#EBF0F8",
            "showbackground": true,
            "ticks": "",
            "zerolinecolor": "#EBF0F8"
           }
          },
          "shapedefaults": {
           "line": {
            "color": "#2a3f5f"
           }
          },
          "ternary": {
           "aaxis": {
            "gridcolor": "#DFE8F3",
            "linecolor": "#A2B1C6",
            "ticks": ""
           },
           "baxis": {
            "gridcolor": "#DFE8F3",
            "linecolor": "#A2B1C6",
            "ticks": ""
           },
           "bgcolor": "white",
           "caxis": {
            "gridcolor": "#DFE8F3",
            "linecolor": "#A2B1C6",
            "ticks": ""
           }
          },
          "title": {
           "x": 0.05
          },
          "xaxis": {
           "automargin": true,
           "gridcolor": "#EBF0F8",
           "linecolor": "#EBF0F8",
           "ticks": "",
           "title": {
            "standoff": 15
           },
           "zerolinecolor": "#EBF0F8",
           "zerolinewidth": 2
          },
          "yaxis": {
           "automargin": true,
           "gridcolor": "#EBF0F8",
           "linecolor": "#EBF0F8",
           "ticks": "",
           "title": {
            "standoff": 15
           },
           "zerolinecolor": "#EBF0F8",
           "zerolinewidth": 2
          }
         }
        },
        "title": {
         "text": "Percentage of Transactions by Category"
        },
        "xaxis": {
         "anchor": "y",
         "domain": [
          0,
          1
         ],
         "title": {
          "text": "category"
         }
        },
        "yaxis": {
         "anchor": "x",
         "domain": [
          0,
          1
         ],
         "title": {
          "text": "Percentage"
         }
        }
       }
      }
     },
     "metadata": {},
     "output_type": "display_data"
    }
   ],
   "source": [
    "# Calculate total count for percentage calculation\n",
    "total_count = df_cleaned.count()\n",
    "\n",
    "# Aggregate data to get counts per category and convert to percentage\n",
    "category_counts_df = df_cleaned.groupBy(\"category\").count() \\\n",
    "    .withColumn(\"percentage\", (sf.col(\"count\") / total_count) * 100) \\\n",
    "    .orderBy(sf.desc(\"percentage\")) \\\n",
    "    .drop(\"count\") # Drop the raw count column as we now have percentage\n",
    "\n",
    "# Generate the bar plot using PySpark's native plotting\n",
    "# Map 'category' to x-axis and 'percentage' to y-axis.\n",
    "bar_plot = category_counts_df.plot.bar(\n",
    "    x=\"category\",\n",
    "    y=\"percentage\",\n",
    "    title=\"Percentage of Transactions by Category\",\n",
    "    template=\"plotly_white\",    \n",
    ")\n",
    "\n",
    "bar_plot.update_yaxes(\n",
    "    title_text=\"Percentage\",\n",
    ")\n",
    "\n",
    "# Display the plot\n",
    "bar_plot.show()\n"
   ]
  },
  {
   "cell_type": "markdown",
   "id": "ead5b6c5",
   "metadata": {},
   "source": [
    "Fraud statistics"
   ]
  },
  {
   "cell_type": "code",
   "execution_count": 14,
   "id": "d5718934",
   "metadata": {},
   "outputs": [
    {
     "name": "stdout",
     "output_type": "stream",
     "text": [
      "Total fraud transactions: 7506\n",
      "Percentage of fraud transactions: 0.58%\n"
     ]
    },
    {
     "name": "stderr",
     "output_type": "stream",
     "text": [
      "25/07/22 04:18:58 WARN DAGScheduler: Broadcasting large task binary with size 3.2 MiB\n",
      "25/07/22 04:19:06 WARN DAGScheduler: Broadcasting large task binary with size 5.6 MiB\n",
      "                                                                                \r"
     ]
    },
    {
     "data": {
      "application/vnd.plotly.v1+json": {
       "config": {
        "plotlyServerURL": "https://plot.ly"
       },
       "data": [
        {
         "hovertemplate": "names=amt<br>index=%{x}<br>Density=%{y}<extra></extra>",
         "legendgroup": "amt",
         "line": {
          "color": "#636efa",
          "dash": "solid"
         },
         "marker": {
          "symbol": "circle"
         },
         "mode": "lines",
         "name": "amt",
         "orientation": "v",
         "showlegend": true,
         "type": "scatter",
         "x": {
          "bdata": "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",
          "dtype": "f8"
         },
         "xaxis": "x",
         "y": {
          "bdata": "AAAAAAAAAAAAAAAAAAAAAAAAAAAAAAAAAAAAAAAAAAAAAAAAAAAAAAAAAAAAAAAAAAAAAAAAAAAAAAAAAAAAAAAAAAAAAAAAAAAAAAAAAAAAAAAAAAAAAAAAAAAAAAAAAAAAAAAAAAAAAAAAAAAAAAAAAAAAAAAAAAAAAAAAAAAAAAAAAAAAAAAAAAAAAAAAAAAAAAAAAAAAAAAAAAAAAAAAAAAAAAAAAAAAAAAAAAAAAAAAAAAAAAAAAAAAAAAAAAAAAAAAAAAAAAAAAAAAAAAAAAAAAAAAAAAAAAAAAAAAAAAAAAAAAAAAAAAAAAAAAAAAAAAAAAAAAAAAAAAAAAAAAAAAAAAAAAAAAAAAAAAAAAAAAAAAAAAAAAAAAAAAAAAAAAAAAAAAAAAAAAAAAAAAAAAAAAAAAAAAAAAAAAAAAAAAAAAAAAAAAAAAAAAAAAAAAAAAAAAAAAAAAAAAAAAAAAAAAAAAAAAAAAAAAAAAAAAAAAAAAAAAAAAAAAAAAAAAAAAAAAAAAAAAAAAAAAAAAAAAAAAAAAAAAAAAAAAAAAAAAAAAAAAAAAAAAAAAAAAAAAAAAAAAAAAAAAAAAAAAAAAAAAAAAAAAAAAAAAAAAAAAAAAAAAAAAAAAAAAAAAAAAAAAAAAAAAAAAAAAAAAAAAAAAAAAAAAAAAAAAAAAAAAAAAAAAAAAAAAAAAAAAAAAAAAAAAAAAAAAAAAAAAAAAAAAAAAAAAAAAAAAAAAAAAAAAAAAAAAAAAAAAAAAAAAAAAAAAAAAAAAAAAAAAAAAAAAAAAAAAAAAAAAAAAAAAAAAAAAAAAAAAAAAAAAAAAAAAAAAAAAAAAAAAAAAAAAAAAAAAAAAAAAAAAAAAAAAAAAAAAAAAAAAAAAAAAAAAAAAAAAAAAAAAAAAAAAAAAAAAAAAAAAAAAAAAAAAAAAAAAAAAAAAAAAAAAAAAAAAAAAAAAAAAAAAAAAAAAAAAAAAAAAAAAAAAAAAAAAAAAAAAAAAAAAAAAAAAAAAAAAAAAAAAAAAAAAAAAAAAAAAAAAAAAAAAAAAAAAAAAAAAAAAAAAAAAAAAAAAAAAAAAAAAAAAAAAAAAAAAAAAAAAAAAAAAAAAAAAAAAAAAAAAAAAAAAAAAAAAAAAAAAAAAAAAAAAAAAAAAAAAAAAAAAAAAAAAAAAAAAAAAAAAAAAAAAAAAAAAAAAAAAAAAAAAAAAAAAAAAAAAAAAAAAAAAAAAAAAAAAAAAAAAAAAAAAAAAAAAAAAAAAAAAAAAAAAAAAAAAAAAAAAAAAAAAAAAAAAAAAAAAAAAAAAAAAAAAAAAAAAAAAAAAAAAAAAAAAAAAAAAAAAAAAAAAAAAAAAAAAAAAAAAAAAAAAAAAAAAAAAAAAAAAAAAAAAAAAAAAAAAAAAAAAAAAAAAAAAAAAAAAAAAAAAAAAAAAAAAAAAAAAAAAAAAAAAAAAAAAAAAAAAAAAAAAAAAAAAAAAAAAAAAAAAAAAAAAAAAAAAAAAAAAAAAAAAAAAAAAAAAAAAAAAAAAAAAAAAAAAAAAAAAAAAAAAAAAAAAAAAAAAAAAAAAAAAAAAAAAAAAAAAAAAAAAAAAAAAAAAAAAAAAAAAAAAAAAAAAAAAAAAAAAAAAAAAAAAAAAAAAAAAAAAAAAAAAAAAAAAAAAAAAAAAAAAAAAAAAAAAAAAAAAAAAAAAAAAAAAAAAAAAAAAAAAAAAAAAAAAAAAAAAAAAAAAAAAAAAAAAAAAAAAAAAAAAAAAAAAAAAAAAAAAAAAAAAAAAAAAAAAAAAAAAAAAAAAAAAAAAAAAAAAAAAAAAAAAAAAAAAAAAAAAAAAAAAAAAAAAAAAAAAAAAAAAAAAAAAAAAAAAAAAAAAAAAAAAAAAAAAAAAAAAAAAAAAAAAAAAAAAAAAAAAAAAAAAAAAAAAAAAAAAAAAAAAAAAAAAAAAAAAAAAAAAAAAAAAAAAAAAAAAAAAAAAAAAAAAAAAAAAAAAAAAAAAAAAAAAAAAAAAAAAAAAAAAAAAAAAAAAAAAAAAAAAAAAAAAAAAAAAAAAAAAAAAAAAAAAAAAAAAAAAAAAAAAAAAAAAAAAAAAAAAAAAAAAAAAAAAAAAAAAAAAAAAAAAAAAAAAAAAAAAAAAAAAAAAAAAAAAAAAAAAAAAAAAAAAAAAAAAAAAAAAAAAAAAAAAAAAAAAAAAAAAAAAAAAAAAAAAAAAAAAAAAAAAAAAAAAAAAAAAAAAAAAAAAAAAAAAAAAAAAAAAAAAAAAAAAAAAAAAAAAAAAAAAAAAAAAAAAAAAAAAAAAAAAAAAAAAAAAAAAAAAAAAAAAAAAAAAAAAAAAAAAAAAAAAAAAAAAAAAAAAAAAAAAAAAAAAAAAAAAAAAAAAAAAAAAAAAAAAAAAAAAAAAAAAAAAAAAAAAAAAAAAAAAAAAAAAAAAAAAAAAAAAAAAAAAAAAAAAAAAAAAAAAAAAAAAAAAAAAAAAAAAAAAAAAAAAAAAAAAAAAAAAAAAAAAAAAAAAAAAAAAAAAAAAAAAAAAAAAAAAAAAAAABNQRyy1u3TBBOcrkKd4lEO6tzSSJDZ9hYig8uARdHEHmdq9ze+HrslEh/jP+hZ2SsLmXKsmxUhMSERypIMs5A1lnq6o+rYJznpGJfYbB3pO3oSfGTl4NM90/msi7/56T7IOsdBLpBGP8ps1iWI01M/T3DZf5P5iT/HJqc3BK2TP5es1pDLzX4/6kBAPSG0bz+LgJgsFAaLP8tOUxaVuIo/suTnrUkGcT/xss6XW1E9P3+UITGx9bc+5GdKD/AEbz3D7VxEeStaO6eSmcgt4149B0PihDxdoj5HiQtDbEIQP4Pn7cYLJBs/DQN82us4Xz+yEuW4Hm9fP0UTxJViDCE/zVsUZyKxzz6LHPNLuE+9PSk0tyMKUtM7cs/PeeAOEjmnVypet+53NTgM8Qu0fAYxfb73C731vSuuza9E0F+ALzFmIiZ4FTM05NhkwqyJDzjGQ3xKvHkSO/FMakGosT49pnJhnokTkj60fWVY7TgOP3wNk+FZaBo/N/GR0whHHT+bCbACObwpP1omyr34hzQ/UYDmobFhND8HgYRkWyY9P4KxOdLMX0U/lEw2bwapQD85vhvs6fxKP0lWRXAM9Ug/HJoPMX4hOT9ash/KQmVCPwq7o5kLokA/wIVFWAKAOD8HlMnMQ38zP3ZlWzl2sis/gIKnifFmMD/+k4yhOaMQP9+AfeykoiE/YmcyyjVwFD+D0FwtnV0QP4fi67Zy0VM+N1P4Q0p3wTwsMxHFZEdWOrA6sb0HhBQ3xqDY5DejRzUQzI91wpnrODVD62pS2bY738e1hCTSqj3dr3FrI1LGPnZ8uyfzVgo/u8qhiYdK2D5S2zHh4rUEP2Ig+bo5n/o+aTsopYn96j6TZBvDSlEOP0rV55Ldk7Y+KJuq2wOYDj96xrQbf0nXPuKQ7VrRrAc/ofsKMhJaGz/uqvw3GgwgPw1OtApQmvQ+nBztfZ56Ij/bxKsH4kMXP1JWWSHNpjA/0leTIdsvMD9j4o00pfwkP+vVGERbxyU/TdO02+OrLT//iuGC43EvPzavEjlUrjg/LwzkLgcKQD92IdxaHMtDP3Af2im4uDc/vWuBz87sPj98QGd7XKlAP+lkVoy3wDM/4pZO48sUQD+bGsZzxAhKP0wHjKhmmlM/lZa0JuEHSz9+/q536yJQP0Jm2ABHmVA/WjwOpLqsVj+o3URIHxBXP5phAVE0w10/DAieZ1xLYT9mPaWVTedpP8F2xKeuTGI/ojeh0NutZz95hdTdpFdoP0aSg1XrSG0/fkStWyPlaz8Xx9rnky1vP2JSZXLgsW4/EtZyDwHnZz+eRU+YP65tP1nuFQcFOnA/5o2YrfM/aT9wF8mhbE5pPz7AHMXAqWY/hmpBHUQXaj+HO3nC6jJkP2iMfKHyaGo/IFG37NAtYj+WchQLxEhjP6/ISHCjCGQ/deAu1FNRXT8Goui+mORbP/E6GLA5IFQ/WxSpuAs1UT8+Nmu46mdWPxiZ0GG76lk/rNvbxkPOUz8BvM+V671KPz/9pkHZVEI/EeyvKEdgQD+cIJXZKjs1P5YrCNRM0U0/qhi5hvRYOT/K8WEEgaI8P8/CtrzUtjc/4HtgCYrMND/X+jPI4Z0vP0Nhr+yDHSk/5V+jYGrcMT/Z0vjn9kAsPx1F4+SFBSs/A3p+mQnIIj+3UvBLkBoqP/xZVHNfHvk+9RHECIezFD90erQXsF0dP0PmTWDXhhs/JWl39PsUFD+WJ5WzQDofP07Be9wG5hA/H1ejkTh8Gj9hDf94hzklP8N3uhEkZBY/fCPkDXcQ8z6DzlsnpcETPxrG5uOPRTE/QpZ1JZ+iMj/meZT1OD4AP7+MxrgUVyg//TgFaMvgED/izV7RWcPvPowG33hGnBI/rhPE/CAUHT8OkBKPMHsvP4txHpqrJiM/c6fxGTMpID+nmjGiJfIuP8oJSnpadh4/Q0mllcP8Lz8tC1Y6BeMlP1dOxuxZgRw/p+1mw5LoDj+ppP9dNHkiP/BVQfmDQAc/SDeBc4eVJT+u4STov84dP80JRIfaHiU/0P0+Cs3VMT8w+6YWp3kwPxqFbAThjSY/JNdXUHIhFz9b+GXSWUEiP4hyRV/0ixU/MRRPuOWuKD9IHZFGeqoeP4wDnawzsRA/hp5pUyYVMD+nz3iujekdP4S6tLOqLTA//9LG61V/IT+0V4MQAj34Po0BTAJOEhk/qIjJb3lTMz8M/Oc14mMhPx9AIuUFeyk/D7UIiHiOLT9xM8k6nWrzPnGP4v+EpCM/EwzXLjIzDT80lBcaZ2UbP+AmgdXpFyM/hw7xG0lqIz/PHMTfY1wWPxh/QfbmFxo/woAI1683IT+9aXIEI9YeP/Lbvpg2Mhw/MEmy9WhsIT96G5rJLJgsPzNuTlvjGQE/dQP+4ntzDD8mas7pZHIlP2dHAHQ7Iys/ViSaartzET/59EBgFYkXP3uRzUmrmRk/kcarOiS3lD7MC6rn9T7SPgDZLy9qsBc/SWWrggafGj+Kbbr5zOAVPxqr3gdJnik/QkZ1fIAnEz/9b0FrADsZP6pYhvXUfzE/vnFzhc/qIT+IDY7MAmIWP7tHGfqlihk/RLyvNlf/LT+gRXDe4ZsnP30qqqeK5R8/ecIhIqTbIT/0Ew+FL08fP3DUVxjePSk/1A6IMFt2LT9xT54lcgsiPyUd7T4vUSc/BI92FjLOPj9ORX4wRTIWP48p39CEfjg/IwDRDaRHOT8yptsvq6Y0P4iiZLQS5DE/cgeCtGVKMj+DY4c3U6Q4P3BAC76OAy8/nL4wz8YzMD+BnjOsIMk7PzC3njkRnT0/+aLGeMzYMz8BBv/Nsu48P66YLZazDEA/MzEnfjB8Nj/Rnv6uOAw9P0D7wfEnDz4/vMeX51naNT8hb6/EaAA8PwDTbCJRQ0k/nFsSe7ijST8sdg9fN1dDP2WoPE0wOjk/y+TBEBdGPj/zDPygWjFHPww8BytgykI/OwsjfRusRT9fzLjDvjRQP3JIywMuylE/4nc9qdl+UT/CNz+3Q7BPP0Q6loWg2kk/R3Mx8NLvUz8NPBYmbLRQPzyGw1WSDEo/7vg60dzZUj8aWm8rhrFOP92Wv/NYNEo/9vh/PzugTz/ilGX/YVJNPxWiR3OyVFU/FB4qTRnqUT+BPlfHPOlVP7ah7Vh1klI/UUm6lKs4TT+hRwf5peZFP8x+IlNbXVM//jYCwdWZVT9xHsQv2ttTP1Tw6vm7EFg/SHkQvZH3VT+3dhx5ShVRP9tkVpT/2VA/f194px67Sj9sw6qTl+lRP/ivnHzYnlA/PaU6egrpTD/YIS5AscVQPwpC1TaZ41E/Agc1TdlnSz+9pXaugshNP46dPJ9+lVU/1Zn7f2IoUD8qLqk252xPPwFfDFKN200/NIe4xweoSj/JZKwf465SP4J081KO0lI/VdWKE1GiVj/PeuXfZP1WP+fd3hGIS1I/UyqX/8NrVT9/KvmAkFlUP6bx4mGHD1M/1OlK4SfGWT/JW3nFfGFSP4OSBHq/wFE/NJAqI9RAUj8REaON61dVPzu1DxyRilE/Gp7Brwk/Vj8QIGT7fa5UP1wB4EvpXU8/UaLFOaJFUj98+PtYlAlSPzEru521qlE/W1WDTKsgWz+n8RhUrOJTP77EDlAiGFg/u6n7LEG1WD9BTJi8ph9TP6CVWGqnrlE/h0sAHinuVz8GXmJ/SuVUPwkc95NOMVQ/PYe0BjI3Uz8yJ3CZCoNVPyKUvRLgMlU/FUWIs8yNVj86aZZQiypVP/etfdafEVQ/t6Z2txK+Wj9h6VY3OklPP2dgkIYPN1E/QBTshKg8Vj+ZLab7WRFRP2yNuqlVFFM/Dig4klxxWD+2jweMNZZVP1E2QDXSrE4/KaVXTrUKWD82kwpoRRpVP/TsHbvZBFQ/y76dcqF+Vz/OHvi//DZUP32JwETueFI/599lw3G0UT+h18l0nyNRP/JPTlbiBVI/4KizvncgVD869HIU7JhXP8US5g+LpFI/4q9WkFNMUT+bUvDlYXhVPyhUS0W+wUo/hcebiRqRUz+z40mEmmxVPxcAO97mAlM/QdtYYm2yTT/T9UCEsQlSP2xmJX7tc1E/HeTifG/VSz9sfbPn98NQP0j3+jLPoFE/6Uc0JNYoVD8WfADPur1IP30NuZy/Tkc/e33xYePsRj9OXpPL7pFPP7hVUkQT5E4/nhu/ykbbRz+zxObReZtSP04qEwHnK1M/RuCw/2KcRT8s3cEm/rhMPwi4bTMUU00/O37z3OeUTT84ZJ1UoXlLP6L8QhRyZj8/Qh9P+52PSD9r7P1cULRFP/mSXs97FEc/B9afCZk/SD+rahHnTjpMP9hc6bk9V0M/CG/pM5sYQz96zu+YyQhAPwb+8C9k7UY/q5ipIfUARD+PaanI/yFDP7V51CpFUyc/JJL9ueZeOj9sdxVEIKc4P2mobmSwJjw/Jf97FA/gQT/KkydzW51DP4CXIYIFPj0/UMP6DhXPQT/+H1HB8xBQP9uRDu1n+jc/NwfUKR6pPT+VIyEfy2o2P9wS+LGS7jI/b+iqG8oNMD+ClfNHetgyP+UFX5y7Ej0/tmehX9iFQD/cm/+jDW8xP1tN0r6eeTg/4xShPVjHPT9zCOvVNTQ4P6gq0/RNQTg/V2M8DK2kIj+wcmpjGuU1P1WnBL4tXSI/ZxMNNTiFMD8YMCDGnPw1P8FG6T1aXic/HbUcbFtFID+cKkOBkYUbP4CQ5HZB/hg/+sboZ94fID+KuGEVD3onP09OwDfBCy0/ts2R65+iGz+XaAk2F58DP1vA0tYyYCQ/0rC/uuXeNj9cQ1Q9xVsePxJiL1J/CyQ/Rp9l+iV4Dz/IVs0afKsjP+/No+abD/U+KU8GVGBZFD8QEC4S6+UgP961IWUv/u0+Rnq4i9A4HD//QId/R5v0PqsjKe2EAhc/EOKRldNlED+3mgZeNAn7PtXfBrwzNLM+sVun68QDDj8YzJHDgayQPjwRQaZTOsA+kYXFvihFID+/hzxKUiAsP7EONJhkDQ4/bhIS6mhJDT/DFPXnyt6fPnSIaMlaUg4/VQsBC13esD6Vaojsiq51PjK27/+9RQo/JqWAJN520D7ZjNmXOssNP/msxVcM4+I+N6gANMHJEj8SlXQ6EXgbPy0ohjMQ9As/ODyhT6sMBz9yAsBYIslkPuapoQB+nuo8p1xedrHVmTr6fREEaYXCPDcUFspjdVM+ngrhcevNDz+KhgzZtZr0Pta4RDMUGgU+aLnRcuLW7T0yws45dbbiPh0aFpbBowA/6zhnGjT7RD7XqqogTeShPsvumLTk9Q4/rgt73d39oj4yCB4n0IRgPa+Vcb97X0Q7rMMX72HQUTiOYCSxKhaGNAOS394dauMvQbkDqAlNDCxthfPk5J5JMSqvZ2azcbA184J9vlvuPTm70Jv180/zO71G5Pc1q9E9qJ5i5tzr1j4XY8yBMxoFP2OU6v+EIAc/KCZbYbTV0T4/17p6YYPDPVVuc5zKRd47tGKli/ylIDlSs/9b/PaJNZk3w3ustRwx+L6C4JWB1iusmZxaXwS5JUWVpz4Zt8MefXsp2NkH9hbItxXLHHRRDmOYmQFHm9MEAAAAAAAAAAAAAAAAAAAAAAAAAAAAAAAAAAAAAAAAAAAAAAAAAAAAAAAAAAAAAAAAAAAAAAAAAAAAAAAAAAAAAAAAAAAAAAAAAAAAAAAAAAAAAAAAAAAAAAAAAAAAAAAAAAAAAAAAAAAAAAAAAAAAAAAAAAAAAAAAAAAAAAAAAAAAAAAAAAAAAAAAAAAAAAAAAAAAAAAAAAAAAAAAAAAAAAAAAAAAAAAAAAAAAAAAAAAAAAAAAAAAAAAAAAAAAAAAAAAAAAAAAAAAAAAAAAAAAAAAAAAAAAAAAAAAAAAAAAAAAAAAAAAAAAAAAAAAAAAAAAAAAAAAAAAAAAAAAAAAAAAAAAAAAAAAAAAAAAAAAAAAAAAAAAAAAAAAAAAAAAAAAAAAAAAAAAAAAAAAAAAAAAAAAAAAAAAAAAAAAAAAAAAAAAAAAAAAAAAAAAAAAAAAAAAAAAAAAAAAAAAAAAAAAAAAAAAAAAAAAAAAAAAAAAAAAAAAAAAAAAAAAAAAAAAAAAAAAAAAAAAAAAAAAAAAAAAAAAAAAAAAAAAAAAAAAAAAAAAAAAAAAAAAAAAAAAAAAAAAAAAAAAAAAAAAAAAAAAAAAAAAAAAAAAAAAAAAAAAAAAAAAAAAAAAAAAAAAAAAAAAAAAAAAAAAAAAAAAAAAAAAAAAAAAAAAAAAAAAAAAAAAAAAAAAAAAAAAAAAAAAAAAAAAAAAAAAAAAAAAAAAAAAAAAAAAAAAAAAAAAAAAAAAAAAAAAAAAAAAAAAAAAAAAAAAAAAAAAAAAAAAAAAAAAAAAAAAAAAAAAAAAAAAAAAAAAAAAAAAAAAAAAAAAAAAAAAAAAAAAAAAAAAAAAAAAAAAAAAAAAAAAAAAAAAAAAAAAAAAAAAAAAAAAAAAAAAAAAAAAAAAAAAAAAAAAAAAAAAAAAAAAAAAAAAAAAAAAAAAAAAAAAAAAAAAAAAAAAAAAAAAAAAAAAAAAAAAAAAAAAAAAAAAAAAAAAAAAAAAAAAAAAAAAAAAAAAAAAAAAAAAAAAAAAAAAAAAAAAAAAAAAAAAAAAAAAAAAAAAAAAAAAAAAAAAAAAAAAAAAAAAAAAAAAAAAAAAAAAAAAAAAAAAAAAAAAAAAAAAAAAAAAAAAAAAAAAAAAAAAAAAAAAAAAAAAAAAAAAAAAAAAAAAAAAAAAAAAAAAAAAAAAAAAAAAAAAAAAAAAAAAAAAAAAAAAAAAAAAAAAAAAAAAAAAAAAAAAAAAAAAAAAAAAAAAAAAAAAAAAAAAAAAAAAAAAAAAAAAAAAAAAAAAAAAAAAAAAAAAAAAAAAAAAAAAAAAAAAAAAAAAAAAAAAAAAAAAAAAAAAAAAAAAAAAAAAAAAAAAAAAAAAAAAAAAAAAAAAAAAAAAAAAAAAAAAAAAAAAAAAAAAAAAAAAAAAAAAAAAAAAAAAAAAAAAAAAAAAAAAAAAAAAAAAAAAAAAAAAAAAAAAAAAAAAAAAAAAAAAAAAAAAAAAAAAAAAAAAAAAAAAAAAAAAAAAAAAAAAAAAAAAAAAAAAAAAAAAAAAAAAAAAAAAAAAAAAAAAAAAAAAAAAAAAAAAAAAAAAAAAAAAAAAAAAAAAAAAAAAAAAAAAAAAAAAAAAAAAAAAAAAAAAAAAAAAAAAAAAAAAAAAAAAAAAAAAAAAAAAAAAAAAAAAAAAAAAAAAAAAAAAAAAAAAAAAAAAAAAAAAAAAAAAAAAAAAAAAAAAAAAAAAAAAAAAAAAAAAAAAAAAAAAAAAAAAAAAAAAAAAAAAAAAAAAAAAAAAAAAAAAAAAAAAAAAAAAAAAAAAAAAAAAAAAAAAAAAAAAAAAAAAAAAAAAAAAAAAAAAAAAAAAAAAAAAAAAAAAAAAAAAAAAAAAAAAAAAAAAAAAAAAAAAAAAAAAAAAAAAAAAAAAAAAAAAAAAAAAAAAAAAAAAAAAAAAAAAAAAAAAAAAAAAAAAAAAAAAAAAAAAAAAAAAAAAAAAAAAAAAAAAAAAAAAAAAAAAAAAAAAAAAAAAAAAAAAAAAAAAAAAAAAAAAAAAAAAAAAAAAAAAAAAAAAAAAAAAAAAAAAAAAAAAAAAAAAAAAAAAAAAAAAAAAAAAAAAAAAAAAAAAAAAAAAAAAAAAAAAAAAAAAAAAAAAAAAAAAAAAAAAAAAAAAAAAAAAAAAAAAAAAAAAAAAAAAAAAAAAAAAAAAAAAAAAAAAAAAAAAAAAAAAAAAAAAAAAAAAAAAAAAAAAAAAAAAAAAAAAAAAAAAAAAAAAAAAAAAAAAAAAAAAAAAAAAAAAAAAAAAAAAAAAAAAAAAAAAAAAAAAAAAAAAAAAAAAAAAAAAAAAAAAAAAAAAAAAAAAAAAAAAAAAAAAAAAAAAAAAAAAAAAAAAAAAAAAAAAAAAAAAAAAAAAAAAAAAAAAAAAAAAAAAAAAAAAAAAAAAAAAAAAAAAAAAAAAAAAAAAAAAAAAAAAAAAAAAAAAAAAAAAAAAAAAAAAAAAAAAAAAAAAAAAAAAAAAAAAAAAAAAAAAAAAAAAAAAAAAAAAAAAAAAAAAAAAAAAAAA=",
          "dtype": "f8"
         },
         "yaxis": "y"
        }
       ],
       "layout": {
        "legend": {
         "title": {
          "text": "names"
         },
         "tracegroupgap": 0
        },
        "margin": {
         "t": 60
        },
        "template": {
         "data": {
          "bar": [
           {
            "error_x": {
             "color": "#2a3f5f"
            },
            "error_y": {
             "color": "#2a3f5f"
            },
            "marker": {
             "line": {
              "color": "white",
              "width": 0.5
             },
             "pattern": {
              "fillmode": "overlay",
              "size": 10,
              "solidity": 0.2
             }
            },
            "type": "bar"
           }
          ],
          "barpolar": [
           {
            "marker": {
             "line": {
              "color": "white",
              "width": 0.5
             },
             "pattern": {
              "fillmode": "overlay",
              "size": 10,
              "solidity": 0.2
             }
            },
            "type": "barpolar"
           }
          ],
          "carpet": [
           {
            "aaxis": {
             "endlinecolor": "#2a3f5f",
             "gridcolor": "#C8D4E3",
             "linecolor": "#C8D4E3",
             "minorgridcolor": "#C8D4E3",
             "startlinecolor": "#2a3f5f"
            },
            "baxis": {
             "endlinecolor": "#2a3f5f",
             "gridcolor": "#C8D4E3",
             "linecolor": "#C8D4E3",
             "minorgridcolor": "#C8D4E3",
             "startlinecolor": "#2a3f5f"
            },
            "type": "carpet"
           }
          ],
          "choropleth": [
           {
            "colorbar": {
             "outlinewidth": 0,
             "ticks": ""
            },
            "type": "choropleth"
           }
          ],
          "contour": [
           {
            "colorbar": {
             "outlinewidth": 0,
             "ticks": ""
            },
            "colorscale": [
             [
              0,
              "#0d0887"
             ],
             [
              0.1111111111111111,
              "#46039f"
             ],
             [
              0.2222222222222222,
              "#7201a8"
             ],
             [
              0.3333333333333333,
              "#9c179e"
             ],
             [
              0.4444444444444444,
              "#bd3786"
             ],
             [
              0.5555555555555556,
              "#d8576b"
             ],
             [
              0.6666666666666666,
              "#ed7953"
             ],
             [
              0.7777777777777778,
              "#fb9f3a"
             ],
             [
              0.8888888888888888,
              "#fdca26"
             ],
             [
              1,
              "#f0f921"
             ]
            ],
            "type": "contour"
           }
          ],
          "contourcarpet": [
           {
            "colorbar": {
             "outlinewidth": 0,
             "ticks": ""
            },
            "type": "contourcarpet"
           }
          ],
          "heatmap": [
           {
            "colorbar": {
             "outlinewidth": 0,
             "ticks": ""
            },
            "colorscale": [
             [
              0,
              "#0d0887"
             ],
             [
              0.1111111111111111,
              "#46039f"
             ],
             [
              0.2222222222222222,
              "#7201a8"
             ],
             [
              0.3333333333333333,
              "#9c179e"
             ],
             [
              0.4444444444444444,
              "#bd3786"
             ],
             [
              0.5555555555555556,
              "#d8576b"
             ],
             [
              0.6666666666666666,
              "#ed7953"
             ],
             [
              0.7777777777777778,
              "#fb9f3a"
             ],
             [
              0.8888888888888888,
              "#fdca26"
             ],
             [
              1,
              "#f0f921"
             ]
            ],
            "type": "heatmap"
           }
          ],
          "histogram": [
           {
            "marker": {
             "pattern": {
              "fillmode": "overlay",
              "size": 10,
              "solidity": 0.2
             }
            },
            "type": "histogram"
           }
          ],
          "histogram2d": [
           {
            "colorbar": {
             "outlinewidth": 0,
             "ticks": ""
            },
            "colorscale": [
             [
              0,
              "#0d0887"
             ],
             [
              0.1111111111111111,
              "#46039f"
             ],
             [
              0.2222222222222222,
              "#7201a8"
             ],
             [
              0.3333333333333333,
              "#9c179e"
             ],
             [
              0.4444444444444444,
              "#bd3786"
             ],
             [
              0.5555555555555556,
              "#d8576b"
             ],
             [
              0.6666666666666666,
              "#ed7953"
             ],
             [
              0.7777777777777778,
              "#fb9f3a"
             ],
             [
              0.8888888888888888,
              "#fdca26"
             ],
             [
              1,
              "#f0f921"
             ]
            ],
            "type": "histogram2d"
           }
          ],
          "histogram2dcontour": [
           {
            "colorbar": {
             "outlinewidth": 0,
             "ticks": ""
            },
            "colorscale": [
             [
              0,
              "#0d0887"
             ],
             [
              0.1111111111111111,
              "#46039f"
             ],
             [
              0.2222222222222222,
              "#7201a8"
             ],
             [
              0.3333333333333333,
              "#9c179e"
             ],
             [
              0.4444444444444444,
              "#bd3786"
             ],
             [
              0.5555555555555556,
              "#d8576b"
             ],
             [
              0.6666666666666666,
              "#ed7953"
             ],
             [
              0.7777777777777778,
              "#fb9f3a"
             ],
             [
              0.8888888888888888,
              "#fdca26"
             ],
             [
              1,
              "#f0f921"
             ]
            ],
            "type": "histogram2dcontour"
           }
          ],
          "mesh3d": [
           {
            "colorbar": {
             "outlinewidth": 0,
             "ticks": ""
            },
            "type": "mesh3d"
           }
          ],
          "parcoords": [
           {
            "line": {
             "colorbar": {
              "outlinewidth": 0,
              "ticks": ""
             }
            },
            "type": "parcoords"
           }
          ],
          "pie": [
           {
            "automargin": true,
            "type": "pie"
           }
          ],
          "scatter": [
           {
            "fillpattern": {
             "fillmode": "overlay",
             "size": 10,
             "solidity": 0.2
            },
            "type": "scatter"
           }
          ],
          "scatter3d": [
           {
            "line": {
             "colorbar": {
              "outlinewidth": 0,
              "ticks": ""
             }
            },
            "marker": {
             "colorbar": {
              "outlinewidth": 0,
              "ticks": ""
             }
            },
            "type": "scatter3d"
           }
          ],
          "scattercarpet": [
           {
            "marker": {
             "colorbar": {
              "outlinewidth": 0,
              "ticks": ""
             }
            },
            "type": "scattercarpet"
           }
          ],
          "scattergeo": [
           {
            "marker": {
             "colorbar": {
              "outlinewidth": 0,
              "ticks": ""
             }
            },
            "type": "scattergeo"
           }
          ],
          "scattergl": [
           {
            "marker": {
             "colorbar": {
              "outlinewidth": 0,
              "ticks": ""
             }
            },
            "type": "scattergl"
           }
          ],
          "scattermap": [
           {
            "marker": {
             "colorbar": {
              "outlinewidth": 0,
              "ticks": ""
             }
            },
            "type": "scattermap"
           }
          ],
          "scattermapbox": [
           {
            "marker": {
             "colorbar": {
              "outlinewidth": 0,
              "ticks": ""
             }
            },
            "type": "scattermapbox"
           }
          ],
          "scatterpolar": [
           {
            "marker": {
             "colorbar": {
              "outlinewidth": 0,
              "ticks": ""
             }
            },
            "type": "scatterpolar"
           }
          ],
          "scatterpolargl": [
           {
            "marker": {
             "colorbar": {
              "outlinewidth": 0,
              "ticks": ""
             }
            },
            "type": "scatterpolargl"
           }
          ],
          "scatterternary": [
           {
            "marker": {
             "colorbar": {
              "outlinewidth": 0,
              "ticks": ""
             }
            },
            "type": "scatterternary"
           }
          ],
          "surface": [
           {
            "colorbar": {
             "outlinewidth": 0,
             "ticks": ""
            },
            "colorscale": [
             [
              0,
              "#0d0887"
             ],
             [
              0.1111111111111111,
              "#46039f"
             ],
             [
              0.2222222222222222,
              "#7201a8"
             ],
             [
              0.3333333333333333,
              "#9c179e"
             ],
             [
              0.4444444444444444,
              "#bd3786"
             ],
             [
              0.5555555555555556,
              "#d8576b"
             ],
             [
              0.6666666666666666,
              "#ed7953"
             ],
             [
              0.7777777777777778,
              "#fb9f3a"
             ],
             [
              0.8888888888888888,
              "#fdca26"
             ],
             [
              1,
              "#f0f921"
             ]
            ],
            "type": "surface"
           }
          ],
          "table": [
           {
            "cells": {
             "fill": {
              "color": "#EBF0F8"
             },
             "line": {
              "color": "white"
             }
            },
            "header": {
             "fill": {
              "color": "#C8D4E3"
             },
             "line": {
              "color": "white"
             }
            },
            "type": "table"
           }
          ]
         },
         "layout": {
          "annotationdefaults": {
           "arrowcolor": "#2a3f5f",
           "arrowhead": 0,
           "arrowwidth": 1
          },
          "autotypenumbers": "strict",
          "coloraxis": {
           "colorbar": {
            "outlinewidth": 0,
            "ticks": ""
           }
          },
          "colorscale": {
           "diverging": [
            [
             0,
             "#8e0152"
            ],
            [
             0.1,
             "#c51b7d"
            ],
            [
             0.2,
             "#de77ae"
            ],
            [
             0.3,
             "#f1b6da"
            ],
            [
             0.4,
             "#fde0ef"
            ],
            [
             0.5,
             "#f7f7f7"
            ],
            [
             0.6,
             "#e6f5d0"
            ],
            [
             0.7,
             "#b8e186"
            ],
            [
             0.8,
             "#7fbc41"
            ],
            [
             0.9,
             "#4d9221"
            ],
            [
             1,
             "#276419"
            ]
           ],
           "sequential": [
            [
             0,
             "#0d0887"
            ],
            [
             0.1111111111111111,
             "#46039f"
            ],
            [
             0.2222222222222222,
             "#7201a8"
            ],
            [
             0.3333333333333333,
             "#9c179e"
            ],
            [
             0.4444444444444444,
             "#bd3786"
            ],
            [
             0.5555555555555556,
             "#d8576b"
            ],
            [
             0.6666666666666666,
             "#ed7953"
            ],
            [
             0.7777777777777778,
             "#fb9f3a"
            ],
            [
             0.8888888888888888,
             "#fdca26"
            ],
            [
             1,
             "#f0f921"
            ]
           ],
           "sequentialminus": [
            [
             0,
             "#0d0887"
            ],
            [
             0.1111111111111111,
             "#46039f"
            ],
            [
             0.2222222222222222,
             "#7201a8"
            ],
            [
             0.3333333333333333,
             "#9c179e"
            ],
            [
             0.4444444444444444,
             "#bd3786"
            ],
            [
             0.5555555555555556,
             "#d8576b"
            ],
            [
             0.6666666666666666,
             "#ed7953"
            ],
            [
             0.7777777777777778,
             "#fb9f3a"
            ],
            [
             0.8888888888888888,
             "#fdca26"
            ],
            [
             1,
             "#f0f921"
            ]
           ]
          },
          "colorway": [
           "#636efa",
           "#EF553B",
           "#00cc96",
           "#ab63fa",
           "#FFA15A",
           "#19d3f3",
           "#FF6692",
           "#B6E880",
           "#FF97FF",
           "#FECB52"
          ],
          "font": {
           "color": "#2a3f5f"
          },
          "geo": {
           "bgcolor": "white",
           "lakecolor": "white",
           "landcolor": "white",
           "showlakes": true,
           "showland": true,
           "subunitcolor": "#C8D4E3"
          },
          "hoverlabel": {
           "align": "left"
          },
          "hovermode": "closest",
          "mapbox": {
           "style": "light"
          },
          "paper_bgcolor": "white",
          "plot_bgcolor": "white",
          "polar": {
           "angularaxis": {
            "gridcolor": "#EBF0F8",
            "linecolor": "#EBF0F8",
            "ticks": ""
           },
           "bgcolor": "white",
           "radialaxis": {
            "gridcolor": "#EBF0F8",
            "linecolor": "#EBF0F8",
            "ticks": ""
           }
          },
          "scene": {
           "xaxis": {
            "backgroundcolor": "white",
            "gridcolor": "#DFE8F3",
            "gridwidth": 2,
            "linecolor": "#EBF0F8",
            "showbackground": true,
            "ticks": "",
            "zerolinecolor": "#EBF0F8"
           },
           "yaxis": {
            "backgroundcolor": "white",
            "gridcolor": "#DFE8F3",
            "gridwidth": 2,
            "linecolor": "#EBF0F8",
            "showbackground": true,
            "ticks": "",
            "zerolinecolor": "#EBF0F8"
           },
           "zaxis": {
            "backgroundcolor": "white",
            "gridcolor": "#DFE8F3",
            "gridwidth": 2,
            "linecolor": "#EBF0F8",
            "showbackground": true,
            "ticks": "",
            "zerolinecolor": "#EBF0F8"
           }
          },
          "shapedefaults": {
           "line": {
            "color": "#2a3f5f"
           }
          },
          "ternary": {
           "aaxis": {
            "gridcolor": "#DFE8F3",
            "linecolor": "#A2B1C6",
            "ticks": ""
           },
           "baxis": {
            "gridcolor": "#DFE8F3",
            "linecolor": "#A2B1C6",
            "ticks": ""
           },
           "bgcolor": "white",
           "caxis": {
            "gridcolor": "#DFE8F3",
            "linecolor": "#A2B1C6",
            "ticks": ""
           }
          },
          "title": {
           "x": 0.05
          },
          "xaxis": {
           "automargin": true,
           "gridcolor": "#EBF0F8",
           "linecolor": "#EBF0F8",
           "ticks": "",
           "title": {
            "standoff": 15
           },
           "zerolinecolor": "#EBF0F8",
           "zerolinewidth": 2
          },
          "yaxis": {
           "automargin": true,
           "gridcolor": "#EBF0F8",
           "linecolor": "#EBF0F8",
           "ticks": "",
           "title": {
            "standoff": 15
           },
           "zerolinecolor": "#EBF0F8",
           "zerolinewidth": 2
          }
         }
        },
        "title": {
         "text": "Distribution of Fraud Transaction Amounts"
        },
        "xaxis": {
         "anchor": "y",
         "domain": [
          0,
          1
         ],
         "range": [
          0,
          1376.0400390625
         ],
         "title": {
          "text": "Transaction Amount (USD)"
         }
        },
        "yaxis": {
         "anchor": "x",
         "domain": [
          0,
          1
         ],
         "title": {
          "text": "Density"
         }
        }
       }
      }
     },
     "metadata": {},
     "output_type": "display_data"
    },
    {
     "name": "stderr",
     "output_type": "stream",
     "text": [
      "                                                                                \r"
     ]
    },
    {
     "data": {
      "application/vnd.plotly.v1+json": {
       "config": {
        "plotlyServerURL": "https://plot.ly"
       },
       "data": [
        {
         "marker": {
          "color": "indianred"
         },
         "name": "Fraud by State",
         "type": "bar",
         "x": [
          "NY",
          "TX",
          "PA",
          "CA",
          "OH",
          "FL",
          "IL",
          "MI",
          "AL",
          "MN",
          "VA",
          "SC",
          "MO",
          "NE",
          "WI",
          "AR",
          "MD",
          "KS",
          "KY",
          "OR",
          "NC",
          "WV",
          "GA",
          "OK",
          "IN",
          "IA",
          "TN",
          "ME",
          "NJ",
          "MS",
          "CO",
          "WY",
          "WA",
          "LA",
          "NM",
          "SD",
          "VT",
          "MA",
          "UT",
          "NH",
          "ND",
          "NV",
          "AZ",
          "AK",
          "MT",
          "DC",
          "CT",
          "RI",
          "ID",
          "DE",
          "HI"
         ],
         "xaxis": "x",
         "y": {
          "bdata": "KwLfAcoBRgFBARkB+ADuANcAzwDGAMEAvwC0AKMAoQCdAJwAmwCVAJUAkgCSAI8AjgCOAIwAdwB2AHMAcQBuAGAAWwBSAEoASABFAD0AOwA5AC8AJQAkACAAFQAQAA8ACwAJAAcA",
          "dtype": "i2"
         },
         "yaxis": "y"
        },
        {
         "marker": {
          "color": "lightcoral"
         },
         "name": "Fraud by Category",
         "type": "bar",
         "x": [
          "grocery_pos",
          "shopping_net",
          "misc_net",
          "shopping_pos",
          "gas_transport",
          "misc_pos",
          "kids_pets",
          "entertainment",
          "personal_care",
          "home",
          "food_dining",
          "grocery_net",
          "health_fitness",
          "travel"
         ],
         "xaxis": "x2",
         "y": {
          "bdata": "zwaxBpMDSwNqAvoA7wDpANwAxgCXAIYAhQB0AA==",
          "dtype": "i2"
         },
         "yaxis": "y2"
        },
        {
         "marker": {
          "color": "salmon"
         },
         "name": "Fraud by Job",
         "type": "bar",
         "x": [
          "Materials engineer",
          "Trading standards officer",
          "Naval architect",
          "Exhibition designer",
          "Surveyor, land/geomatics",
          "Mechanical engineer",
          "Prison officer",
          "Quantity surveyor",
          "Audiological scientist",
          "Senior tax professional/tax inspector",
          "Copywriter, advertising",
          "Film/video editor",
          "Scientist, biomedical",
          "Financial trader",
          "Television production assistant",
          "Buyer, industrial",
          "Podiatrist",
          "Private music teacher",
          "Magazine features editor",
          "Nurse, children's"
         ],
         "xaxis": "x3",
         "y": {
          "bdata": "Pjg1MzIxMDAuLS0sLCsqKSkpKCg=",
          "dtype": "i1"
         },
         "yaxis": "y3"
        },
        {
         "marker": {
          "color": "darksalmon"
         },
         "name": "Fraud by Merchant",
         "type": "bar",
         "x": [
          "Rau and Sons",
          "Kozey-Boehm",
          "Cormier LLC",
          "Vandervort-Funk",
          "Doyle Ltd",
          "Kilback LLC",
          "Kuhn LLC",
          "Padberg-Welch",
          "Terry-Huel",
          "Goyette Inc",
          "Jast Ltd",
          "Koepp-Witting",
          "Kiehn-Emmerich",
          "McDermott-Weimann",
          "Kerluke-Abshire",
          "Schmeler, Bashirian and Price",
          "Hudson-Ratke",
          "Boyer PLC",
          "Moen, Reinger and Murphy",
          "Murray-Smitham"
         ],
         "xaxis": "x4",
         "y": {
          "bdata": "MTAwLy8vLCwrKioqKSkpKSgoKCg=",
          "dtype": "i1"
         },
         "yaxis": "y4"
        }
       ],
       "layout": {
        "annotations": [
         {
          "font": {
           "size": 16
          },
          "showarrow": false,
          "text": "Fraud Transactions by State",
          "x": 0.225,
          "xanchor": "center",
          "xref": "paper",
          "y": 1,
          "yanchor": "bottom",
          "yref": "paper"
         },
         {
          "font": {
           "size": 16
          },
          "showarrow": false,
          "text": "Fraud Transactions by Category",
          "x": 0.775,
          "xanchor": "center",
          "xref": "paper",
          "y": 1,
          "yanchor": "bottom",
          "yref": "paper"
         },
         {
          "font": {
           "size": 16
          },
          "showarrow": false,
          "text": "Fraud Transactions by Job (Top 20)",
          "x": 0.225,
          "xanchor": "center",
          "xref": "paper",
          "y": 0.4,
          "yanchor": "bottom",
          "yref": "paper"
         },
         {
          "font": {
           "size": 16
          },
          "showarrow": false,
          "text": "Fraud Transactions by Merchant (Top 20)",
          "x": 0.775,
          "xanchor": "center",
          "xref": "paper",
          "y": 0.4,
          "yanchor": "bottom",
          "yref": "paper"
         }
        ],
        "height": 900,
        "showlegend": false,
        "template": {
         "data": {
          "bar": [
           {
            "error_x": {
             "color": "#2a3f5f"
            },
            "error_y": {
             "color": "#2a3f5f"
            },
            "marker": {
             "line": {
              "color": "white",
              "width": 0.5
             },
             "pattern": {
              "fillmode": "overlay",
              "size": 10,
              "solidity": 0.2
             }
            },
            "type": "bar"
           }
          ],
          "barpolar": [
           {
            "marker": {
             "line": {
              "color": "white",
              "width": 0.5
             },
             "pattern": {
              "fillmode": "overlay",
              "size": 10,
              "solidity": 0.2
             }
            },
            "type": "barpolar"
           }
          ],
          "carpet": [
           {
            "aaxis": {
             "endlinecolor": "#2a3f5f",
             "gridcolor": "#C8D4E3",
             "linecolor": "#C8D4E3",
             "minorgridcolor": "#C8D4E3",
             "startlinecolor": "#2a3f5f"
            },
            "baxis": {
             "endlinecolor": "#2a3f5f",
             "gridcolor": "#C8D4E3",
             "linecolor": "#C8D4E3",
             "minorgridcolor": "#C8D4E3",
             "startlinecolor": "#2a3f5f"
            },
            "type": "carpet"
           }
          ],
          "choropleth": [
           {
            "colorbar": {
             "outlinewidth": 0,
             "ticks": ""
            },
            "type": "choropleth"
           }
          ],
          "contour": [
           {
            "colorbar": {
             "outlinewidth": 0,
             "ticks": ""
            },
            "colorscale": [
             [
              0,
              "#0d0887"
             ],
             [
              0.1111111111111111,
              "#46039f"
             ],
             [
              0.2222222222222222,
              "#7201a8"
             ],
             [
              0.3333333333333333,
              "#9c179e"
             ],
             [
              0.4444444444444444,
              "#bd3786"
             ],
             [
              0.5555555555555556,
              "#d8576b"
             ],
             [
              0.6666666666666666,
              "#ed7953"
             ],
             [
              0.7777777777777778,
              "#fb9f3a"
             ],
             [
              0.8888888888888888,
              "#fdca26"
             ],
             [
              1,
              "#f0f921"
             ]
            ],
            "type": "contour"
           }
          ],
          "contourcarpet": [
           {
            "colorbar": {
             "outlinewidth": 0,
             "ticks": ""
            },
            "type": "contourcarpet"
           }
          ],
          "heatmap": [
           {
            "colorbar": {
             "outlinewidth": 0,
             "ticks": ""
            },
            "colorscale": [
             [
              0,
              "#0d0887"
             ],
             [
              0.1111111111111111,
              "#46039f"
             ],
             [
              0.2222222222222222,
              "#7201a8"
             ],
             [
              0.3333333333333333,
              "#9c179e"
             ],
             [
              0.4444444444444444,
              "#bd3786"
             ],
             [
              0.5555555555555556,
              "#d8576b"
             ],
             [
              0.6666666666666666,
              "#ed7953"
             ],
             [
              0.7777777777777778,
              "#fb9f3a"
             ],
             [
              0.8888888888888888,
              "#fdca26"
             ],
             [
              1,
              "#f0f921"
             ]
            ],
            "type": "heatmap"
           }
          ],
          "histogram": [
           {
            "marker": {
             "pattern": {
              "fillmode": "overlay",
              "size": 10,
              "solidity": 0.2
             }
            },
            "type": "histogram"
           }
          ],
          "histogram2d": [
           {
            "colorbar": {
             "outlinewidth": 0,
             "ticks": ""
            },
            "colorscale": [
             [
              0,
              "#0d0887"
             ],
             [
              0.1111111111111111,
              "#46039f"
             ],
             [
              0.2222222222222222,
              "#7201a8"
             ],
             [
              0.3333333333333333,
              "#9c179e"
             ],
             [
              0.4444444444444444,
              "#bd3786"
             ],
             [
              0.5555555555555556,
              "#d8576b"
             ],
             [
              0.6666666666666666,
              "#ed7953"
             ],
             [
              0.7777777777777778,
              "#fb9f3a"
             ],
             [
              0.8888888888888888,
              "#fdca26"
             ],
             [
              1,
              "#f0f921"
             ]
            ],
            "type": "histogram2d"
           }
          ],
          "histogram2dcontour": [
           {
            "colorbar": {
             "outlinewidth": 0,
             "ticks": ""
            },
            "colorscale": [
             [
              0,
              "#0d0887"
             ],
             [
              0.1111111111111111,
              "#46039f"
             ],
             [
              0.2222222222222222,
              "#7201a8"
             ],
             [
              0.3333333333333333,
              "#9c179e"
             ],
             [
              0.4444444444444444,
              "#bd3786"
             ],
             [
              0.5555555555555556,
              "#d8576b"
             ],
             [
              0.6666666666666666,
              "#ed7953"
             ],
             [
              0.7777777777777778,
              "#fb9f3a"
             ],
             [
              0.8888888888888888,
              "#fdca26"
             ],
             [
              1,
              "#f0f921"
             ]
            ],
            "type": "histogram2dcontour"
           }
          ],
          "mesh3d": [
           {
            "colorbar": {
             "outlinewidth": 0,
             "ticks": ""
            },
            "type": "mesh3d"
           }
          ],
          "parcoords": [
           {
            "line": {
             "colorbar": {
              "outlinewidth": 0,
              "ticks": ""
             }
            },
            "type": "parcoords"
           }
          ],
          "pie": [
           {
            "automargin": true,
            "type": "pie"
           }
          ],
          "scatter": [
           {
            "fillpattern": {
             "fillmode": "overlay",
             "size": 10,
             "solidity": 0.2
            },
            "type": "scatter"
           }
          ],
          "scatter3d": [
           {
            "line": {
             "colorbar": {
              "outlinewidth": 0,
              "ticks": ""
             }
            },
            "marker": {
             "colorbar": {
              "outlinewidth": 0,
              "ticks": ""
             }
            },
            "type": "scatter3d"
           }
          ],
          "scattercarpet": [
           {
            "marker": {
             "colorbar": {
              "outlinewidth": 0,
              "ticks": ""
             }
            },
            "type": "scattercarpet"
           }
          ],
          "scattergeo": [
           {
            "marker": {
             "colorbar": {
              "outlinewidth": 0,
              "ticks": ""
             }
            },
            "type": "scattergeo"
           }
          ],
          "scattergl": [
           {
            "marker": {
             "colorbar": {
              "outlinewidth": 0,
              "ticks": ""
             }
            },
            "type": "scattergl"
           }
          ],
          "scattermap": [
           {
            "marker": {
             "colorbar": {
              "outlinewidth": 0,
              "ticks": ""
             }
            },
            "type": "scattermap"
           }
          ],
          "scattermapbox": [
           {
            "marker": {
             "colorbar": {
              "outlinewidth": 0,
              "ticks": ""
             }
            },
            "type": "scattermapbox"
           }
          ],
          "scatterpolar": [
           {
            "marker": {
             "colorbar": {
              "outlinewidth": 0,
              "ticks": ""
             }
            },
            "type": "scatterpolar"
           }
          ],
          "scatterpolargl": [
           {
            "marker": {
             "colorbar": {
              "outlinewidth": 0,
              "ticks": ""
             }
            },
            "type": "scatterpolargl"
           }
          ],
          "scatterternary": [
           {
            "marker": {
             "colorbar": {
              "outlinewidth": 0,
              "ticks": ""
             }
            },
            "type": "scatterternary"
           }
          ],
          "surface": [
           {
            "colorbar": {
             "outlinewidth": 0,
             "ticks": ""
            },
            "colorscale": [
             [
              0,
              "#0d0887"
             ],
             [
              0.1111111111111111,
              "#46039f"
             ],
             [
              0.2222222222222222,
              "#7201a8"
             ],
             [
              0.3333333333333333,
              "#9c179e"
             ],
             [
              0.4444444444444444,
              "#bd3786"
             ],
             [
              0.5555555555555556,
              "#d8576b"
             ],
             [
              0.6666666666666666,
              "#ed7953"
             ],
             [
              0.7777777777777778,
              "#fb9f3a"
             ],
             [
              0.8888888888888888,
              "#fdca26"
             ],
             [
              1,
              "#f0f921"
             ]
            ],
            "type": "surface"
           }
          ],
          "table": [
           {
            "cells": {
             "fill": {
              "color": "#EBF0F8"
             },
             "line": {
              "color": "white"
             }
            },
            "header": {
             "fill": {
              "color": "#C8D4E3"
             },
             "line": {
              "color": "white"
             }
            },
            "type": "table"
           }
          ]
         },
         "layout": {
          "annotationdefaults": {
           "arrowcolor": "#2a3f5f",
           "arrowhead": 0,
           "arrowwidth": 1
          },
          "autotypenumbers": "strict",
          "coloraxis": {
           "colorbar": {
            "outlinewidth": 0,
            "ticks": ""
           }
          },
          "colorscale": {
           "diverging": [
            [
             0,
             "#8e0152"
            ],
            [
             0.1,
             "#c51b7d"
            ],
            [
             0.2,
             "#de77ae"
            ],
            [
             0.3,
             "#f1b6da"
            ],
            [
             0.4,
             "#fde0ef"
            ],
            [
             0.5,
             "#f7f7f7"
            ],
            [
             0.6,
             "#e6f5d0"
            ],
            [
             0.7,
             "#b8e186"
            ],
            [
             0.8,
             "#7fbc41"
            ],
            [
             0.9,
             "#4d9221"
            ],
            [
             1,
             "#276419"
            ]
           ],
           "sequential": [
            [
             0,
             "#0d0887"
            ],
            [
             0.1111111111111111,
             "#46039f"
            ],
            [
             0.2222222222222222,
             "#7201a8"
            ],
            [
             0.3333333333333333,
             "#9c179e"
            ],
            [
             0.4444444444444444,
             "#bd3786"
            ],
            [
             0.5555555555555556,
             "#d8576b"
            ],
            [
             0.6666666666666666,
             "#ed7953"
            ],
            [
             0.7777777777777778,
             "#fb9f3a"
            ],
            [
             0.8888888888888888,
             "#fdca26"
            ],
            [
             1,
             "#f0f921"
            ]
           ],
           "sequentialminus": [
            [
             0,
             "#0d0887"
            ],
            [
             0.1111111111111111,
             "#46039f"
            ],
            [
             0.2222222222222222,
             "#7201a8"
            ],
            [
             0.3333333333333333,
             "#9c179e"
            ],
            [
             0.4444444444444444,
             "#bd3786"
            ],
            [
             0.5555555555555556,
             "#d8576b"
            ],
            [
             0.6666666666666666,
             "#ed7953"
            ],
            [
             0.7777777777777778,
             "#fb9f3a"
            ],
            [
             0.8888888888888888,
             "#fdca26"
            ],
            [
             1,
             "#f0f921"
            ]
           ]
          },
          "colorway": [
           "#636efa",
           "#EF553B",
           "#00cc96",
           "#ab63fa",
           "#FFA15A",
           "#19d3f3",
           "#FF6692",
           "#B6E880",
           "#FF97FF",
           "#FECB52"
          ],
          "font": {
           "color": "#2a3f5f"
          },
          "geo": {
           "bgcolor": "white",
           "lakecolor": "white",
           "landcolor": "white",
           "showlakes": true,
           "showland": true,
           "subunitcolor": "#C8D4E3"
          },
          "hoverlabel": {
           "align": "left"
          },
          "hovermode": "closest",
          "mapbox": {
           "style": "light"
          },
          "paper_bgcolor": "white",
          "plot_bgcolor": "white",
          "polar": {
           "angularaxis": {
            "gridcolor": "#EBF0F8",
            "linecolor": "#EBF0F8",
            "ticks": ""
           },
           "bgcolor": "white",
           "radialaxis": {
            "gridcolor": "#EBF0F8",
            "linecolor": "#EBF0F8",
            "ticks": ""
           }
          },
          "scene": {
           "xaxis": {
            "backgroundcolor": "white",
            "gridcolor": "#DFE8F3",
            "gridwidth": 2,
            "linecolor": "#EBF0F8",
            "showbackground": true,
            "ticks": "",
            "zerolinecolor": "#EBF0F8"
           },
           "yaxis": {
            "backgroundcolor": "white",
            "gridcolor": "#DFE8F3",
            "gridwidth": 2,
            "linecolor": "#EBF0F8",
            "showbackground": true,
            "ticks": "",
            "zerolinecolor": "#EBF0F8"
           },
           "zaxis": {
            "backgroundcolor": "white",
            "gridcolor": "#DFE8F3",
            "gridwidth": 2,
            "linecolor": "#EBF0F8",
            "showbackground": true,
            "ticks": "",
            "zerolinecolor": "#EBF0F8"
           }
          },
          "shapedefaults": {
           "line": {
            "color": "#2a3f5f"
           }
          },
          "ternary": {
           "aaxis": {
            "gridcolor": "#DFE8F3",
            "linecolor": "#A2B1C6",
            "ticks": ""
           },
           "baxis": {
            "gridcolor": "#DFE8F3",
            "linecolor": "#A2B1C6",
            "ticks": ""
           },
           "bgcolor": "white",
           "caxis": {
            "gridcolor": "#DFE8F3",
            "linecolor": "#A2B1C6",
            "ticks": ""
           }
          },
          "title": {
           "x": 0.05
          },
          "xaxis": {
           "automargin": true,
           "gridcolor": "#EBF0F8",
           "linecolor": "#EBF0F8",
           "ticks": "",
           "title": {
            "standoff": 15
           },
           "zerolinecolor": "#EBF0F8",
           "zerolinewidth": 2
          },
          "yaxis": {
           "automargin": true,
           "gridcolor": "#EBF0F8",
           "linecolor": "#EBF0F8",
           "ticks": "",
           "title": {
            "standoff": 15
           },
           "zerolinecolor": "#EBF0F8",
           "zerolinewidth": 2
          }
         }
        },
        "title": {
         "text": "Fraud Transaction Analysis by State, Category, Job, and Merchant",
         "x": 0.5
        },
        "width": 1200,
        "xaxis": {
         "anchor": "y",
         "domain": [
          0,
          0.45
         ],
         "title": {
          "text": "State"
         }
        },
        "xaxis2": {
         "anchor": "y2",
         "domain": [
          0.55,
          1
         ],
         "title": {
          "text": "Category"
         }
        },
        "xaxis3": {
         "anchor": "y3",
         "domain": [
          0,
          0.45
         ],
         "tickangle": 45,
         "title": {
          "text": "Job"
         }
        },
        "xaxis4": {
         "anchor": "y4",
         "domain": [
          0.55,
          1
         ],
         "tickangle": 45,
         "title": {
          "text": "Merchant"
         }
        },
        "yaxis": {
         "anchor": "x",
         "domain": [
          0.6000000000000001,
          1
         ],
         "title": {
          "text": "Number of Fraud Transactions"
         }
        },
        "yaxis2": {
         "anchor": "x2",
         "domain": [
          0.6000000000000001,
          1
         ],
         "title": {
          "text": "Number of Fraud Transactions"
         }
        },
        "yaxis3": {
         "anchor": "x3",
         "domain": [
          0,
          0.4
         ],
         "title": {
          "text": "Number of Fraud Transactions"
         }
        },
        "yaxis4": {
         "anchor": "x4",
         "domain": [
          0,
          0.4
         ],
         "title": {
          "text": "Number of Fraud Transactions"
         }
        }
       }
      }
     },
     "metadata": {},
     "output_type": "display_data"
    }
   ],
   "source": [
    "import pandas as pd\n",
    "import plotly.graph_objects as go\n",
    "from plotly.subplots import make_subplots\n",
    "\n",
    "# Fraud statistics\n",
    "fraud_count = df_cleaned.filter(sf.col(\"is_fraud\") == 1).count()\n",
    "print(f\"Total fraud transactions: {fraud_count}\")\n",
    "\n",
    "percentage_fraud = (fraud_count / total_count) * 100\n",
    "print(f\"Percentage of fraud transactions: {percentage_fraud:.2f}%\")\n",
    "\n",
    "fraud_data = df_cleaned.filter(sf.col(\"is_fraud\") == 1)\n",
    "\n",
    "max_amt_fraud = fraud_data.agg(sf.max(\"amt\")).collect()[0][0]\n",
    "\n",
    "# KDE plot of fraud data\n",
    "kde_plot_fraud = fraud_data.plot.kde(column = \"amt\", bw_method=.9, template=\"plotly_white\")\n",
    "kde_plot_fraud.update_layout(title=\"Distribution of Fraud Transaction Amounts\", xaxis_title=\"Transaction Amount (USD)\", yaxis_title=\"Density\")\n",
    "kde_plot_fraud.update_xaxes(range=[0, max_amt_fraud])\n",
    "\n",
    "kde_plot_fraud.show()\n",
    "\n",
    "# --- New Bar Plots for Fraud Analysis ---\n",
    "\n",
    "# Aggregate fraud data by 'state'\n",
    "fraud_state_counts = fraud_data.groupBy(\"state\").count().orderBy(sf.desc(\"count\")).toPandas()\n",
    "\n",
    "# Aggregate fraud data by 'category'\n",
    "fraud_category_counts = fraud_data.groupBy(\"category\").count().orderBy(sf.desc(\"count\")).toPandas()\n",
    "\n",
    "# Aggregate fraud data by 'job' (top 20 for readability)\n",
    "fraud_job_counts = fraud_data.groupBy(\"job\").count().orderBy(sf.desc(\"count\")).limit(20).toPandas()\n",
    "\n",
    "# Aggregate fraud data by 'merchant' (top 20 for readability)\n",
    "fraud_merchant_counts = fraud_data.groupBy(\"merchant\").count().orderBy(sf.desc(\"count\")).limit(20).toPandas()\n",
    "\n",
    "# Create subplots\n",
    "fig_bar = make_subplots(\n",
    "    rows=2, cols=2,\n",
    "    subplot_titles=(\n",
    "        'Fraud Transactions by State',\n",
    "        'Fraud Transactions by Category',\n",
    "        'Fraud Transactions by Job (Top 20)',\n",
    "        'Fraud Transactions by Merchant (Top 20)'\n",
    "    ),\n",
    "    shared_yaxes=False, # Allow independent y-axes for different scales\n",
    "    vertical_spacing=0.2,\n",
    "    horizontal_spacing=0.1\n",
    ")\n",
    "\n",
    "# Plot 1: Fraud by State\n",
    "fig_bar.add_trace(\n",
    "    go.Bar(\n",
    "        x=fraud_state_counts['state'],\n",
    "        y=fraud_state_counts['count'],\n",
    "        name='Fraud by State',\n",
    "        marker_color='indianred'\n",
    "    ),\n",
    "    row=1, col=1\n",
    ")\n",
    "fig_bar.update_yaxes(title_text=\"Number of Fraud Transactions\", row=1, col=1)\n",
    "fig_bar.update_xaxes(title_text=\"State\", row=1, col=1)\n",
    "\n",
    "\n",
    "# Plot 2: Fraud by Category\n",
    "fig_bar.add_trace(\n",
    "    go.Bar(\n",
    "        x=fraud_category_counts['category'],\n",
    "        y=fraud_category_counts['count'],\n",
    "        name='Fraud by Category',\n",
    "        marker_color='lightcoral'\n",
    "    ),\n",
    "    row=1, col=2\n",
    ")\n",
    "fig_bar.update_yaxes(title_text=\"Number of Fraud Transactions\", row=1, col=2)\n",
    "fig_bar.update_xaxes(title_text=\"Category\", row=1, col=2)\n",
    "\n",
    "\n",
    "# Plot 3: Fraud by Job\n",
    "fig_bar.add_trace(\n",
    "    go.Bar(\n",
    "        x=fraud_job_counts['job'],\n",
    "        y=fraud_job_counts['count'],\n",
    "        name='Fraud by Job',\n",
    "        marker_color='salmon'\n",
    "    ),\n",
    "    row=2, col=1\n",
    ")\n",
    "fig_bar.update_yaxes(title_text=\"Number of Fraud Transactions\", row=2, col=1)\n",
    "fig_bar.update_xaxes(title_text=\"Job\", row=2, col=1, tickangle=45)\n",
    "\n",
    "\n",
    "# Plot 4: Fraud by Merchant\n",
    "fig_bar.add_trace(\n",
    "    go.Bar(\n",
    "        x=fraud_merchant_counts['merchant'],\n",
    "        y=fraud_merchant_counts['count'],\n",
    "        name='Fraud by Merchant',\n",
    "        marker_color='darksalmon'\n",
    "    ),\n",
    "    row=2, col=2\n",
    ")\n",
    "fig_bar.update_yaxes(title_text=\"Number of Fraud Transactions\", row=2, col=2)\n",
    "fig_bar.update_xaxes(title_text=\"Merchant\", row=2, col=2, tickangle=45)\n",
    "\n",
    "\n",
    "# Update overall layout\n",
    "fig_bar.update_layout(\n",
    "    title_text=\"Fraud Transaction Analysis by State, Category, Job, and Merchant\",\n",
    "    title_x=0.5,\n",
    "    height=900, # Adjust height to accommodate all subplots\n",
    "    width=1200, # Adjust width if needed\n",
    "    showlegend=False,\n",
    "    template=\"plotly_white\"\n",
    ")\n",
    "\n",
    "fig_bar.show()"
   ]
  },
  {
   "cell_type": "markdown",
   "id": "63a8293c",
   "metadata": {},
   "source": [
    "Transaction amount vs city population"
   ]
  },
  {
   "cell_type": "code",
   "execution_count": null,
   "id": "d5788bbf",
   "metadata": {},
   "outputs": [
    {
     "name": "stderr",
     "output_type": "stream",
     "text": [
      "[Stage 35:===================================================>    (11 + 1) / 12]\r"
     ]
    },
    {
     "name": "stdout",
     "output_type": "stream",
     "text": [
      "\n",
      "Customer Per Capita Analysis:\n",
      "Total states with data: 50\n",
      "Highest customers per 100k: Wyoming (2.08)\n",
      "Lowest customers per 100k: Rhode Island (0.09)\n"
     ]
    },
    {
     "name": "stderr",
     "output_type": "stream",
     "text": [
      "                                                                                \r"
     ]
    },
    {
     "data": {
      "application/vnd.plotly.v1+json": {
       "config": {
        "plotlyServerURL": "https://plot.ly"
       },
       "data": [
        {
         "marker": {
          "color": "lightblue"
         },
         "name": "Customers per 100k",
         "text": [
          "2.1",
          "1.2",
          "1.0",
          "1.0",
          "0.9",
          "0.9",
          "0.8",
          "0.7",
          "0.7",
          "0.6",
          "0.6",
          "0.6",
          "0.6",
          "0.6",
          "0.6",
          "0.5",
          "0.5",
          "0.5",
          "0.5",
          "0.4",
          "0.4",
          "0.4",
          "0.4",
          "0.4",
          "0.4",
          "0.3",
          "0.3",
          "0.3",
          "0.3",
          "0.3",
          "0.3",
          "0.3",
          "0.2",
          "0.2",
          "0.2",
          "0.2",
          "0.2",
          "0.2",
          "0.2",
          "0.2",
          "0.2",
          "0.2",
          "0.2",
          "0.1",
          "0.1",
          "0.1",
          "0.1",
          "0.1",
          "0.1",
          "0.1"
         ],
         "textposition": "outside",
         "type": "bar",
         "x": [
          "WY",
          "ND",
          "SD",
          "NE",
          "VT",
          "ME",
          "WV",
          "IA",
          "AR",
          "MT",
          "NH",
          "KS",
          "MS",
          "NM",
          "AL",
          "OK",
          "KY",
          "MO",
          "MN",
          "PA",
          "OR",
          "WI",
          "SC",
          "AK",
          "NY",
          "IN",
          "OH",
          "MI",
          "MD",
          "LA",
          "VA",
          "IL",
          "TN",
          "TX",
          "CO",
          "ID",
          "UT",
          "GA",
          "NC",
          "NJ",
          "FL",
          "NV",
          "WA",
          "CT",
          "HI",
          "MA",
          "CA",
          "DE",
          "AZ",
          "RI"
         ],
         "xaxis": "x",
         "y": {
          "bdata": "XoGYTF+kAECsduBbpnvyP+kl96iXPfA/8ERVryL/7j8xgUKvQNvtP6bztDoszu0/yjQyM5XC6j/mzV5xABHmP7YbsU9vQOU/Rh8eafCo5D9ASRoTgZXiP6gQY/ZJhOI/rk4iMtVe4j/a5HpRaCLiP9x6OABa1eE/yWaEwQwq4D+hw567lD/fP6chCTtr9N0/Sa2fTwUA3T/xwV9JRIzcP/EPHtr5L9s/NFaTysUl2z+mJ+NcEULaPwjI+LcELto/TOlfamB+1j8VIwxVd7HVP5ReUd5NJ9U/4UI0wmpn1D9HT3lvaq/TPxlilSSaPNM//I9W1HeJ0j9qnxBb4HvQP4/9mq2cfM8/1SoHZVD8zD+brXpB/dHMP7wV/ebw1ss/Noz+fRdjyz+I7Q8t20nKP3yTL5mmv8k/pHntVy8Mxj85lu0s3szEP0xKVn5OncQ/zJlCiDPvwz8gQnrum7/BP1AILYpal8E/ETrrzS90wD8qWP6n6CK9Pxnu5Uwl3Lk/0MO4q8MOuT+WjANGDFS3Pw==",
          "dtype": "f8"
         },
         "yaxis": "y"
        },
        {
         "marker": {
          "color": "lightcoral"
         },
         "name": "Spending per Capita",
         "text": [
          "$3",
          "$1",
          "$1",
          "$1",
          "$2",
          "$1",
          "$1",
          "$1",
          "$1",
          "$1",
          "$0",
          "$1",
          "$0",
          "$0",
          "$1",
          "$0",
          "$0",
          "$0",
          "$0",
          "$0",
          "$0",
          "$0",
          "$0",
          "$0",
          "$0",
          "$0",
          "$0",
          "$0",
          "$0",
          "$0",
          "$0",
          "$0",
          "$0",
          "$0",
          "$0",
          "$0",
          "$0",
          "$0",
          "$0",
          "$0",
          "$0",
          "$0",
          "$0",
          "$0",
          "$0",
          "$0",
          "$0",
          "$0",
          "$0",
          "$0"
         ],
         "textposition": "outside",
         "type": "bar",
         "x": [
          "WY",
          "ND",
          "SD",
          "NE",
          "VT",
          "ME",
          "WV",
          "IA",
          "AR",
          "MT",
          "NH",
          "KS",
          "MS",
          "NM",
          "AL",
          "OK",
          "KY",
          "MO",
          "MN",
          "PA",
          "OR",
          "WI",
          "SC",
          "AK",
          "NY",
          "IN",
          "OH",
          "MI",
          "MD",
          "LA",
          "VA",
          "IL",
          "TN",
          "TX",
          "CO",
          "ID",
          "UT",
          "GA",
          "NC",
          "NJ",
          "FL",
          "NV",
          "WA",
          "CT",
          "HI",
          "MA",
          "CA",
          "DE",
          "AZ",
          "RI"
         ],
         "xaxis": "x2",
         "y": {
          "bdata": "+NVMIPJMBECyCO1jouPzP4As/j4qa+8/LfUfBD6D6j/VKbRacQn4P9o93yMfDOg/6i6RBv068D8uo8GhG8HhPz/IbkQG5Og//07d7v0K6D+krB4uvHbcP59Gwg91XOE/phooIB/V3j+DNQcBeU3eP9DyFbMfFuE/8hIm21Xw3D+iDTd7wMzaPyOqU64rPts/U9XysPaO2D//hJvHvGfcP6n3XlOsx9M/z8YhqMf61T8zCgsfeHnXPxqDfpHGPck/54YrNoEH0z/6u2JbNOLRPzZGlxOva9I/g0zEUHPu1D9buUQBGJzRPzrx06ngl9U/h0RboJqtzj+BidMe6hbOPx5EqyYSVMg/tnoMIDTezT8SCAzrISvIPybzVAy5Msw/TSwuhHH0yj8uGUjOqcLFPz2+2U34kMw/bRhanhCExj8jiPySR8DCPx1wNxugI7o/FfHrkGYxxz++8YT1YLDBP2i7l9Bjj7o/YfsCAnfruz8C/DrcAsu6P03of4arKHM/piTaN3TvvD9fFMFmzgalPw==",
          "dtype": "f8"
         },
         "yaxis": "y2"
        },
        {
         "colorbar": {
          "title": {
           "text": "Customers per 100k"
          },
          "x": 1.02
         },
         "colorscale": [
          [
           0,
           "rgb(5,48,97)"
          ],
          [
           0.1,
           "rgb(33,102,172)"
          ],
          [
           0.2,
           "rgb(67,147,195)"
          ],
          [
           0.3,
           "rgb(146,197,222)"
          ],
          [
           0.4,
           "rgb(209,229,240)"
          ],
          [
           0.5,
           "rgb(247,247,247)"
          ],
          [
           0.6,
           "rgb(253,219,199)"
          ],
          [
           0.7,
           "rgb(244,165,130)"
          ],
          [
           0.8,
           "rgb(214,96,77)"
          ],
          [
           0.9,
           "rgb(178,24,43)"
          ],
          [
           1,
           "rgb(103,0,31)"
          ]
         ],
         "geo": "geo",
         "locationmode": "USA-states",
         "locations": [
          "WY",
          "ND",
          "SD",
          "NE",
          "VT",
          "ME",
          "WV",
          "IA",
          "AR",
          "MT",
          "NH",
          "KS",
          "MS",
          "NM",
          "AL",
          "OK",
          "KY",
          "MO",
          "MN",
          "PA",
          "OR",
          "WI",
          "SC",
          "AK",
          "NY",
          "IN",
          "OH",
          "MI",
          "MD",
          "LA",
          "VA",
          "IL",
          "TN",
          "TX",
          "CO",
          "ID",
          "UT",
          "GA",
          "NC",
          "NJ",
          "FL",
          "NV",
          "WA",
          "CT",
          "HI",
          "MA",
          "CA",
          "DE",
          "AZ",
          "RI"
         ],
         "name": "Geographic Distribution",
         "text": [
          "Wyoming",
          "North Dakota",
          "South Dakota",
          "Nebraska",
          "Vermont",
          "Maine",
          "West Virginia",
          "Iowa",
          "Arkansas",
          "Montana",
          "New Hampshire",
          "Kansas",
          "Mississippi",
          "New Mexico",
          "Alabama",
          "Oklahoma",
          "Kentucky",
          "Missouri",
          "Minnesota",
          "Pennsylvania",
          "Oregon",
          "Wisconsin",
          "South Carolina",
          "Alaska",
          "New York",
          "Indiana",
          "Ohio",
          "Michigan",
          "Maryland",
          "Louisiana",
          "Virginia",
          "Illinois",
          "Tennessee",
          "Texas",
          "Colorado",
          "Idaho",
          "Utah",
          "Georgia",
          "North Carolina",
          "New Jersey",
          "Florida",
          "Nevada",
          "Washington",
          "Connecticut",
          "Hawaii",
          "Massachusetts",
          "California",
          "Delaware",
          "Arizona",
          "Rhode Island"
         ],
         "type": "choropleth",
         "z": {
          "bdata": "XoGYTF+kAECsduBbpnvyP+kl96iXPfA/8ERVryL/7j8xgUKvQNvtP6bztDoszu0/yjQyM5XC6j/mzV5xABHmP7YbsU9vQOU/Rh8eafCo5D9ASRoTgZXiP6gQY/ZJhOI/rk4iMtVe4j/a5HpRaCLiP9x6OABa1eE/yWaEwQwq4D+hw567lD/fP6chCTtr9N0/Sa2fTwUA3T/xwV9JRIzcP/EPHtr5L9s/NFaTysUl2z+mJ+NcEULaPwjI+LcELto/TOlfamB+1j8VIwxVd7HVP5ReUd5NJ9U/4UI0wmpn1D9HT3lvaq/TPxlilSSaPNM//I9W1HeJ0j9qnxBb4HvQP4/9mq2cfM8/1SoHZVD8zD+brXpB/dHMP7wV/ebw1ss/Noz+fRdjyz+I7Q8t20nKP3yTL5mmv8k/pHntVy8Mxj85lu0s3szEP0xKVn5OncQ/zJlCiDPvwz8gQnrum7/BP1AILYpal8E/ETrrzS90wD8qWP6n6CK9Pxnu5Uwl3Lk/0MO4q8MOuT+WjANGDFS3Pw==",
          "dtype": "f8"
         },
         "zmax": 1.1551879490793153,
         "zmin": 0.0911262198383603
        }
       ],
       "layout": {
        "annotations": [
         {
          "font": {
           "size": 16
          },
          "showarrow": false,
          "text": "Customers Per 100k Population by State",
          "x": 0.225,
          "xanchor": "center",
          "xref": "paper",
          "y": 1,
          "yanchor": "bottom",
          "yref": "paper"
         },
         {
          "font": {
           "size": 16
          },
          "showarrow": false,
          "text": "Spending Per Capita by State",
          "x": 0.775,
          "xanchor": "center",
          "xref": "paper",
          "y": 1,
          "yanchor": "bottom",
          "yref": "paper"
         },
         {
          "font": {
           "size": 16
          },
          "showarrow": false,
          "text": "Geographic Distribution of Market Penetration",
          "x": 0.5,
          "xanchor": "center",
          "xref": "paper",
          "y": 0.44,
          "yanchor": "bottom",
          "yref": "paper"
         }
        ],
        "font": {
         "size": 10
        },
        "geo": {
         "domain": {
          "x": [
           0,
           1
          ],
          "y": [
           0,
           0.44
          ]
         },
         "projection": {
          "type": "albers usa"
         },
         "scope": "usa"
        },
        "height": 1000,
        "showlegend": false,
        "template": {
         "data": {
          "bar": [
           {
            "error_x": {
             "color": "#2a3f5f"
            },
            "error_y": {
             "color": "#2a3f5f"
            },
            "marker": {
             "line": {
              "color": "#E5ECF6",
              "width": 0.5
             },
             "pattern": {
              "fillmode": "overlay",
              "size": 10,
              "solidity": 0.2
             }
            },
            "type": "bar"
           }
          ],
          "barpolar": [
           {
            "marker": {
             "line": {
              "color": "#E5ECF6",
              "width": 0.5
             },
             "pattern": {
              "fillmode": "overlay",
              "size": 10,
              "solidity": 0.2
             }
            },
            "type": "barpolar"
           }
          ],
          "carpet": [
           {
            "aaxis": {
             "endlinecolor": "#2a3f5f",
             "gridcolor": "white",
             "linecolor": "white",
             "minorgridcolor": "white",
             "startlinecolor": "#2a3f5f"
            },
            "baxis": {
             "endlinecolor": "#2a3f5f",
             "gridcolor": "white",
             "linecolor": "white",
             "minorgridcolor": "white",
             "startlinecolor": "#2a3f5f"
            },
            "type": "carpet"
           }
          ],
          "choropleth": [
           {
            "colorbar": {
             "outlinewidth": 0,
             "ticks": ""
            },
            "type": "choropleth"
           }
          ],
          "contour": [
           {
            "colorbar": {
             "outlinewidth": 0,
             "ticks": ""
            },
            "colorscale": [
             [
              0,
              "#0d0887"
             ],
             [
              0.1111111111111111,
              "#46039f"
             ],
             [
              0.2222222222222222,
              "#7201a8"
             ],
             [
              0.3333333333333333,
              "#9c179e"
             ],
             [
              0.4444444444444444,
              "#bd3786"
             ],
             [
              0.5555555555555556,
              "#d8576b"
             ],
             [
              0.6666666666666666,
              "#ed7953"
             ],
             [
              0.7777777777777778,
              "#fb9f3a"
             ],
             [
              0.8888888888888888,
              "#fdca26"
             ],
             [
              1,
              "#f0f921"
             ]
            ],
            "type": "contour"
           }
          ],
          "contourcarpet": [
           {
            "colorbar": {
             "outlinewidth": 0,
             "ticks": ""
            },
            "type": "contourcarpet"
           }
          ],
          "heatmap": [
           {
            "colorbar": {
             "outlinewidth": 0,
             "ticks": ""
            },
            "colorscale": [
             [
              0,
              "#0d0887"
             ],
             [
              0.1111111111111111,
              "#46039f"
             ],
             [
              0.2222222222222222,
              "#7201a8"
             ],
             [
              0.3333333333333333,
              "#9c179e"
             ],
             [
              0.4444444444444444,
              "#bd3786"
             ],
             [
              0.5555555555555556,
              "#d8576b"
             ],
             [
              0.6666666666666666,
              "#ed7953"
             ],
             [
              0.7777777777777778,
              "#fb9f3a"
             ],
             [
              0.8888888888888888,
              "#fdca26"
             ],
             [
              1,
              "#f0f921"
             ]
            ],
            "type": "heatmap"
           }
          ],
          "histogram": [
           {
            "marker": {
             "pattern": {
              "fillmode": "overlay",
              "size": 10,
              "solidity": 0.2
             }
            },
            "type": "histogram"
           }
          ],
          "histogram2d": [
           {
            "colorbar": {
             "outlinewidth": 0,
             "ticks": ""
            },
            "colorscale": [
             [
              0,
              "#0d0887"
             ],
             [
              0.1111111111111111,
              "#46039f"
             ],
             [
              0.2222222222222222,
              "#7201a8"
             ],
             [
              0.3333333333333333,
              "#9c179e"
             ],
             [
              0.4444444444444444,
              "#bd3786"
             ],
             [
              0.5555555555555556,
              "#d8576b"
             ],
             [
              0.6666666666666666,
              "#ed7953"
             ],
             [
              0.7777777777777778,
              "#fb9f3a"
             ],
             [
              0.8888888888888888,
              "#fdca26"
             ],
             [
              1,
              "#f0f921"
             ]
            ],
            "type": "histogram2d"
           }
          ],
          "histogram2dcontour": [
           {
            "colorbar": {
             "outlinewidth": 0,
             "ticks": ""
            },
            "colorscale": [
             [
              0,
              "#0d0887"
             ],
             [
              0.1111111111111111,
              "#46039f"
             ],
             [
              0.2222222222222222,
              "#7201a8"
             ],
             [
              0.3333333333333333,
              "#9c179e"
             ],
             [
              0.4444444444444444,
              "#bd3786"
             ],
             [
              0.5555555555555556,
              "#d8576b"
             ],
             [
              0.6666666666666666,
              "#ed7953"
             ],
             [
              0.7777777777777778,
              "#fb9f3a"
             ],
             [
              0.8888888888888888,
              "#fdca26"
             ],
             [
              1,
              "#f0f921"
             ]
            ],
            "type": "histogram2dcontour"
           }
          ],
          "mesh3d": [
           {
            "colorbar": {
             "outlinewidth": 0,
             "ticks": ""
            },
            "type": "mesh3d"
           }
          ],
          "parcoords": [
           {
            "line": {
             "colorbar": {
              "outlinewidth": 0,
              "ticks": ""
             }
            },
            "type": "parcoords"
           }
          ],
          "pie": [
           {
            "automargin": true,
            "type": "pie"
           }
          ],
          "scatter": [
           {
            "fillpattern": {
             "fillmode": "overlay",
             "size": 10,
             "solidity": 0.2
            },
            "type": "scatter"
           }
          ],
          "scatter3d": [
           {
            "line": {
             "colorbar": {
              "outlinewidth": 0,
              "ticks": ""
             }
            },
            "marker": {
             "colorbar": {
              "outlinewidth": 0,
              "ticks": ""
             }
            },
            "type": "scatter3d"
           }
          ],
          "scattercarpet": [
           {
            "marker": {
             "colorbar": {
              "outlinewidth": 0,
              "ticks": ""
             }
            },
            "type": "scattercarpet"
           }
          ],
          "scattergeo": [
           {
            "marker": {
             "colorbar": {
              "outlinewidth": 0,
              "ticks": ""
             }
            },
            "type": "scattergeo"
           }
          ],
          "scattergl": [
           {
            "marker": {
             "colorbar": {
              "outlinewidth": 0,
              "ticks": ""
             }
            },
            "type": "scattergl"
           }
          ],
          "scattermap": [
           {
            "marker": {
             "colorbar": {
              "outlinewidth": 0,
              "ticks": ""
             }
            },
            "type": "scattermap"
           }
          ],
          "scattermapbox": [
           {
            "marker": {
             "colorbar": {
              "outlinewidth": 0,
              "ticks": ""
             }
            },
            "type": "scattermapbox"
           }
          ],
          "scatterpolar": [
           {
            "marker": {
             "colorbar": {
              "outlinewidth": 0,
              "ticks": ""
             }
            },
            "type": "scatterpolar"
           }
          ],
          "scatterpolargl": [
           {
            "marker": {
             "colorbar": {
              "outlinewidth": 0,
              "ticks": ""
             }
            },
            "type": "scatterpolargl"
           }
          ],
          "scatterternary": [
           {
            "marker": {
             "colorbar": {
              "outlinewidth": 0,
              "ticks": ""
             }
            },
            "type": "scatterternary"
           }
          ],
          "surface": [
           {
            "colorbar": {
             "outlinewidth": 0,
             "ticks": ""
            },
            "colorscale": [
             [
              0,
              "#0d0887"
             ],
             [
              0.1111111111111111,
              "#46039f"
             ],
             [
              0.2222222222222222,
              "#7201a8"
             ],
             [
              0.3333333333333333,
              "#9c179e"
             ],
             [
              0.4444444444444444,
              "#bd3786"
             ],
             [
              0.5555555555555556,
              "#d8576b"
             ],
             [
              0.6666666666666666,
              "#ed7953"
             ],
             [
              0.7777777777777778,
              "#fb9f3a"
             ],
             [
              0.8888888888888888,
              "#fdca26"
             ],
             [
              1,
              "#f0f921"
             ]
            ],
            "type": "surface"
           }
          ],
          "table": [
           {
            "cells": {
             "fill": {
              "color": "#EBF0F8"
             },
             "line": {
              "color": "white"
             }
            },
            "header": {
             "fill": {
              "color": "#C8D4E3"
             },
             "line": {
              "color": "white"
             }
            },
            "type": "table"
           }
          ]
         },
         "layout": {
          "annotationdefaults": {
           "arrowcolor": "#2a3f5f",
           "arrowhead": 0,
           "arrowwidth": 1
          },
          "autotypenumbers": "strict",
          "coloraxis": {
           "colorbar": {
            "outlinewidth": 0,
            "ticks": ""
           }
          },
          "colorscale": {
           "diverging": [
            [
             0,
             "#8e0152"
            ],
            [
             0.1,
             "#c51b7d"
            ],
            [
             0.2,
             "#de77ae"
            ],
            [
             0.3,
             "#f1b6da"
            ],
            [
             0.4,
             "#fde0ef"
            ],
            [
             0.5,
             "#f7f7f7"
            ],
            [
             0.6,
             "#e6f5d0"
            ],
            [
             0.7,
             "#b8e186"
            ],
            [
             0.8,
             "#7fbc41"
            ],
            [
             0.9,
             "#4d9221"
            ],
            [
             1,
             "#276419"
            ]
           ],
           "sequential": [
            [
             0,
             "#0d0887"
            ],
            [
             0.1111111111111111,
             "#46039f"
            ],
            [
             0.2222222222222222,
             "#7201a8"
            ],
            [
             0.3333333333333333,
             "#9c179e"
            ],
            [
             0.4444444444444444,
             "#bd3786"
            ],
            [
             0.5555555555555556,
             "#d8576b"
            ],
            [
             0.6666666666666666,
             "#ed7953"
            ],
            [
             0.7777777777777778,
             "#fb9f3a"
            ],
            [
             0.8888888888888888,
             "#fdca26"
            ],
            [
             1,
             "#f0f921"
            ]
           ],
           "sequentialminus": [
            [
             0,
             "#0d0887"
            ],
            [
             0.1111111111111111,
             "#46039f"
            ],
            [
             0.2222222222222222,
             "#7201a8"
            ],
            [
             0.3333333333333333,
             "#9c179e"
            ],
            [
             0.4444444444444444,
             "#bd3786"
            ],
            [
             0.5555555555555556,
             "#d8576b"
            ],
            [
             0.6666666666666666,
             "#ed7953"
            ],
            [
             0.7777777777777778,
             "#fb9f3a"
            ],
            [
             0.8888888888888888,
             "#fdca26"
            ],
            [
             1,
             "#f0f921"
            ]
           ]
          },
          "colorway": [
           "#636efa",
           "#EF553B",
           "#00cc96",
           "#ab63fa",
           "#FFA15A",
           "#19d3f3",
           "#FF6692",
           "#B6E880",
           "#FF97FF",
           "#FECB52"
          ],
          "font": {
           "color": "#2a3f5f"
          },
          "geo": {
           "bgcolor": "white",
           "lakecolor": "white",
           "landcolor": "#E5ECF6",
           "showlakes": true,
           "showland": true,
           "subunitcolor": "white"
          },
          "hoverlabel": {
           "align": "left"
          },
          "hovermode": "closest",
          "mapbox": {
           "style": "light"
          },
          "paper_bgcolor": "white",
          "plot_bgcolor": "#E5ECF6",
          "polar": {
           "angularaxis": {
            "gridcolor": "white",
            "linecolor": "white",
            "ticks": ""
           },
           "bgcolor": "#E5ECF6",
           "radialaxis": {
            "gridcolor": "white",
            "linecolor": "white",
            "ticks": ""
           }
          },
          "scene": {
           "xaxis": {
            "backgroundcolor": "#E5ECF6",
            "gridcolor": "white",
            "gridwidth": 2,
            "linecolor": "white",
            "showbackground": true,
            "ticks": "",
            "zerolinecolor": "white"
           },
           "yaxis": {
            "backgroundcolor": "#E5ECF6",
            "gridcolor": "white",
            "gridwidth": 2,
            "linecolor": "white",
            "showbackground": true,
            "ticks": "",
            "zerolinecolor": "white"
           },
           "zaxis": {
            "backgroundcolor": "#E5ECF6",
            "gridcolor": "white",
            "gridwidth": 2,
            "linecolor": "white",
            "showbackground": true,
            "ticks": "",
            "zerolinecolor": "white"
           }
          },
          "shapedefaults": {
           "line": {
            "color": "#2a3f5f"
           }
          },
          "ternary": {
           "aaxis": {
            "gridcolor": "white",
            "linecolor": "white",
            "ticks": ""
           },
           "baxis": {
            "gridcolor": "white",
            "linecolor": "white",
            "ticks": ""
           },
           "bgcolor": "#E5ECF6",
           "caxis": {
            "gridcolor": "white",
            "linecolor": "white",
            "ticks": ""
           }
          },
          "title": {
           "x": 0.05
          },
          "xaxis": {
           "automargin": true,
           "gridcolor": "white",
           "linecolor": "white",
           "ticks": "",
           "title": {
            "standoff": 15
           },
           "zerolinecolor": "white",
           "zerolinewidth": 2
          },
          "yaxis": {
           "automargin": true,
           "gridcolor": "white",
           "linecolor": "white",
           "ticks": "",
           "title": {
            "standoff": 15
           },
           "zerolinecolor": "white",
           "zerolinewidth": 2
          }
         }
        },
        "title": {
         "text": "Customer Distribution Analysis by US State (Per Capita Metrics)",
         "x": 0.5
        },
        "width": 1400,
        "xaxis": {
         "anchor": "y",
         "domain": [
          0,
          0.45
         ],
         "tickangle": 45,
         "title": {
          "text": "State"
         }
        },
        "xaxis2": {
         "anchor": "y2",
         "domain": [
          0.55,
          1
         ],
         "tickangle": 45,
         "title": {
          "text": "State"
         }
        },
        "yaxis": {
         "anchor": "x",
         "domain": [
          0.56,
          1
         ],
         "title": {
          "text": "Customers per 100k"
         }
        },
        "yaxis2": {
         "anchor": "x2",
         "domain": [
          0.56,
          1
         ],
         "title": {
          "text": "Spending per Capita ($)"
         }
        }
       }
      }
     },
     "metadata": {},
     "output_type": "display_data"
    },
    {
     "name": "stdout",
     "output_type": "stream",
     "text": [
      "\n",
      "=== DETAILED ANALYSIS ===\n",
      "\n",
      "Top 5 States by Customers per 100k Population:\n",
      "Wyoming: 2.08 customers per 100k people\n",
      "North Dakota: 1.16 customers per 100k people\n",
      "South Dakota: 1.02 customers per 100k people\n",
      "Nebraska: 0.97 customers per 100k people\n",
      "Vermont: 0.93 customers per 100k people\n",
      "\n",
      "Top 5 States by Spending per Capita:\n",
      "Wyoming: $2.54 per person\n",
      "Vermont: $1.50 per person\n",
      "North Dakota: $1.24 per person\n",
      "West Virginia: $1.01 per person\n",
      "South Dakota: $0.98 per person\n",
      "\n",
      "States with Highest Market Penetration (customers/population ratio):\n",
      "Wyoming: 0.0021% of population are customers\n",
      "North Dakota: 0.0012% of population are customers\n",
      "South Dakota: 0.0010% of population are customers\n",
      "\n",
      "Potentially Underserved Large Markets. High population (>10M), Low customers per capita (<median), top 10:\n",
      "Rhode Island: 1,097,379 people, 0.09 customers per 100k\n",
      "Arizona: 7,151,502 people, 0.10 customers per 100k\n",
      "Delaware: 989,948 people, 0.10 customers per 100k\n",
      "California: 39,538,223 people, 0.11 customers per 100k\n",
      "Massachusetts: 7,001,399 people, 0.13 customers per 100k\n",
      "Hawaii: 1,455,271 people, 0.14 customers per 100k\n",
      "Connecticut: 3,605,944 people, 0.14 customers per 100k\n",
      "Washington: 7,705,281 people, 0.16 customers per 100k\n",
      "Nevada: 3,104,614 people, 0.16 customers per 100k\n",
      "Florida: 21,538,187 people, 0.16 customers per 100k\n",
      "\n",
      "=== MARKET OPPORTUNITY ANALYSIS ===\n",
      "Average customers per 100k across all states: 0.45\n",
      "Median customers per 100k across all states: 0.35\n",
      "\n",
      "Top Expansion Opportunities (if all states reached median penetration):\n",
      "California: 91 additional customers potential\n",
      "Florida: 39 additional customers potential\n",
      "Texas: 35 additional customers potential\n",
      "Arizona: 18 additional customers potential\n",
      "New Jersey: 16 additional customers potential\n"
     ]
    }
   ],
   "source": [
    "# US State Population Data (2020 Census)\n",
    "# https://www.kaggle.com/datasets/alexandrepetit881234/us-population-by-state\n",
    "us_state_population = {\n",
    "    'state': ['AL', 'AK', 'AZ', 'AR', 'CA', 'CO', 'CT', 'DE', 'FL', 'GA', 'HI', 'ID', 'IL', 'IN', 'IA', 'KS', 'KY', 'LA', 'ME', 'MD', 'MA', 'MI', 'MN', 'MS', 'MO', 'MT', 'NE', 'NV', 'NH', 'NJ', 'NM', 'NY', 'NC', 'ND', 'OH', 'OK', 'OR', 'PA', 'RI', 'SC', 'SD', 'TN', 'TX', 'UT', 'VT', 'VA', 'WA', 'WV', 'WI', 'WY'],\n",
    "    'state_name': ['Alabama', 'Alaska', 'Arizona', 'Arkansas', 'California', 'Colorado', 'Connecticut', 'Delaware', 'Florida', 'Georgia', 'Hawaii', 'Idaho', 'Illinois', 'Indiana', 'Iowa', 'Kansas', 'Kentucky', 'Louisiana', 'Maine', 'Maryland', 'Massachusetts', 'Michigan', 'Minnesota', 'Mississippi', 'Missouri', 'Montana', 'Nebraska', 'Nevada', 'New Hampshire', 'New Jersey', 'New Mexico', 'New York', 'North Carolina', 'North Dakota', 'Ohio', 'Oklahoma', 'Oregon', 'Pennsylvania', 'Rhode Island', 'South Carolina', 'South Dakota', 'Tennessee', 'Texas', 'Utah', 'Vermont', 'Virginia', 'Washington', 'West Virginia', 'Wisconsin', 'Wyoming'],\n",
    "    'population_2020': [5024279, 733391, 7151502, 3011524, 39538223, 5773714, 3605944, 989948, 21538187, 10711908, 1455271, 1839106, 12812508, 6785528, 3190369, 2937880, 4505836, 4657757, 1395722, 6177224, 7001399, 10037261, 5737915, 2961279, 6196010, 1084225, 1961504, 3104614, 1377529, 9288994, 2117522, 20201249, 10439388, 779094, 11799448, 3959353, 4237256, 13002700, 1097379, 5118425, 886667, 6910840, 29145505, 3271616, 643077, 8631393, 7705281, 1793716, 5893718, 576851]\n",
    "}\n",
    "\n",
    "# Create population DataFrame\n",
    "pop_df = pd.DataFrame(us_state_population)\n",
    "pop_spark_df = spark.createDataFrame(pop_df)\n",
    "\n",
    "# print(\"US State Population Data (2020 Census):\")\n",
    "# pop_spark_df.show(10)\n",
    "\n",
    "# finding unique persons without the use of PII\n",
    "df_cleaned_with_person_id = df_cleaned.withColumn(\n",
    "    \"unique_person_identifier\",\n",
    "    sf.concat_ws(\n",
    "        \"_\",\n",
    "        sf.coalesce(sf.col(\"job\"), sf.lit(\"NULL_JOB\")),\n",
    "        sf.coalesce(sf.col(\"gender\"), sf.lit(\"NULL_GENDER\")),\n",
    "        sf.coalesce(sf.col(\"zip\"), sf.lit(\"NULL_ZIP\"))\n",
    "    )\n",
    ")\n",
    "\n",
    "# Calculate customers per state from transaction data using the identifier\n",
    "customers_by_state = df_cleaned_with_person_id.groupBy(\"state\").agg(\n",
    "    sf.countDistinct(\"unique_person_identifier\").alias(\"customer_count\"),  \n",
    "    sf.count(\"*\").alias(\"total_transactions\"),\n",
    "    sf.avg(\"amt\").alias(\"avg_transaction_amount\"),\n",
    "    sf.sum(\"amt\").alias(\"total_spending\")\n",
    ").orderBy(sf.desc(\"customer_count\"))\n",
    "\n",
    "\n",
    "# print(\"\\nTop 10 States by Customer Count:\")\n",
    "# customers_by_state.show(10)\n",
    "\n",
    "# Join with population data\n",
    "customer_population_joined = customers_by_state.join(\n",
    "    pop_spark_df,\n",
    "    customers_by_state.state == pop_spark_df.state,\n",
    "    \"inner\"\n",
    ").select(\n",
    "    customers_by_state.state,\n",
    "    pop_spark_df.state_name,\n",
    "    pop_spark_df.population_2020,\n",
    "    customers_by_state.customer_count,\n",
    "    customers_by_state.total_transactions,\n",
    "    customers_by_state.avg_transaction_amount,\n",
    "    customers_by_state.total_spending\n",
    ")\n",
    "\n",
    "# Calculate customers per capita (per 100,000 people)\n",
    "customer_per_capita = customer_population_joined.withColumn(\n",
    "    \"customers_per_100k\",\n",
    "    (sf.col(\"customer_count\") / sf.col(\"population_2020\")) * 100000\n",
    ").withColumn(\n",
    "    \"transactions_per_100k\",\n",
    "    (sf.col(\"total_transactions\") / sf.col(\"population_2020\")) * 100000\n",
    ").withColumn(\n",
    "    \"spending_per_capita\",\n",
    "    sf.col(\"total_spending\") / sf.col(\"population_2020\")\n",
    ")\n",
    "\n",
    "# Convert to Pandas for visualization\n",
    "analysis_df = customer_per_capita.toPandas()\n",
    "\n",
    "print(f\"\\nCustomer Per Capita Analysis:\")\n",
    "print(f\"Total states with data: {len(analysis_df)}\")\n",
    "print(f\"Highest customers per 100k: {analysis_df['state_name'].iloc[analysis_df['customers_per_100k'].idxmax()]} ({analysis_df['customers_per_100k'].max():.2f})\")\n",
    "print(f\"Lowest customers per 100k: {analysis_df['state_name'].iloc[analysis_df['customers_per_100k'].idxmin()]} ({analysis_df['customers_per_100k'].min():.2f})\")\n",
    "\n",
    "# Sort by customers per capita for better visualization\n",
    "analysis_df = analysis_df.sort_values('customers_per_100k', ascending=False)\n",
    "\n",
    "# Determine the upper bound for the color scale to exclude extreme outliers like Wyoming\n",
    "# Use the value of the second-highest state for a better visual distribution\n",
    "if len(analysis_df) > 1:\n",
    "    color_scale_max = analysis_df['customers_per_100k'].iloc[1] # Second highest value\n",
    "else:\n",
    "    color_scale_max = analysis_df['customers_per_100k'].max() if not analysis_df.empty else 1000\n",
    "\n",
    "\n",
    "# Create subplot figure with a 3-chart layout\n",
    "fig = make_subplots(\n",
    "    rows=2, cols=2,\n",
    "    subplot_titles=('Customers Per 100k Population by State', 'Spending Per Capita by State',\n",
    "                   'Geographic Distribution of Market Penetration'),\n",
    "    specs=[[{\"type\": \"bar\"}, {\"type\": \"bar\"}],\n",
    "           [{\"type\": \"geo\", \"colspan\": 2}, None]],\n",
    "    vertical_spacing=0.12,\n",
    "    horizontal_spacing=0.1\n",
    ")\n",
    "\n",
    "# 1. Bar chart of customers per 100k (Top-Left)\n",
    "fig.add_trace(\n",
    "    go.Bar(\n",
    "        x=analysis_df['state'],\n",
    "        y=analysis_df['customers_per_100k'],\n",
    "        name='Customers per 100k',\n",
    "        marker_color='lightblue',\n",
    "        text=[f\"{val:.1f}\" for val in analysis_df['customers_per_100k']],\n",
    "        textposition='outside'\n",
    "    ),\n",
    "    row=1, col=1\n",
    ")\n",
    "\n",
    "# 2. Spending per capita bar chart (Top-Right)\n",
    "fig.add_trace(\n",
    "    go.Bar(\n",
    "        x=analysis_df['state'],\n",
    "        y=analysis_df['spending_per_capita'],\n",
    "        name='Spending per Capita',\n",
    "        marker_color='lightcoral',\n",
    "        text=[f\"${val:.0f}\" for val in analysis_df['spending_per_capita']],\n",
    "        textposition='outside'\n",
    "    ),\n",
    "    row=1, col=2\n",
    ")\n",
    "\n",
    "# 3. Geographic choropleth map (Bottom row, spanning both columns)\n",
    "fig.add_trace(\n",
    "    go.Choropleth(\n",
    "        locations=analysis_df['state'],\n",
    "        z=analysis_df['customers_per_100k'],\n",
    "        locationmode='USA-states',\n",
    "        colorscale='RdBu_r',\n",
    "        text=analysis_df['state_name'],\n",
    "        colorbar=dict(title=\"Customers per 100k\", x=1.02),\n",
    "        name='Geographic Distribution',\n",
    "        zmin=analysis_df['customers_per_100k'].min(), # Set min for color scale\n",
    "        zmax=color_scale_max # Set max for color scale to exclude outliers\n",
    "    ),\n",
    "    row=2, col=1 \n",
    ")\n",
    "\n",
    "fig.update_layout(\n",
    "    title_text=\"Customer Distribution Analysis by US State (Per Capita Metrics)\",\n",
    "    title_x=0.5,\n",
    "    height=1000,\n",
    "    width=1400,\n",
    "    showlegend=False,\n",
    "    font=dict(size=10),\n",
    "    annotations=[\n",
    "        # Annotation for Customers Per 100k (Top-Left)\n",
    "        dict(\n",
    "            font=dict(size=16),\n",
    "            showarrow=False,\n",
    "            text=\"Customers Per 100k Population by State\",\n",
    "            x=0.225,\n",
    "            xanchor=\"center\",\n",
    "            xref=\"paper\",\n",
    "            y=1,\n",
    "            yanchor=\"bottom\",\n",
    "            yref=\"paper\"\n",
    "        ),\n",
    "        # Annotation for Spending Per Capita (Top-Right)\n",
    "        dict(\n",
    "            font=dict(size=16),\n",
    "            showarrow=False,\n",
    "            text=\"Spending Per Capita by State\",\n",
    "            x=0.775,\n",
    "            xanchor=\"center\",\n",
    "            xref=\"paper\",\n",
    "            y=1,\n",
    "            yanchor=\"bottom\",\n",
    "            yref=\"paper\"\n",
    "        ),\n",
    "        # Annotation for Geographic Distribution (Bottom-Center)\n",
    "        dict(\n",
    "            font=dict(size=16),\n",
    "            showarrow=False,\n",
    "            text=\"Geographic Distribution of Market Penetration\",\n",
    "            x=0.5, \n",
    "            xanchor=\"center\",\n",
    "            xref=\"paper\",\n",
    "            y=0.44,\n",
    "            yanchor=\"bottom\",\n",
    "            yref=\"paper\"\n",
    "        )\n",
    "    ]\n",
    ")\n",
    "\n",
    "fig.update_geos(\n",
    "    scope=\"usa\",\n",
    "    projection_type=\"albers usa\",\n",
    "    row=2, col=1\n",
    ")\n",
    "\n",
    "fig.update_xaxes(title_text=\"State\", row=1, col=1, tickangle=45)\n",
    "fig.update_yaxes(title_text=\"Customers per 100k\", row=1, col=1)\n",
    "\n",
    "fig.update_xaxes(title_text=\"State\", row=1, col=2, tickangle=45)\n",
    "fig.update_yaxes(title_text=\"Spending per Capita ($)\", row=1, col=2) \n",
    "\n",
    "\n",
    "fig.show()\n",
    "\n",
    "print(f\"\\n=== DETAILED ANALYSIS ===\")\n",
    "print(f\"\\nTop 5 States by Customers per 100k Population:\")\n",
    "for i, row in analysis_df.head().iterrows():\n",
    "    print(f\"{row['state_name']}: {row['customers_per_100k']:.2f} customers per 100k people\")\n",
    "\n",
    "print(f\"\\nTop 5 States by Spending per Capita:\")\n",
    "spending_sorted = analysis_df.sort_values('spending_per_capita', ascending=False)\n",
    "for i, row in spending_sorted.head().iterrows():\n",
    "    print(f\"{row['state_name']}: ${row['spending_per_capita']:.2f} per person\")\n",
    "\n",
    "print(f\"\\nStates with Highest Market Penetration (customers/population ratio):\")\n",
    "for i, row in analysis_df.head(3).iterrows():\n",
    "    penetration = (row['customer_count'] / row['population_2020']) * 100\n",
    "    print(f\"{row['state_name']}: {penetration:.4f}% of population are customers\")\n",
    "\n",
    "avg_customers_per_100k = analysis_df['customers_per_100k'].mean()\n",
    "median_customers_per_100k = analysis_df['customers_per_100k'].median()\n",
    "\n",
    "print(f\"\\nPotentially Underserved Large Markets. High population (>10M), Low customers per capita (<median), top 10:\")\n",
    "\n",
    "#get only top 10 underserved markets\n",
    "underserved = analysis_df[(analysis_df['population_2020'] > 000000) &\n",
    "                         (analysis_df['customers_per_100k'] < median_customers_per_100k)]\n",
    "underserved = underserved.sort_values('customers_per_100k', ascending=True).head(10)\n",
    "for i, row in underserved.iterrows():\n",
    "    print(f\"{row['state_name']}: {row['population_2020']:,} people, {row['customers_per_100k']:.2f} customers per 100k\")\n",
    "\n",
    "# Calculate market opportunity\n",
    "print(f\"\\n=== MARKET OPPORTUNITY ANALYSIS ===\")\n",
    "print(f\"Average customers per 100k across all states: {avg_customers_per_100k:.2f}\")\n",
    "print(f\"Median customers per 100k across all states: {median_customers_per_100k:.2f}\")\n",
    "\n",
    "analysis_df['market_gap'] = (median_customers_per_100k - analysis_df['customers_per_100k']) * analysis_df['population_2020'] / 100000\n",
    "# get only positive market gaps\n",
    "analysis_df['market_gap'] = analysis_df['market_gap'].clip(lower=0)\n",
    "\n",
    "potential_markets = analysis_df[analysis_df['market_gap'] > 0].sort_values('market_gap', ascending=False)\n",
    "print(f\"\\nTop Expansion Opportunities (if all states reached median penetration):\")\n",
    "for i, row in potential_markets.head(5).iterrows():\n",
    "    print(f\"{row['state_name']}: {row['market_gap']:.0f} additional customers potential\")"
   ]
  },
  {
   "cell_type": "markdown",
   "id": "22154d14",
   "metadata": {},
   "source": [
    "Interactive Map overlaying the heatmap of the transactions \n"
   ]
  },
  {
   "cell_type": "code",
   "execution_count": 8,
   "id": "1e6ec487",
   "metadata": {},
   "outputs": [
    {
     "name": "stderr",
     "output_type": "stream",
     "text": [
      "                                                                                \r"
     ]
    },
    {
     "name": "stdout",
     "output_type": "stream",
     "text": [
      "Pandas dataframe shape: (1296675, 3)\n"
     ]
    }
   ],
   "source": [
    "import os\n",
    "\n",
    "pandas_df = df_cleaned.select([\"lat\", \"long\", \"amt\"]).toPandas()\n",
    "\n",
    "print(f'Pandas dataframe shape: {pandas_df.shape}')\n",
    "\n",
    "heat_data = pandas_df.to_numpy().tolist()\n",
    "\n",
    "if not pandas_df.empty:\n",
    "    map_center = [pandas_df.lat.mean(), pandas_df.long.mean()]\n",
    "else:\n",
    "    map_center = [0, 0]\n"
   ]
  },
  {
   "cell_type": "code",
   "execution_count": 15,
   "id": "b05c2575",
   "metadata": {},
   "outputs": [
    {
     "name": "stderr",
     "output_type": "stream",
     "text": [
      "                                                                                \r"
     ]
    },
    {
     "name": "stdout",
     "output_type": "stream",
     "text": [
      "\n",
      "Folium map saved to assets/folium_heatmap.html\n",
      "\n",
      "Running Dash application inline in Jupyter Notebook\n"
     ]
    },
    {
     "data": {
      "text/html": [
       "\n",
       "        <iframe\n",
       "            width=\"100%\"\n",
       "            height=\"650\"\n",
       "            src=\"http://127.0.0.1:8050/\"\n",
       "            frameborder=\"0\"\n",
       "            allowfullscreen\n",
       "            \n",
       "        ></iframe>\n",
       "        "
      ],
      "text/plain": [
       "<IPython.lib.display.IFrame at 0x7f8513438ec0>"
      ]
     },
     "metadata": {},
     "output_type": "display_data"
    }
   ],
   "source": [
    "import dash\n",
    "from dash import html\n",
    "import folium\n",
    "from folium.plugins import HeatMap\n",
    "\n",
    "\n",
    "# Set the desired initial zoom level for the Folium map\n",
    "desired_zoom_level = 3\n",
    "m = folium.Map(location=map_center, zoom_start=desired_zoom_level, tiles=\"OpenStreetMap\")\n",
    "\n",
    "max_amt = df_cleaned.agg(sf.max(\"amt\")).collect()[0][0]\n",
    "min_amt = 0\n",
    "\n",
    "HeatMap(heat_data).add_to(m)\n",
    "\n",
    "assets_folder = 'assets'\n",
    "if not os.path.exists(assets_folder):\n",
    "    os.makedirs(assets_folder)\n",
    "folium_map_path = os.path.join(assets_folder, 'folium_heatmap.html')\n",
    "m.save(folium_map_path)\n",
    "print(f\"\\nFolium map saved to {folium_map_path}\")\n",
    "\n",
    "\n",
    "app = dash.Dash(__name__) \n",
    "\n",
    "app.layout = html.Div(\n",
    "    style={\n",
    "        'fontFamily': 'Inter, sans-serif',\n",
    "        'padding': '20px',\n",
    "        'backgroundColor': '#f8f9fa',\n",
    "        'minHeight': '100vh',\n",
    "        'display': 'flex',\n",
    "        'flexDirection': 'column',\n",
    "        'alignItems': 'center'\n",
    "    },\n",
    "    children=[\n",
    "        html.H1(\n",
    "            \"Geospatial Heatmap Dashboard\",\n",
    "            style={\n",
    "                'textAlign': 'center',\n",
    "                'color': '#343a40',\n",
    "                'marginBottom': '30px',\n",
    "                'fontSize': '2.5em',\n",
    "                'fontWeight': '600'\n",
    "            }\n",
    "        ),\n",
    "\n",
    "        html.Div(\n",
    "            style={\n",
    "                'display': 'flex',\n",
    "                'flexDirection': 'row',\n",
    "                'gap': '30px',\n",
    "                'flexWrap': 'wrap',\n",
    "                'justifyContent': 'center',\n",
    "                'width': '100%',\n",
    "                'maxWidth': '1200px'\n",
    "            },\n",
    "            children=[\n",
    "                # Left panel for the Folium Map and its Legend (THIS PART REMAINS UNCHANGED)\n",
    "                html.Div(\n",
    "                    style={\n",
    "                        'display': 'flex',\n",
    "                        'flexDirection': 'column',\n",
    "                        'flex': '1',\n",
    "                        'minWidth': '550px',\n",
    "                        'backgroundColor': 'white',\n",
    "                        'padding': '25px',\n",
    "                        'borderRadius': '12px',\n",
    "                        'boxShadow': '0 4px 12px rgba(0,0,0,0.1)',\n",
    "                        'border': '1px solid #e0e0e0'\n",
    "                    },\n",
    "                    children=[\n",
    "                        html.H2(\n",
    "                            \"Expenditure Heatmap\",\n",
    "                            style={\n",
    "                                'textAlign': 'center',\n",
    "                                'color': '#495057',\n",
    "                                'marginBottom': '25px',\n",
    "                                'fontSize': '1.8em',\n",
    "                                'fontWeight': '500'\n",
    "                            }\n",
    "                        ),\n",
    "                        html.Div(\n",
    "                            style={\n",
    "                                'display': 'flex',\n",
    "                                'flexDirection': 'row',\n",
    "                                'gap': '25px',\n",
    "                                'justifyContent': 'center',\n",
    "                                'alignItems': 'center',\n",
    "                                'width': '100%'\n",
    "                            },\n",
    "                            children=[\n",
    "                                # html.Div(\n",
    "                                #     style={\n",
    "                                #         'display': 'flex',\n",
    "                                #         'flexDirection': 'column',\n",
    "                                #         'alignItems': 'center',\n",
    "                                #         'padding': '15px 10px',\n",
    "                                #         'backgroundColor': '#f0f2f5',\n",
    "                                #         'borderRadius': '8px',\n",
    "                                #         'border': '1px solid #d0d0d0',\n",
    "                                #         'height': '400px',\n",
    "                                #         'justifyContent': 'space-between',\n",
    "                                #         'minWidth': '90px',\n",
    "                                #         'maxWidth': '120px',\n",
    "                                #         'boxShadow': '0 2px 8px rgba(0,0,0,0.08)'\n",
    "                                #     },\n",
    "                                #     children=[\n",
    "                                #         html.P(\n",
    "                                #             \"Intensity\",\n",
    "                                #             style={\n",
    "                                #                 'fontWeight': '600',\n",
    "                                #                 'marginBottom': '10px',\n",
    "                                #                 'textAlign': 'center',\n",
    "                                #                 'color': '#343a40',\n",
    "                                #                 'fontSize': '1.1em'\n",
    "                                #             }\n",
    "                                #         ),\n",
    "                                #         html.Span(\n",
    "                                #             f\"Max: ${max_amt:.2f}\",\n",
    "                                #             style={\n",
    "                                #                 'fontSize': '0.95em',\n",
    "                                #                 'whiteSpace': 'nowrap',\n",
    "                                #                 'fontWeight': 'bold',\n",
    "                                #                 'color': '#dc3545'\n",
    "                                #             }\n",
    "                                #         ),\n",
    "                                #         html.Div(\n",
    "                                #             style={\n",
    "                                #                 'width': '25px',\n",
    "                                #                 'height': '200px',\n",
    "                                #                 'margin': '15px 0',\n",
    "                                #                 'background': 'linear-gradient(to bottom, #dc3545, #fd7e14, #ffc107, #28a745, #0011ff)',\n",
    "                                #                 'borderRadius': '5px',\n",
    "                                #                 'border': '1px solid #ccc'\n",
    "                                #             }\n",
    "                                #         ),\n",
    "                                #         html.Span(\n",
    "                                #             f\"Min: ${min_amt:.2f}\",\n",
    "                                #             style={\n",
    "                                #                 'fontSize': '0.95em',\n",
    "                                #                 'whiteSpace': 'nowrap',\n",
    "                                #                 'fontWeight': 'bold',\n",
    "                                #                 'color': \"#0011ff\"\n",
    "                                #             }\n",
    "                                #         )\n",
    "                                #     ]\n",
    "                                # ),\n",
    "                                html.Iframe(\n",
    "                                    id='folium-map-iframe',\n",
    "                                    srcDoc=open(folium_map_path, 'r').read(),\n",
    "                                    style={\n",
    "                                        'flexGrow': '1',\n",
    "                                        'minWidth': '400px',\n",
    "                                        'height': '400px',\n",
    "                                        'border': 'none',\n",
    "                                        'borderRadius': '8px',\n",
    "                                        'boxShadow': '0 2px 8px rgba(0,0,0,0.08)'\n",
    "                                    }\n",
    "                                )\n",
    "                            ]\n",
    "                        )\n",
    "                    ]\n",
    "                ),\n",
    "\n",
    "            ]\n",
    "        )\n",
    "    ]\n",
    ")\n",
    "\n",
    "print(\"\\nRunning Dash application inline in Jupyter Notebook\")\n",
    "app.run(mode='inline', port=8050)"
   ]
  }
 ],
 "metadata": {
  "kernelspec": {
   "display_name": "paynet-test",
   "language": "python",
   "name": "python3"
  },
  "language_info": {
   "codemirror_mode": {
    "name": "ipython",
    "version": 3
   },
   "file_extension": ".py",
   "mimetype": "text/x-python",
   "name": "python",
   "nbconvert_exporter": "python",
   "pygments_lexer": "ipython3",
   "version": "3.12.11"
  }
 },
 "nbformat": 4,
 "nbformat_minor": 5
}
